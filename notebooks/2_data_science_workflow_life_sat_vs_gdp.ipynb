{
  "nbformat": 4,
  "nbformat_minor": 0,
  "metadata": {
    "colab": {
      "name": "2_data_science_workflow_life_sat_vs_gdp.ipynb",
      "version": "0.3.2",
      "provenance": []
    },
    "kernelspec": {
      "display_name": "Python 3",
      "language": "python",
      "name": "python3"
    }
  },
  "cells": [
    {
      "metadata": {
        "id": "dXqDsf37BZ4T",
        "colab_type": "text"
      },
      "cell_type": "markdown",
      "source": [
        "    \n",
        "# DATA DAY TRAINING: Intro to Python"
      ]
    },
    {
      "metadata": {
        "id": "veLE5bsvBZ4b",
        "colab_type": "text"
      },
      "cell_type": "markdown",
      "source": [
        "## Introduction\n",
        "In this notebook, the objective is to demonstrate how you can use Python in a typical data science task (in this case, data analysis). To achive this, we will explore how life satisfaction varies with GDP per capita by using OECD life index data for life satisficayion and WBG data for GPD per capita. We will demonstrate the following work flow:\n",
        "1. Data Ingestion\n",
        "2. Data Exploration, Processing and Cleaning (including merging the two datasets)\n",
        "3. Exploratory Data Analysis (descriptive statistics)\n",
        "4. Multivariate Data Visualization"
      ]
    },
    {
      "metadata": {
        "id": "48U2_7jPBZ4f",
        "colab_type": "text"
      },
      "cell_type": "markdown",
      "source": [
        "### Data Source:\n",
        "\n",
        "For this notebook, we access the WBG World Development Indicators API for countries' GDP per capita (PPP, current dollars) data for 2015. (https://data.worldbank.org/indicator/ny.gdp.pcap.cd) \n",
        "\n",
        "We also download the Better Life Index data for 2016 (BLI2016.csv) from the OECD Better Life Index (https://stats.oecd.org/Index.aspx?DataSetCode=BLI). \n",
        "\n",
        "Data definitions available at the end of this notebook."
      ]
    },
    {
      "metadata": {
        "id": "sHah0NtABZ4i",
        "colab_type": "text"
      },
      "cell_type": "markdown",
      "source": [
        "### Importing libraries\n",
        "Python provides at least three different ways to import modules. You can use the import statement, the from statement, or the builtin __import__ function. See below how these work: \n",
        "\n",
        "- **import X** imports the module X, and creates a reference to that module in the current namespace. Or in other words, after you’ve run this statement, you can use X.name to refer to things defined in module X. Here you can also create a shorthand for a module and so like so: *import X as c* as you will see below.\n",
        "\n",
        "- **from X import \\* ** imports the module X, and creates references in the current namespace to all public objects defined by that module (that is, everything that doesn’t have a name starting with “_”). Or in other words, after you’ve run this statement, you can simply use a plain name to refer to things defined in module X. But X itself is not defined, so X.name doesn’t work. And if name was already defined, it is replaced by the new version. And if name in X is changed to point to some other object, your module won’t notice. *This approach is usually not recommended because you can run into issues with conflicting names*.\n",
        "\n",
        "- **from X import a, b, c ** imports the module X, and creates references in the current namespace to the given objects. Or in other words, you can now use a and b and c in your program."
      ]
    },
    {
      "metadata": {
        "id": "OQ3xF93tBZ4k",
        "colab_type": "code",
        "colab": {
          "base_uri": "https://localhost:8080/",
          "height": 71
        },
        "outputId": "c52e6c37-113c-4b4e-b217-cfdb14373394"
      },
      "cell_type": "code",
      "source": [
        "import numpy as np\n",
        "import pandas as pd\n",
        "import matplotlib.pyplot as plt\n",
        "import statsmodels.api as sm\n",
        "from matplotlib.pyplot import figure\n",
        "from pandas_datareader import wb"
      ],
      "execution_count": 1,
      "outputs": [
        {
          "output_type": "stream",
          "text": [
            "/usr/local/lib/python3.6/dist-packages/statsmodels/compat/pandas.py:56: FutureWarning: The pandas.core.datetools module is deprecated and will be removed in a future version. Please use the pandas.tseries module instead.\n",
            "  from pandas.core import datetools\n"
          ],
          "name": "stderr"
        }
      ]
    },
    {
      "metadata": {
        "id": "zXVXWKW0BZ4t",
        "colab_type": "text"
      },
      "cell_type": "markdown",
      "source": [
        "### Read data into a python dataframe (GDP per capita- PPP- current dollars, for countries in 2015 using the World Bank's World Development Indicators API)"
      ]
    },
    {
      "metadata": {
        "id": "rjTIixqzBZ4u",
        "colab_type": "text"
      },
      "cell_type": "markdown",
      "source": [
        "# Data Ingestion Using Python\n",
        "In Python, you can ingest data of **virtually any format and from any data source**. For example, when it comes to sources\n",
        "you can ingest flat files on your computer, connect to database engines, data lakes, access web APIs, scrape websites, connect to \n",
        "cloud based storage (AWS, Azure etc) and many more. While for data formats, you can ingest text files (CSV/TSV/Excel, JSON, Parque, pickled objects etc),\n",
        "documents (PDFs, html, RichText, etc), videos and images, sensor and streaming data from IoT and more. \n",
        "This is unlike proprietary systems which often has some form of limitations on data interoperability.\n",
        "\n",
        "In the following cells, we show how to ingest data from two sources: API (WBG indicators API) and a CSV file on a local machine."
      ]
    },
    {
      "metadata": {
        "id": "D5rEXJLnBZ4y",
        "colab_type": "text"
      },
      "cell_type": "markdown",
      "source": [
        "# Data Exploration With Pandas Library\n",
        "We are using Pandas library because its the de facto tool in Python for data munging. \n",
        "It became like this because it presents data in the familiar tabular form just like Excel, \n",
        "STATA, SPSS, R and other traditional statistical packages as you know them. \n",
        "In the next couple of cells, we show you some handy functions for quick exploration of a data set such as:\n",
        "- Checking the dimenstion of the data: df.shape\n",
        "- Viewing the data: df.head(n), note that the n is optional\n",
        "- Accessing/indexing columns. Two main ways: *df.column_name or df[column_name]*\n",
        "- Checking columns: df.columns\n",
        "- Checking data types: df.dtypes\n",
        "\n",
        "In case you need to know what each function does in pandas, use this trick to get details:\n",
        "df.function_name?. Note that you dont include the brackets. You will get documentation about this partcular function"
      ]
    },
    {
      "metadata": {
        "id": "NAEEkxd1BZ40",
        "colab_type": "text"
      },
      "cell_type": "markdown",
      "source": [
        "### Read data into a python dataframe (GDP per capita PPP Current Dollars from the World Bank Indicators API)"
      ]
    },
    {
      "metadata": {
        "id": "Uos_lly-BZ5E",
        "colab_type": "code",
        "colab": {}
      },
      "cell_type": "code",
      "source": [
        "country_list = wb.get_countries()"
      ],
      "execution_count": 0,
      "outputs": []
    },
    {
      "metadata": {
        "id": "K81OJ_4MBZ5M",
        "colab_type": "code",
        "colab": {}
      },
      "cell_type": "code",
      "source": [
        "country_list=country_list[country_list.region!='Aggregates']"
      ],
      "execution_count": 0,
      "outputs": []
    },
    {
      "metadata": {
        "id": "HP-dfX65BZ5Q",
        "colab_type": "code",
        "outputId": "b3b6771c-5580-46fa-85e4-17a36362f634",
        "colab": {
          "base_uri": "https://localhost:8080/",
          "height": 176
        }
      },
      "cell_type": "code",
      "source": [
        "country_list.head(3)"
      ],
      "execution_count": 38,
      "outputs": [
        {
          "output_type": "execute_result",
          "data": {
            "text/html": [
              "<div>\n",
              "<style scoped>\n",
              "    .dataframe tbody tr th:only-of-type {\n",
              "        vertical-align: middle;\n",
              "    }\n",
              "\n",
              "    .dataframe tbody tr th {\n",
              "        vertical-align: top;\n",
              "    }\n",
              "\n",
              "    .dataframe thead th {\n",
              "        text-align: right;\n",
              "    }\n",
              "</style>\n",
              "<table border=\"1\" class=\"dataframe\">\n",
              "  <thead>\n",
              "    <tr style=\"text-align: right;\">\n",
              "      <th></th>\n",
              "      <th>adminregion</th>\n",
              "      <th>capitalCity</th>\n",
              "      <th>iso3c</th>\n",
              "      <th>incomeLevel</th>\n",
              "      <th>iso2c</th>\n",
              "      <th>latitude</th>\n",
              "      <th>lendingType</th>\n",
              "      <th>longitude</th>\n",
              "      <th>name</th>\n",
              "      <th>region</th>\n",
              "    </tr>\n",
              "  </thead>\n",
              "  <tbody>\n",
              "    <tr>\n",
              "      <th>0</th>\n",
              "      <td></td>\n",
              "      <td>Oranjestad</td>\n",
              "      <td>ABW</td>\n",
              "      <td>High income</td>\n",
              "      <td>AW</td>\n",
              "      <td>12.51670</td>\n",
              "      <td>Not classified</td>\n",
              "      <td>-70.0167</td>\n",
              "      <td>Aruba</td>\n",
              "      <td>Latin America &amp; Caribbean</td>\n",
              "    </tr>\n",
              "    <tr>\n",
              "      <th>1</th>\n",
              "      <td>South Asia</td>\n",
              "      <td>Kabul</td>\n",
              "      <td>AFG</td>\n",
              "      <td>Low income</td>\n",
              "      <td>AF</td>\n",
              "      <td>34.52280</td>\n",
              "      <td>IDA</td>\n",
              "      <td>69.1761</td>\n",
              "      <td>Afghanistan</td>\n",
              "      <td>South Asia</td>\n",
              "    </tr>\n",
              "    <tr>\n",
              "      <th>3</th>\n",
              "      <td>Sub-Saharan Africa (excluding high income)</td>\n",
              "      <td>Luanda</td>\n",
              "      <td>AGO</td>\n",
              "      <td>Lower middle income</td>\n",
              "      <td>AO</td>\n",
              "      <td>-8.81155</td>\n",
              "      <td>IBRD</td>\n",
              "      <td>13.2420</td>\n",
              "      <td>Angola</td>\n",
              "      <td>Sub-Saharan Africa</td>\n",
              "    </tr>\n",
              "  </tbody>\n",
              "</table>\n",
              "</div>"
            ],
            "text/plain": [
              "                                  adminregion capitalCity iso3c  \\\n",
              "0                                              Oranjestad   ABW   \n",
              "1                                  South Asia       Kabul   AFG   \n",
              "3  Sub-Saharan Africa (excluding high income)      Luanda   AGO   \n",
              "\n",
              "           incomeLevel iso2c  latitude     lendingType  longitude  \\\n",
              "0          High income    AW  12.51670  Not classified   -70.0167   \n",
              "1           Low income    AF  34.52280             IDA    69.1761   \n",
              "3  Lower middle income    AO  -8.81155            IBRD    13.2420   \n",
              "\n",
              "          name                      region  \n",
              "0        Aruba  Latin America & Caribbean   \n",
              "1  Afghanistan                  South Asia  \n",
              "3       Angola         Sub-Saharan Africa   "
            ]
          },
          "metadata": {
            "tags": []
          },
          "execution_count": 38
        }
      ]
    },
    {
      "metadata": {
        "id": "ga5NtPjTBZ6H",
        "colab_type": "code",
        "outputId": "88d63c5b-216b-4c1d-f643-5a3ff03bd272",
        "colab": {
          "base_uri": "https://localhost:8080/",
          "height": 34
        }
      },
      "cell_type": "code",
      "source": [
        "country_list.shape"
      ],
      "execution_count": 6,
      "outputs": [
        {
          "output_type": "execute_result",
          "data": {
            "text/plain": [
              "(218, 10)"
            ]
          },
          "metadata": {
            "tags": []
          },
          "execution_count": 6
        }
      ]
    },
    {
      "metadata": {
        "id": "EGK-BOasBZ6h",
        "colab_type": "code",
        "colab": {}
      },
      "cell_type": "code",
      "source": [
        "countries = country_list.iso3c.tolist()"
      ],
      "execution_count": 0,
      "outputs": []
    },
    {
      "metadata": {
        "id": "S5nctSu6BZ47",
        "colab_type": "code",
        "colab": {}
      },
      "cell_type": "code",
      "source": [
        "GNI_capita_code = \"NY.GNP.PCAP.CD\""
      ],
      "execution_count": 0,
      "outputs": []
    },
    {
      "metadata": {
        "id": "b-sI3tK-BZ6s",
        "colab_type": "code",
        "outputId": "d7746e40-5161-4a67-fe00-09df9f9b692c",
        "colab": {
          "base_uri": "https://localhost:8080/",
          "height": 51
        }
      },
      "cell_type": "code",
      "source": [
        "reader = wb.WorldBankReader(symbols=[GNI_capita_code], countries = countries,start=2015,end=2015)\n",
        "df1 = reader.read()"
      ],
      "execution_count": 8,
      "outputs": [
        {
          "output_type": "stream",
          "text": [
            "/usr/local/lib/python3.6/dist-packages/pandas_datareader/wb.py:134: UserWarning: Non-standard ISO country codes: CHI, XKX\n",
            "  'country codes: %s' % tmp, UserWarning)\n"
          ],
          "name": "stderr"
        }
      ]
    },
    {
      "metadata": {
        "id": "rH-AX71UBZ6x",
        "colab_type": "code",
        "outputId": "a34443b9-705c-4e65-d677-cfc89e8a2d27",
        "colab": {
          "base_uri": "https://localhost:8080/",
          "height": 34
        }
      },
      "cell_type": "code",
      "source": [
        "df1.shape"
      ],
      "execution_count": 9,
      "outputs": [
        {
          "output_type": "execute_result",
          "data": {
            "text/plain": [
              "(217, 1)"
            ]
          },
          "metadata": {
            "tags": []
          },
          "execution_count": 9
        }
      ]
    },
    {
      "metadata": {
        "id": "u2No7RlCBZ61",
        "colab_type": "code",
        "outputId": "877666c4-3e6b-416d-d31f-9758c449a640",
        "colab": {
          "base_uri": "https://localhost:8080/",
          "height": 235
        }
      },
      "cell_type": "code",
      "source": [
        "df1.head()"
      ],
      "execution_count": 10,
      "outputs": [
        {
          "output_type": "execute_result",
          "data": {
            "text/html": [
              "<div>\n",
              "<style scoped>\n",
              "    .dataframe tbody tr th:only-of-type {\n",
              "        vertical-align: middle;\n",
              "    }\n",
              "\n",
              "    .dataframe tbody tr th {\n",
              "        vertical-align: top;\n",
              "    }\n",
              "\n",
              "    .dataframe thead th {\n",
              "        text-align: right;\n",
              "    }\n",
              "</style>\n",
              "<table border=\"1\" class=\"dataframe\">\n",
              "  <thead>\n",
              "    <tr style=\"text-align: right;\">\n",
              "      <th></th>\n",
              "      <th></th>\n",
              "      <th>NY.GNP.PCAP.CD</th>\n",
              "    </tr>\n",
              "    <tr>\n",
              "      <th>country</th>\n",
              "      <th>year</th>\n",
              "      <th></th>\n",
              "    </tr>\n",
              "  </thead>\n",
              "  <tbody>\n",
              "    <tr>\n",
              "      <th>Aruba</th>\n",
              "      <th>2015</th>\n",
              "      <td>23780.0</td>\n",
              "    </tr>\n",
              "    <tr>\n",
              "      <th>Afghanistan</th>\n",
              "      <th>2015</th>\n",
              "      <td>610.0</td>\n",
              "    </tr>\n",
              "    <tr>\n",
              "      <th>Angola</th>\n",
              "      <th>2015</th>\n",
              "      <td>4520.0</td>\n",
              "    </tr>\n",
              "    <tr>\n",
              "      <th>Albania</th>\n",
              "      <th>2015</th>\n",
              "      <td>4390.0</td>\n",
              "    </tr>\n",
              "    <tr>\n",
              "      <th>Andorra</th>\n",
              "      <th>2015</th>\n",
              "      <td>NaN</td>\n",
              "    </tr>\n",
              "  </tbody>\n",
              "</table>\n",
              "</div>"
            ],
            "text/plain": [
              "                  NY.GNP.PCAP.CD\n",
              "country     year                \n",
              "Aruba       2015         23780.0\n",
              "Afghanistan 2015           610.0\n",
              "Angola      2015          4520.0\n",
              "Albania     2015          4390.0\n",
              "Andorra     2015             NaN"
            ]
          },
          "metadata": {
            "tags": []
          },
          "execution_count": 10
        }
      ]
    },
    {
      "metadata": {
        "id": "ga56f9U5B-kP",
        "colab_type": "code",
        "colab": {}
      },
      "cell_type": "code",
      "source": [
        "df3 = df1.reset_index()\n",
        "df1 = df3"
      ],
      "execution_count": 0,
      "outputs": []
    },
    {
      "metadata": {
        "id": "AV6eVbadBZ67",
        "colab_type": "text"
      },
      "cell_type": "markdown",
      "source": [
        "### Read data into a python dataframe (Life Satisfaction Score for countries in 2015 from the OECD's Better Life Index)"
      ]
    },
    {
      "metadata": {
        "id": "c_x2gfZHBZ68",
        "colab_type": "code",
        "colab": {}
      },
      "cell_type": "code",
      "source": [
        "# Set path to the OECD dataset with data from 2015 on life satisfaction\n",
        "PATH = 'https://raw.githubusercontent.com/worldbank/python-101/master/notebooks/BLI2015.csv'"
      ],
      "execution_count": 0,
      "outputs": []
    },
    {
      "metadata": {
        "id": "4ZS15o8bBZ7B",
        "colab_type": "code",
        "colab": {}
      },
      "cell_type": "code",
      "source": [
        "# read csv file into a dataframe\n",
        "df2 = pd.read_csv(PATH)"
      ],
      "execution_count": 0,
      "outputs": []
    },
    {
      "metadata": {
        "id": "A6AA_K-cBZ7G",
        "colab_type": "code",
        "outputId": "f0991ecd-0529-428e-d08d-350620649d28",
        "colab": {
          "base_uri": "https://localhost:8080/",
          "height": 34
        }
      },
      "cell_type": "code",
      "source": [
        "df2.shape"
      ],
      "execution_count": 14,
      "outputs": [
        {
          "output_type": "execute_result",
          "data": {
            "text/plain": [
              "(3292, 17)"
            ]
          },
          "metadata": {
            "tags": []
          },
          "execution_count": 14
        }
      ]
    },
    {
      "metadata": {
        "id": "Ub7BUELGBZ7h",
        "colab_type": "code",
        "outputId": "f50387dd-2d5d-45f7-d7c4-ee1119beb3eb",
        "colab": {
          "base_uri": "https://localhost:8080/",
          "height": 102
        }
      },
      "cell_type": "code",
      "source": [
        "#names of all columns\n",
        "print(df2.columns)"
      ],
      "execution_count": 15,
      "outputs": [
        {
          "output_type": "stream",
          "text": [
            "Index(['LOCATION', 'Country', 'INDICATOR', 'Indicator', 'MEASURE', 'Measure',\n",
            "       'INEQUALITY', 'Inequality', 'Unit Code', 'Unit', 'PowerCode Code',\n",
            "       'PowerCode', 'Reference Period Code', 'Reference Period', 'Value',\n",
            "       'Flag Codes', 'Flags'],\n",
            "      dtype='object')\n"
          ],
          "name": "stdout"
        }
      ]
    },
    {
      "metadata": {
        "id": "LmDgw_FCBZ7q",
        "colab_type": "code",
        "outputId": "38b84612-d541-4a28-dab9-6d94bcbcc383",
        "colab": {
          "base_uri": "https://localhost:8080/",
          "height": 267
        }
      },
      "cell_type": "code",
      "source": [
        "#first five observations\n",
        "df2.head(2)"
      ],
      "execution_count": 16,
      "outputs": [
        {
          "output_type": "execute_result",
          "data": {
            "text/html": [
              "<div>\n",
              "<style scoped>\n",
              "    .dataframe tbody tr th:only-of-type {\n",
              "        vertical-align: middle;\n",
              "    }\n",
              "\n",
              "    .dataframe tbody tr th {\n",
              "        vertical-align: top;\n",
              "    }\n",
              "\n",
              "    .dataframe thead th {\n",
              "        text-align: right;\n",
              "    }\n",
              "</style>\n",
              "<table border=\"1\" class=\"dataframe\">\n",
              "  <thead>\n",
              "    <tr style=\"text-align: right;\">\n",
              "      <th></th>\n",
              "      <th>LOCATION</th>\n",
              "      <th>Country</th>\n",
              "      <th>INDICATOR</th>\n",
              "      <th>Indicator</th>\n",
              "      <th>MEASURE</th>\n",
              "      <th>Measure</th>\n",
              "      <th>INEQUALITY</th>\n",
              "      <th>Inequality</th>\n",
              "      <th>Unit Code</th>\n",
              "      <th>Unit</th>\n",
              "      <th>PowerCode Code</th>\n",
              "      <th>PowerCode</th>\n",
              "      <th>Reference Period Code</th>\n",
              "      <th>Reference Period</th>\n",
              "      <th>Value</th>\n",
              "      <th>Flag Codes</th>\n",
              "      <th>Flags</th>\n",
              "    </tr>\n",
              "  </thead>\n",
              "  <tbody>\n",
              "    <tr>\n",
              "      <th>0</th>\n",
              "      <td>AUS</td>\n",
              "      <td>Australia</td>\n",
              "      <td>HO_BASE</td>\n",
              "      <td>Dwellings without basic facilities</td>\n",
              "      <td>L</td>\n",
              "      <td>Value</td>\n",
              "      <td>TOT</td>\n",
              "      <td>Total</td>\n",
              "      <td>PC</td>\n",
              "      <td>Percentage</td>\n",
              "      <td>0</td>\n",
              "      <td>Units</td>\n",
              "      <td>NaN</td>\n",
              "      <td>NaN</td>\n",
              "      <td>1.1</td>\n",
              "      <td>E</td>\n",
              "      <td>Estimated value</td>\n",
              "    </tr>\n",
              "    <tr>\n",
              "      <th>1</th>\n",
              "      <td>AUT</td>\n",
              "      <td>Austria</td>\n",
              "      <td>HO_BASE</td>\n",
              "      <td>Dwellings without basic facilities</td>\n",
              "      <td>L</td>\n",
              "      <td>Value</td>\n",
              "      <td>TOT</td>\n",
              "      <td>Total</td>\n",
              "      <td>PC</td>\n",
              "      <td>Percentage</td>\n",
              "      <td>0</td>\n",
              "      <td>Units</td>\n",
              "      <td>NaN</td>\n",
              "      <td>NaN</td>\n",
              "      <td>1.0</td>\n",
              "      <td>NaN</td>\n",
              "      <td>NaN</td>\n",
              "    </tr>\n",
              "  </tbody>\n",
              "</table>\n",
              "</div>"
            ],
            "text/plain": [
              "  LOCATION    Country INDICATOR                           Indicator MEASURE  \\\n",
              "0      AUS  Australia   HO_BASE  Dwellings without basic facilities       L   \n",
              "1      AUT    Austria   HO_BASE  Dwellings without basic facilities       L   \n",
              "\n",
              "  Measure INEQUALITY Inequality Unit Code        Unit  PowerCode Code  \\\n",
              "0   Value        TOT      Total        PC  Percentage               0   \n",
              "1   Value        TOT      Total        PC  Percentage               0   \n",
              "\n",
              "  PowerCode  Reference Period Code  Reference Period  Value Flag Codes  \\\n",
              "0     Units                    NaN               NaN    1.1          E   \n",
              "1     Units                    NaN               NaN    1.0        NaN   \n",
              "\n",
              "             Flags  \n",
              "0  Estimated value  \n",
              "1              NaN  "
            ]
          },
          "metadata": {
            "tags": []
          },
          "execution_count": 16
        }
      ]
    },
    {
      "metadata": {
        "id": "gpaXKgjsBZ70",
        "colab_type": "text"
      },
      "cell_type": "markdown",
      "source": [
        "# Manipulating DataFrames\n",
        "Just like in STATA and other statistical packages, its straightfoward to use existing \n",
        "resources to manipulate a dataframe once its loaded. For instance, you can do the following:\n",
        "- subset the data based on columns (e.g., select a subset of columns) or based on some logical condition.\n",
        "- Rename columns\n",
        "- change data types\n",
        "- create new variables based on other variables\n",
        "- merging/joining dataframes\n",
        "- plus more\n",
        "\n",
        "In the next cells, you will see how some of this work.\n"
      ]
    },
    {
      "metadata": {
        "id": "aBL9M7HWBZ71",
        "colab_type": "code",
        "colab": {}
      },
      "cell_type": "code",
      "source": [
        "# creating a dataframe with only the columns needed\n",
        "df2=df2[['LOCATION','Country','INDICATOR','Inequality','Unit','Value']]"
      ],
      "execution_count": 0,
      "outputs": []
    },
    {
      "metadata": {
        "id": "CCeBOvLhBZ75",
        "colab_type": "code",
        "outputId": "6ab8c91e-7ce9-4f67-c009-38b1a7542f56",
        "colab": {
          "base_uri": "https://localhost:8080/",
          "height": 204
        }
      },
      "cell_type": "code",
      "source": [
        "# first five observations for this new dataframe\n",
        "df2.head()"
      ],
      "execution_count": 18,
      "outputs": [
        {
          "output_type": "execute_result",
          "data": {
            "text/html": [
              "<div>\n",
              "<style scoped>\n",
              "    .dataframe tbody tr th:only-of-type {\n",
              "        vertical-align: middle;\n",
              "    }\n",
              "\n",
              "    .dataframe tbody tr th {\n",
              "        vertical-align: top;\n",
              "    }\n",
              "\n",
              "    .dataframe thead th {\n",
              "        text-align: right;\n",
              "    }\n",
              "</style>\n",
              "<table border=\"1\" class=\"dataframe\">\n",
              "  <thead>\n",
              "    <tr style=\"text-align: right;\">\n",
              "      <th></th>\n",
              "      <th>LOCATION</th>\n",
              "      <th>Country</th>\n",
              "      <th>INDICATOR</th>\n",
              "      <th>Inequality</th>\n",
              "      <th>Unit</th>\n",
              "      <th>Value</th>\n",
              "    </tr>\n",
              "  </thead>\n",
              "  <tbody>\n",
              "    <tr>\n",
              "      <th>0</th>\n",
              "      <td>AUS</td>\n",
              "      <td>Australia</td>\n",
              "      <td>HO_BASE</td>\n",
              "      <td>Total</td>\n",
              "      <td>Percentage</td>\n",
              "      <td>1.1</td>\n",
              "    </tr>\n",
              "    <tr>\n",
              "      <th>1</th>\n",
              "      <td>AUT</td>\n",
              "      <td>Austria</td>\n",
              "      <td>HO_BASE</td>\n",
              "      <td>Total</td>\n",
              "      <td>Percentage</td>\n",
              "      <td>1.0</td>\n",
              "    </tr>\n",
              "    <tr>\n",
              "      <th>2</th>\n",
              "      <td>BEL</td>\n",
              "      <td>Belgium</td>\n",
              "      <td>HO_BASE</td>\n",
              "      <td>Total</td>\n",
              "      <td>Percentage</td>\n",
              "      <td>2.0</td>\n",
              "    </tr>\n",
              "    <tr>\n",
              "      <th>3</th>\n",
              "      <td>CAN</td>\n",
              "      <td>Canada</td>\n",
              "      <td>HO_BASE</td>\n",
              "      <td>Total</td>\n",
              "      <td>Percentage</td>\n",
              "      <td>0.2</td>\n",
              "    </tr>\n",
              "    <tr>\n",
              "      <th>4</th>\n",
              "      <td>CZE</td>\n",
              "      <td>Czech Republic</td>\n",
              "      <td>HO_BASE</td>\n",
              "      <td>Total</td>\n",
              "      <td>Percentage</td>\n",
              "      <td>0.9</td>\n",
              "    </tr>\n",
              "  </tbody>\n",
              "</table>\n",
              "</div>"
            ],
            "text/plain": [
              "  LOCATION         Country INDICATOR Inequality        Unit  Value\n",
              "0      AUS       Australia   HO_BASE      Total  Percentage    1.1\n",
              "1      AUT         Austria   HO_BASE      Total  Percentage    1.0\n",
              "2      BEL         Belgium   HO_BASE      Total  Percentage    2.0\n",
              "3      CAN          Canada   HO_BASE      Total  Percentage    0.2\n",
              "4      CZE  Czech Republic   HO_BASE      Total  Percentage    0.9"
            ]
          },
          "metadata": {
            "tags": []
          },
          "execution_count": 18
        }
      ]
    },
    {
      "metadata": {
        "id": "nweCHDhhBZ8D",
        "colab_type": "text"
      },
      "cell_type": "markdown",
      "source": [
        "By default, when you perfom an action on a pandas dataframe, it returns a new dataframe. However, \n",
        "in some cases, you may need to modify the existing dataframe, I guess to avoid messy variable names \n",
        "look of df1, df2, df50, nobody like them. To achieve this, you use the *inplace* option and set it to\n",
        "True which tells pandas to modify the dataframe. You will see this below."
      ]
    },
    {
      "metadata": {
        "id": "RkNIpnVlBZ8E",
        "colab_type": "code",
        "colab": {}
      },
      "cell_type": "code",
      "source": [
        "#renaming all columns so they're lowercase\n",
        "df2.rename(columns={'LOCATION':'iso3c', 'Country':'country', 'INDICATOR':'indicator','Inequality':'inequality','Unit':'unit', 'Value':'value'}, \n",
        "                 inplace=True)"
      ],
      "execution_count": 0,
      "outputs": []
    },
    {
      "metadata": {
        "id": "qYaqsDy4BZ8K",
        "colab_type": "code",
        "colab": {}
      },
      "cell_type": "code",
      "source": [
        "# subsetting dataframe with only those observations with \n",
        "# SW_LIFS (life satisfaction) under indicator & \n",
        "#'Total' under inequality (removing this condition can give us additional disaggregated scores for Men and Women)\n",
        "\n",
        "df2=df2.loc[(df2['indicator'] == \"SW_LIFS\") & (df2['inequality'] == \"Total\")]"
      ],
      "execution_count": 0,
      "outputs": []
    },
    {
      "metadata": {
        "id": "3TdD677BBZ8S",
        "colab_type": "code",
        "outputId": "1cee34f9-529d-4312-ad8f-29927daa975b",
        "colab": {
          "base_uri": "https://localhost:8080/",
          "height": 204
        }
      },
      "cell_type": "code",
      "source": [
        "# first five observations in this dataframe\n",
        "df2.head()"
      ],
      "execution_count": 21,
      "outputs": [
        {
          "output_type": "execute_result",
          "data": {
            "text/html": [
              "<div>\n",
              "<style scoped>\n",
              "    .dataframe tbody tr th:only-of-type {\n",
              "        vertical-align: middle;\n",
              "    }\n",
              "\n",
              "    .dataframe tbody tr th {\n",
              "        vertical-align: top;\n",
              "    }\n",
              "\n",
              "    .dataframe thead th {\n",
              "        text-align: right;\n",
              "    }\n",
              "</style>\n",
              "<table border=\"1\" class=\"dataframe\">\n",
              "  <thead>\n",
              "    <tr style=\"text-align: right;\">\n",
              "      <th></th>\n",
              "      <th>iso3c</th>\n",
              "      <th>country</th>\n",
              "      <th>indicator</th>\n",
              "      <th>inequality</th>\n",
              "      <th>unit</th>\n",
              "      <th>value</th>\n",
              "    </tr>\n",
              "  </thead>\n",
              "  <tbody>\n",
              "    <tr>\n",
              "      <th>2669</th>\n",
              "      <td>AUS</td>\n",
              "      <td>Australia</td>\n",
              "      <td>SW_LIFS</td>\n",
              "      <td>Total</td>\n",
              "      <td>Average score</td>\n",
              "      <td>7.3</td>\n",
              "    </tr>\n",
              "    <tr>\n",
              "      <th>2670</th>\n",
              "      <td>AUT</td>\n",
              "      <td>Austria</td>\n",
              "      <td>SW_LIFS</td>\n",
              "      <td>Total</td>\n",
              "      <td>Average score</td>\n",
              "      <td>6.9</td>\n",
              "    </tr>\n",
              "    <tr>\n",
              "      <th>2671</th>\n",
              "      <td>BEL</td>\n",
              "      <td>Belgium</td>\n",
              "      <td>SW_LIFS</td>\n",
              "      <td>Total</td>\n",
              "      <td>Average score</td>\n",
              "      <td>6.9</td>\n",
              "    </tr>\n",
              "    <tr>\n",
              "      <th>2672</th>\n",
              "      <td>CAN</td>\n",
              "      <td>Canada</td>\n",
              "      <td>SW_LIFS</td>\n",
              "      <td>Total</td>\n",
              "      <td>Average score</td>\n",
              "      <td>7.3</td>\n",
              "    </tr>\n",
              "    <tr>\n",
              "      <th>2673</th>\n",
              "      <td>CZE</td>\n",
              "      <td>Czech Republic</td>\n",
              "      <td>SW_LIFS</td>\n",
              "      <td>Total</td>\n",
              "      <td>Average score</td>\n",
              "      <td>6.5</td>\n",
              "    </tr>\n",
              "  </tbody>\n",
              "</table>\n",
              "</div>"
            ],
            "text/plain": [
              "     iso3c         country indicator inequality           unit  value\n",
              "2669   AUS       Australia   SW_LIFS      Total  Average score    7.3\n",
              "2670   AUT         Austria   SW_LIFS      Total  Average score    6.9\n",
              "2671   BEL         Belgium   SW_LIFS      Total  Average score    6.9\n",
              "2672   CAN          Canada   SW_LIFS      Total  Average score    7.3\n",
              "2673   CZE  Czech Republic   SW_LIFS      Total  Average score    6.5"
            ]
          },
          "metadata": {
            "tags": []
          },
          "execution_count": 21
        }
      ]
    },
    {
      "metadata": {
        "id": "U6m1vmyMBZ8V",
        "colab_type": "code",
        "colab": {}
      },
      "cell_type": "code",
      "source": [
        "### Merge the two dataframes on GDP per capita PPP (df1) and life satisfaction (df2)"
      ],
      "execution_count": 0,
      "outputs": []
    },
    {
      "metadata": {
        "id": "xYUFlRPWBZ8b",
        "colab_type": "code",
        "colab": {}
      },
      "cell_type": "code",
      "source": [
        "# merging the dataframes derived from OECD (life satisfaction) and IMF (gdp_per_capita)\n",
        "df=pd.merge(df1, df2, on='country')"
      ],
      "execution_count": 0,
      "outputs": []
    },
    {
      "metadata": {
        "id": "BLQayTykBZ8g",
        "colab_type": "code",
        "outputId": "a218fa0c-a1e2-48c7-bf2f-64d856722fae",
        "colab": {
          "base_uri": "https://localhost:8080/",
          "height": 204
        }
      },
      "cell_type": "code",
      "source": [
        "# first five obvservatins of the merged dataset\n",
        "df.head()"
      ],
      "execution_count": 24,
      "outputs": [
        {
          "output_type": "execute_result",
          "data": {
            "text/html": [
              "<div>\n",
              "<style scoped>\n",
              "    .dataframe tbody tr th:only-of-type {\n",
              "        vertical-align: middle;\n",
              "    }\n",
              "\n",
              "    .dataframe tbody tr th {\n",
              "        vertical-align: top;\n",
              "    }\n",
              "\n",
              "    .dataframe thead th {\n",
              "        text-align: right;\n",
              "    }\n",
              "</style>\n",
              "<table border=\"1\" class=\"dataframe\">\n",
              "  <thead>\n",
              "    <tr style=\"text-align: right;\">\n",
              "      <th></th>\n",
              "      <th>country</th>\n",
              "      <th>year</th>\n",
              "      <th>NY.GNP.PCAP.CD</th>\n",
              "      <th>iso3c</th>\n",
              "      <th>indicator</th>\n",
              "      <th>inequality</th>\n",
              "      <th>unit</th>\n",
              "      <th>value</th>\n",
              "    </tr>\n",
              "  </thead>\n",
              "  <tbody>\n",
              "    <tr>\n",
              "      <th>0</th>\n",
              "      <td>Australia</td>\n",
              "      <td>2015</td>\n",
              "      <td>60360.0</td>\n",
              "      <td>AUS</td>\n",
              "      <td>SW_LIFS</td>\n",
              "      <td>Total</td>\n",
              "      <td>Average score</td>\n",
              "      <td>7.3</td>\n",
              "    </tr>\n",
              "    <tr>\n",
              "      <th>1</th>\n",
              "      <td>Austria</td>\n",
              "      <td>2015</td>\n",
              "      <td>47630.0</td>\n",
              "      <td>AUT</td>\n",
              "      <td>SW_LIFS</td>\n",
              "      <td>Total</td>\n",
              "      <td>Average score</td>\n",
              "      <td>6.9</td>\n",
              "    </tr>\n",
              "    <tr>\n",
              "      <th>2</th>\n",
              "      <td>Belgium</td>\n",
              "      <td>2015</td>\n",
              "      <td>44230.0</td>\n",
              "      <td>BEL</td>\n",
              "      <td>SW_LIFS</td>\n",
              "      <td>Total</td>\n",
              "      <td>Average score</td>\n",
              "      <td>6.9</td>\n",
              "    </tr>\n",
              "    <tr>\n",
              "      <th>3</th>\n",
              "      <td>Brazil</td>\n",
              "      <td>2015</td>\n",
              "      <td>10090.0</td>\n",
              "      <td>BRA</td>\n",
              "      <td>SW_LIFS</td>\n",
              "      <td>Total</td>\n",
              "      <td>Average score</td>\n",
              "      <td>7.0</td>\n",
              "    </tr>\n",
              "    <tr>\n",
              "      <th>4</th>\n",
              "      <td>Canada</td>\n",
              "      <td>2015</td>\n",
              "      <td>47460.0</td>\n",
              "      <td>CAN</td>\n",
              "      <td>SW_LIFS</td>\n",
              "      <td>Total</td>\n",
              "      <td>Average score</td>\n",
              "      <td>7.3</td>\n",
              "    </tr>\n",
              "  </tbody>\n",
              "</table>\n",
              "</div>"
            ],
            "text/plain": [
              "     country  year  NY.GNP.PCAP.CD iso3c indicator inequality           unit  \\\n",
              "0  Australia  2015         60360.0   AUS   SW_LIFS      Total  Average score   \n",
              "1    Austria  2015         47630.0   AUT   SW_LIFS      Total  Average score   \n",
              "2    Belgium  2015         44230.0   BEL   SW_LIFS      Total  Average score   \n",
              "3     Brazil  2015         10090.0   BRA   SW_LIFS      Total  Average score   \n",
              "4     Canada  2015         47460.0   CAN   SW_LIFS      Total  Average score   \n",
              "\n",
              "   value  \n",
              "0    7.3  \n",
              "1    6.9  \n",
              "2    6.9  \n",
              "3    7.0  \n",
              "4    7.3  "
            ]
          },
          "metadata": {
            "tags": []
          },
          "execution_count": 24
        }
      ]
    },
    {
      "metadata": {
        "id": "6wctrVvZBZ8p",
        "colab_type": "code",
        "colab": {}
      },
      "cell_type": "code",
      "source": [
        "# renaming columns to be descriptive of what's stored in them\n",
        "\n",
        "df.rename(columns={'NY.GNP.PCAP.CD':'gdp_per_capita','value':'life_sat_score'}, \n",
        "                 inplace=True)"
      ],
      "execution_count": 0,
      "outputs": []
    },
    {
      "metadata": {
        "id": "3e_DNBJEBZ8s",
        "colab_type": "code",
        "outputId": "b4f72d84-2cd1-4593-d71f-ce88803bcc7f",
        "colab": {
          "base_uri": "https://localhost:8080/",
          "height": 204
        }
      },
      "cell_type": "code",
      "source": [
        "# This is the clean dataframe we'll use for the analysis\n",
        "df.head()"
      ],
      "execution_count": 26,
      "outputs": [
        {
          "output_type": "execute_result",
          "data": {
            "text/html": [
              "<div>\n",
              "<style scoped>\n",
              "    .dataframe tbody tr th:only-of-type {\n",
              "        vertical-align: middle;\n",
              "    }\n",
              "\n",
              "    .dataframe tbody tr th {\n",
              "        vertical-align: top;\n",
              "    }\n",
              "\n",
              "    .dataframe thead th {\n",
              "        text-align: right;\n",
              "    }\n",
              "</style>\n",
              "<table border=\"1\" class=\"dataframe\">\n",
              "  <thead>\n",
              "    <tr style=\"text-align: right;\">\n",
              "      <th></th>\n",
              "      <th>country</th>\n",
              "      <th>year</th>\n",
              "      <th>gdp_per_capita</th>\n",
              "      <th>iso3c</th>\n",
              "      <th>indicator</th>\n",
              "      <th>inequality</th>\n",
              "      <th>unit</th>\n",
              "      <th>life_sat_score</th>\n",
              "    </tr>\n",
              "  </thead>\n",
              "  <tbody>\n",
              "    <tr>\n",
              "      <th>0</th>\n",
              "      <td>Australia</td>\n",
              "      <td>2015</td>\n",
              "      <td>60360.0</td>\n",
              "      <td>AUS</td>\n",
              "      <td>SW_LIFS</td>\n",
              "      <td>Total</td>\n",
              "      <td>Average score</td>\n",
              "      <td>7.3</td>\n",
              "    </tr>\n",
              "    <tr>\n",
              "      <th>1</th>\n",
              "      <td>Austria</td>\n",
              "      <td>2015</td>\n",
              "      <td>47630.0</td>\n",
              "      <td>AUT</td>\n",
              "      <td>SW_LIFS</td>\n",
              "      <td>Total</td>\n",
              "      <td>Average score</td>\n",
              "      <td>6.9</td>\n",
              "    </tr>\n",
              "    <tr>\n",
              "      <th>2</th>\n",
              "      <td>Belgium</td>\n",
              "      <td>2015</td>\n",
              "      <td>44230.0</td>\n",
              "      <td>BEL</td>\n",
              "      <td>SW_LIFS</td>\n",
              "      <td>Total</td>\n",
              "      <td>Average score</td>\n",
              "      <td>6.9</td>\n",
              "    </tr>\n",
              "    <tr>\n",
              "      <th>3</th>\n",
              "      <td>Brazil</td>\n",
              "      <td>2015</td>\n",
              "      <td>10090.0</td>\n",
              "      <td>BRA</td>\n",
              "      <td>SW_LIFS</td>\n",
              "      <td>Total</td>\n",
              "      <td>Average score</td>\n",
              "      <td>7.0</td>\n",
              "    </tr>\n",
              "    <tr>\n",
              "      <th>4</th>\n",
              "      <td>Canada</td>\n",
              "      <td>2015</td>\n",
              "      <td>47460.0</td>\n",
              "      <td>CAN</td>\n",
              "      <td>SW_LIFS</td>\n",
              "      <td>Total</td>\n",
              "      <td>Average score</td>\n",
              "      <td>7.3</td>\n",
              "    </tr>\n",
              "  </tbody>\n",
              "</table>\n",
              "</div>"
            ],
            "text/plain": [
              "     country  year  gdp_per_capita iso3c indicator inequality           unit  \\\n",
              "0  Australia  2015         60360.0   AUS   SW_LIFS      Total  Average score   \n",
              "1    Austria  2015         47630.0   AUT   SW_LIFS      Total  Average score   \n",
              "2    Belgium  2015         44230.0   BEL   SW_LIFS      Total  Average score   \n",
              "3     Brazil  2015         10090.0   BRA   SW_LIFS      Total  Average score   \n",
              "4     Canada  2015         47460.0   CAN   SW_LIFS      Total  Average score   \n",
              "\n",
              "   life_sat_score  \n",
              "0             7.3  \n",
              "1             6.9  \n",
              "2             6.9  \n",
              "3             7.0  \n",
              "4             7.3  "
            ]
          },
          "metadata": {
            "tags": []
          },
          "execution_count": 26
        }
      ]
    },
    {
      "metadata": {
        "id": "bopfdZUKBZ8x",
        "colab_type": "code",
        "outputId": "17964374-b976-4c42-d2e2-ab66edcb2b4e",
        "colab": {
          "base_uri": "https://localhost:8080/",
          "height": 34
        }
      },
      "cell_type": "code",
      "source": [
        "df.shape"
      ],
      "execution_count": 27,
      "outputs": [
        {
          "output_type": "execute_result",
          "data": {
            "text/plain": [
              "(34, 8)"
            ]
          },
          "metadata": {
            "tags": []
          },
          "execution_count": 27
        }
      ]
    },
    {
      "metadata": {
        "id": "g3v7-QH8BZ83",
        "colab_type": "text"
      },
      "cell_type": "markdown",
      "source": [
        "# EXERCISES: Now we can start exploring the data"
      ]
    },
    {
      "metadata": {
        "id": "dUb1YeAWBZ84",
        "colab_type": "text"
      },
      "cell_type": "markdown",
      "source": [
        "We have looked at the tools Python has for data processing and cleaning, \n",
        "now lets explore the available functionality for statistical exploration of the data. \n",
        "At this stage, we want to do things like:\n",
        "- check distribution of the variables using *df.describe()*\n",
        "- get value counts, mostly useful for categorical variables: *df[col_name].value_counts()*\n",
        "- sort the data: df.sort_values\n"
      ]
    },
    {
      "metadata": {
        "id": "xSDgQlRgBZ85",
        "colab_type": "text"
      },
      "cell_type": "markdown",
      "source": [
        "Exercise 1: Display descriptive Statistics for the whole dataset (using dataframe.describe()"
      ]
    },
    {
      "metadata": {
        "id": "wS-Bi3hJBZ9A",
        "colab_type": "code",
        "colab": {}
      },
      "cell_type": "code",
      "source": [
        "#Your code here: \n",
        "\n",
        "\n"
      ],
      "execution_count": 0,
      "outputs": []
    },
    {
      "metadata": {
        "id": "ZwQ_W0ZCBZ9O",
        "colab_type": "text"
      },
      "cell_type": "markdown",
      "source": [
        "Exercise 2: What is the maximum GDP per capita in 2015? (using dataframe.col_name.max()"
      ]
    },
    {
      "metadata": {
        "id": "whfF5DKEBZ9R",
        "colab_type": "code",
        "colab": {}
      },
      "cell_type": "code",
      "source": [
        "#Your code here:"
      ],
      "execution_count": 0,
      "outputs": []
    },
    {
      "metadata": {
        "id": "BkuiLXOLBZ9b",
        "colab_type": "code",
        "colab": {}
      },
      "cell_type": "code",
      "source": [
        ""
      ],
      "execution_count": 0,
      "outputs": []
    },
    {
      "metadata": {
        "id": "n3DLiTTzBZ9d",
        "colab_type": "code",
        "outputId": "6a34870a-6cf4-4023-84d9-719287d5f90d",
        "colab": {
          "base_uri": "https://localhost:8080/",
          "height": 34
        }
      },
      "cell_type": "code",
      "source": [
        "#SAMPLE CODE:\n",
        "#Which country has maximum value for life satisfaction in 2015 \n",
        "max_sat = (df[df.inequality == 'Total'].life_sat_score.idxmax())\n",
        "\n",
        "print(df[df.inequality=='Total']\n",
        ".loc[max_sat]\n",
        ".country)"
      ],
      "execution_count": 29,
      "outputs": [
        {
          "output_type": "stream",
          "text": [
            "Switzerland\n"
          ],
          "name": "stdout"
        }
      ]
    },
    {
      "metadata": {
        "id": "fAoKq4zuBZ9j",
        "colab_type": "text"
      },
      "cell_type": "markdown",
      "source": [
        "Exercise 3: Which country has the minimum GDP per capita in 2015? (HINT: use column name=gdp_per_capita and idmin() "
      ]
    },
    {
      "metadata": {
        "id": "o0Tc8dePBZ9m",
        "colab_type": "code",
        "colab": {}
      },
      "cell_type": "code",
      "source": [
        "# Your code here: \n",
        "\n"
      ],
      "execution_count": 0,
      "outputs": []
    },
    {
      "metadata": {
        "id": "2hVTlYYNBZ9p",
        "colab_type": "text"
      },
      "cell_type": "markdown",
      "source": [
        "### Visualizing in a scatterplot"
      ]
    },
    {
      "metadata": {
        "id": "URoKU-YNBZ9p",
        "colab_type": "text"
      },
      "cell_type": "markdown",
      "source": [
        "Python has extensive data visualization capabilities from the good old static plots to the more cool interaactive visualization. The base package for the plotting in Python is the [Matplotlib](https://matplotlib.org). They are other up and coming packages which are built on top of Matplotlib such as [seaborn](https://seaborn.pydata.org) which offers more visually appealing plots and extra functionalities. Also, Pandas has also built in plotting capabilities. If you need interactive visualizations, then [Bokeh](https://bokeh.pydata.org/en/latest/). In the cells below, we show how to build a simple scatter plot using Matplotlib."
      ]
    },
    {
      "metadata": {
        "id": "P26cFZzaBZ9r",
        "colab_type": "code",
        "outputId": "82631f37-a0f8-49c6-af83-870a27d0b354",
        "colab": {
          "base_uri": "https://localhost:8080/",
          "height": 294
        }
      },
      "cell_type": "code",
      "source": [
        "# Scatterplot with labels \n",
        "fig,ax = plt.subplots(figsize=[6,4])\n",
        "\n",
        "ax.scatter(df.gdp_per_capita, df.life_sat_score)\n",
        "ax.set(xlabel = 'GDP per capita', ylabel = 'life satisfaction score',title='OECD: life satisfaction rises with income');"
      ],
      "execution_count": 30,
      "outputs": [
        {
          "output_type": "display_data",
          "data": {
            "image/png": "[encoded data removed]",
            "text/plain": [
              "<Figure size 432x288 with 1 Axes>"
            ]
          },
          "metadata": {
            "tags": []
          }
        }
      ]
    },
    {
      "metadata": {
        "id": "dYrSwwlVBZ9t",
        "colab_type": "text"
      },
      "cell_type": "markdown",
      "source": [
        "# Modelling and Machine Learning\n",
        "When it comes to building statistical and/or machine learning, Python offers many options. In general, \n",
        "Python has much strong capabilities for Machine Learning models than statistical and econometrics models\n",
        "but they is alot you can with statistical modelling capabilities. Some of the go to libraries for \n",
        "statistical analysis, linear algebra and other scientific computing are: [statsmodels](https://www.statsmodels.org/stable/index.html), [scipy](https://www.scipy.org), [numpy](http://www.numpy.org). If you want to do Machine Learning (Deep Learning included), the following libraries are excellent:\n",
        "- scikit-learn: a general purpose machine learning library\n",
        "- TensorFlow/Keras/Theano: Focused more on deep learning and nerural networks\n",
        "- Apache Spark ML Lib: For distributed machine learning with large datasets\n",
        "\n",
        "In the cells below, we show how to build a regression model using statsmodel.\n",
        "    "
      ]
    },
    {
      "metadata": {
        "id": "yWWTTVY4BZ9v",
        "colab_type": "code",
        "outputId": "9782fbea-52fa-4a29-e928-5d6a0966f4e5",
        "colab": {
          "base_uri": "https://localhost:8080/",
          "height": 68
        }
      },
      "cell_type": "code",
      "source": [
        "y = df.life_sat_score\n",
        "X = df.gdp_per_capita\n",
        "\n",
        "X = sm.add_constant(X)\n",
        "\n",
        "model = sm.OLS(y,X).fit()\n",
        "model.params"
      ],
      "execution_count": 31,
      "outputs": [
        {
          "output_type": "execute_result",
          "data": {
            "text/plain": [
              "const             5.659271\n",
              "gdp_per_capita    0.000025\n",
              "dtype: float64"
            ]
          },
          "metadata": {
            "tags": []
          },
          "execution_count": 31
        }
      ]
    },
    {
      "metadata": {
        "id": "xam7sMGUBZ96",
        "colab_type": "code",
        "outputId": "00f762a7-ee56-40af-b0e0-d3153e58de33",
        "colab": {
          "base_uri": "https://localhost:8080/",
          "height": 34
        }
      },
      "cell_type": "code",
      "source": [
        "#Constant\n",
        "model.params[0]"
      ],
      "execution_count": 32,
      "outputs": [
        {
          "output_type": "execute_result",
          "data": {
            "text/plain": [
              "5.6592706879235255"
            ]
          },
          "metadata": {
            "tags": []
          },
          "execution_count": 32
        }
      ]
    },
    {
      "metadata": {
        "id": "tSfvEwd0BZ99",
        "colab_type": "code",
        "outputId": "f4e77516-7355-471c-9298-1e3f451fc841",
        "colab": {
          "base_uri": "https://localhost:8080/",
          "height": 34
        }
      },
      "cell_type": "code",
      "source": [
        "#Coefficient for GDP per capita\n",
        "model.params[1]"
      ],
      "execution_count": 33,
      "outputs": [
        {
          "output_type": "execute_result",
          "data": {
            "text/plain": [
              "2.4827374734458807e-05"
            ]
          },
          "metadata": {
            "tags": []
          },
          "execution_count": 33
        }
      ]
    },
    {
      "metadata": {
        "id": "iF1pj7MPBZ-D",
        "colab_type": "code",
        "outputId": "a472d96a-c103-4ed6-824f-68b8db15ba13",
        "colab": {
          "base_uri": "https://localhost:8080/",
          "height": 376
        }
      },
      "cell_type": "code",
      "source": [
        "model.summary()"
      ],
      "execution_count": 34,
      "outputs": [
        {
          "output_type": "execute_result",
          "data": {
            "text/html": [
              "<table class=\"simpletable\">\n",
              "<caption>OLS Regression Results</caption>\n",
              "<tr>\n",
              "  <th>Dep. Variable:</th>     <td>life_sat_score</td>  <th>  R-squared:         </th> <td>   0.456</td>\n",
              "</tr>\n",
              "<tr>\n",
              "  <th>Model:</th>                   <td>OLS</td>       <th>  Adj. R-squared:    </th> <td>   0.439</td>\n",
              "</tr>\n",
              "<tr>\n",
              "  <th>Method:</th>             <td>Least Squares</td>  <th>  F-statistic:       </th> <td>   26.77</td>\n",
              "</tr>\n",
              "<tr>\n",
              "  <th>Date:</th>             <td>Mon, 11 Feb 2019</td> <th>  Prob (F-statistic):</th> <td>1.20e-05</td>\n",
              "</tr>\n",
              "<tr>\n",
              "  <th>Time:</th>                 <td>19:37:12</td>     <th>  Log-Likelihood:    </th> <td> -29.540</td>\n",
              "</tr>\n",
              "<tr>\n",
              "  <th>No. Observations:</th>      <td>    34</td>      <th>  AIC:               </th> <td>   63.08</td>\n",
              "</tr>\n",
              "<tr>\n",
              "  <th>Df Residuals:</th>          <td>    32</td>      <th>  BIC:               </th> <td>   66.13</td>\n",
              "</tr>\n",
              "<tr>\n",
              "  <th>Df Model:</th>              <td>     1</td>      <th>                     </th>     <td> </td>   \n",
              "</tr>\n",
              "<tr>\n",
              "  <th>Covariance Type:</th>      <td>nonrobust</td>    <th>                     </th>     <td> </td>   \n",
              "</tr>\n",
              "</table>\n",
              "<table class=\"simpletable\">\n",
              "<tr>\n",
              "         <td></td>           <th>coef</th>     <th>std err</th>      <th>t</th>      <th>P>|t|</th>  <th>[0.025</th>    <th>0.975]</th>  \n",
              "</tr>\n",
              "<tr>\n",
              "  <th>const</th>          <td>    5.6593</td> <td>    0.212</td> <td>   26.639</td> <td> 0.000</td> <td>    5.227</td> <td>    6.092</td>\n",
              "</tr>\n",
              "<tr>\n",
              "  <th>gdp_per_capita</th> <td> 2.483e-05</td> <td>  4.8e-06</td> <td>    5.174</td> <td> 0.000</td> <td> 1.51e-05</td> <td> 3.46e-05</td>\n",
              "</tr>\n",
              "</table>\n",
              "<table class=\"simpletable\">\n",
              "<tr>\n",
              "  <th>Omnibus:</th>       <td> 1.115</td> <th>  Durbin-Watson:     </th> <td>   1.683</td>\n",
              "</tr>\n",
              "<tr>\n",
              "  <th>Prob(Omnibus):</th> <td> 0.573</td> <th>  Jarque-Bera (JB):  </th> <td>   1.051</td>\n",
              "</tr>\n",
              "<tr>\n",
              "  <th>Skew:</th>          <td>-0.390</td> <th>  Prob(JB):          </th> <td>   0.591</td>\n",
              "</tr>\n",
              "<tr>\n",
              "  <th>Kurtosis:</th>      <td> 2.635</td> <th>  Cond. No.          </th> <td>9.22e+04</td>\n",
              "</tr>\n",
              "</table>"
            ],
            "text/plain": [
              "<class 'statsmodels.iolib.summary.Summary'>\n",
              "\"\"\"\n",
              "                            OLS Regression Results                            \n",
              "==============================================================================\n",
              "Dep. Variable:         life_sat_score   R-squared:                       0.456\n",
              "Model:                            OLS   Adj. R-squared:                  0.439\n",
              "Method:                 Least Squares   F-statistic:                     26.77\n",
              "Date:                Mon, 11 Feb 2019   Prob (F-statistic):           1.20e-05\n",
              "Time:                        19:37:12   Log-Likelihood:                -29.540\n",
              "No. Observations:                  34   AIC:                             63.08\n",
              "Df Residuals:                      32   BIC:                             66.13\n",
              "Df Model:                           1                                         \n",
              "Covariance Type:            nonrobust                                         \n",
              "==================================================================================\n",
              "                     coef    std err          t      P>|t|      [0.025      0.975]\n",
              "----------------------------------------------------------------------------------\n",
              "const              5.6593      0.212     26.639      0.000       5.227       6.092\n",
              "gdp_per_capita  2.483e-05    4.8e-06      5.174      0.000    1.51e-05    3.46e-05\n",
              "==============================================================================\n",
              "Omnibus:                        1.115   Durbin-Watson:                   1.683\n",
              "Prob(Omnibus):                  0.573   Jarque-Bera (JB):                1.051\n",
              "Skew:                          -0.390   Prob(JB):                        0.591\n",
              "Kurtosis:                       2.635   Cond. No.                     9.22e+04\n",
              "==============================================================================\n",
              "\n",
              "Warnings:\n",
              "[1] Standard Errors assume that the covariance matrix of the errors is correctly specified.\n",
              "[2] The condition number is large, 9.22e+04. This might indicate that there are\n",
              "strong multicollinearity or other numerical problems.\n",
              "\"\"\""
            ]
          },
          "metadata": {
            "tags": []
          },
          "execution_count": 34
        }
      ]
    },
    {
      "metadata": {
        "id": "X83DbT_kBZ-G",
        "colab_type": "code",
        "outputId": "f6bd4486-476a-4d59-de69-7db3d9b811d1",
        "colab": {
          "base_uri": "https://localhost:8080/",
          "height": 620
        }
      },
      "cell_type": "code",
      "source": [
        "fig,ax = plt.subplots(figsize=[12, 10])\n",
        "\n",
        "ax.scatter(df.gdp_per_capita, df.life_sat_score)\n",
        "ax.set(xlabel = 'GDP per capita PPP current dollars', ylabel = 'Life satisfaction score',title='OECD: Life satisfaction rises with income');\n",
        "\n",
        "X_plot = np.linspace(0,140000,1000)\n",
        "ax.plot(X_plot, X_plot*model.params[1]+ model.params[0],color='r');"
      ],
      "execution_count": 35,
      "outputs": [
        {
          "output_type": "display_data",
          "data": {
            "image/png": "[encoded data removed]",
            "text/plain": [
              "<Figure size 864x720 with 1 Axes>"
            ]
          },
          "metadata": {
            "tags": []
          }
        }
      ]
    },
    {
      "metadata": {
        "id": "rwnazmUcBZ-K",
        "colab_type": "text"
      },
      "cell_type": "markdown",
      "source": [
        "# Data Definition:\n",
        "\n",
        "## GDP per capita (current US dollars)\n",
        "\n",
        "Indicator ID: NY.GDP.PCAP.CD\n",
        "\n",
        "GDP per capita is gross domestic product divided by midyear population. GDP is the sum of gross value added by all resident producers in the economy plus any product taxes and minus any subsidies not included in the value of the products. It is calculated without making deductions for depreciation of fabricated assets or for depletion and degradation of natural resources. Data are in current U.S. dollars.\n",
        "\n",
        "Source: World Bank national accounts data, and OECD National Accounts data files.\n",
        "\n",
        "## Life satisfaction (Subjective well-being) \n",
        "\n",
        "Life satisfaction\n",
        "\n",
        "Indicator ID=SW_LIFS\n",
        "\n",
        "The indicator considers people's evaluation of their life as a whole. It is a weighted-sum of different\n",
        "response categories based on people's rates of their current life relative to the best and worst possible\n",
        "lives for them on a scale from 0 to 10, using the Cantril Ladder (known also as the \"Self-Anchoring Striving\n",
        "Scale\")\n",
        "Unit of measurement: Mean value (Cantril Ladder)\n",
        "Additional information: Gender inequality (men versus women); Socio-economic inequality\n",
        "(educational attainment 5/6 ISCED group versus 0/1 ISCED group)\n",
        "Source: OECD calculations based on Gallup World Poll\n",
        "\n"
      ]
    }
  ]
}