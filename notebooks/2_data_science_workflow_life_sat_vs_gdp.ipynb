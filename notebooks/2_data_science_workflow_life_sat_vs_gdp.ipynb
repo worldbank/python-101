{
 "cells": [
  {
   "cell_type": "markdown",
   "metadata": {},
   "source": [
    "    \n",
    "# DATA DAY TRAINING: Intro to Python\n",
    "\n",
    "## In this notebook, we will explore how life satisfaction varies with GDP per capita. \n",
    "\n"
   ]
  },
  {
   "cell_type": "markdown",
   "metadata": {},
   "source": [
    "### Data Source:\n",
    "\n",
    "For this notebook, we access the WBG World Development Indicators API for countries' GDP per capita (PPP, current dollars) data for 2015. (https://data.worldbank.org/indicator/ny.gdp.pcap.cd) \n",
    "\n",
    "We also download the Better Life Index data for 2016 (BLI2016.csv) from the OECD Better Life Index (https://stats.oecd.org/Index.aspx?DataSetCode=BLI). \n",
    "\n",
    "Data definitions available at the end of this notebook."
   ]
  },
  {
   "cell_type": "markdown",
   "metadata": {},
   "source": [
    "### Importing libraries"
   ]
  },
  {
   "cell_type": "code",
   "execution_count": 121,
   "metadata": {},
   "outputs": [],
   "source": [
    "import numpy as np\n",
    "import pandas as pd\n",
    "import matplotlib.pyplot as plt\n",
    "import statsmodels.api as sm\n",
    "from matplotlib.pyplot import figure\n",
    "from pandas_datareader import wb"
   ]
  },
  {
   "cell_type": "markdown",
   "metadata": {},
   "source": [
    "### Read data into a python dataframe (GDP per capita- PPP- current dollars, for countries in 2015 using the World Bank's World Development Indicators API)"
   ]
  },
  {
   "cell_type": "code",
   "execution_count": 123,
   "metadata": {},
   "outputs": [],
   "source": [
    "GNI_capita_code = \"NY.GNP.PCAP.CD\""
   ]
  },
  {
   "cell_type": "code",
   "execution_count": 124,
   "metadata": {},
   "outputs": [],
   "source": [
    "country_list = wb.get_countries()"
   ]
  },
  {
   "cell_type": "code",
   "execution_count": 125,
   "metadata": {},
   "outputs": [],
   "source": [
    "country_list=country_list[country_list.region!='Aggregates']"
   ]
  },
  {
   "cell_type": "code",
   "execution_count": 126,
   "metadata": {},
   "outputs": [
    {
     "data": {
      "text/html": [
       "<div>\n",
       "<style scoped>\n",
       "    .dataframe tbody tr th:only-of-type {\n",
       "        vertical-align: middle;\n",
       "    }\n",
       "\n",
       "    .dataframe tbody tr th {\n",
       "        vertical-align: top;\n",
       "    }\n",
       "\n",
       "    .dataframe thead th {\n",
       "        text-align: right;\n",
       "    }\n",
       "</style>\n",
       "<table border=\"1\" class=\"dataframe\">\n",
       "  <thead>\n",
       "    <tr style=\"text-align: right;\">\n",
       "      <th></th>\n",
       "      <th>adminregion</th>\n",
       "      <th>capitalCity</th>\n",
       "      <th>iso3c</th>\n",
       "      <th>incomeLevel</th>\n",
       "      <th>iso2c</th>\n",
       "      <th>latitude</th>\n",
       "      <th>lendingType</th>\n",
       "      <th>longitude</th>\n",
       "      <th>name</th>\n",
       "      <th>region</th>\n",
       "    </tr>\n",
       "  </thead>\n",
       "  <tbody>\n",
       "    <tr>\n",
       "      <th>0</th>\n",
       "      <td></td>\n",
       "      <td>Oranjestad</td>\n",
       "      <td>ABW</td>\n",
       "      <td>High income</td>\n",
       "      <td>AW</td>\n",
       "      <td>12.51670</td>\n",
       "      <td>Not classified</td>\n",
       "      <td>-70.0167</td>\n",
       "      <td>Aruba</td>\n",
       "      <td>Latin America &amp; Caribbean</td>\n",
       "    </tr>\n",
       "    <tr>\n",
       "      <th>1</th>\n",
       "      <td>South Asia</td>\n",
       "      <td>Kabul</td>\n",
       "      <td>AFG</td>\n",
       "      <td>Low income</td>\n",
       "      <td>AF</td>\n",
       "      <td>34.52280</td>\n",
       "      <td>IDA</td>\n",
       "      <td>69.1761</td>\n",
       "      <td>Afghanistan</td>\n",
       "      <td>South Asia</td>\n",
       "    </tr>\n",
       "    <tr>\n",
       "      <th>3</th>\n",
       "      <td>Sub-Saharan Africa (excluding high income)</td>\n",
       "      <td>Luanda</td>\n",
       "      <td>AGO</td>\n",
       "      <td>Lower middle income</td>\n",
       "      <td>AO</td>\n",
       "      <td>-8.81155</td>\n",
       "      <td>IBRD</td>\n",
       "      <td>13.2420</td>\n",
       "      <td>Angola</td>\n",
       "      <td>Sub-Saharan Africa</td>\n",
       "    </tr>\n",
       "  </tbody>\n",
       "</table>\n",
       "</div>"
      ],
      "text/plain": [
       "                                  adminregion capitalCity iso3c  \\\n",
       "0                                              Oranjestad   ABW   \n",
       "1                                  South Asia       Kabul   AFG   \n",
       "3  Sub-Saharan Africa (excluding high income)      Luanda   AGO   \n",
       "\n",
       "           incomeLevel iso2c  latitude     lendingType  longitude  \\\n",
       "0          High income    AW  12.51670  Not classified   -70.0167   \n",
       "1           Low income    AF  34.52280             IDA    69.1761   \n",
       "3  Lower middle income    AO  -8.81155            IBRD    13.2420   \n",
       "\n",
       "          name                      region  \n",
       "0        Aruba  Latin America & Caribbean   \n",
       "1  Afghanistan                  South Asia  \n",
       "3       Angola         Sub-Saharan Africa   "
      ]
     },
     "execution_count": 126,
     "metadata": {},
     "output_type": "execute_result"
    }
   ],
   "source": [
    "country_list.head(3)"
   ]
  },
  {
   "cell_type": "code",
   "execution_count": 127,
   "metadata": {},
   "outputs": [
    {
     "data": {
      "text/plain": [
       "(218, 10)"
      ]
     },
     "execution_count": 127,
     "metadata": {},
     "output_type": "execute_result"
    }
   ],
   "source": [
    "country_list.shape"
   ]
  },
  {
   "cell_type": "code",
   "execution_count": 128,
   "metadata": {},
   "outputs": [
    {
     "data": {
      "text/plain": [
       "['ABW',\n",
       " 'AFG',\n",
       " 'AGO',\n",
       " 'ALB',\n",
       " 'AND',\n",
       " 'ARE',\n",
       " 'ARG',\n",
       " 'ARM',\n",
       " 'ASM',\n",
       " 'ATG',\n",
       " 'AUS',\n",
       " 'AUT',\n",
       " 'AZE',\n",
       " 'BDI',\n",
       " 'BEL',\n",
       " 'BEN',\n",
       " 'BFA',\n",
       " 'BGD',\n",
       " 'BGR',\n",
       " 'BHR',\n",
       " 'BHS',\n",
       " 'BIH',\n",
       " 'BLR',\n",
       " 'BLZ',\n",
       " 'BMU',\n",
       " 'BOL',\n",
       " 'BRA',\n",
       " 'BRB',\n",
       " 'BRN',\n",
       " 'BTN',\n",
       " 'BWA',\n",
       " 'CAF',\n",
       " 'CAN',\n",
       " 'CHE',\n",
       " 'CHI',\n",
       " 'CHL',\n",
       " 'CHN',\n",
       " 'CIV',\n",
       " 'CMR',\n",
       " 'COD',\n",
       " 'COG',\n",
       " 'COL',\n",
       " 'COM',\n",
       " 'CPV',\n",
       " 'CRI',\n",
       " 'CUB',\n",
       " 'CUW',\n",
       " 'CYM',\n",
       " 'CYP',\n",
       " 'CZE',\n",
       " 'DEU',\n",
       " 'DJI',\n",
       " 'DMA',\n",
       " 'DNK',\n",
       " 'DOM',\n",
       " 'DZA',\n",
       " 'ECU',\n",
       " 'EGY',\n",
       " 'ERI',\n",
       " 'ESP',\n",
       " 'EST',\n",
       " 'ETH',\n",
       " 'FIN',\n",
       " 'FJI',\n",
       " 'FRA',\n",
       " 'FRO',\n",
       " 'FSM',\n",
       " 'GAB',\n",
       " 'GBR',\n",
       " 'GEO',\n",
       " 'GHA',\n",
       " 'GIB',\n",
       " 'GIN',\n",
       " 'GMB',\n",
       " 'GNB',\n",
       " 'GNQ',\n",
       " 'GRC',\n",
       " 'GRD',\n",
       " 'GRL',\n",
       " 'GTM',\n",
       " 'GUM',\n",
       " 'GUY',\n",
       " 'HKG',\n",
       " 'HND',\n",
       " 'HRV',\n",
       " 'HTI',\n",
       " 'HUN',\n",
       " 'IDN',\n",
       " 'IMN',\n",
       " 'IND',\n",
       " 'IRL',\n",
       " 'IRN',\n",
       " 'IRQ',\n",
       " 'ISL',\n",
       " 'ISR',\n",
       " 'ITA',\n",
       " 'JAM',\n",
       " 'JOR',\n",
       " 'JPN',\n",
       " 'KAZ',\n",
       " 'KEN',\n",
       " 'KGZ',\n",
       " 'KHM',\n",
       " 'KIR',\n",
       " 'KNA',\n",
       " 'KOR',\n",
       " 'KWT',\n",
       " 'LAO',\n",
       " 'LBN',\n",
       " 'LBR',\n",
       " 'LBY',\n",
       " 'LCA',\n",
       " 'LIE',\n",
       " 'LKA',\n",
       " 'LSO',\n",
       " 'LTU',\n",
       " 'LUX',\n",
       " 'LVA',\n",
       " 'MAC',\n",
       " 'MAF',\n",
       " 'MAR',\n",
       " 'MCO',\n",
       " 'MDA',\n",
       " 'MDG',\n",
       " 'MDV',\n",
       " 'MEX',\n",
       " 'MHL',\n",
       " 'MKD',\n",
       " 'MLI',\n",
       " 'MLT',\n",
       " 'MMR',\n",
       " 'MNE',\n",
       " 'MNG',\n",
       " 'MNP',\n",
       " 'MOZ',\n",
       " 'MRT',\n",
       " 'MUS',\n",
       " 'MWI',\n",
       " 'MYS',\n",
       " 'NAM',\n",
       " 'NCL',\n",
       " 'NER',\n",
       " 'NGA',\n",
       " 'NIC',\n",
       " 'NLD',\n",
       " 'NOR',\n",
       " 'NPL',\n",
       " 'NRU',\n",
       " 'NZL',\n",
       " 'OMN',\n",
       " 'PAK',\n",
       " 'PAN',\n",
       " 'PER',\n",
       " 'PHL',\n",
       " 'PLW',\n",
       " 'PNG',\n",
       " 'POL',\n",
       " 'PRI',\n",
       " 'PRK',\n",
       " 'PRT',\n",
       " 'PRY',\n",
       " 'PSE',\n",
       " 'PYF',\n",
       " 'QAT',\n",
       " 'ROU',\n",
       " 'RUS',\n",
       " 'RWA',\n",
       " 'SAU',\n",
       " 'SDN',\n",
       " 'SEN',\n",
       " 'SGP',\n",
       " 'SLB',\n",
       " 'SLE',\n",
       " 'SLV',\n",
       " 'SMR',\n",
       " 'SOM',\n",
       " 'SRB',\n",
       " 'SSD',\n",
       " 'STP',\n",
       " 'SUR',\n",
       " 'SVK',\n",
       " 'SVN',\n",
       " 'SWE',\n",
       " 'SWZ',\n",
       " 'SXM',\n",
       " 'SYC',\n",
       " 'SYR',\n",
       " 'TCA',\n",
       " 'TCD',\n",
       " 'TGO',\n",
       " 'THA',\n",
       " 'TJK',\n",
       " 'TKM',\n",
       " 'TLS',\n",
       " 'TON',\n",
       " 'TTO',\n",
       " 'TUN',\n",
       " 'TUR',\n",
       " 'TUV',\n",
       " 'TWN',\n",
       " 'TZA',\n",
       " 'UGA',\n",
       " 'UKR',\n",
       " 'URY',\n",
       " 'USA',\n",
       " 'UZB',\n",
       " 'VCT',\n",
       " 'VEN',\n",
       " 'VGB',\n",
       " 'VIR',\n",
       " 'VNM',\n",
       " 'VUT',\n",
       " 'WSM',\n",
       " 'XKX',\n",
       " 'YEM',\n",
       " 'ZAF',\n",
       " 'ZMB',\n",
       " 'ZWE']"
      ]
     },
     "execution_count": 128,
     "metadata": {},
     "output_type": "execute_result"
    }
   ],
   "source": [
    "countries = country_list.iso3c.tolist()\n",
    "countries"
   ]
  },
  {
   "cell_type": "code",
   "execution_count": 129,
   "metadata": {},
   "outputs": [
    {
     "name": "stderr",
     "output_type": "stream",
     "text": [
      "/anaconda3/lib/python3.7/site-packages/pandas_datareader/wb.py:134: UserWarning: Non-standard ISO country codes: CHI, XKX\n",
      "  'country codes: %s' % tmp, UserWarning)\n"
     ]
    }
   ],
   "source": [
    "reader = wb.WorldBankReader(symbols=[GNI_capita_code], countries = countries,start=2015,end=2015)\n",
    "df1 = reader.read()"
   ]
  },
  {
   "cell_type": "code",
   "execution_count": 130,
   "metadata": {},
   "outputs": [
    {
     "data": {
      "text/plain": [
       "(217, 1)"
      ]
     },
     "execution_count": 130,
     "metadata": {},
     "output_type": "execute_result"
    }
   ],
   "source": [
    "df1.shape"
   ]
  },
  {
   "cell_type": "code",
   "execution_count": 131,
   "metadata": {},
   "outputs": [
    {
     "data": {
      "text/html": [
       "<div>\n",
       "<style scoped>\n",
       "    .dataframe tbody tr th:only-of-type {\n",
       "        vertical-align: middle;\n",
       "    }\n",
       "\n",
       "    .dataframe tbody tr th {\n",
       "        vertical-align: top;\n",
       "    }\n",
       "\n",
       "    .dataframe thead th {\n",
       "        text-align: right;\n",
       "    }\n",
       "</style>\n",
       "<table border=\"1\" class=\"dataframe\">\n",
       "  <thead>\n",
       "    <tr style=\"text-align: right;\">\n",
       "      <th></th>\n",
       "      <th></th>\n",
       "      <th>NY.GNP.PCAP.CD</th>\n",
       "    </tr>\n",
       "    <tr>\n",
       "      <th>country</th>\n",
       "      <th>year</th>\n",
       "      <th></th>\n",
       "    </tr>\n",
       "  </thead>\n",
       "  <tbody>\n",
       "    <tr>\n",
       "      <th>Aruba</th>\n",
       "      <th>2015</th>\n",
       "      <td>23780.0</td>\n",
       "    </tr>\n",
       "    <tr>\n",
       "      <th>Afghanistan</th>\n",
       "      <th>2015</th>\n",
       "      <td>610.0</td>\n",
       "    </tr>\n",
       "    <tr>\n",
       "      <th>Angola</th>\n",
       "      <th>2015</th>\n",
       "      <td>4520.0</td>\n",
       "    </tr>\n",
       "    <tr>\n",
       "      <th>Albania</th>\n",
       "      <th>2015</th>\n",
       "      <td>4390.0</td>\n",
       "    </tr>\n",
       "    <tr>\n",
       "      <th>Andorra</th>\n",
       "      <th>2015</th>\n",
       "      <td>NaN</td>\n",
       "    </tr>\n",
       "  </tbody>\n",
       "</table>\n",
       "</div>"
      ],
      "text/plain": [
       "                  NY.GNP.PCAP.CD\n",
       "country     year                \n",
       "Aruba       2015         23780.0\n",
       "Afghanistan 2015           610.0\n",
       "Angola      2015          4520.0\n",
       "Albania     2015          4390.0\n",
       "Andorra     2015             NaN"
      ]
     },
     "execution_count": 131,
     "metadata": {},
     "output_type": "execute_result"
    }
   ],
   "source": [
    "df1.head()"
   ]
  },
  {
   "cell_type": "markdown",
   "metadata": {},
   "source": [
    "### Read data into a python dataframe (Life Satisfaction Score for countries in 2015 from the OECD's Better Life Index)"
   ]
  },
  {
   "cell_type": "code",
   "execution_count": 140,
   "metadata": {},
   "outputs": [],
   "source": [
    "# Set path to the OECD dataset with data from 2015 on life satisfaction\n",
    "PATH = '/Users/dharanarijal/Desktop/OECDY/BLI2015.csv'"
   ]
  },
  {
   "cell_type": "code",
   "execution_count": 141,
   "metadata": {},
   "outputs": [],
   "source": [
    "# read csv file into a dataframe\n",
    "df2 = pd.read_csv(PATH)"
   ]
  },
  {
   "cell_type": "code",
   "execution_count": 142,
   "metadata": {},
   "outputs": [
    {
     "data": {
      "text/plain": [
       "(3292, 17)"
      ]
     },
     "execution_count": 142,
     "metadata": {},
     "output_type": "execute_result"
    }
   ],
   "source": [
    "df2.shape"
   ]
  },
  {
   "cell_type": "code",
   "execution_count": 143,
   "metadata": {},
   "outputs": [
    {
     "name": "stdout",
     "output_type": "stream",
     "text": [
      "Index(['LOCATION', 'Country', 'INDICATOR', 'Indicator', 'MEASURE', 'Measure',\n",
      "       'INEQUALITY', 'Inequality', 'Unit Code', 'Unit', 'PowerCode Code',\n",
      "       'PowerCode', 'Reference Period Code', 'Reference Period', 'Value',\n",
      "       'Flag Codes', 'Flags'],\n",
      "      dtype='object')\n"
     ]
    }
   ],
   "source": [
    "#names of all columns\n",
    "print(df2.columns)"
   ]
  },
  {
   "cell_type": "code",
   "execution_count": 144,
   "metadata": {},
   "outputs": [
    {
     "data": {
      "text/html": [
       "<div>\n",
       "<style scoped>\n",
       "    .dataframe tbody tr th:only-of-type {\n",
       "        vertical-align: middle;\n",
       "    }\n",
       "\n",
       "    .dataframe tbody tr th {\n",
       "        vertical-align: top;\n",
       "    }\n",
       "\n",
       "    .dataframe thead th {\n",
       "        text-align: right;\n",
       "    }\n",
       "</style>\n",
       "<table border=\"1\" class=\"dataframe\">\n",
       "  <thead>\n",
       "    <tr style=\"text-align: right;\">\n",
       "      <th></th>\n",
       "      <th>LOCATION</th>\n",
       "      <th>Country</th>\n",
       "      <th>INDICATOR</th>\n",
       "      <th>Indicator</th>\n",
       "      <th>MEASURE</th>\n",
       "      <th>Measure</th>\n",
       "      <th>INEQUALITY</th>\n",
       "      <th>Inequality</th>\n",
       "      <th>Unit Code</th>\n",
       "      <th>Unit</th>\n",
       "      <th>PowerCode Code</th>\n",
       "      <th>PowerCode</th>\n",
       "      <th>Reference Period Code</th>\n",
       "      <th>Reference Period</th>\n",
       "      <th>Value</th>\n",
       "      <th>Flag Codes</th>\n",
       "      <th>Flags</th>\n",
       "    </tr>\n",
       "  </thead>\n",
       "  <tbody>\n",
       "    <tr>\n",
       "      <th>0</th>\n",
       "      <td>AUS</td>\n",
       "      <td>Australia</td>\n",
       "      <td>HO_BASE</td>\n",
       "      <td>Dwellings without basic facilities</td>\n",
       "      <td>L</td>\n",
       "      <td>Value</td>\n",
       "      <td>TOT</td>\n",
       "      <td>Total</td>\n",
       "      <td>PC</td>\n",
       "      <td>Percentage</td>\n",
       "      <td>0</td>\n",
       "      <td>Units</td>\n",
       "      <td>NaN</td>\n",
       "      <td>NaN</td>\n",
       "      <td>1.1</td>\n",
       "      <td>E</td>\n",
       "      <td>Estimated value</td>\n",
       "    </tr>\n",
       "    <tr>\n",
       "      <th>1</th>\n",
       "      <td>AUT</td>\n",
       "      <td>Austria</td>\n",
       "      <td>HO_BASE</td>\n",
       "      <td>Dwellings without basic facilities</td>\n",
       "      <td>L</td>\n",
       "      <td>Value</td>\n",
       "      <td>TOT</td>\n",
       "      <td>Total</td>\n",
       "      <td>PC</td>\n",
       "      <td>Percentage</td>\n",
       "      <td>0</td>\n",
       "      <td>Units</td>\n",
       "      <td>NaN</td>\n",
       "      <td>NaN</td>\n",
       "      <td>1.0</td>\n",
       "      <td>NaN</td>\n",
       "      <td>NaN</td>\n",
       "    </tr>\n",
       "  </tbody>\n",
       "</table>\n",
       "</div>"
      ],
      "text/plain": [
       "  LOCATION    Country INDICATOR                           Indicator MEASURE  \\\n",
       "0      AUS  Australia   HO_BASE  Dwellings without basic facilities       L   \n",
       "1      AUT    Austria   HO_BASE  Dwellings without basic facilities       L   \n",
       "\n",
       "  Measure INEQUALITY Inequality Unit Code        Unit  PowerCode Code  \\\n",
       "0   Value        TOT      Total        PC  Percentage               0   \n",
       "1   Value        TOT      Total        PC  Percentage               0   \n",
       "\n",
       "  PowerCode  Reference Period Code  Reference Period  Value Flag Codes  \\\n",
       "0     Units                    NaN               NaN    1.1          E   \n",
       "1     Units                    NaN               NaN    1.0        NaN   \n",
       "\n",
       "             Flags  \n",
       "0  Estimated value  \n",
       "1              NaN  "
      ]
     },
     "execution_count": 144,
     "metadata": {},
     "output_type": "execute_result"
    }
   ],
   "source": [
    "#first five observations\n",
    "df2.head(2)"
   ]
  },
  {
   "cell_type": "code",
   "execution_count": 145,
   "metadata": {},
   "outputs": [],
   "source": [
    "# creating a dataframe with only the columns needed\n",
    "df2=df2[['LOCATION','Country','INDICATOR','Inequality','Unit','Value']]"
   ]
  },
  {
   "cell_type": "code",
   "execution_count": 146,
   "metadata": {},
   "outputs": [
    {
     "data": {
      "text/html": [
       "<div>\n",
       "<style scoped>\n",
       "    .dataframe tbody tr th:only-of-type {\n",
       "        vertical-align: middle;\n",
       "    }\n",
       "\n",
       "    .dataframe tbody tr th {\n",
       "        vertical-align: top;\n",
       "    }\n",
       "\n",
       "    .dataframe thead th {\n",
       "        text-align: right;\n",
       "    }\n",
       "</style>\n",
       "<table border=\"1\" class=\"dataframe\">\n",
       "  <thead>\n",
       "    <tr style=\"text-align: right;\">\n",
       "      <th></th>\n",
       "      <th>LOCATION</th>\n",
       "      <th>Country</th>\n",
       "      <th>INDICATOR</th>\n",
       "      <th>Inequality</th>\n",
       "      <th>Unit</th>\n",
       "      <th>Value</th>\n",
       "    </tr>\n",
       "  </thead>\n",
       "  <tbody>\n",
       "    <tr>\n",
       "      <th>0</th>\n",
       "      <td>AUS</td>\n",
       "      <td>Australia</td>\n",
       "      <td>HO_BASE</td>\n",
       "      <td>Total</td>\n",
       "      <td>Percentage</td>\n",
       "      <td>1.1</td>\n",
       "    </tr>\n",
       "    <tr>\n",
       "      <th>1</th>\n",
       "      <td>AUT</td>\n",
       "      <td>Austria</td>\n",
       "      <td>HO_BASE</td>\n",
       "      <td>Total</td>\n",
       "      <td>Percentage</td>\n",
       "      <td>1.0</td>\n",
       "    </tr>\n",
       "    <tr>\n",
       "      <th>2</th>\n",
       "      <td>BEL</td>\n",
       "      <td>Belgium</td>\n",
       "      <td>HO_BASE</td>\n",
       "      <td>Total</td>\n",
       "      <td>Percentage</td>\n",
       "      <td>2.0</td>\n",
       "    </tr>\n",
       "    <tr>\n",
       "      <th>3</th>\n",
       "      <td>CAN</td>\n",
       "      <td>Canada</td>\n",
       "      <td>HO_BASE</td>\n",
       "      <td>Total</td>\n",
       "      <td>Percentage</td>\n",
       "      <td>0.2</td>\n",
       "    </tr>\n",
       "    <tr>\n",
       "      <th>4</th>\n",
       "      <td>CZE</td>\n",
       "      <td>Czech Republic</td>\n",
       "      <td>HO_BASE</td>\n",
       "      <td>Total</td>\n",
       "      <td>Percentage</td>\n",
       "      <td>0.9</td>\n",
       "    </tr>\n",
       "  </tbody>\n",
       "</table>\n",
       "</div>"
      ],
      "text/plain": [
       "  LOCATION         Country INDICATOR Inequality        Unit  Value\n",
       "0      AUS       Australia   HO_BASE      Total  Percentage    1.1\n",
       "1      AUT         Austria   HO_BASE      Total  Percentage    1.0\n",
       "2      BEL         Belgium   HO_BASE      Total  Percentage    2.0\n",
       "3      CAN          Canada   HO_BASE      Total  Percentage    0.2\n",
       "4      CZE  Czech Republic   HO_BASE      Total  Percentage    0.9"
      ]
     },
     "execution_count": 146,
     "metadata": {},
     "output_type": "execute_result"
    }
   ],
   "source": [
    "# first five observations for this new dataframe\n",
    "df2.head()"
   ]
  },
  {
   "cell_type": "code",
   "execution_count": 147,
   "metadata": {},
   "outputs": [],
   "source": [
    "#renaming all columns so they're lowercase\n",
    "df2.rename(columns={'LOCATION':'iso3c', 'Country':'country', 'INDICATOR':'indicator','Inequality':'inequality','Unit':'unit', 'Value':'value'}, \n",
    "                 inplace=True)"
   ]
  },
  {
   "cell_type": "code",
   "execution_count": 224,
   "metadata": {},
   "outputs": [],
   "source": [
    "# subsetting dataframe with only those observations with \n",
    "# SW_LIFS (life satisfaction) under indicator & \n",
    "#'Total' under inequality (removing this condition can give us additional disaggregated scores for Men and Women)\n",
    "\n",
    "df2=df2.loc[(df2['indicator'] == \"SW_LIFS\") & (df2['inequality'] == \"Total\")]"
   ]
  },
  {
   "cell_type": "code",
   "execution_count": 163,
   "metadata": {},
   "outputs": [
    {
     "data": {
      "text/html": [
       "<div>\n",
       "<style scoped>\n",
       "    .dataframe tbody tr th:only-of-type {\n",
       "        vertical-align: middle;\n",
       "    }\n",
       "\n",
       "    .dataframe tbody tr th {\n",
       "        vertical-align: top;\n",
       "    }\n",
       "\n",
       "    .dataframe thead th {\n",
       "        text-align: right;\n",
       "    }\n",
       "</style>\n",
       "<table border=\"1\" class=\"dataframe\">\n",
       "  <thead>\n",
       "    <tr style=\"text-align: right;\">\n",
       "      <th></th>\n",
       "      <th>iso3c</th>\n",
       "      <th>country</th>\n",
       "      <th>indicator</th>\n",
       "      <th>inequality</th>\n",
       "      <th>unit</th>\n",
       "      <th>value</th>\n",
       "    </tr>\n",
       "  </thead>\n",
       "  <tbody>\n",
       "    <tr>\n",
       "      <th>2669</th>\n",
       "      <td>AUS</td>\n",
       "      <td>Australia</td>\n",
       "      <td>SW_LIFS</td>\n",
       "      <td>Total</td>\n",
       "      <td>Average score</td>\n",
       "      <td>7.3</td>\n",
       "    </tr>\n",
       "    <tr>\n",
       "      <th>2670</th>\n",
       "      <td>AUT</td>\n",
       "      <td>Austria</td>\n",
       "      <td>SW_LIFS</td>\n",
       "      <td>Total</td>\n",
       "      <td>Average score</td>\n",
       "      <td>6.9</td>\n",
       "    </tr>\n",
       "    <tr>\n",
       "      <th>2671</th>\n",
       "      <td>BEL</td>\n",
       "      <td>Belgium</td>\n",
       "      <td>SW_LIFS</td>\n",
       "      <td>Total</td>\n",
       "      <td>Average score</td>\n",
       "      <td>6.9</td>\n",
       "    </tr>\n",
       "    <tr>\n",
       "      <th>2672</th>\n",
       "      <td>CAN</td>\n",
       "      <td>Canada</td>\n",
       "      <td>SW_LIFS</td>\n",
       "      <td>Total</td>\n",
       "      <td>Average score</td>\n",
       "      <td>7.3</td>\n",
       "    </tr>\n",
       "    <tr>\n",
       "      <th>2673</th>\n",
       "      <td>CZE</td>\n",
       "      <td>Czech Republic</td>\n",
       "      <td>SW_LIFS</td>\n",
       "      <td>Total</td>\n",
       "      <td>Average score</td>\n",
       "      <td>6.5</td>\n",
       "    </tr>\n",
       "  </tbody>\n",
       "</table>\n",
       "</div>"
      ],
      "text/plain": [
       "     iso3c         country indicator inequality           unit  value\n",
       "2669   AUS       Australia   SW_LIFS      Total  Average score    7.3\n",
       "2670   AUT         Austria   SW_LIFS      Total  Average score    6.9\n",
       "2671   BEL         Belgium   SW_LIFS      Total  Average score    6.9\n",
       "2672   CAN          Canada   SW_LIFS      Total  Average score    7.3\n",
       "2673   CZE  Czech Republic   SW_LIFS      Total  Average score    6.5"
      ]
     },
     "execution_count": 163,
     "metadata": {},
     "output_type": "execute_result"
    }
   ],
   "source": [
    "# first five observations in this dataframe\n",
    "df2.head()"
   ]
  },
  {
   "cell_type": "code",
   "execution_count": 164,
   "metadata": {},
   "outputs": [],
   "source": [
    "### Merge the two dataframes on GDP per capita PPP (df1) and life satisfaction (df2)"
   ]
  },
  {
   "cell_type": "code",
   "execution_count": 165,
   "metadata": {},
   "outputs": [],
   "source": [
    "# merging the dataframes derived from OECD (life satisfaction) and IMF (gdp_per_capita)\n",
    "df=pd.merge(df1, df2, on='country')"
   ]
  },
  {
   "cell_type": "code",
   "execution_count": 166,
   "metadata": {},
   "outputs": [
    {
     "data": {
      "text/html": [
       "<div>\n",
       "<style scoped>\n",
       "    .dataframe tbody tr th:only-of-type {\n",
       "        vertical-align: middle;\n",
       "    }\n",
       "\n",
       "    .dataframe tbody tr th {\n",
       "        vertical-align: top;\n",
       "    }\n",
       "\n",
       "    .dataframe thead th {\n",
       "        text-align: right;\n",
       "    }\n",
       "</style>\n",
       "<table border=\"1\" class=\"dataframe\">\n",
       "  <thead>\n",
       "    <tr style=\"text-align: right;\">\n",
       "      <th></th>\n",
       "      <th>country</th>\n",
       "      <th>NY.GNP.PCAP.CD</th>\n",
       "      <th>iso3c</th>\n",
       "      <th>indicator</th>\n",
       "      <th>inequality</th>\n",
       "      <th>unit</th>\n",
       "      <th>value</th>\n",
       "    </tr>\n",
       "  </thead>\n",
       "  <tbody>\n",
       "    <tr>\n",
       "      <th>0</th>\n",
       "      <td>Australia</td>\n",
       "      <td>60360.0</td>\n",
       "      <td>AUS</td>\n",
       "      <td>SW_LIFS</td>\n",
       "      <td>Total</td>\n",
       "      <td>Average score</td>\n",
       "      <td>7.3</td>\n",
       "    </tr>\n",
       "    <tr>\n",
       "      <th>1</th>\n",
       "      <td>Austria</td>\n",
       "      <td>47630.0</td>\n",
       "      <td>AUT</td>\n",
       "      <td>SW_LIFS</td>\n",
       "      <td>Total</td>\n",
       "      <td>Average score</td>\n",
       "      <td>6.9</td>\n",
       "    </tr>\n",
       "    <tr>\n",
       "      <th>2</th>\n",
       "      <td>Belgium</td>\n",
       "      <td>44230.0</td>\n",
       "      <td>BEL</td>\n",
       "      <td>SW_LIFS</td>\n",
       "      <td>Total</td>\n",
       "      <td>Average score</td>\n",
       "      <td>6.9</td>\n",
       "    </tr>\n",
       "    <tr>\n",
       "      <th>3</th>\n",
       "      <td>Brazil</td>\n",
       "      <td>10090.0</td>\n",
       "      <td>BRA</td>\n",
       "      <td>SW_LIFS</td>\n",
       "      <td>Total</td>\n",
       "      <td>Average score</td>\n",
       "      <td>7.0</td>\n",
       "    </tr>\n",
       "    <tr>\n",
       "      <th>4</th>\n",
       "      <td>Canada</td>\n",
       "      <td>47460.0</td>\n",
       "      <td>CAN</td>\n",
       "      <td>SW_LIFS</td>\n",
       "      <td>Total</td>\n",
       "      <td>Average score</td>\n",
       "      <td>7.3</td>\n",
       "    </tr>\n",
       "  </tbody>\n",
       "</table>\n",
       "</div>"
      ],
      "text/plain": [
       "     country  NY.GNP.PCAP.CD iso3c indicator inequality           unit  value\n",
       "0  Australia         60360.0   AUS   SW_LIFS      Total  Average score    7.3\n",
       "1    Austria         47630.0   AUT   SW_LIFS      Total  Average score    6.9\n",
       "2    Belgium         44230.0   BEL   SW_LIFS      Total  Average score    6.9\n",
       "3     Brazil         10090.0   BRA   SW_LIFS      Total  Average score    7.0\n",
       "4     Canada         47460.0   CAN   SW_LIFS      Total  Average score    7.3"
      ]
     },
     "execution_count": 166,
     "metadata": {},
     "output_type": "execute_result"
    }
   ],
   "source": [
    "# first five obvservatins of the merged dataset\n",
    "df.head()"
   ]
  },
  {
   "cell_type": "code",
   "execution_count": 173,
   "metadata": {},
   "outputs": [],
   "source": [
    "# renaming columns to be descriptive of what's stored in them\n",
    "\n",
    "df.rename(columns={'NY.GNP.PCAP.CD':'gdp_per_capita','value':'life_sat_score'}, \n",
    "                 inplace=True)"
   ]
  },
  {
   "cell_type": "code",
   "execution_count": 223,
   "metadata": {},
   "outputs": [
    {
     "data": {
      "text/html": [
       "<div>\n",
       "<style scoped>\n",
       "    .dataframe tbody tr th:only-of-type {\n",
       "        vertical-align: middle;\n",
       "    }\n",
       "\n",
       "    .dataframe tbody tr th {\n",
       "        vertical-align: top;\n",
       "    }\n",
       "\n",
       "    .dataframe thead th {\n",
       "        text-align: right;\n",
       "    }\n",
       "</style>\n",
       "<table border=\"1\" class=\"dataframe\">\n",
       "  <thead>\n",
       "    <tr style=\"text-align: right;\">\n",
       "      <th></th>\n",
       "      <th>country</th>\n",
       "      <th>gdp_per_capita</th>\n",
       "      <th>iso3c</th>\n",
       "      <th>indicator</th>\n",
       "      <th>inequality</th>\n",
       "      <th>unit</th>\n",
       "      <th>life_sat_score</th>\n",
       "    </tr>\n",
       "  </thead>\n",
       "  <tbody>\n",
       "    <tr>\n",
       "      <th>0</th>\n",
       "      <td>Australia</td>\n",
       "      <td>60360.0</td>\n",
       "      <td>AUS</td>\n",
       "      <td>SW_LIFS</td>\n",
       "      <td>Total</td>\n",
       "      <td>Average score</td>\n",
       "      <td>7.3</td>\n",
       "    </tr>\n",
       "    <tr>\n",
       "      <th>1</th>\n",
       "      <td>Austria</td>\n",
       "      <td>47630.0</td>\n",
       "      <td>AUT</td>\n",
       "      <td>SW_LIFS</td>\n",
       "      <td>Total</td>\n",
       "      <td>Average score</td>\n",
       "      <td>6.9</td>\n",
       "    </tr>\n",
       "    <tr>\n",
       "      <th>2</th>\n",
       "      <td>Belgium</td>\n",
       "      <td>44230.0</td>\n",
       "      <td>BEL</td>\n",
       "      <td>SW_LIFS</td>\n",
       "      <td>Total</td>\n",
       "      <td>Average score</td>\n",
       "      <td>6.9</td>\n",
       "    </tr>\n",
       "    <tr>\n",
       "      <th>3</th>\n",
       "      <td>Brazil</td>\n",
       "      <td>10090.0</td>\n",
       "      <td>BRA</td>\n",
       "      <td>SW_LIFS</td>\n",
       "      <td>Total</td>\n",
       "      <td>Average score</td>\n",
       "      <td>7.0</td>\n",
       "    </tr>\n",
       "    <tr>\n",
       "      <th>4</th>\n",
       "      <td>Canada</td>\n",
       "      <td>47460.0</td>\n",
       "      <td>CAN</td>\n",
       "      <td>SW_LIFS</td>\n",
       "      <td>Total</td>\n",
       "      <td>Average score</td>\n",
       "      <td>7.3</td>\n",
       "    </tr>\n",
       "  </tbody>\n",
       "</table>\n",
       "</div>"
      ],
      "text/plain": [
       "     country  gdp_per_capita iso3c indicator inequality           unit  \\\n",
       "0  Australia         60360.0   AUS   SW_LIFS      Total  Average score   \n",
       "1    Austria         47630.0   AUT   SW_LIFS      Total  Average score   \n",
       "2    Belgium         44230.0   BEL   SW_LIFS      Total  Average score   \n",
       "3     Brazil         10090.0   BRA   SW_LIFS      Total  Average score   \n",
       "4     Canada         47460.0   CAN   SW_LIFS      Total  Average score   \n",
       "\n",
       "   life_sat_score  \n",
       "0             7.3  \n",
       "1             6.9  \n",
       "2             6.9  \n",
       "3             7.0  \n",
       "4             7.3  "
      ]
     },
     "execution_count": 223,
     "metadata": {},
     "output_type": "execute_result"
    }
   ],
   "source": [
    "# This is the clean dataframe we'll use for the analysis\n",
    "df.head()"
   ]
  },
  {
   "cell_type": "code",
   "execution_count": 177,
   "metadata": {},
   "outputs": [
    {
     "data": {
      "text/plain": [
       "(34, 7)"
      ]
     },
     "execution_count": 177,
     "metadata": {},
     "output_type": "execute_result"
    }
   ],
   "source": [
    "df.shape"
   ]
  },
  {
   "cell_type": "markdown",
   "metadata": {},
   "source": [
    "# Now we can start exploring the data"
   ]
  },
  {
   "cell_type": "code",
   "execution_count": 180,
   "metadata": {},
   "outputs": [
    {
     "name": "stdout",
     "output_type": "stream",
     "text": [
      "Switzerland\n"
     ]
    }
   ],
   "source": [
    "#which country has maximum value for life satisfaction in 2015 \n",
    "max_sat = (df[df.inequality == 'Total'].life_sat_score.idxmax())\n",
    "\n",
    "print(df[df.inequality=='Total']\n",
    ".loc[max_sat]\n",
    ".country)"
   ]
  },
  {
   "cell_type": "code",
   "execution_count": 181,
   "metadata": {},
   "outputs": [
    {
     "data": {
      "text/plain": [
       "7.5"
      ]
     },
     "execution_count": 181,
     "metadata": {},
     "output_type": "execute_result"
    }
   ],
   "source": [
    "#what is the highest value for life satisfaction in 2015\n",
    "df.loc[(df['inequality'] == 'Total'), 'life_sat_score'].max()"
   ]
  },
  {
   "cell_type": "code",
   "execution_count": 182,
   "metadata": {},
   "outputs": [
    {
     "data": {
      "text/plain": [
       "country             Switzerland\n",
       "gdp_per_capita            85780\n",
       "iso3c                       CHE\n",
       "indicator               SW_LIFS\n",
       "inequality                Total\n",
       "unit              Average score\n",
       "life_sat_score              7.5\n",
       "Name: 5, dtype: object"
      ]
     },
     "execution_count": 182,
     "metadata": {},
     "output_type": "execute_result"
    }
   ],
   "source": [
    "#profile of country with highest value for life satisfaction in 2015\n",
    "df[df['inequality']=='Total'].loc[df[df['inequality']=='Total']['life_sat_score'].idxmax()]"
   ]
  },
  {
   "cell_type": "code",
   "execution_count": 183,
   "metadata": {},
   "outputs": [
    {
     "data": {
      "text/plain": [
       "country                  Greece\n",
       "gdp_per_capita            20360\n",
       "iso3c                       GRC\n",
       "indicator               SW_LIFS\n",
       "inequality                Total\n",
       "unit              Average score\n",
       "life_sat_score              4.8\n",
       "Name: 15, dtype: object"
      ]
     },
     "execution_count": 183,
     "metadata": {},
     "output_type": "execute_result"
    }
   ],
   "source": [
    "#profile of country with lowest value for life satisfaction in 2015\n",
    "df[df['inequality']=='Total'].loc[df[df['inequality']=='Total']['life_sat_score'].idxmin()]"
   ]
  },
  {
   "cell_type": "code",
   "execution_count": 175,
   "metadata": {},
   "outputs": [
    {
     "data": {
      "text/plain": [
       "country                  Norway\n",
       "gdp_per_capita            93050\n",
       "iso3c                       NOR\n",
       "indicator               SW_LIFS\n",
       "inequality                Total\n",
       "unit              Average score\n",
       "life_sat_score              7.4\n",
       "Name: 25, dtype: object"
      ]
     },
     "execution_count": 175,
     "metadata": {},
     "output_type": "execute_result"
    }
   ],
   "source": [
    "#Profile of country with the highest gdp per capita in 2015\n",
    "\n",
    "df[df['inequality']=='Total'].loc[df[df['inequality']=='Total']['gdp_per_capita'].idxmax()]"
   ]
  },
  {
   "cell_type": "code",
   "execution_count": 176,
   "metadata": {},
   "outputs": [
    {
     "data": {
      "text/plain": [
       "country                  Mexico\n",
       "gdp_per_capita             9840\n",
       "iso3c                       MEX\n",
       "indicator               SW_LIFS\n",
       "inequality                Total\n",
       "unit              Average score\n",
       "life_sat_score              6.7\n",
       "Name: 23, dtype: object"
      ]
     },
     "execution_count": 176,
     "metadata": {},
     "output_type": "execute_result"
    }
   ],
   "source": [
    "#Profile of country with the lowest GDP per capita in 2015\n",
    "\n",
    "df[df['inequality']=='Total'].loc[df[df['inequality']=='Total']['gdp_per_capita'].idxmin()]"
   ]
  },
  {
   "cell_type": "code",
   "execution_count": 184,
   "metadata": {},
   "outputs": [
    {
     "data": {
      "text/plain": [
       "country             Switzerland\n",
       "gdp_per_capita            85780\n",
       "iso3c                       CHE\n",
       "indicator               SW_LIFS\n",
       "inequality                Total\n",
       "unit              Average score\n",
       "life_sat_score              7.5\n",
       "Name: 5, dtype: object"
      ]
     },
     "execution_count": 184,
     "metadata": {},
     "output_type": "execute_result"
    }
   ],
   "source": [
    "# when we don't filter for inequality=Total\n",
    "df.loc[df['life_sat_score'].idxmax()]"
   ]
  },
  {
   "cell_type": "code",
   "execution_count": 185,
   "metadata": {},
   "outputs": [
    {
     "data": {
      "text/html": [
       "<div>\n",
       "<style scoped>\n",
       "    .dataframe tbody tr th:only-of-type {\n",
       "        vertical-align: middle;\n",
       "    }\n",
       "\n",
       "    .dataframe tbody tr th {\n",
       "        vertical-align: top;\n",
       "    }\n",
       "\n",
       "    .dataframe thead th {\n",
       "        text-align: right;\n",
       "    }\n",
       "</style>\n",
       "<table border=\"1\" class=\"dataframe\">\n",
       "  <thead>\n",
       "    <tr style=\"text-align: right;\">\n",
       "      <th></th>\n",
       "      <th>country</th>\n",
       "      <th>gdp_per_capita</th>\n",
       "      <th>iso3c</th>\n",
       "      <th>indicator</th>\n",
       "      <th>inequality</th>\n",
       "      <th>unit</th>\n",
       "      <th>life_sat_score</th>\n",
       "    </tr>\n",
       "  </thead>\n",
       "  <tbody>\n",
       "    <tr>\n",
       "      <th>count</th>\n",
       "      <td>34</td>\n",
       "      <td>34.000000</td>\n",
       "      <td>34</td>\n",
       "      <td>34</td>\n",
       "      <td>34</td>\n",
       "      <td>34</td>\n",
       "      <td>34.000000</td>\n",
       "    </tr>\n",
       "    <tr>\n",
       "      <th>unique</th>\n",
       "      <td>34</td>\n",
       "      <td>NaN</td>\n",
       "      <td>34</td>\n",
       "      <td>1</td>\n",
       "      <td>1</td>\n",
       "      <td>1</td>\n",
       "      <td>NaN</td>\n",
       "    </tr>\n",
       "    <tr>\n",
       "      <th>top</th>\n",
       "      <td>Slovenia</td>\n",
       "      <td>NaN</td>\n",
       "      <td>DEU</td>\n",
       "      <td>SW_LIFS</td>\n",
       "      <td>Total</td>\n",
       "      <td>Average score</td>\n",
       "      <td>NaN</td>\n",
       "    </tr>\n",
       "    <tr>\n",
       "      <th>freq</th>\n",
       "      <td>1</td>\n",
       "      <td>NaN</td>\n",
       "      <td>1</td>\n",
       "      <td>34</td>\n",
       "      <td>34</td>\n",
       "      <td>34</td>\n",
       "      <td>NaN</td>\n",
       "    </tr>\n",
       "    <tr>\n",
       "      <th>mean</th>\n",
       "      <td>NaN</td>\n",
       "      <td>38838.529412</td>\n",
       "      <td>NaN</td>\n",
       "      <td>NaN</td>\n",
       "      <td>NaN</td>\n",
       "      <td>NaN</td>\n",
       "      <td>6.623529</td>\n",
       "    </tr>\n",
       "    <tr>\n",
       "      <th>std</th>\n",
       "      <td>NaN</td>\n",
       "      <td>21572.463527</td>\n",
       "      <td>NaN</td>\n",
       "      <td>NaN</td>\n",
       "      <td>NaN</td>\n",
       "      <td>NaN</td>\n",
       "      <td>0.793557</td>\n",
       "    </tr>\n",
       "    <tr>\n",
       "      <th>min</th>\n",
       "      <td>NaN</td>\n",
       "      <td>9840.000000</td>\n",
       "      <td>NaN</td>\n",
       "      <td>NaN</td>\n",
       "      <td>NaN</td>\n",
       "      <td>NaN</td>\n",
       "      <td>4.800000</td>\n",
       "    </tr>\n",
       "    <tr>\n",
       "      <th>25%</th>\n",
       "      <td>NaN</td>\n",
       "      <td>18875.000000</td>\n",
       "      <td>NaN</td>\n",
       "      <td>NaN</td>\n",
       "      <td>NaN</td>\n",
       "      <td>NaN</td>\n",
       "      <td>6.025000</td>\n",
       "    </tr>\n",
       "    <tr>\n",
       "      <th>50%</th>\n",
       "      <td>NaN</td>\n",
       "      <td>40500.000000</td>\n",
       "      <td>NaN</td>\n",
       "      <td>NaN</td>\n",
       "      <td>NaN</td>\n",
       "      <td>NaN</td>\n",
       "      <td>6.900000</td>\n",
       "    </tr>\n",
       "    <tr>\n",
       "      <th>75%</th>\n",
       "      <td>NaN</td>\n",
       "      <td>49727.500000</td>\n",
       "      <td>NaN</td>\n",
       "      <td>NaN</td>\n",
       "      <td>NaN</td>\n",
       "      <td>NaN</td>\n",
       "      <td>7.300000</td>\n",
       "    </tr>\n",
       "    <tr>\n",
       "      <th>max</th>\n",
       "      <td>NaN</td>\n",
       "      <td>93050.000000</td>\n",
       "      <td>NaN</td>\n",
       "      <td>NaN</td>\n",
       "      <td>NaN</td>\n",
       "      <td>NaN</td>\n",
       "      <td>7.500000</td>\n",
       "    </tr>\n",
       "  </tbody>\n",
       "</table>\n",
       "</div>"
      ],
      "text/plain": [
       "         country  gdp_per_capita iso3c indicator inequality           unit  \\\n",
       "count         34       34.000000    34        34         34             34   \n",
       "unique        34             NaN    34         1          1              1   \n",
       "top     Slovenia             NaN   DEU   SW_LIFS      Total  Average score   \n",
       "freq           1             NaN     1        34         34             34   \n",
       "mean         NaN    38838.529412   NaN       NaN        NaN            NaN   \n",
       "std          NaN    21572.463527   NaN       NaN        NaN            NaN   \n",
       "min          NaN     9840.000000   NaN       NaN        NaN            NaN   \n",
       "25%          NaN    18875.000000   NaN       NaN        NaN            NaN   \n",
       "50%          NaN    40500.000000   NaN       NaN        NaN            NaN   \n",
       "75%          NaN    49727.500000   NaN       NaN        NaN            NaN   \n",
       "max          NaN    93050.000000   NaN       NaN        NaN            NaN   \n",
       "\n",
       "        life_sat_score  \n",
       "count        34.000000  \n",
       "unique             NaN  \n",
       "top                NaN  \n",
       "freq               NaN  \n",
       "mean          6.623529  \n",
       "std           0.793557  \n",
       "min           4.800000  \n",
       "25%           6.025000  \n",
       "50%           6.900000  \n",
       "75%           7.300000  \n",
       "max           7.500000  "
      ]
     },
     "execution_count": 185,
     "metadata": {},
     "output_type": "execute_result"
    }
   ],
   "source": [
    "# summary stats\n",
    "df.describe(include=['object', 'float64','int64'])"
   ]
  },
  {
   "cell_type": "markdown",
   "metadata": {},
   "source": [
    "### Visualizing in a scatterplot"
   ]
  },
  {
   "cell_type": "code",
   "execution_count": 236,
   "metadata": {},
   "outputs": [
    {
     "data": {
      "image/png": "[encoded data removed]",
      "text/plain": [
       "<Figure size 432x288 with 1 Axes>"
      ]
     },
     "metadata": {
      "needs_background": "light"
     },
     "output_type": "display_data"
    }
   ],
   "source": [
    "# Scatterplot with labels \n",
    "fig,ax = plt.subplots(figsize=[6,4])\n",
    "\n",
    "ax.scatter(df.gdp_per_capita, df.life_sat_score)\n",
    "ax.set(xlabel = 'GDP per capita', ylabel = 'life satisfaction score',title='OECD: life satisfaction rises with income');"
   ]
  },
  {
   "cell_type": "markdown",
   "metadata": {},
   "source": [
    "### Another way"
   ]
  },
  {
   "cell_type": "code",
   "execution_count": 235,
   "metadata": {},
   "outputs": [
    {
     "name": "stdout",
     "output_type": "stream",
     "text": [
      "[7.3, 6.9, 6.9, 7.0, 7.3, 7.5, 6.7, 6.5, 7.0, 7.5, 6.5, 5.6, 7.4, 6.5, 6.8, 4.8, 4.9, 7.0, 7.5, 7.4, 6.0, 5.9, 6.9, 6.7, 7.3, 7.4, 7.3, 5.8, 5.1, 6.1, 5.7, 7.2, 5.6, 7.2]\n"
     ]
    }
   ],
   "source": [
    "#turning life satisfaction score column into a list\n",
    "life_sat=df.iloc[:, 6].tolist()\n",
    "print(life_sat)"
   ]
  },
  {
   "cell_type": "code",
   "execution_count": 204,
   "metadata": {},
   "outputs": [
    {
     "name": "stdout",
     "output_type": "stream",
     "text": [
      "[60360.0, 47630.0, 44230.0, 10090.0, 47460.0, 85780.0, 14310.0, 18250.0, 45790.0, 60170.0, 28420.0, 18380.0, 46630.0, 40730.0, 43720.0, 20360.0, 12960.0, 51850.0, 49960.0, 36080.0, 32970.0, 38880.0, 73530.0, 9840.0, 49030.0, 93050.0, 40270.0, 13340.0, 20440.0, 17580.0, 22240.0, 57880.0, 12000.0, 56300.0]\n"
     ]
    }
   ],
   "source": [
    "#turning gdp per capita column into a list\n",
    "income=df[df['inequality']=='Total'].iloc[:, 1].tolist()\n",
    "print (income)"
   ]
  },
  {
   "cell_type": "code",
   "execution_count": 205,
   "metadata": {},
   "outputs": [
    {
     "name": "stdout",
     "output_type": "stream",
     "text": [
      "['Australia', 'Austria', 'Belgium', 'Brazil', 'Canada', 'Switzerland', 'Chile', 'Czech Republic', 'Germany', 'Denmark', 'Spain', 'Estonia', 'Finland', 'France', 'United Kingdom', 'Greece', 'Hungary', 'Ireland', 'Iceland', 'Israel', 'Italy', 'Japan', 'Luxembourg', 'Mexico', 'Netherlands', 'Norway', 'New Zealand', 'Poland', 'Portugal', 'Slovak Republic', 'Slovenia', 'Sweden', 'Turkey', 'United States']\n"
     ]
    }
   ],
   "source": [
    "#turning country column into a list\n",
    "country=df[df['inequality']=='Total'].iloc[:, 0].tolist()\n",
    "print(country)"
   ]
  },
  {
   "cell_type": "code",
   "execution_count": 232,
   "metadata": {},
   "outputs": [
    {
     "data": {
      "text/plain": [
       "<function matplotlib.pyplot.show(*args, **kw)>"
      ]
     },
     "execution_count": 232,
     "metadata": {},
     "output_type": "execute_result"
    },
    {
     "data": {
      "image/png": "[encoded data removed]",
      "text/plain": [
       "<Figure size 480x320 with 1 Axes>"
      ]
     },
     "metadata": {},
     "output_type": "display_data"
    }
   ],
   "source": [
    "#scatterplot of life satisfaction against gdp\n",
    "\n",
    "figure(num=None, figsize=(6,4), dpi=80, facecolor='w', edgecolor='k')\n",
    "\n",
    "plt.scatter(income,lifesat)\n",
    "plt.show"
   ]
  },
  {
   "cell_type": "code",
   "execution_count": 207,
   "metadata": {},
   "outputs": [
    {
     "data": {
      "image/png": "[encoded data removed]",
      "text/plain": [
       "<Figure size 960x800 with 1 Axes>"
      ]
     },
     "metadata": {},
     "output_type": "display_data"
    }
   ],
   "source": [
    "#annotated with country names\n",
    "\n",
    "figure(num=None, figsize=(12, 10), dpi=80, facecolor='w', edgecolor='k')\n",
    "\n",
    "for i,type in enumerate(country):\n",
    "    inc = income[i]\n",
    "    lif = lifesat[i]\n",
    "    plt.scatter(inc, lif, color='red')\n",
    "    plt.text(inc+0.05, lif+0.05, type, fontsize=7)\n",
    "plt.show()"
   ]
  },
  {
   "cell_type": "markdown",
   "metadata": {},
   "source": [
    "### Regression"
   ]
  },
  {
   "cell_type": "code",
   "execution_count": 218,
   "metadata": {},
   "outputs": [
    {
     "data": {
      "text/plain": [
       "const             5.659271\n",
       "gdp_per_capita    0.000025\n",
       "dtype: float64"
      ]
     },
     "execution_count": 218,
     "metadata": {},
     "output_type": "execute_result"
    }
   ],
   "source": [
    "y = df.life_sat_score\n",
    "X = df.gdp_per_capita\n",
    "\n",
    "X = sm.add_constant(X)\n",
    "\n",
    "model = sm.OLS(y,X).fit()\n",
    "model.params"
   ]
  },
  {
   "cell_type": "code",
   "execution_count": 248,
   "metadata": {},
   "outputs": [
    {
     "data": {
      "text/plain": [
       "5.659270687923524"
      ]
     },
     "execution_count": 248,
     "metadata": {},
     "output_type": "execute_result"
    }
   ],
   "source": [
    "#Constant\n",
    "model.params[0]"
   ]
  },
  {
   "cell_type": "code",
   "execution_count": 250,
   "metadata": {},
   "outputs": [
    {
     "data": {
      "text/plain": [
       "2.482737473445884e-05"
      ]
     },
     "execution_count": 250,
     "metadata": {},
     "output_type": "execute_result"
    }
   ],
   "source": [
    "#Coefficient for GDP per capita\n",
    "model.params[1]"
   ]
  },
  {
   "cell_type": "code",
   "execution_count": 220,
   "metadata": {},
   "outputs": [
    {
     "data": {
      "text/html": [
       "<table class=\"simpletable\">\n",
       "<caption>OLS Regression Results</caption>\n",
       "<tr>\n",
       "  <th>Dep. Variable:</th>     <td>life_sat_score</td>  <th>  R-squared:         </th> <td>   0.456</td>\n",
       "</tr>\n",
       "<tr>\n",
       "  <th>Model:</th>                   <td>OLS</td>       <th>  Adj. R-squared:    </th> <td>   0.439</td>\n",
       "</tr>\n",
       "<tr>\n",
       "  <th>Method:</th>             <td>Least Squares</td>  <th>  F-statistic:       </th> <td>   26.77</td>\n",
       "</tr>\n",
       "<tr>\n",
       "  <th>Date:</th>             <td>Sun, 10 Feb 2019</td> <th>  Prob (F-statistic):</th> <td>1.20e-05</td>\n",
       "</tr>\n",
       "<tr>\n",
       "  <th>Time:</th>                 <td>13:19:12</td>     <th>  Log-Likelihood:    </th> <td> -29.540</td>\n",
       "</tr>\n",
       "<tr>\n",
       "  <th>No. Observations:</th>      <td>    34</td>      <th>  AIC:               </th> <td>   63.08</td>\n",
       "</tr>\n",
       "<tr>\n",
       "  <th>Df Residuals:</th>          <td>    32</td>      <th>  BIC:               </th> <td>   66.13</td>\n",
       "</tr>\n",
       "<tr>\n",
       "  <th>Df Model:</th>              <td>     1</td>      <th>                     </th>     <td> </td>   \n",
       "</tr>\n",
       "<tr>\n",
       "  <th>Covariance Type:</th>      <td>nonrobust</td>    <th>                     </th>     <td> </td>   \n",
       "</tr>\n",
       "</table>\n",
       "<table class=\"simpletable\">\n",
       "<tr>\n",
       "         <td></td>           <th>coef</th>     <th>std err</th>      <th>t</th>      <th>P>|t|</th>  <th>[0.025</th>    <th>0.975]</th>  \n",
       "</tr>\n",
       "<tr>\n",
       "  <th>const</th>          <td>    5.6593</td> <td>    0.212</td> <td>   26.639</td> <td> 0.000</td> <td>    5.227</td> <td>    6.092</td>\n",
       "</tr>\n",
       "<tr>\n",
       "  <th>gdp_per_capita</th> <td> 2.483e-05</td> <td>  4.8e-06</td> <td>    5.174</td> <td> 0.000</td> <td> 1.51e-05</td> <td> 3.46e-05</td>\n",
       "</tr>\n",
       "</table>\n",
       "<table class=\"simpletable\">\n",
       "<tr>\n",
       "  <th>Omnibus:</th>       <td> 1.115</td> <th>  Durbin-Watson:     </th> <td>   1.683</td>\n",
       "</tr>\n",
       "<tr>\n",
       "  <th>Prob(Omnibus):</th> <td> 0.573</td> <th>  Jarque-Bera (JB):  </th> <td>   1.051</td>\n",
       "</tr>\n",
       "<tr>\n",
       "  <th>Skew:</th>          <td>-0.390</td> <th>  Prob(JB):          </th> <td>   0.591</td>\n",
       "</tr>\n",
       "<tr>\n",
       "  <th>Kurtosis:</th>      <td> 2.635</td> <th>  Cond. No.          </th> <td>9.22e+04</td>\n",
       "</tr>\n",
       "</table><br/><br/>Warnings:<br/>[1] Standard Errors assume that the covariance matrix of the errors is correctly specified.<br/>[2] The condition number is large, 9.22e+04. This might indicate that there are<br/>strong multicollinearity or other numerical problems."
      ],
      "text/plain": [
       "<class 'statsmodels.iolib.summary.Summary'>\n",
       "\"\"\"\n",
       "                            OLS Regression Results                            \n",
       "==============================================================================\n",
       "Dep. Variable:         life_sat_score   R-squared:                       0.456\n",
       "Model:                            OLS   Adj. R-squared:                  0.439\n",
       "Method:                 Least Squares   F-statistic:                     26.77\n",
       "Date:                Sun, 10 Feb 2019   Prob (F-statistic):           1.20e-05\n",
       "Time:                        13:19:12   Log-Likelihood:                -29.540\n",
       "No. Observations:                  34   AIC:                             63.08\n",
       "Df Residuals:                      32   BIC:                             66.13\n",
       "Df Model:                           1                                         \n",
       "Covariance Type:            nonrobust                                         \n",
       "==================================================================================\n",
       "                     coef    std err          t      P>|t|      [0.025      0.975]\n",
       "----------------------------------------------------------------------------------\n",
       "const              5.6593      0.212     26.639      0.000       5.227       6.092\n",
       "gdp_per_capita  2.483e-05    4.8e-06      5.174      0.000    1.51e-05    3.46e-05\n",
       "==============================================================================\n",
       "Omnibus:                        1.115   Durbin-Watson:                   1.683\n",
       "Prob(Omnibus):                  0.573   Jarque-Bera (JB):                1.051\n",
       "Skew:                          -0.390   Prob(JB):                        0.591\n",
       "Kurtosis:                       2.635   Cond. No.                     9.22e+04\n",
       "==============================================================================\n",
       "\n",
       "Warnings:\n",
       "[1] Standard Errors assume that the covariance matrix of the errors is correctly specified.\n",
       "[2] The condition number is large, 9.22e+04. This might indicate that there are\n",
       "strong multicollinearity or other numerical problems.\n",
       "\"\"\""
      ]
     },
     "execution_count": 220,
     "metadata": {},
     "output_type": "execute_result"
    }
   ],
   "source": [
    "model.summary()"
   ]
  },
  {
   "cell_type": "code",
   "execution_count": 252,
   "metadata": {},
   "outputs": [
    {
     "data": {
      "image/png": "[encoded data removed]",
      "text/plain": [
       "<Figure size 864x720 with 1 Axes>"
      ]
     },
     "metadata": {
      "needs_background": "light"
     },
     "output_type": "display_data"
    }
   ],
   "source": [
    "fig,ax = plt.subplots(figsize=[12, 10])\n",
    "\n",
    "ax.scatter(df.gdp_per_capita, df.life_sat_score)\n",
    "ax.set(xlabel = 'GDP per capita PPP current dollars', ylabel = 'Life satisfaction score',title='OECD: Life satisfaction rises with income');\n",
    "\n",
    "X_plot = np.linspace(0,140000,1000)\n",
    "ax.plot(X_plot, X_plot*model.params[1]+ model.params[0],color='r');"
   ]
  },
  {
   "cell_type": "markdown",
   "metadata": {},
   "source": [
    "# Data Definition:\n",
    "\n",
    "## GDP per capita (current US dollars)\n",
    "\n",
    "Indicator ID: NY.GDP.PCAP.CD\n",
    "\n",
    "GDP per capita is gross domestic product divided by midyear population. GDP is the sum of gross value added by all resident producers in the economy plus any product taxes and minus any subsidies not included in the value of the products. It is calculated without making deductions for depreciation of fabricated assets or for depletion and degradation of natural resources. Data are in current U.S. dollars.\n",
    "\n",
    "Source: World Bank national accounts data, and OECD National Accounts data files.\n",
    "\n",
    "## Life satisfaction (Subjective well-being) \n",
    "\n",
    "Life satisfaction\n",
    "\n",
    "Indicator ID=SW_LIFS\n",
    "\n",
    "The indicator considers people's evaluation of their life as a whole. It is a weighted-sum of different\n",
    "response categories based on people's rates of their current life relative to the best and worst possible\n",
    "lives for them on a scale from 0 to 10, using the Cantril Ladder (known also as the \"Self-Anchoring Striving\n",
    "Scale\")\n",
    "Unit of measurement: Mean value (Cantril Ladder)\n",
    "Additional information: Gender inequality (men versus women); Socio-economic inequality\n",
    "(educational attainment 5/6 ISCED group versus 0/1 ISCED group)\n",
    "Source: OECD calculations based on Gallup World Poll\n",
    "\n"
   ]
  }
 ],
 "metadata": {
  "kernelspec": {
   "display_name": "Python 3",
   "language": "python",
   "name": "python3"
  },
  "language_info": {
   "codemirror_mode": {
    "name": "ipython",
    "version": 3
   },
   "file_extension": ".py",
   "mimetype": "text/x-python",
   "name": "python",
   "nbconvert_exporter": "python",
   "pygments_lexer": "ipython3",
   "version": "3.7.0"
  }
 },
 "nbformat": 4,
 "nbformat_minor": 2
}
