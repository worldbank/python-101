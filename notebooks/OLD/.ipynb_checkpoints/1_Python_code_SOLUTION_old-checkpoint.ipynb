{
 "cells": [
  {
   "cell_type": "markdown",
   "metadata": {},
   "source": [
    "# Intro to Python for data science - SOLUTION"
   ]
  },
  {
   "cell_type": "markdown",
   "metadata": {},
   "source": [
    "## 1. Introducing Python syntax\n",
    "Let's illustrate three key aspects of Python:\n",
    "* Variables\n",
    "* Data types\n",
    "* Logic and loops\n"
   ]
  },
  {
   "cell_type": "markdown",
   "metadata": {},
   "source": [
    "### 1 Variables"
   ]
  },
  {
   "cell_type": "markdown",
   "metadata": {},
   "source": [
    "#### 1.1 Variable types"
   ]
  },
  {
   "cell_type": "markdown",
   "metadata": {},
   "source": [
    "Python has several types of variables, including strings, integers and floats. Manipulating these objects is much more intuitive than in languages like C++.\n",
    "\n",
    "Let's create some:"
   ]
  },
  {
   "cell_type": "code",
   "execution_count": 2,
   "metadata": {},
   "outputs": [],
   "source": [
    "title = \"Introductory Python\"\n",
    "date = \"March 2019\"\n",
    "\n",
    "date_founded = 1946\n",
    "my_salary = 250000\n",
    "\n",
    "pi_5_decimal_places = 3.14159"
   ]
  },
  {
   "cell_type": "code",
   "execution_count": 3,
   "metadata": {},
   "outputs": [
    {
     "data": {
      "text/plain": [
       "'Introductory Python'"
      ]
     },
     "execution_count": 3,
     "metadata": {},
     "output_type": "execute_result"
    }
   ],
   "source": [
    "# To inspect a variable, just call it:\n",
    "\n",
    "title"
   ]
  },
  {
   "cell_type": "code",
   "execution_count": 4,
   "metadata": {},
   "outputs": [
    {
     "data": {
      "text/plain": [
       "int"
      ]
     },
     "execution_count": 4,
     "metadata": {},
     "output_type": "execute_result"
    }
   ],
   "source": [
    "# To check a variable's type:\n",
    "\n",
    "type(date_founded)"
   ]
  },
  {
   "cell_type": "markdown",
   "metadata": {},
   "source": [
    "Note: there are many types of objects: datetime objects, numerical arrays, Pandas dataframes, geometry objects..."
   ]
  },
  {
   "cell_type": "markdown",
   "metadata": {},
   "source": [
    "#### 1.2 Manipulating strings:"
   ]
  },
  {
   "cell_type": "code",
   "execution_count": 5,
   "metadata": {},
   "outputs": [
    {
     "data": {
      "text/plain": [
       "19"
      ]
     },
     "execution_count": 5,
     "metadata": {},
     "output_type": "execute_result"
    }
   ],
   "source": [
    "# How long is the string?\n",
    "\n",
    "len(title)"
   ]
  },
  {
   "cell_type": "code",
   "execution_count": 6,
   "metadata": {},
   "outputs": [
    {
     "data": {
      "text/plain": [
       "'Introductory Python: March 2019'"
      ]
     },
     "execution_count": 6,
     "metadata": {},
     "output_type": "execute_result"
    }
   ],
   "source": [
    "# Add (concatenate) two strings together\n",
    "\n",
    "full_title = title + \": \" + date\n",
    "\n",
    "full_title"
   ]
  },
  {
   "cell_type": "code",
   "execution_count": 7,
   "metadata": {},
   "outputs": [
    {
     "data": {
      "text/plain": [
       "['Introductory', 'Python:', 'March', '2019']"
      ]
     },
     "execution_count": 7,
     "metadata": {},
     "output_type": "execute_result"
    }
   ],
   "source": [
    "# Split the string up.\n",
    "# Note: Each data type has 'methods' associated with it. You can access these with dot notation. '.split' is just one example of the methods associated with a string object.\n",
    "\n",
    "full_title.split()\n"
   ]
  },
  {
   "cell_type": "code",
   "execution_count": 8,
   "metadata": {},
   "outputs": [
    {
     "name": "stdout",
     "output_type": "stream",
     "text": [
      "Intro\n",
      "ductory Python\n"
     ]
    }
   ],
   "source": [
    "# ... and to slice them using Python's indexing methods (these will quickly come in very handy):\n",
    "# indexing starts at zero!\n",
    "\n",
    "print(title[:5])       # first 5 characters\n",
    "print(title[5:20])     # characters 4 to 11"
   ]
  },
  {
   "cell_type": "code",
   "execution_count": 9,
   "metadata": {},
   "outputs": [],
   "source": [
    "# EXERCISE:\n",
    "\n",
    "# 1. Use tab completion to find what other useful methods you can access for (i) string objects; and (ii) integers or floats.\n",
    "# 2. Call up help for the '.split' method. Figure out how to split full_title on the colon rather than the spaces. (Hint: this should return two items instead of four)"
   ]
  },
  {
   "cell_type": "markdown",
   "metadata": {},
   "source": [
    "#### 1.3 Manipulating integers and floats"
   ]
  },
  {
   "cell_type": "code",
   "execution_count": 10,
   "metadata": {},
   "outputs": [
    {
     "name": "stdout",
     "output_type": "stream",
     "text": [
      "Addition:  7\n",
      "Multiplication: 12\n",
      "Division:  0.75\n"
     ]
    }
   ],
   "source": [
    "# Basic math operators work as expected\n",
    "\n",
    "print(\"Addition: \", 3+4)\n",
    "print(\"Multiplication:\", 3 * 4)\n",
    "print(\"Division: \",3 / 4)"
   ]
  },
  {
   "cell_type": "code",
   "execution_count": 12,
   "metadata": {},
   "outputs": [
    {
     "name": "stdout",
     "output_type": "stream",
     "text": [
      "my_daily_salary is  684.931506849315\n"
     ]
    },
    {
     "data": {
      "text/plain": [
       "float"
      ]
     },
     "execution_count": 12,
     "metadata": {},
     "output_type": "execute_result"
    }
   ],
   "source": [
    "# Math can be applied to variables. Python will change the variable's datatype when the operation requires it.\n",
    "\n",
    "my_daily_salary = my_salary / 365\n",
    "\n",
    "print(\"my_daily_salary is \", my_daily_salary)\n",
    "type(my_daily_salary)"
   ]
  },
  {
   "cell_type": "code",
   "execution_count": 13,
   "metadata": {},
   "outputs": [
    {
     "name": "stdout",
     "output_type": "stream",
     "text": [
      "converted back to an integer:  684\n"
     ]
    }
   ],
   "source": [
    "# We can convert datatypes using str(), int() or float().\n",
    "\n",
    "my_daily_salary = int(my_daily_salary)\n",
    "\n",
    "print(\"converted back to an integer: \",my_daily_salary)"
   ]
  },
  {
   "cell_type": "code",
   "execution_count": 16,
   "metadata": {},
   "outputs": [
    {
     "ename": "TypeError",
     "evalue": "can only concatenate str (not \"int\") to str",
     "output_type": "error",
     "traceback": [
      "\u001b[0;31m---------------------------------------------------------------------------\u001b[0m",
      "\u001b[0;31mTypeError\u001b[0m                                 Traceback (most recent call last)",
      "\u001b[0;32m<ipython-input-16-9baef4d7b64b>\u001b[0m in \u001b[0;36m<module>\u001b[0;34m\u001b[0m\n\u001b[1;32m      3\u001b[0m \u001b[0;31m# YOUR ACTION REQUIRED: Fix this cell if it fails when you run it. (You can just comment out the broken command)\u001b[0m\u001b[0;34m\u001b[0m\u001b[0;34m\u001b[0m\u001b[0;34m\u001b[0m\u001b[0m\n\u001b[1;32m      4\u001b[0m \u001b[0;34m\u001b[0m\u001b[0m\n\u001b[0;32m----> 5\u001b[0;31m \u001b[0mprint\u001b[0m\u001b[0;34m(\u001b[0m\u001b[0;34m\"Every day I earn \"\u001b[0m \u001b[0;34m+\u001b[0m \u001b[0mmy_daily_salary\u001b[0m\u001b[0;34m)\u001b[0m\u001b[0;34m\u001b[0m\u001b[0;34m\u001b[0m\u001b[0m\n\u001b[0m\u001b[1;32m      6\u001b[0m \u001b[0;34m\u001b[0m\u001b[0m\n\u001b[1;32m      7\u001b[0m \u001b[0mprint\u001b[0m\u001b[0;34m(\u001b[0m\u001b[0;34m\"Every day I earn \"\u001b[0m \u001b[0;34m+\u001b[0m \u001b[0mstr\u001b[0m\u001b[0;34m(\u001b[0m\u001b[0mmy_daily_salary\u001b[0m\u001b[0;34m)\u001b[0m\u001b[0;34m)\u001b[0m\u001b[0;34m\u001b[0m\u001b[0;34m\u001b[0m\u001b[0m\n",
      "\u001b[0;31mTypeError\u001b[0m: can only concatenate str (not \"int\") to str"
     ]
    }
   ],
   "source": [
    "# Datatypes matter. One of the following will fail, one will succeed:\n",
    "\n",
    "# YOUR ACTION REQUIRED: Fix this cell if it fails when you run it. (You can just comment out the broken command)\n",
    "\n",
    "print(\"Every day I earn \" + my_daily_salary)\n",
    "\n",
    "print(\"Every day I earn \" + str(my_daily_salary))"
   ]
  },
  {
   "cell_type": "code",
   "execution_count": 17,
   "metadata": {},
   "outputs": [],
   "source": [
    "# EXERCISE 2: Sports star salaries\n",
    "\n",
    "# 1. Define three variables, player, season_length, and annual_salary. Just use a Google search to find some values for this.\n",
    "# 2. Write a script to calculate how much the player earns per month, week, day, and for the whole season.\n",
    "# 3. Print it out neatly.\n",
    "# 4. Your player got bought by Real Madrid and their salary doubled. Recalculate.\n",
    "\n",
    "# BONUS POINTS: find a way to limit the salary to two decimal points when printing it."
   ]
  },
  {
   "cell_type": "code",
   "execution_count": null,
   "metadata": {},
   "outputs": [],
   "source": [
    "# Your code here:\n"
   ]
  },
  {
   "cell_type": "code",
   "execution_count": null,
   "metadata": {},
   "outputs": [],
   "source": [
    "## SOLUTION CODE\n",
    "\n",
    "player = 'Ronaldo'\n",
    "season_length = 70\n",
    "annual_salary = 2500000\n",
    "\n",
    "daily_sal = annual_salary / 365\n",
    "season_sal = daily_sal * season_length"
   ]
  },
  {
   "cell_type": "code",
   "execution_count": null,
   "metadata": {},
   "outputs": [],
   "source": [
    "print(player + \" earns \" + str(daily_sal) + \"per day and total of \" + str(season_sal) + \"during the \" + str(season_length) + \"-day long season.\")"
   ]
  },
  {
   "cell_type": "code",
   "execution_count": null,
   "metadata": {},
   "outputs": [],
   "source": [
    "print(\"{} earns {:.2f} per day and total of {:.2f} during the {}-day long season\".format(player,daily_sal,season_sal, season_length))"
   ]
  },
  {
   "cell_type": "code",
   "execution_count": null,
   "metadata": {},
   "outputs": [],
   "source": [
    "annual_salary = annual_salary * 2\n",
    "\n",
    "daily_sal = annual_salary / 365\n",
    "season_sal = daily_sal * season_length\n",
    "\n",
    "print(\"{} earns {:.2f} per day and total of {:.2f} during the {}-day long season\".format(player,daily_sal,season_sal, season_length))"
   ]
  },
  {
   "cell_type": "markdown",
   "metadata": {},
   "source": [
    "### 2. Data structures: Lists and dictionaries\n",
    "In data analysis we're usually concerned with groups of objects. Python provides lists, dictionaries and tuples as ways to aggregate your variables."
   ]
  },
  {
   "cell_type": "markdown",
   "metadata": {},
   "source": [
    "#### 2.1 Lists\n",
    "Lists can be thought of as bags of objects:\n",
    "* An empty list is denoted []\n",
    "* It can contain any number of objects. You can mix different types together (eg. list1 = [2, 6, 'hello'])\n",
    "* Learn the methods to append new items to lists, add lists together, check whether a given item is included in a list, etc. "
   ]
  },
  {
   "cell_type": "code",
   "execution_count": 18,
   "metadata": {},
   "outputs": [
    {
     "data": {
      "text/plain": [
       "[10, 12, 'hello']"
      ]
     },
     "execution_count": 18,
     "metadata": {},
     "output_type": "execute_result"
    }
   ],
   "source": [
    "list1 = [10,12,'hello']\n",
    "list1"
   ]
  },
  {
   "cell_type": "code",
   "execution_count": 19,
   "metadata": {},
   "outputs": [
    {
     "data": {
      "text/plain": [
       "[2, 4, 6, 8, 3, 5, 7, 9]"
      ]
     },
     "execution_count": 19,
     "metadata": {},
     "output_type": "execute_result"
    }
   ],
   "source": [
    "evens = [2,4,6,8]\n",
    "odds = [3,5,7,9]\n",
    "all_nums = evens + odds\n",
    "all_nums"
   ]
  },
  {
   "cell_type": "code",
   "execution_count": 20,
   "metadata": {},
   "outputs": [
    {
     "data": {
      "text/plain": [
       "[2, 3, 4, 5, 6, 7, 8, 9]"
      ]
     },
     "execution_count": 20,
     "metadata": {},
     "output_type": "execute_result"
    }
   ],
   "source": [
    "# Use list methods like .sort\n",
    "\n",
    "all_nums.sort()\n",
    "all_nums"
   ]
  },
  {
   "cell_type": "code",
   "execution_count": 21,
   "metadata": {},
   "outputs": [
    {
     "data": {
      "text/plain": [
       "[4, 5, 6]"
      ]
     },
     "execution_count": 21,
     "metadata": {},
     "output_type": "execute_result"
    }
   ],
   "source": [
    "# Pull items out of lists with indexing:\n",
    "\n",
    "all_nums[2:5]"
   ]
  },
  {
   "cell_type": "code",
   "execution_count": 22,
   "metadata": {},
   "outputs": [],
   "source": [
    "# EXERCISE: "
   ]
  },
  {
   "cell_type": "markdown",
   "metadata": {},
   "source": [
    "#### 3.2 Dictionaries\n",
    "Dictionaries are a widely used data structure that pairs items together. They are denoted with curly brackets like this {'hello':'bonjour'}.\n",
    "Dictionaries comprise key-value pairs.\n",
    "\n",
    "Examples:"
   ]
  },
  {
   "cell_type": "code",
   "execution_count": 23,
   "metadata": {},
   "outputs": [
    {
     "data": {
      "text/plain": [
       "'Economist'"
      ]
     },
     "execution_count": 23,
     "metadata": {},
     "output_type": "execute_result"
    }
   ],
   "source": [
    "employees = {'Mary': 'Economist', 'John': 'Urban Specialist', 'Yixuan': 'Communications Officer'}\n",
    "employees['Mary']"
   ]
  },
  {
   "cell_type": "code",
   "execution_count": 24,
   "metadata": {},
   "outputs": [
    {
     "name": "stdout",
     "output_type": "stream",
     "text": [
      "['Economist', 'Urban Specialist', 'Communications Officer']\n"
     ]
    }
   ],
   "source": [
    "print (list(employees.values()))"
   ]
  },
  {
   "cell_type": "markdown",
   "metadata": {},
   "source": [
    "### 3. Logic and control flow\n",
    "When writing scripts for data analysis, loops and logic operations and very helpful. Examples:\n",
    "* Check if two quantities are the same or different\n",
    "* Filter out erroneous data by dropping observations more than 3 standard deviations above the mean"
   ]
  },
  {
   "cell_type": "markdown",
   "metadata": {},
   "source": [
    "#### 3.1 Logic operators"
   ]
  },
  {
   "cell_type": "code",
   "execution_count": 25,
   "metadata": {},
   "outputs": [],
   "source": [
    "# Declare variables using '='\n",
    "a = 5\n",
    "b = 7"
   ]
  },
  {
   "cell_type": "code",
   "execution_count": 26,
   "metadata": {},
   "outputs": [
    {
     "data": {
      "text/plain": [
       "False"
      ]
     },
     "execution_count": 26,
     "metadata": {},
     "output_type": "execute_result"
    }
   ],
   "source": [
    "# Compare variables using '<', '>', or '=='\n",
    "\n",
    "a == b"
   ]
  },
  {
   "cell_type": "code",
   "execution_count": 27,
   "metadata": {},
   "outputs": [
    {
     "data": {
      "text/plain": [
       "True"
      ]
     },
     "execution_count": 27,
     "metadata": {},
     "output_type": "execute_result"
    }
   ],
   "source": [
    "a < b"
   ]
  },
  {
   "cell_type": "code",
   "execution_count": 28,
   "metadata": {},
   "outputs": [
    {
     "name": "stdout",
     "output_type": "stream",
     "text": [
      "True\n"
     ]
    },
    {
     "data": {
      "text/plain": [
       "bool"
      ]
     },
     "execution_count": 28,
     "metadata": {},
     "output_type": "execute_result"
    }
   ],
   "source": [
    "condition = a < b\n",
    "print(condition)\n",
    "type(condition)"
   ]
  },
  {
   "cell_type": "markdown",
   "metadata": {},
   "source": [
    "#### 3.2 Conditional statements with if\n",
    "Let's illustrate the power of 'if' constructions using a dietary example. Our Python coder is vegetarian. We will test whether the variable 'food' is 'burger', 'chicken' or 'veg', then decide whether to eat. For this, we will use 'if', 'elif' (else if), and 'else'.\n",
    "\n",
    "How to use this structure:\n",
    "* start with an 'if' statement, specifying the logical test to apply\n",
    "* make sure your 'if' statement ends with :\n",
    "* your next line sets out the action to take if the tested condition was true\n",
    "\n",
    "Test additional actions using 'elif', and any other actions with 'else'."
   ]
  },
  {
   "cell_type": "code",
   "execution_count": 29,
   "metadata": {},
   "outputs": [],
   "source": [
    "food = 'chicken'"
   ]
  },
  {
   "cell_type": "code",
   "execution_count": 30,
   "metadata": {},
   "outputs": [
    {
     "name": "stdout",
     "output_type": "stream",
     "text": [
      "hmm maybe\n"
     ]
    }
   ],
   "source": [
    "if food == 'veg':\n",
    "    print ('yum')\n",
    "elif food == 'chicken':\n",
    "    print ('hmm maybe')\n",
    "elif food == 'burger':\n",
    "    print ('no thanks')\n",
    "else:\n",
    "    print ('more information needed')"
   ]
  },
  {
   "cell_type": "markdown",
   "metadata": {},
   "source": [
    "#### 3.3 For loops\n",
    "This code structure allows you to perform calculations several times in a row. \n",
    "\n",
    "* Declare your for loop with respect to any iterable. A range operator is a helpful way to count up to a specified number.\n",
    "* End the for loop declaration with : then indent the next lines.\n",
    "* Note: its common to nest 'if' statements within for loops. If so you require two levels of indentation."
   ]
  },
  {
   "cell_type": "code",
   "execution_count": 31,
   "metadata": {},
   "outputs": [
    {
     "name": "stdout",
     "output_type": "stream",
     "text": [
      "The omelettes I ate this week:\n",
      "\n",
      "omelette  0\n",
      "omelette  1\n",
      "omelette  2\n",
      "omelette  3\n",
      "omelette  4\n",
      "omelette  5\n"
     ]
    }
   ],
   "source": [
    "print(\"The omelettes I ate this week:\")\n",
    "print()\n",
    "\n",
    "n_omelettes = 6\n",
    "\n",
    "for i in range(n_omelettes):\n",
    "    print(\"omelette \",i)"
   ]
  },
  {
   "cell_type": "code",
   "execution_count": 32,
   "metadata": {},
   "outputs": [],
   "source": [
    "# EXERCISE: FizzBuzz\n",
    "\n",
    "# Write a script to count from 1 to 20 but replace numbers with 'fizz' if divisible by 3, 'buzz' if divisible by '5', and 'fizzbuzz' if divisible by 3 and 5.\n",
    "\n",
    "# Hint: use the 'mod' function to check divisibility of numbers. (Any questions about a Python function, just google it!!). Example: 10 % 2 == 0."
   ]
  },
  {
   "cell_type": "code",
   "execution_count": 33,
   "metadata": {},
   "outputs": [
    {
     "name": "stdout",
     "output_type": "stream",
     "text": [
      "1\n",
      "2\n",
      "fizz\n",
      "4\n",
      "buzz\n",
      "fizz\n",
      "7\n",
      "8\n",
      "fizz\n",
      "buzz\n",
      "11\n",
      "fizz\n",
      "13\n",
      "14\n",
      "fizzbuzz\n",
      "16\n",
      "17\n",
      "fizz\n",
      "19\n",
      "buzz\n"
     ]
    }
   ],
   "source": [
    "# SOLUTION:\n",
    "\n",
    "for i in range(1,21):\n",
    "    if (i % 3 == 0) and (i % 5 == 0):\n",
    "        print('fizzbuzz')\n",
    "    elif i % 3 == 0:\n",
    "        print('fizz')\n",
    "    elif i % 5 == 0:\n",
    "        print('buzz')\n",
    "    else:\n",
    "        print(i)\n",
    "    "
   ]
  },
  {
   "cell_type": "code",
   "execution_count": null,
   "metadata": {},
   "outputs": [],
   "source": []
  }
 ],
 "metadata": {
  "kernelspec": {
   "display_name": "basic",
   "language": "python",
   "name": "basic"
  },
  "language_info": {
   "codemirror_mode": {
    "name": "ipython",
    "version": 3
   },
   "file_extension": ".py",
   "mimetype": "text/x-python",
   "name": "python",
   "nbconvert_exporter": "python",
   "pygments_lexer": "ipython3",
   "version": "3.7.2"
  }
 },
 "nbformat": 4,
 "nbformat_minor": 2
}
