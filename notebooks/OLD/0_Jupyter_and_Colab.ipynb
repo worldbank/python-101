{
 "cells": [
  {
   "cell_type": "markdown",
   "metadata": {},
   "source": [
    "# Jupyter Notebooks and Colab"
   ]
  },
  {
   "cell_type": "markdown",
   "metadata": {},
   "source": [
    "Jupyter Notebooks are a widely used tool for data science. They contain both computer code (eg. Python) and rich-text elements like paragraphs, equations and charts. Notebooks are both (a) human-readable documents used to present analysis and results (figures, tables etc); and (b) executable documents that can be run to perform data analysis.\n",
    "\n",
    "**Problem!**: Setting up Jupyter Notebooks takes 30+ minutes.\n",
    "\n",
    "**Solution!**: Today we are using Colaboratory (Colab), a new tool from Google which provides a notebook platform in the cloud.\n",
    "\n",
    "Take 5 minutes to explore the environment!"
   ]
  },
  {
   "cell_type": "markdown",
   "metadata": {},
   "source": [
    "#### Getting started\n",
    "* Connect to a runtime now by clicking connect in the top right corner if you don't already see a green checkmark there.\n",
    "* To get a better overview you might want to activate the Table of contents by clicking on the arrow on the left."
   ]
  },
  {
   "cell_type": "markdown",
   "metadata": {},
   "source": [
    "### Important shortcuts\n",
    "\n",
    "Action | Colab Shortcut\n",
    "---|---\n",
    "Executes current cell | `<CTRL-ENTER>`\n",
    "Executes current cell and moves to next cell | `<SHIFT-ENTER>`\n",
    "Insert cell above | `<CTRL-M> <A>`\n",
    "Append cell below | `<CTRL-M> <B>`\n",
    "Convert cell to code | `<CTRL-M> <Y>`\n",
    "Convert cell to Markdown | `<CTRL-M> <M>`\n",
    "Autocomplete | `<TAB>`\n",
    "Goes from edit to \"command\" mode | `<ESC>`\n",
    "Goes from \"command\" to edit mode | `<ENTER>`\n",
    "<p align=\"center\"><b>Note:</b> On OS X use `<COMMAND>` instead of `<CTRL>`</p>"
   ]
  },
  {
   "cell_type": "code",
   "execution_count": null,
   "metadata": {},
   "outputs": [],
   "source": [
    "# YOUR ACTION REQUIRED:\n",
    "# Execute this cell first using <CTRL-ENTER> and then using <SHIFT-ENTER>.\n",
    "# Note the difference in which cell is selected after execution.\n",
    "print(\"Hello world!\")"
   ]
  },
  {
   "cell_type": "markdown",
   "metadata": {},
   "source": [
    "# Navigating notebooks: Two key points"
   ]
  },
  {
   "cell_type": "markdown",
   "metadata": {},
   "source": [
    "### 1 Types of cell: code and markdown\n",
    "Notebooks are made up of a series of cells. There are two types:\n",
    "* **code cells** contain executable commands\n",
    "* **text ('markdown') cells** are used for headings, bullet points, plain text etc."
   ]
  },
  {
   "cell_type": "code",
   "execution_count": 226,
   "metadata": {},
   "outputs": [
    {
     "name": "stdout",
     "output_type": "stream",
     "text": [
      "Hello, I am a code cell\n",
      "Running me executes the code and renders the output below.\n",
      "\n",
      "I do sophisticated analysis like 2 * 2 = 4\n"
     ]
    }
   ],
   "source": [
    "print('Hello, I am a code cell')\n",
    "print('Running me executes the code and renders the output below.')\n",
    "print()\n",
    "print('I do sophisticated analysis like 2 * 2 =', 2 * 2)"
   ]
  },
  {
   "cell_type": "markdown",
   "metadata": {},
   "source": [
    "Hello, I am a markdown cell.\n",
    "Running me renders the text.\n"
   ]
  },
  {
   "cell_type": "code",
   "execution_count": 16,
   "metadata": {},
   "outputs": [],
   "source": [
    "# EXERCISE 1:\n",
    "\n",
    "# 1. Add a new markdown cell below and write the name of your favorite breakfast food.\n",
    "\n",
    "# 2. Add a code cell and output the text \"There are this many weeks in a year\".\n",
    "# In a second line, write some code to calculate and print the number of weeks in a year."
   ]
  },
  {
   "cell_type": "code",
   "execution_count": null,
   "metadata": {},
   "outputs": [],
   "source": [
    "# Your code here:\n",
    "\n",
    "\n"
   ]
  },
  {
   "cell_type": "markdown",
   "metadata": {},
   "source": [
    "### 2. Autocompletion and docstrings\n",
    "Jupyter shows possible completions of partially typed commands.\n",
    "\n",
    "Let's us it to discover operations we can perform on the variable 'my_string'."
   ]
  },
  {
   "cell_type": "code",
   "execution_count": 10,
   "metadata": {},
   "outputs": [],
   "source": [
    "my_string = \"hello world\"\n"
   ]
  },
  {
   "cell_type": "code",
   "execution_count": null,
   "metadata": {},
   "outputs": [],
   "source": [
    "# YOUR ACTION REQUIRED:\n",
    "# Try auto-completion yourself:\n",
    "# --> Type in the name of the variable followed by '.c' <tab>.\n",
    "# --> What options does it present to you? Try using the capitalize method. Add a () at the end of the line."
   ]
  },
  {
   "cell_type": "code",
   "execution_count": null,
   "metadata": {},
   "outputs": [],
   "source": [
    "my_string.ca"
   ]
  },
  {
   "cell_type": "code",
   "execution_count": null,
   "metadata": {},
   "outputs": [],
   "source": [
    "You can also get help on a command by inserting a '?' directly after it then hitting run. Let's get more info on the capitalize method."
   ]
  },
  {
   "cell_type": "code",
   "execution_count": 14,
   "metadata": {},
   "outputs": [],
   "source": [
    "# YOUR ACTION REQUIRED:\n",
    "# --> Get more info on the capitalize method by typing the variable name followed by '.capitalize?' and running the cell."
   ]
  }
 ],
 "metadata": {
  "kernelspec": {
   "display_name": "basic",
   "language": "python",
   "name": "basic"
  },
  "language_info": {
   "codemirror_mode": {
    "name": "ipython",
    "version": 3
   },
   "file_extension": ".py",
   "mimetype": "text/x-python",
   "name": "python",
   "nbconvert_exporter": "python",
   "pygments_lexer": "ipython3",
   "version": "3.7.2"
  }
 },
 "nbformat": 4,
 "nbformat_minor": 2
}
