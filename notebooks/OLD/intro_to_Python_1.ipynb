{
 "cells": [
  {
   "cell_type": "markdown",
   "metadata": {},
   "source": [
    "# Introduction to Python\n",
    "-----\n",
    "Python is a general-purpose programming language that is becoming more and more popular for doing data science. Companies worldwide are using Python to harvest insights from their data and get a competitive edge. In this tutorial, we'll go through basic concepts which will enable you to programm in Python. Specifically, In this  intro to Python tutorial, you will learn about powerful ways to store and manipulate data as well as cool data science tools to start your own analyses."
   ]
  },
  {
   "cell_type": "markdown",
   "metadata": {},
   "source": [
    "# Table of Contents\n",
    "- [Introduction](#Introduction)\n",
    "- [Python Basics](#Python Basics)\n",
    "    - [Running Python Programs](#Running Python Programs)\n",
    "    - [Python Versions](#Python Versions)\n",
    "    - [Basic Python Syntax (commenting etc)](#Basic Python Syntax)\n",
    "    - [Variables and Types](#Variables and Types)\n",
    "    - [Calculations with Variables](#Calculations with Variables)\n",
    "- [Ipython Notebooks Basics](#Ipython Notebooks Basics)\n",
    "    - [Navigation](#Navigation)\n",
    "- [Python Collections Datatypes](#Python Collections Datatypess)\n",
    "    - [Lists](#Lists)\n",
    "        - [Create a List](#Create a List)\n",
    "        - [List of Lists](#Create a List)\n",
    "        - [Subsetting a Lists](#Subsetting Lists)\n",
    "        - [Slicing and Dicing Lists](#Slicing and Dicing Lists)\n",
    "        - [Manipulating List Elements](#Manipulating List Elements)\n",
    "    - [Python Dictionary](#Python Dictionary)\n",
    "        - [Create a Dictionary](#Create a Dictionary)\n",
    "        - [Manipulating Dictionaries](#Manipulating Dictionaries)\n",
    "        - [Removing Items from Dictionary](#Removing Items from Dictionarys)\n",
    "    - [Other Collections Types](#Other Collections Types)\n",
    "        - [Sets](#Sets)\n",
    "        - [Tuples](#Tuples)\n",
    "- [Python Conditions and If Statements](#Python Conditions and If Statements)\n",
    "    - [Logical Conditions](#Logical Conditions)\n",
    "    - [If Statements and Indentation](#If Statements and Indentation)\n",
    "    - [Python While Loop](#Python While Loop)\n",
    "    - [Python for Loop](#Python for Loop)\n",
    "- [Functions and Packages](#Functions and Packagesn)\n",
    "    - [Python Function Basics](# Python Function Basics)\n",
    "    - [Python Built in Functions](#Python Built in Functions)\n",
    "    - [Methods](#Methods)\n",
    "    - [String and List Methods](#String and List Methods)\n",
    "    - [Packages: Introducing the Import statement](#Packages: Introducing the Import statement)\n",
    "- [Python Package Ecoystem](#Python Package Ecoystem)\n",
    "    - [Installing Python Packages](#Installing Python Packagess)\n",
    "    - [Creating Your Own Packages](#Creating Your Own Packages)\n",
    "- [Additional Resorces](#Additional Resorces)\n"
   ]
  },
  {
   "cell_type": "markdown",
   "metadata": {},
   "source": [
    "# Python Basics\n",
    "An introduction to the basic concepts of Python. Learn how to use Python both interactively and through a script. Create your first variables and acquaint yourself with Python's basic data types."
   ]
  },
  {
   "cell_type": "markdown",
   "metadata": {},
   "source": [
    "## Running Python Programs\n",
    "- Back to [Table of Contents](#Table-of-Contents)\n",
    "\n",
    "Here are some common ways that you can run a Python Program or create Python programs:\n",
    " - Ipython\n",
    "      - Recommended for quick data exploration\n",
    " - Jupyter Notebooks\n",
    "      - Recommended for explolatory data analysis\n",
    " - Command Line\n",
    "      - Recommended for experienced programmers\n",
    " - Integrated Development Environment (IDE)\n",
    "     - Recommended for development of more detailed Python code\n",
    " - Basic text Editors\n",
    "      - Also for experienced programmers"
   ]
  },
  {
   "cell_type": "markdown",
   "metadata": {},
   "source": [
    "### Basic Python syntax\n",
    "- Back to [Table of Contents](#Table-of-Contents)"
   ]
  },
  {
   "cell_type": "code",
   "execution_count": null,
   "metadata": {},
   "outputs": [],
   "source": [
    "# Print a String to Console and Use Shift + Enter to run the code\n",
    "print(\"Hello Python\")\n",
    "print('Hello Python')\n"
   ]
  },
  {
   "cell_type": "markdown",
   "metadata": {},
   "source": [
    "### Adding comments to code\n",
    "- Back to [Table of Contents](#Table-of-Contents)\n",
    "\n",
    "Comments are important to make sure that you and others can understand what your code is about.\n",
    "To add comments to your Python script, you can use the #"
   ]
  },
  {
   "cell_type": "code",
   "execution_count": null,
   "metadata": {},
   "outputs": [],
   "source": [
    "# Print(\"Dunstan\")\n",
    "print('Hello World')"
   ]
  },
  {
   "cell_type": "markdown",
   "metadata": {},
   "source": [
    "### Simple Calculations in Python\n",
    "- Back to [Table of Contents](#Table-of-Contents)\n",
    "\n",
    "Python is perfectly suited to do basic calculations. Apart from addition, subtraction, multiplication and division, there is also support for more advanced operations such as:\n",
    "\n",
    "- Exponentiation: \\** . This operator raises the number to its left to the power of the number to its right. For example 4**2 will give 16.\n",
    "- Modulo: %. This operator returns the remainder of the division of the number to the left by the number on its right. For example 18 % 7 equals 4."
   ]
  },
  {
   "cell_type": "code",
   "execution_count": null,
   "metadata": {},
   "outputs": [],
   "source": [
    "# Multiplication, division, modulo, and exponentiation\n",
    "print(3 * 5)\n",
    "print(10 / 2)\n",
    "print(18 % 7)\n",
    "print(4 ** 2)\n"
   ]
  },
  {
   "cell_type": "markdown",
   "metadata": {},
   "source": [
    "** Exercise 1: How much money you end up with after 7 years?**\n",
    "\n",
    "Suppose you have $100, which you can invest with a 10% return each year. After one year, it's 100×1.1=110\n",
    "dollars, and after two years it's 100×1.1×1.1=121."
   ]
  },
  {
   "cell_type": "code",
   "execution_count": null,
   "metadata": {},
   "outputs": [],
   "source": []
  },
  {
   "cell_type": "markdown",
   "metadata": {},
   "source": [
    "## Variables and Types\n",
    "- Back to [Table of Contents](#Table-of-Contents)\n",
    "\n",
    "Unlike other programming languages, Python has no command for declaring a variable.\n",
    "A variable is created the moment you first assign a value to it. In Python, a variable allows you to refer to a value with a name. To create a variable use =, like this example:\n",
    "\n",
    "Remember, = in Python means assignment, it doesn't test equality!"
   ]
  },
  {
   "cell_type": "code",
   "execution_count": 4,
   "metadata": {},
   "outputs": [
    {
     "name": "stdout",
     "output_type": "stream",
     "text": [
      "5\n",
      "Dunstan\n"
     ]
    }
   ],
   "source": [
    "x = 5\n",
    "y = \"Dunstan\"\n",
    "print(x)\n",
    "print(y)"
   ]
  },
  {
   "cell_type": "markdown",
   "metadata": {},
   "source": [
    "** Exercise 2: Creating Variables and Inspecting their Values**\n",
    "\n",
    "Create a variable savings with the value 200. Check out this variable by typing print(savings) in the cell."
   ]
  },
  {
   "cell_type": "code",
   "execution_count": null,
   "metadata": {},
   "outputs": [],
   "source": []
  },
  {
   "cell_type": "markdown",
   "metadata": {},
   "source": [
    "### Variable Names\n",
    "- Back to [Table of Contents](#Table-of-Contents)\n",
    "\n",
    "**Variable naming rules:**\n",
    "\n",
    "- A variable can have a short name (like x and y) or a more descriptive name (age, carname, total_volume). Rules for Python variables:\n",
    "\n",
    "- A variable name must start with a letter or the underscore character\n",
    "- A variable name cannot start with a number\n",
    "- A variable name can only contain alpha-numeric characters and underscores (A-z, 0-9, and _ )\n",
    "- A Variable names are case-sensitive (age, Age and AGE are three different variables)"
   ]
  },
  {
   "cell_type": "markdown",
   "metadata": {},
   "source": [
    "### Calculations with Variables\n",
    "- Back to [Table of Contents](#Table-of-Contents)\n",
    "\n",
    "Instead of calculating with actual numbers as you did above, you can use variables."
   ]
  },
  {
   "cell_type": "markdown",
   "metadata": {},
   "source": [
    "** Exercise 3: Do the calculations below which is same as in Exercise 1 but now you use variables**"
   ]
  },
  {
   "cell_type": "code",
   "execution_count": 5,
   "metadata": {},
   "outputs": [],
   "source": [
    "# Create a variable savings\n",
    "savings = 100\n",
    "\n",
    "# Create a variable growth_multiplier and give it any numeric value\n",
    "\n",
    "\n",
    "# Create a variable number of years saved \n",
    "\n",
    "\n",
    "# Calculate result-amount of money gained\n",
    "\n",
    "\n",
    "# Print out result\n"
   ]
  },
  {
   "cell_type": "markdown",
   "metadata": {},
   "source": [
    "### Common Datatypes\n",
    "- Back to [Table of Contents](#Table-of-Contents)\n",
    "\n",
    "In the previous exercise, you worked with two Python data types:\n",
    "\n",
    "- int, or integer: a number without a fractional part. savings, with the value 100, is an example of an integer.\n",
    "- float, or floating point: a number that has both an integer and fractional part, separated by a point. growth_multiplier, with the value 1.1, is an example of a float.\n",
    "\n",
    "Next to numerical data types, there are two other very common data types:\n",
    "\n",
    "- str, or string: a type to represent text. You can use single or double quotes to build a string.\n",
    "- bool, or boolean: a type to represent logical values. Can only be True or False (the capitalization is important!).\n"
   ]
  },
  {
   "cell_type": "markdown",
   "metadata": {},
   "source": [
    "** Exercise: Strings and Boolean**\n",
    "- Create a new string, desc, with the value \"compound interest\".\n",
    "- Create a new boolean, profitable, with the value True"
   ]
  },
  {
   "cell_type": "markdown",
   "metadata": {},
   "source": [
    "# Jupyter Notebooks Basics\n",
    "- Back to [Table of Contents](#Table-of-Contents)"
   ]
  },
  {
   "cell_type": "markdown",
   "metadata": {},
   "source": [
    "** Exercise 4: Familiarise yourself with Jupyter Notebook?**\n",
    "- Saving, Naming/Renaming/copying, Creating/Adding/inserting/moving Cells etc\n",
    "- Creating Markdown Cells\n",
    "- Deleting cells\n",
    "- Running multiple cells"
   ]
  },
  {
   "cell_type": "markdown",
   "metadata": {},
   "source": [
    "# Python Collections Datatypes\n",
    "- Back to [Table of Contents](#Table-of-Contents)\n",
    "\n",
    "Collections are like containers data types which are used are typically used to store collections of homogeneous items (where the precise degree of similarity will vary by application)."
   ]
  },
  {
   "cell_type": "markdown",
   "metadata": {},
   "source": [
    "## Lists\n",
    "- Back to [Table of Contents](#Table-of-Contents)\n",
    "\n",
    "A List is a collection which is ordered and changeable (mutable). Note that some collections can be immutable. Allows duplicate members. In Python lists are written with square brackets."
   ]
  },
  {
   "cell_type": "markdown",
   "metadata": {},
   "source": [
    "### Creating Lists\n",
    "\n",
    "- Back to [Table of Contents](#Table-of-Contents)\n",
    "\n",
    "** Different ways you can create a List in Python**:\n",
    "    \n",
    "- Using a pair of square brackets to denote the empty list: []\n",
    "- Using square brackets, separating items with commas: [a], [a, b, c]\n",
    "- Using a list comprehension: [x for x in iterable]\n",
    "- Using the type constructor: list() or list(iterable)"
   ]
  },
  {
   "cell_type": "code",
   "execution_count": 6,
   "metadata": {},
   "outputs": [
    {
     "name": "stdout",
     "output_type": "stream",
     "text": [
      "['apple', 'banana', 'cherry']\n"
     ]
    }
   ],
   "source": [
    "# create a list\n",
    "thislist = [\"apple\", \"banana\", \"cherry\"]\n",
    "print(thislist)"
   ]
  },
  {
   "cell_type": "markdown",
   "metadata": {},
   "source": [
    "** Exercise 5: Creating Lists**"
   ]
  },
  {
   "cell_type": "code",
   "execution_count": 7,
   "metadata": {},
   "outputs": [],
   "source": [
    "# area variables (in square meters)\n",
    "hall = 11.25\n",
    "kit = 18.0\n",
    "liv = 20.0\n",
    "bed = 10.75\n",
    "bath = 9.50\n",
    "\n",
    "# Create list areas\n",
    "\n",
    "\n",
    "# Print areas"
   ]
  },
  {
   "cell_type": "markdown",
   "metadata": {},
   "source": [
    "### List of Lists\n",
    "\n",
    "- Back to [Table of Contents](#Table-of-Contents)\n",
    "\n",
    "In Python, its possible and often common to nest a list within another list as shown in example below."
   ]
  },
  {
   "cell_type": "code",
   "execution_count": 8,
   "metadata": {},
   "outputs": [],
   "source": [
    "# house information as list of lists\n",
    "house = [[\"hallway\", hall],\n",
    "         [\"kitchen\", kit],\n",
    "         [\"living room\", liv]]"
   ]
  },
  {
   "cell_type": "markdown",
   "metadata": {},
   "source": [
    "### Subsetting Lists\n",
    "\n",
    "- Back to [Table of Contents](#Table-of-Contents)\n",
    "\n",
    "In most cases, you will need to access elemtns of a list."
   ]
  },
  {
   "cell_type": "code",
   "execution_count": 9,
   "metadata": {},
   "outputs": [
    {
     "data": {
      "text/plain": [
       "'b'"
      ]
     },
     "execution_count": 9,
     "metadata": {},
     "output_type": "execute_result"
    }
   ],
   "source": [
    "# Selecting single elements using indices\n",
    "x = [\"a\", \"b\", \"c\", \"d\"]\n",
    "x[1]\n",
    "x[-3] # same result!"
   ]
  },
  {
   "cell_type": "markdown",
   "metadata": {},
   "source": [
    "### Slicing and Dicing Lists\n",
    "\n",
    "- Back to [Table of Contents](#Table-of-Contents)\n",
    "\n",
    "Selecting single values from a list is just one part of the story. It's also possible to slice your list, which means selecting multiple elements from your list. Use the following syntax:\n",
    "\n",
    "`my_list[start:end]`\n",
    "\n",
    "For the code below, the elements with index 1 and 2 are included, while the element with index 3 is not.\n",
    "\n",
    "`x = [\"a\", \"b\", \"c\", \"d\"]\n",
    " x[1:3]`"
   ]
  },
  {
   "cell_type": "markdown",
   "metadata": {},
   "source": [
    "** Exercise 6: Slicing Lists**"
   ]
  },
  {
   "cell_type": "code",
   "execution_count": 10,
   "metadata": {},
   "outputs": [],
   "source": [
    "# Create the areas list\n",
    "areas = [\"hallway\", 11.25, \"kitchen\", 18.0, \"living room\", 20.0, \"bedroom\", 10.75, \"bathroom\", 9.50]\n",
    "\n",
    "# Use slicing to create downstairs\n",
    "\n",
    "\n",
    "# Use slicing to create upstairs\n",
    "\n",
    "\n",
    "# Print out downstairs and upstairs"
   ]
  },
  {
   "cell_type": "markdown",
   "metadata": {},
   "source": [
    "### Manipulating List Elements\n",
    "- Replace List elements\n",
    "- Add an element to a List\n",
    "\n",
    "`x = [\"a\", \"b\", \"c\", \"d\"]\n",
    " x[1] = \"r\"\n",
    " x[2:] = [\"s\", \"t\"]\n",
    " x.append('Dunstan')\n",
    " x = x + ['Mercy']`"
   ]
  },
  {
   "cell_type": "markdown",
   "metadata": {},
   "source": [
    "** Exercise 7: Manipulating Lists**"
   ]
  },
  {
   "cell_type": "code",
   "execution_count": 11,
   "metadata": {},
   "outputs": [],
   "source": [
    "# Create the areas list\n",
    "areas = [\"hallway\", 11.25, \"kitchen\", 18.0, \"living room\", 20.0, \"bedroom\", 10.75, \"bathroom\", 9.50]\n",
    "\n",
    "# change the bathroom area to another value\n",
    "\n",
    "\n",
    "# Change \"living room\" to \"chill zone\"\n"
   ]
  },
  {
   "cell_type": "markdown",
   "metadata": {},
   "source": [
    "## Dictionaries\n",
    "- Back to [Table of Contents](#Table-of-Contents)\n",
    "\n",
    "A dictionary is a collection which is unordered, changeable and indexed. In Python dictionaries are written with curly brackets, and they have keys and values. We will look at the following concepts:\n"
   ]
  },
  {
   "cell_type": "markdown",
   "metadata": {},
   "source": [
    "### Creating  a Dictionary\n",
    "\n",
    "While they are many ways to do this, one of the common ones is shown in the syntax below and example.\n",
    "\n",
    "`dict_name = {'key': 'values',......key: value}`"
   ]
  },
  {
   "cell_type": "code",
   "execution_count": 12,
   "metadata": {},
   "outputs": [
    {
     "name": "stdout",
     "output_type": "stream",
     "text": [
      "{'brand': 'Ford', 'model': 'Mustang', 'year': 1964}\n"
     ]
    }
   ],
   "source": [
    "thisdict =\t{\n",
    "  \"brand\": \"Ford\",\n",
    "  \"model\": \"Mustang\",\n",
    "  \"year\": 1964\n",
    "}\n",
    "print(thisdict)"
   ]
  },
  {
   "cell_type": "markdown",
   "metadata": {},
   "source": [
    "### Accessing Dictionary Items\n",
    "\n",
    "`dict_value = dict_name[\"key\"]`\n",
    "\n",
    "`dict_value = dict_name.get(\"key\")`"
   ]
  },
  {
   "cell_type": "code",
   "execution_count": 13,
   "metadata": {},
   "outputs": [
    {
     "name": "stdout",
     "output_type": "stream",
     "text": [
      "Mustang\n"
     ]
    }
   ],
   "source": [
    "x = thisdict.get(\"model\")\n",
    "print(x)"
   ]
  },
  {
   "cell_type": "markdown",
   "metadata": {},
   "source": [
    "### Manipulating Dictionary Items**\n",
    "\n",
    "Some common manipulation tasks include the following:\n",
    "- Add items : `dict_name['color'] = 'blue'`\n",
    "- Delete items\n",
    "- Modify item value\n"
   ]
  },
  {
   "cell_type": "markdown",
   "metadata": {},
   "source": [
    "** Exercise 8: Manipulating Dictionaries**"
   ]
  },
  {
   "cell_type": "code",
   "execution_count": 14,
   "metadata": {},
   "outputs": [],
   "source": [
    "# Create dict\n",
    "thisdict =\t{\n",
    "  \"brand\": \"Ford\",\n",
    "  \"model\": \"Mustang\",\n",
    "  \"year\": 1964\n",
    "}\n",
    "\n",
    "\n",
    "# Change the \"year\" value from 1964 to 2018.\n",
    "\n",
    "\n",
    "# Add another item with key 'mileage' and value of your choice\n",
    "\n",
    "\n",
    "# Loop through items in a dictinary and print the key and value\n",
    "\n",
    "\n",
    "# Find number of items in a dictionary\n"
   ]
  },
  {
   "cell_type": "markdown",
   "metadata": {},
   "source": [
    "## Other Collections Data Types\n",
    "\n",
    "- Back to [Table of Contents](#Table-of-Contents)\n",
    "\n",
    "Python has many other collections/container data types. Two of the other common collections types are mentioned below:\n",
    "- Sets: A set is a collection which is unordered and unindexed. In Python sets are written with curly brackets.\n",
    "- Tuples : A tuple is a collection which is ordered and unchangeable. In Python tuples are written with round brackets."
   ]
  },
  {
   "cell_type": "markdown",
   "metadata": {},
   "source": [
    "** Exercise 9: Learn More about Sets and Tuples**\n",
    "- How to create them\n",
    "- How to access items, how to add (if possible) e.t.c"
   ]
  },
  {
   "cell_type": "markdown",
   "metadata": {},
   "source": [
    "# Python Conditions and If Statements\n",
    "- Back to [Table of Contents](#Table-of-Contents)\n",
    "\n",
    "Python supports the usual logical conditions from mathematics:\n",
    "\n",
    "- Equals: `a == b`\n",
    "- Not Equals: `a != b`\n",
    "- Less than: `a < b`\n",
    "- Less than or equal to: `a <= b`\n",
    "- Greater than: `a > b`\n",
    "- Greater than or equal to: `a >= b`\n",
    "\n",
    "and the logical operators:\n",
    "- and: used to combine logical statements\n",
    "- or: also used to combine logical operators\n",
    "\n",
    "These conditions can be used in several ways, most commonly in \"if statements\" and loops. An \"if statement\" is written by using the *if* keyword as shown in example below:"
   ]
  },
  {
   "cell_type": "code",
   "execution_count": 15,
   "metadata": {},
   "outputs": [
    {
     "name": "stdout",
     "output_type": "stream",
     "text": [
      "b is greater than a\n"
     ]
    }
   ],
   "source": [
    "a = 33\n",
    "b = 200\n",
    "if b > a:\n",
    "  print(\"b is greater than a\")"
   ]
  },
  {
   "cell_type": "markdown",
   "metadata": {},
   "source": [
    "## Indentation\n",
    "Python relies on indentation, using whitespace, to define scope in the code. Other programming languages often use curly-brackets for this purpose.\n",
    "\n",
    "The example below will not work."
   ]
  },
  {
   "cell_type": "code",
   "execution_count": 16,
   "metadata": {},
   "outputs": [
    {
     "ename": "IndentationError",
     "evalue": "expected an indented block (<ipython-input-16-d66cdb5714da>, line 2)",
     "output_type": "error",
     "traceback": [
      "\u001b[0;36m  File \u001b[0;32m\"<ipython-input-16-d66cdb5714da>\"\u001b[0;36m, line \u001b[0;32m2\u001b[0m\n\u001b[0;31m    print(\"b is greater than a\") # you will get an error\u001b[0m\n\u001b[0m        ^\u001b[0m\n\u001b[0;31mIndentationError\u001b[0m\u001b[0;31m:\u001b[0m expected an indented block\n"
     ]
    }
   ],
   "source": [
    "if b > a:\n",
    "print(\"b is greater than a\") # you will get an error"
   ]
  },
  {
   "cell_type": "markdown",
   "metadata": {},
   "source": [
    "## elif, else\n",
    "- The elif keyword is pythons way of saying \"if the previous conditions were not true, then try this condition\".\n",
    "- The else keyword catches anything which isn't caught by the preceding conditions."
   ]
  },
  {
   "cell_type": "code",
   "execution_count": null,
   "metadata": {},
   "outputs": [],
   "source": [
    "a = 33\n",
    "b = 33\n",
    "if b > a:\n",
    "  print(\"b is greater than a\")\n",
    "elif a == b:\n",
    "  print(\"a and b are equal\")"
   ]
  },
  {
   "cell_type": "code",
   "execution_count": null,
   "metadata": {},
   "outputs": [],
   "source": [
    "a = 200\n",
    "b = 33\n",
    "if b > a:\n",
    "  print(\"b is greater than a\")\n",
    "elif a == b:\n",
    "  print(\"a and b are equal\")\n",
    "else:\n",
    "  print(\"a is greater than b\")"
   ]
  },
  {
   "cell_type": "markdown",
   "metadata": {},
   "source": [
    "** Exercise 10: If, else, elif statements **"
   ]
  },
  {
   "cell_type": "code",
   "execution_count": null,
   "metadata": {},
   "outputs": [],
   "source": [
    "a = 50\n",
    "b = 10\n",
    "\n",
    "# Print Hello World if a is greater than b.\n",
    "\n",
    "\n",
    "# Print \"Hello World if a is not equal to b.\n",
    "\n",
    "\n",
    "# Print \"Yes\" if a is equal to b, otherwise print \"No\".\n",
    "\n",
    "\n",
    "# Print \"1\" if a is equal to b, print \"2\" if a is greater than b, otherwise print \"3\"."
   ]
  },
  {
   "cell_type": "markdown",
   "metadata": {},
   "source": [
    "## Loops\n",
    "\n",
    "Python has two primitive loop commands:\n",
    "\n",
    "- while loops\n",
    "- for loops"
   ]
  },
  {
   "cell_type": "markdown",
   "metadata": {},
   "source": [
    "### The while Loop \n",
    "\n",
    "With the while loop we can execute a set of statements as long as a condition is true."
   ]
  },
  {
   "cell_type": "code",
   "execution_count": null,
   "metadata": {},
   "outputs": [],
   "source": [
    "# Print i as long as i is less than 6:\n",
    "i = 1\n",
    "while i < 6:\n",
    "  print(i)\n",
    "  i += 1"
   ]
  },
  {
   "cell_type": "markdown",
   "metadata": {},
   "source": [
    "### The break and continue Statement\n",
    "\n",
    "With the break statement we can stop the loop even if the while condition is true. With the continue statement we can stop the current iteration, and continue with the next:"
   ]
  },
  {
   "cell_type": "code",
   "execution_count": null,
   "metadata": {},
   "outputs": [],
   "source": [
    "i = 1\n",
    "while i < 6:\n",
    "  print(i)\n",
    "  if i == 3:\n",
    "    break\n",
    "  i += 1"
   ]
  },
  {
   "cell_type": "code",
   "execution_count": null,
   "metadata": {},
   "outputs": [],
   "source": [
    "i = 0\n",
    "while i < 6:\n",
    "  i += 1 \n",
    "  if i == 3:\n",
    "    continue\n",
    "  print(i)"
   ]
  },
  {
   "cell_type": "markdown",
   "metadata": {},
   "source": [
    "### Python For Loop\n",
    "\n",
    "A for loop is used for iterating over a sequence (that is either a list, a tuple, a dictionary, a set, or a string).\n",
    "\n",
    "This is less like the for keyword in other programming language, and works more like an iterator method as found in other object-orientated programming languages.\n",
    "\n",
    "With the for loop we can execute a set of statements, once for each item in a list, tuple, set etc."
   ]
  },
  {
   "cell_type": "code",
   "execution_count": null,
   "metadata": {},
   "outputs": [],
   "source": [
    "fruits = [\"apple\", \"banana\", \"cherry\"]\n",
    "for x in fruits:\n",
    "  print(x)"
   ]
  },
  {
   "cell_type": "markdown",
   "metadata": {},
   "source": [
    "** Exercise 11: Loops**"
   ]
  },
  {
   "cell_type": "code",
   "execution_count": null,
   "metadata": {},
   "outputs": [],
   "source": [
    "fruits = [\"apple\", \"banana\", \"cherry\"]\n",
    "\n",
    "# Loop through all items in fruits\n",
    "\n",
    "# Loop through the items but this item when item is equal to 'banana', jump terminate the loop\n"
   ]
  },
  {
   "cell_type": "markdown",
   "metadata": {},
   "source": [
    "# Python Functions and Packages\n",
    "- Back to [Table of Contents](#Table-of-Contents)"
   ]
  },
  {
   "cell_type": "markdown",
   "metadata": {},
   "source": [
    "## Functions\n",
    "\n",
    "A function is a block of code which only runs when it is called. You can pass data, known as parameters, into a function. A function can return data as a result."
   ]
  },
  {
   "cell_type": "markdown",
   "metadata": {},
   "source": [
    "### Creating aand Calling Python Functions\n",
    "\n",
    "In Python a function is defined using the def keyword as below:\n",
    "\n",
    "`def function_name:\n",
    "    do something cool here`\n"
   ]
  },
  {
   "cell_type": "code",
   "execution_count": null,
   "metadata": {},
   "outputs": [],
   "source": [
    "# Create a function\n",
    "def my_function():\n",
    "  print(\"Hello from a function\")"
   ]
  },
  {
   "cell_type": "code",
   "execution_count": null,
   "metadata": {},
   "outputs": [],
   "source": [
    "# Call a Function\n",
    "my_function()"
   ]
  },
  {
   "cell_type": "markdown",
   "metadata": {},
   "source": [
    "### Function Parameters\n",
    "Information can be passed to functions as parameter. Parameters are specified after the function name, inside the parentheses. You can add as many parameters as you want, just separate them with a comma.\n",
    "The following example has a function with one parameter (fname). When the function is called, we pass along a first name, which is used inside the function to print the full name:"
   ]
  },
  {
   "cell_type": "code",
   "execution_count": null,
   "metadata": {},
   "outputs": [],
   "source": [
    "def my_function(fname):\n",
    "  print(\"{} Refsnes\".format(fname))\n",
    "\n",
    "my_function(\"Emil\")\n",
    "my_function(\"Tobias\")\n",
    "my_function(\"Linus\")"
   ]
  },
  {
   "cell_type": "markdown",
   "metadata": {},
   "source": [
    "### Function Return Values\n",
    "To let a function return a value, use the return statement:"
   ]
  },
  {
   "cell_type": "code",
   "execution_count": null,
   "metadata": {},
   "outputs": [],
   "source": [
    "def my_function(x):\n",
    "  return 5 * x"
   ]
  },
  {
   "cell_type": "code",
   "execution_count": null,
   "metadata": {},
   "outputs": [],
   "source": [
    "print(my_function(3))\n",
    "print(my_function(5))\n",
    "print(my_function(9))"
   ]
  },
  {
   "cell_type": "markdown",
   "metadata": {},
   "source": [
    "** Exercise 12: Function Basics**\n",
    "\n",
    "For readability, define each function in a separate cell."
   ]
  },
  {
   "cell_type": "code",
   "execution_count": null,
   "metadata": {},
   "outputs": [],
   "source": [
    "# Define a function which takes in a person's first name and last name and prints them\n",
    "\n",
    "# Call your function defined above\n",
    "\n",
    "# Using % define a another function which takes in a number and returns its remainder\n",
    "\n",
    "# call the function"
   ]
  },
  {
   "cell_type": "markdown",
   "metadata": {},
   "source": [
    "### Common Built in Functions\n",
    "Out of the box, Python offers a bunch of built-in functions that are always available to make your life as a data scientist easier. Some of these functions are listed below:\n",
    "\n",
    "- print()\n",
    "- max()\n",
    "- round()\n",
    "- range()\n",
    "- type()\n",
    "- len()\n",
    "\n",
    "You can find more of these functions [here](https://docs.python.org/3/library/functions.html#func-range)"
   ]
  },
  {
   "cell_type": "code",
   "execution_count": null,
   "metadata": {},
   "outputs": [],
   "source": [
    "for i in range(10):\n",
    "    print(i)"
   ]
  },
  {
   "cell_type": "code",
   "execution_count": null,
   "metadata": {},
   "outputs": [],
   "source": [
    "# Create variables var1 and var2\n",
    "var1 = [1, 2, 3, 4]\n",
    "var2 = True\n",
    "\n",
    "# Print out type of var1\n",
    "\n",
    "\n",
    "# Print out length of var1\n",
    "\n",
    "\n",
    "# Convert var2 to an integer: out2\n"
   ]
  },
  {
   "cell_type": "markdown",
   "metadata": {},
   "source": [
    "## Modules and Packages\n",
    "**What is a Module?**\n",
    "\n",
    "Consider a module to be the same as a code library: A file containing a set of functions you want to include in your application."
   ]
  },
  {
   "cell_type": "markdown",
   "metadata": {},
   "source": [
    "### Creating a Module\n",
    "To create a module just save the code you want in a file with the file extension .py: Follow these steps to create your own module:\n",
    "- Open Atom (A text editor) text editor \n",
    "- Copy and paste the function below\n",
    "- Save the file with *.py* extension\n",
    "- Save the file in the same folder where the notebook is"
   ]
  },
  {
   "cell_type": "code",
   "execution_count": null,
   "metadata": {},
   "outputs": [],
   "source": [
    "def greeting(name):\n",
    "  print(\"Hello, \" + name)"
   ]
  },
  {
   "cell_type": "markdown",
   "metadata": {},
   "source": [
    "### Using a Module\n",
    "Now we can use the module we just created, by using the import statement"
   ]
  },
  {
   "cell_type": "code",
   "execution_count": null,
   "metadata": {},
   "outputs": [],
   "source": [
    "import mymodule\n",
    "mymodule.greeting(\"Jonathan\")"
   ]
  },
  {
   "cell_type": "markdown",
   "metadata": {},
   "source": [
    "### What is a Package?\n",
    "\n",
    "A collection of modules. Please see below a screenshot which shows how a package differs from a module."
   ]
  },
  {
   "cell_type": "code",
   "execution_count": null,
   "metadata": {
    "scrolled": true
   },
   "outputs": [],
   "source": [
    "from IPython.display import Image\n",
    "Image(\"module_package.png\")"
   ]
  },
  {
   "cell_type": "markdown",
   "metadata": {},
   "source": [
    "### Built in Modules and Packages\n",
    "Python is a language which comes with **batteries** included. This refers to the fact that they are many built in packages. These packages can be used on the fly unlike user contributed functions as we will see later on which needs to be installed. Some of the following:\n",
    "- Maths \n",
    "- Collections\n",
    "- Systems\n",
    "- os"
   ]
  },
  {
   "cell_type": "markdown",
   "metadata": {},
   "source": [
    "** Using Built-in Packages**"
   ]
  },
  {
   "cell_type": "code",
   "execution_count": null,
   "metadata": {},
   "outputs": [],
   "source": [
    "import math\n",
    "\n",
    "# Use dir() to find available functions from the package after you have imported it\n",
    "dir(math)\n",
    "\n",
    "# Calculate log of 10\n",
    "log10 = math.log10(10)\n",
    "print(log10)"
   ]
  },
  {
   "cell_type": "markdown",
   "metadata": {},
   "source": [
    "** Exercise 13: Use the os module to find how many files are in your working folder right now**"
   ]
  },
  {
   "cell_type": "code",
   "execution_count": null,
   "metadata": {},
   "outputs": [],
   "source": [
    "# import the os module\n",
    "\n",
    "# check the function which you can use to list files ans directories in your folder\n",
    "\n",
    "# create a variable representing full path of your working folder\n",
    "\n",
    "# Use the appropriate os function to list files and directories\n",
    "\n",
    "# Use the list len() metjod to find number of items in the folder"
   ]
  },
  {
   "cell_type": "markdown",
   "metadata": {},
   "source": [
    "## Python Package Ecosystem\n",
    "- Back to [Table of Contents](#Table-of-Contents)\n",
    "\n",
    "In addition to the built-in functions or Python Standard Library, Python community of developers \n",
    "contribute software packages. Package authors use [Python Package Index(PyPI)](https://pypi.org) to distribute their packages. Inorder to use any of these packages, you have to install them first as follows:\n",
    " - Install pip: pip is already installed if you are using Python 2 >=2.7.9 or Python 3 >=3.4 downloaded from python.org or if you are working in a Virtual Environment created by virtualenv or pyvenv. Just make sure to upgrade pip.\n",
    " - Install the package: `pip install \"SomeProject`\n",
    " - Use the package with import statement\n",
    "\n",
    "In our case, we installed Python using [Anaconda](https://www.anaconda.com/what-is-anaconda/) which installs for us all the most common packages."
   ]
  },
  {
   "cell_type": "markdown",
   "metadata": {},
   "source": [
    "# Resources For Learning Python\n",
    "\n",
    "- Back to [Table of Contents](#Table-of-Contents)\n",
    "\n",
    "You can extra materials on learning Python:\n",
    "\n",
    "- [Official Python Website](https://www.python.org)\n",
    "- [Learn Python the Hard Way](https://learnpythonthehardway.org)\n",
    "- [Automate the Boring Stuff with Python](https://automatetheboringstuff.com)"
   ]
  },
  {
   "cell_type": "code",
   "execution_count": null,
   "metadata": {},
   "outputs": [],
   "source": []
  }
 ],
 "metadata": {
  "kernelspec": {
   "display_name": "Python 3",
   "language": "python",
   "name": "python3"
  },
  "language_info": {
   "codemirror_mode": {
    "name": "ipython",
    "version": 3
   },
   "file_extension": ".py",
   "mimetype": "text/x-python",
   "name": "python",
   "nbconvert_exporter": "python",
   "pygments_lexer": "ipython3",
   "version": "3.6.5"
  },
  "toc": {
   "base_numbering": 1,
   "nav_menu": {},
   "number_sections": true,
   "sideBar": true,
   "skip_h1_title": false,
   "title_cell": "Table of Contents",
   "title_sidebar": "Contents",
   "toc_cell": false,
   "toc_position": {
    "height": "calc(100% - 180px)",
    "left": "10px",
    "top": "150px",
    "width": "326px"
   },
   "toc_section_display": true,
   "toc_window_display": true
  }
 },
 "nbformat": 4,
 "nbformat_minor": 2
}
