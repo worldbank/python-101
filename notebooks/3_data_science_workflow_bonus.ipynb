{
 "cells": [
  {
   "cell_type": "markdown",
   "metadata": {},
   "source": [
    "    \n",
    "# DATA DAY TRAINING: Intro to Python\n",
    "\n",
    "## Exploring the Better Life Index (OECD) and GDP Per Capita (IMF WEO)\n",
    "\n"
   ]
  },
  {
   "cell_type": "markdown",
   "metadata": {},
   "source": [
    "## Data Source:\n",
    "\n",
    "For this notebook, we downloaded the Better Life Index data for 2016 (BLI2016.csv) from the OECD Better Life Index Page(https://stats.oecd.org/Index.aspx?DataSetCode=BLI) and the GDP per capita data for 2016 from the IMF's World Economic Outlook (http://homl.info/5). Data definitions available at the end of this notebook."
   ]
  },
  {
   "cell_type": "markdown",
   "metadata": {},
   "source": [
    "# Importing libraries"
   ]
  },
  {
   "cell_type": "code",
   "execution_count": 68,
   "metadata": {},
   "outputs": [],
   "source": [
    "import xlrd\n",
    "import numpy as np\n",
    "import pandas as pd\n",
    "import matplotlib.pyplot as plt\n",
    "import statsmodels.api as sm\n",
    "from matplotlib import pylab\n",
    "from matplotlib.pyplot import figure\n",
    "from sklearn.linear_model import LinearRegression"
   ]
  },
  {
   "cell_type": "markdown",
   "metadata": {},
   "source": [
    "# Read data into a python dataframe (life satisfaction)"
   ]
  },
  {
   "cell_type": "code",
   "execution_count": 69,
   "metadata": {},
   "outputs": [],
   "source": [
    "# set the path to the OECD dataset with data from 2015 on life satisfaction and time spent on leisure+personal care\n",
    "PATH1 = '/Users/dharanarijal/Desktop/OECDY/BLI2015.csv'"
   ]
  },
  {
   "cell_type": "code",
   "execution_count": 70,
   "metadata": {},
   "outputs": [],
   "source": [
    "# read csv file into a dataframe\n",
    "df1 = pd.read_csv(PATH1)"
   ]
  },
  {
   "cell_type": "code",
   "execution_count": 71,
   "metadata": {},
   "outputs": [
    {
     "data": {
      "text/plain": [
       "(3292, 17)"
      ]
     },
     "execution_count": 71,
     "metadata": {},
     "output_type": "execute_result"
    }
   ],
   "source": [
    "#Shape of the dataframe: (# of observations, #of columns)\n",
    "df1.shape"
   ]
  },
  {
   "cell_type": "code",
   "execution_count": 72,
   "metadata": {},
   "outputs": [
    {
     "name": "stdout",
     "output_type": "stream",
     "text": [
      "Index(['LOCATION', 'Country', 'INDICATOR', 'Indicator', 'MEASURE', 'Measure',\n",
      "       'INEQUALITY', 'Inequality', 'Unit Code', 'Unit', 'PowerCode Code',\n",
      "       'PowerCode', 'Reference Period Code', 'Reference Period', 'Value',\n",
      "       'Flag Codes', 'Flags'],\n",
      "      dtype='object')\n"
     ]
    }
   ],
   "source": [
    "#names of all columns\n",
    "print(df1.columns)"
   ]
  },
  {
   "cell_type": "code",
   "execution_count": 74,
   "metadata": {},
   "outputs": [
    {
     "data": {
      "text/html": [
       "<div>\n",
       "<style scoped>\n",
       "    .dataframe tbody tr th:only-of-type {\n",
       "        vertical-align: middle;\n",
       "    }\n",
       "\n",
       "    .dataframe tbody tr th {\n",
       "        vertical-align: top;\n",
       "    }\n",
       "\n",
       "    .dataframe thead th {\n",
       "        text-align: right;\n",
       "    }\n",
       "</style>\n",
       "<table border=\"1\" class=\"dataframe\">\n",
       "  <thead>\n",
       "    <tr style=\"text-align: right;\">\n",
       "      <th></th>\n",
       "      <th>LOCATION</th>\n",
       "      <th>Country</th>\n",
       "      <th>INDICATOR</th>\n",
       "      <th>Indicator</th>\n",
       "      <th>MEASURE</th>\n",
       "      <th>Measure</th>\n",
       "      <th>INEQUALITY</th>\n",
       "      <th>Inequality</th>\n",
       "      <th>Unit Code</th>\n",
       "      <th>Unit</th>\n",
       "      <th>PowerCode Code</th>\n",
       "      <th>PowerCode</th>\n",
       "      <th>Reference Period Code</th>\n",
       "      <th>Reference Period</th>\n",
       "      <th>Value</th>\n",
       "      <th>Flag Codes</th>\n",
       "      <th>Flags</th>\n",
       "    </tr>\n",
       "  </thead>\n",
       "  <tbody>\n",
       "    <tr>\n",
       "      <th>0</th>\n",
       "      <td>AUS</td>\n",
       "      <td>Australia</td>\n",
       "      <td>HO_BASE</td>\n",
       "      <td>Dwellings without basic facilities</td>\n",
       "      <td>L</td>\n",
       "      <td>Value</td>\n",
       "      <td>TOT</td>\n",
       "      <td>Total</td>\n",
       "      <td>PC</td>\n",
       "      <td>Percentage</td>\n",
       "      <td>0</td>\n",
       "      <td>Units</td>\n",
       "      <td>NaN</td>\n",
       "      <td>NaN</td>\n",
       "      <td>1.1</td>\n",
       "      <td>E</td>\n",
       "      <td>Estimated value</td>\n",
       "    </tr>\n",
       "    <tr>\n",
       "      <th>1</th>\n",
       "      <td>AUT</td>\n",
       "      <td>Austria</td>\n",
       "      <td>HO_BASE</td>\n",
       "      <td>Dwellings without basic facilities</td>\n",
       "      <td>L</td>\n",
       "      <td>Value</td>\n",
       "      <td>TOT</td>\n",
       "      <td>Total</td>\n",
       "      <td>PC</td>\n",
       "      <td>Percentage</td>\n",
       "      <td>0</td>\n",
       "      <td>Units</td>\n",
       "      <td>NaN</td>\n",
       "      <td>NaN</td>\n",
       "      <td>1.0</td>\n",
       "      <td>NaN</td>\n",
       "      <td>NaN</td>\n",
       "    </tr>\n",
       "  </tbody>\n",
       "</table>\n",
       "</div>"
      ],
      "text/plain": [
       "  LOCATION    Country INDICATOR                           Indicator MEASURE  \\\n",
       "0      AUS  Australia   HO_BASE  Dwellings without basic facilities       L   \n",
       "1      AUT    Austria   HO_BASE  Dwellings without basic facilities       L   \n",
       "\n",
       "  Measure INEQUALITY Inequality Unit Code        Unit  PowerCode Code  \\\n",
       "0   Value        TOT      Total        PC  Percentage               0   \n",
       "1   Value        TOT      Total        PC  Percentage               0   \n",
       "\n",
       "  PowerCode  Reference Period Code  Reference Period  Value Flag Codes  \\\n",
       "0     Units                    NaN               NaN    1.1          E   \n",
       "1     Units                    NaN               NaN    1.0        NaN   \n",
       "\n",
       "             Flags  \n",
       "0  Estimated value  \n",
       "1              NaN  "
      ]
     },
     "execution_count": 74,
     "metadata": {},
     "output_type": "execute_result"
    }
   ],
   "source": [
    "#first five observations\n",
    "df1.head(2)"
   ]
  },
  {
   "cell_type": "code",
   "execution_count": 75,
   "metadata": {},
   "outputs": [],
   "source": [
    "# creating a dataframe with only the columns needed\n",
    "df1=df1[['LOCATION','Country','INDICATOR','Inequality','Unit','Value']]"
   ]
  },
  {
   "cell_type": "code",
   "execution_count": 76,
   "metadata": {},
   "outputs": [
    {
     "data": {
      "text/html": [
       "<div>\n",
       "<style scoped>\n",
       "    .dataframe tbody tr th:only-of-type {\n",
       "        vertical-align: middle;\n",
       "    }\n",
       "\n",
       "    .dataframe tbody tr th {\n",
       "        vertical-align: top;\n",
       "    }\n",
       "\n",
       "    .dataframe thead th {\n",
       "        text-align: right;\n",
       "    }\n",
       "</style>\n",
       "<table border=\"1\" class=\"dataframe\">\n",
       "  <thead>\n",
       "    <tr style=\"text-align: right;\">\n",
       "      <th></th>\n",
       "      <th>LOCATION</th>\n",
       "      <th>Country</th>\n",
       "      <th>INDICATOR</th>\n",
       "      <th>Inequality</th>\n",
       "      <th>Unit</th>\n",
       "      <th>Value</th>\n",
       "    </tr>\n",
       "  </thead>\n",
       "  <tbody>\n",
       "    <tr>\n",
       "      <th>0</th>\n",
       "      <td>AUS</td>\n",
       "      <td>Australia</td>\n",
       "      <td>HO_BASE</td>\n",
       "      <td>Total</td>\n",
       "      <td>Percentage</td>\n",
       "      <td>1.1</td>\n",
       "    </tr>\n",
       "    <tr>\n",
       "      <th>1</th>\n",
       "      <td>AUT</td>\n",
       "      <td>Austria</td>\n",
       "      <td>HO_BASE</td>\n",
       "      <td>Total</td>\n",
       "      <td>Percentage</td>\n",
       "      <td>1.0</td>\n",
       "    </tr>\n",
       "    <tr>\n",
       "      <th>2</th>\n",
       "      <td>BEL</td>\n",
       "      <td>Belgium</td>\n",
       "      <td>HO_BASE</td>\n",
       "      <td>Total</td>\n",
       "      <td>Percentage</td>\n",
       "      <td>2.0</td>\n",
       "    </tr>\n",
       "    <tr>\n",
       "      <th>3</th>\n",
       "      <td>CAN</td>\n",
       "      <td>Canada</td>\n",
       "      <td>HO_BASE</td>\n",
       "      <td>Total</td>\n",
       "      <td>Percentage</td>\n",
       "      <td>0.2</td>\n",
       "    </tr>\n",
       "    <tr>\n",
       "      <th>4</th>\n",
       "      <td>CZE</td>\n",
       "      <td>Czech Republic</td>\n",
       "      <td>HO_BASE</td>\n",
       "      <td>Total</td>\n",
       "      <td>Percentage</td>\n",
       "      <td>0.9</td>\n",
       "    </tr>\n",
       "  </tbody>\n",
       "</table>\n",
       "</div>"
      ],
      "text/plain": [
       "  LOCATION         Country INDICATOR Inequality        Unit  Value\n",
       "0      AUS       Australia   HO_BASE      Total  Percentage    1.1\n",
       "1      AUT         Austria   HO_BASE      Total  Percentage    1.0\n",
       "2      BEL         Belgium   HO_BASE      Total  Percentage    2.0\n",
       "3      CAN          Canada   HO_BASE      Total  Percentage    0.2\n",
       "4      CZE  Czech Republic   HO_BASE      Total  Percentage    0.9"
      ]
     },
     "execution_count": 76,
     "metadata": {},
     "output_type": "execute_result"
    }
   ],
   "source": [
    "# first five observations for this new dataframe\n",
    "df1.head()"
   ]
  },
  {
   "cell_type": "code",
   "execution_count": 77,
   "metadata": {},
   "outputs": [],
   "source": [
    "#renaming all columns so they're lowercase\n",
    "df1.rename(columns={'LOCATION':'location', 'Country':'country', 'INDICATOR':'indicator','Inequality':'inequality','Unit':'unit', 'Value':'value'}, \n",
    "                 inplace=True)"
   ]
  },
  {
   "cell_type": "code",
   "execution_count": 78,
   "metadata": {},
   "outputs": [],
   "source": [
    "# subsetting dataframe with only those observations that have the indicator SW_LIFS for life satisfaction index\n",
    "df1_sat=df1.loc[df1['indicator'] == \"SW_LIFS\"]"
   ]
  },
  {
   "cell_type": "code",
   "execution_count": 79,
   "metadata": {},
   "outputs": [
    {
     "data": {
      "text/html": [
       "<div>\n",
       "<style scoped>\n",
       "    .dataframe tbody tr th:only-of-type {\n",
       "        vertical-align: middle;\n",
       "    }\n",
       "\n",
       "    .dataframe tbody tr th {\n",
       "        vertical-align: top;\n",
       "    }\n",
       "\n",
       "    .dataframe thead th {\n",
       "        text-align: right;\n",
       "    }\n",
       "</style>\n",
       "<table border=\"1\" class=\"dataframe\">\n",
       "  <thead>\n",
       "    <tr style=\"text-align: right;\">\n",
       "      <th></th>\n",
       "      <th>location</th>\n",
       "      <th>country</th>\n",
       "      <th>indicator</th>\n",
       "      <th>inequality</th>\n",
       "      <th>unit</th>\n",
       "      <th>value</th>\n",
       "    </tr>\n",
       "  </thead>\n",
       "  <tbody>\n",
       "    <tr>\n",
       "      <th>2669</th>\n",
       "      <td>AUS</td>\n",
       "      <td>Australia</td>\n",
       "      <td>SW_LIFS</td>\n",
       "      <td>Total</td>\n",
       "      <td>Average score</td>\n",
       "      <td>7.3</td>\n",
       "    </tr>\n",
       "    <tr>\n",
       "      <th>2670</th>\n",
       "      <td>AUT</td>\n",
       "      <td>Austria</td>\n",
       "      <td>SW_LIFS</td>\n",
       "      <td>Total</td>\n",
       "      <td>Average score</td>\n",
       "      <td>6.9</td>\n",
       "    </tr>\n",
       "    <tr>\n",
       "      <th>2671</th>\n",
       "      <td>BEL</td>\n",
       "      <td>Belgium</td>\n",
       "      <td>SW_LIFS</td>\n",
       "      <td>Total</td>\n",
       "      <td>Average score</td>\n",
       "      <td>6.9</td>\n",
       "    </tr>\n",
       "    <tr>\n",
       "      <th>2672</th>\n",
       "      <td>CAN</td>\n",
       "      <td>Canada</td>\n",
       "      <td>SW_LIFS</td>\n",
       "      <td>Total</td>\n",
       "      <td>Average score</td>\n",
       "      <td>7.3</td>\n",
       "    </tr>\n",
       "    <tr>\n",
       "      <th>2673</th>\n",
       "      <td>CZE</td>\n",
       "      <td>Czech Republic</td>\n",
       "      <td>SW_LIFS</td>\n",
       "      <td>Total</td>\n",
       "      <td>Average score</td>\n",
       "      <td>6.5</td>\n",
       "    </tr>\n",
       "  </tbody>\n",
       "</table>\n",
       "</div>"
      ],
      "text/plain": [
       "     location         country indicator inequality           unit  value\n",
       "2669      AUS       Australia   SW_LIFS      Total  Average score    7.3\n",
       "2670      AUT         Austria   SW_LIFS      Total  Average score    6.9\n",
       "2671      BEL         Belgium   SW_LIFS      Total  Average score    6.9\n",
       "2672      CAN          Canada   SW_LIFS      Total  Average score    7.3\n",
       "2673      CZE  Czech Republic   SW_LIFS      Total  Average score    6.5"
      ]
     },
     "execution_count": 79,
     "metadata": {},
     "output_type": "execute_result"
    }
   ],
   "source": [
    "# first five observations in this dataframe\n",
    "df1_sat.head()"
   ]
  },
  {
   "cell_type": "markdown",
   "metadata": {},
   "source": [
    "# Read data into a python dataframe (time spent on leisure and self care)"
   ]
  },
  {
   "cell_type": "code",
   "execution_count": 80,
   "metadata": {},
   "outputs": [],
   "source": [
    "# subsetting dataframe with only those observations that \n",
    "# have the indicator WL_TNOW that gives the number of hours per day \n",
    "# that people spend on leisure or personal care\n",
    "\n",
    "df1_lei=df1.loc[df1['indicator'] == \"WL_TNOW\"]"
   ]
  },
  {
   "cell_type": "code",
   "execution_count": 81,
   "metadata": {},
   "outputs": [
    {
     "data": {
      "text/html": [
       "<div>\n",
       "<style scoped>\n",
       "    .dataframe tbody tr th:only-of-type {\n",
       "        vertical-align: middle;\n",
       "    }\n",
       "\n",
       "    .dataframe tbody tr th {\n",
       "        vertical-align: top;\n",
       "    }\n",
       "\n",
       "    .dataframe thead th {\n",
       "        text-align: right;\n",
       "    }\n",
       "</style>\n",
       "<table border=\"1\" class=\"dataframe\">\n",
       "  <thead>\n",
       "    <tr style=\"text-align: right;\">\n",
       "      <th></th>\n",
       "      <th>location</th>\n",
       "      <th>country</th>\n",
       "      <th>indicator</th>\n",
       "      <th>inequality</th>\n",
       "      <th>unit</th>\n",
       "      <th>value</th>\n",
       "    </tr>\n",
       "  </thead>\n",
       "  <tbody>\n",
       "    <tr>\n",
       "      <th>3181</th>\n",
       "      <td>AUS</td>\n",
       "      <td>Australia</td>\n",
       "      <td>WL_TNOW</td>\n",
       "      <td>Total</td>\n",
       "      <td>Hours</td>\n",
       "      <td>14.41</td>\n",
       "    </tr>\n",
       "    <tr>\n",
       "      <th>3182</th>\n",
       "      <td>AUT</td>\n",
       "      <td>Austria</td>\n",
       "      <td>WL_TNOW</td>\n",
       "      <td>Total</td>\n",
       "      <td>Hours</td>\n",
       "      <td>14.46</td>\n",
       "    </tr>\n",
       "    <tr>\n",
       "      <th>3183</th>\n",
       "      <td>BEL</td>\n",
       "      <td>Belgium</td>\n",
       "      <td>WL_TNOW</td>\n",
       "      <td>Total</td>\n",
       "      <td>Hours</td>\n",
       "      <td>15.71</td>\n",
       "    </tr>\n",
       "    <tr>\n",
       "      <th>3184</th>\n",
       "      <td>CAN</td>\n",
       "      <td>Canada</td>\n",
       "      <td>WL_TNOW</td>\n",
       "      <td>Total</td>\n",
       "      <td>Hours</td>\n",
       "      <td>14.25</td>\n",
       "    </tr>\n",
       "    <tr>\n",
       "      <th>3185</th>\n",
       "      <td>CZE</td>\n",
       "      <td>Czech Republic</td>\n",
       "      <td>WL_TNOW</td>\n",
       "      <td>Total</td>\n",
       "      <td>Hours</td>\n",
       "      <td>14.98</td>\n",
       "    </tr>\n",
       "  </tbody>\n",
       "</table>\n",
       "</div>"
      ],
      "text/plain": [
       "     location         country indicator inequality   unit  value\n",
       "3181      AUS       Australia   WL_TNOW      Total  Hours  14.41\n",
       "3182      AUT         Austria   WL_TNOW      Total  Hours  14.46\n",
       "3183      BEL         Belgium   WL_TNOW      Total  Hours  15.71\n",
       "3184      CAN          Canada   WL_TNOW      Total  Hours  14.25\n",
       "3185      CZE  Czech Republic   WL_TNOW      Total  Hours  14.98"
      ]
     },
     "execution_count": 81,
     "metadata": {},
     "output_type": "execute_result"
    }
   ],
   "source": [
    "# first five observations in this dataframe\n",
    "df1_lei.head()"
   ]
  },
  {
   "cell_type": "markdown",
   "metadata": {},
   "source": [
    "# Read data into a python dataframe (gdp per capita)"
   ]
  },
  {
   "cell_type": "code",
   "execution_count": 82,
   "metadata": {},
   "outputs": [],
   "source": [
    "# set the path to the IMF dataset that has GDP per capita data for 2015\n",
    "PATH2=\"/Users/dharanarijal/Desktop/OECDY/WEO_Data2016.xlsx\"\n",
    "xl=pd.ExcelFile(PATH2)\n",
    "df2=xl.parse(xl.sheet_names[0])"
   ]
  },
  {
   "cell_type": "code",
   "execution_count": 83,
   "metadata": {},
   "outputs": [],
   "source": [
    "#renaming all columns so they're lowercase\n",
    "df2.rename(columns={'Country':'country', 'Units':'units', 2015:'gdp_per_capita'}, \n",
    "                 inplace=True)"
   ]
  },
  {
   "cell_type": "code",
   "execution_count": 84,
   "metadata": {},
   "outputs": [
    {
     "name": "stdout",
     "output_type": "stream",
     "text": [
      "Index(['country', 'Subject Descriptor', 'units', 'Scale',\n",
      "       'Country/Series-specific Notes', 'gdp_per_capita',\n",
      "       'Estimates Start After'],\n",
      "      dtype='object')\n"
     ]
    }
   ],
   "source": [
    "#names of all columns\n",
    "print(df2.columns)"
   ]
  },
  {
   "cell_type": "code",
   "execution_count": 85,
   "metadata": {},
   "outputs": [],
   "source": [
    "# creating a dataframe with only the columns needed\n",
    "df2_gdp=df2[['country', 'units', 'gdp_per_capita']]"
   ]
  },
  {
   "cell_type": "code",
   "execution_count": 86,
   "metadata": {},
   "outputs": [
    {
     "data": {
      "text/html": [
       "<div>\n",
       "<style scoped>\n",
       "    .dataframe tbody tr th:only-of-type {\n",
       "        vertical-align: middle;\n",
       "    }\n",
       "\n",
       "    .dataframe tbody tr th {\n",
       "        vertical-align: top;\n",
       "    }\n",
       "\n",
       "    .dataframe thead th {\n",
       "        text-align: right;\n",
       "    }\n",
       "</style>\n",
       "<table border=\"1\" class=\"dataframe\">\n",
       "  <thead>\n",
       "    <tr style=\"text-align: right;\">\n",
       "      <th></th>\n",
       "      <th>country</th>\n",
       "      <th>units</th>\n",
       "      <th>gdp_per_capita</th>\n",
       "    </tr>\n",
       "  </thead>\n",
       "  <tbody>\n",
       "    <tr>\n",
       "      <th>0</th>\n",
       "      <td>Afghanistan</td>\n",
       "      <td>U.S. dollars</td>\n",
       "      <td>599.994</td>\n",
       "    </tr>\n",
       "    <tr>\n",
       "      <th>1</th>\n",
       "      <td>Albania</td>\n",
       "      <td>U.S. dollars</td>\n",
       "      <td>3995.383</td>\n",
       "    </tr>\n",
       "    <tr>\n",
       "      <th>2</th>\n",
       "      <td>Algeria</td>\n",
       "      <td>U.S. dollars</td>\n",
       "      <td>4318.135</td>\n",
       "    </tr>\n",
       "    <tr>\n",
       "      <th>3</th>\n",
       "      <td>Angola</td>\n",
       "      <td>U.S. dollars</td>\n",
       "      <td>4100.315</td>\n",
       "    </tr>\n",
       "    <tr>\n",
       "      <th>4</th>\n",
       "      <td>Antigua and Barbuda</td>\n",
       "      <td>U.S. dollars</td>\n",
       "      <td>14414.302</td>\n",
       "    </tr>\n",
       "  </tbody>\n",
       "</table>\n",
       "</div>"
      ],
      "text/plain": [
       "               country         units  gdp_per_capita\n",
       "0          Afghanistan  U.S. dollars         599.994\n",
       "1              Albania  U.S. dollars        3995.383\n",
       "2              Algeria  U.S. dollars        4318.135\n",
       "3               Angola  U.S. dollars        4100.315\n",
       "4  Antigua and Barbuda  U.S. dollars       14414.302"
      ]
     },
     "execution_count": 86,
     "metadata": {},
     "output_type": "execute_result"
    }
   ],
   "source": [
    "#first five observations in this new dataframe\n",
    "df2_gdp.head()"
   ]
  },
  {
   "cell_type": "code",
   "execution_count": 87,
   "metadata": {},
   "outputs": [
    {
     "data": {
      "text/plain": [
       "(189, 3)"
      ]
     },
     "execution_count": 87,
     "metadata": {},
     "output_type": "execute_result"
    }
   ],
   "source": [
    "# shape of new dataframe (# of observations, #of columns)\n",
    "df2_gdp.shape"
   ]
  },
  {
   "cell_type": "code",
   "execution_count": 88,
   "metadata": {},
   "outputs": [],
   "source": [
    "# merging the dataframes derived from OECD (life satisfaction) and IMF (gdp_per_capita)\n",
    "df=pd.merge(df1_sat, df2_gdp, on='country')"
   ]
  },
  {
   "cell_type": "code",
   "execution_count": 89,
   "metadata": {},
   "outputs": [
    {
     "data": {
      "text/html": [
       "<div>\n",
       "<style scoped>\n",
       "    .dataframe tbody tr th:only-of-type {\n",
       "        vertical-align: middle;\n",
       "    }\n",
       "\n",
       "    .dataframe tbody tr th {\n",
       "        vertical-align: top;\n",
       "    }\n",
       "\n",
       "    .dataframe thead th {\n",
       "        text-align: right;\n",
       "    }\n",
       "</style>\n",
       "<table border=\"1\" class=\"dataframe\">\n",
       "  <thead>\n",
       "    <tr style=\"text-align: right;\">\n",
       "      <th></th>\n",
       "      <th>location</th>\n",
       "      <th>country</th>\n",
       "      <th>indicator</th>\n",
       "      <th>inequality</th>\n",
       "      <th>unit</th>\n",
       "      <th>value</th>\n",
       "      <th>units</th>\n",
       "      <th>gdp_per_capita</th>\n",
       "    </tr>\n",
       "  </thead>\n",
       "  <tbody>\n",
       "    <tr>\n",
       "      <th>0</th>\n",
       "      <td>AUS</td>\n",
       "      <td>Australia</td>\n",
       "      <td>SW_LIFS</td>\n",
       "      <td>Total</td>\n",
       "      <td>Average score</td>\n",
       "      <td>7.3</td>\n",
       "      <td>U.S. dollars</td>\n",
       "      <td>50961.865</td>\n",
       "    </tr>\n",
       "    <tr>\n",
       "      <th>1</th>\n",
       "      <td>AUS</td>\n",
       "      <td>Australia</td>\n",
       "      <td>SW_LIFS</td>\n",
       "      <td>Men</td>\n",
       "      <td>Average score</td>\n",
       "      <td>7.2</td>\n",
       "      <td>U.S. dollars</td>\n",
       "      <td>50961.865</td>\n",
       "    </tr>\n",
       "    <tr>\n",
       "      <th>2</th>\n",
       "      <td>AUS</td>\n",
       "      <td>Australia</td>\n",
       "      <td>SW_LIFS</td>\n",
       "      <td>Women</td>\n",
       "      <td>Average score</td>\n",
       "      <td>7.4</td>\n",
       "      <td>U.S. dollars</td>\n",
       "      <td>50961.865</td>\n",
       "    </tr>\n",
       "    <tr>\n",
       "      <th>3</th>\n",
       "      <td>AUS</td>\n",
       "      <td>Australia</td>\n",
       "      <td>SW_LIFS</td>\n",
       "      <td>High</td>\n",
       "      <td>Average score</td>\n",
       "      <td>7.4</td>\n",
       "      <td>U.S. dollars</td>\n",
       "      <td>50961.865</td>\n",
       "    </tr>\n",
       "    <tr>\n",
       "      <th>4</th>\n",
       "      <td>AUS</td>\n",
       "      <td>Australia</td>\n",
       "      <td>SW_LIFS</td>\n",
       "      <td>Low</td>\n",
       "      <td>Average score</td>\n",
       "      <td>7.2</td>\n",
       "      <td>U.S. dollars</td>\n",
       "      <td>50961.865</td>\n",
       "    </tr>\n",
       "  </tbody>\n",
       "</table>\n",
       "</div>"
      ],
      "text/plain": [
       "  location    country indicator inequality           unit  value  \\\n",
       "0      AUS  Australia   SW_LIFS      Total  Average score    7.3   \n",
       "1      AUS  Australia   SW_LIFS        Men  Average score    7.2   \n",
       "2      AUS  Australia   SW_LIFS      Women  Average score    7.4   \n",
       "3      AUS  Australia   SW_LIFS       High  Average score    7.4   \n",
       "4      AUS  Australia   SW_LIFS        Low  Average score    7.2   \n",
       "\n",
       "          units  gdp_per_capita  \n",
       "0  U.S. dollars       50961.865  \n",
       "1  U.S. dollars       50961.865  \n",
       "2  U.S. dollars       50961.865  \n",
       "3  U.S. dollars       50961.865  \n",
       "4  U.S. dollars       50961.865  "
      ]
     },
     "execution_count": 89,
     "metadata": {},
     "output_type": "execute_result"
    }
   ],
   "source": [
    "# first five obvservatins of the merged dataset\n",
    "df.head()"
   ]
  },
  {
   "cell_type": "markdown",
   "metadata": {},
   "source": [
    "# Now we can start exploring the data"
   ]
  },
  {
   "cell_type": "code",
   "execution_count": 27,
   "metadata": {},
   "outputs": [
    {
     "name": "stdout",
     "output_type": "stream",
     "text": [
      "Denmark\n"
     ]
    }
   ],
   "source": [
    "#which country has maximum value for life satisfaction in 2015 \n",
    "max_sat = (df[df.inequality == 'Total'].value.idxmax())\n",
    "\n",
    "print(df[df.inequality=='Total']\n",
    ".loc[max_sat]\n",
    ".country)"
   ]
  },
  {
   "cell_type": "code",
   "execution_count": 28,
   "metadata": {},
   "outputs": [
    {
     "data": {
      "text/plain": [
       "7.5"
      ]
     },
     "execution_count": 28,
     "metadata": {},
     "output_type": "execute_result"
    }
   ],
   "source": [
    "#what is the highest value for life satisfaction in 2015\n",
    "df.loc[(df['inequality'] == 'Total'), 'value'].max()"
   ]
  },
  {
   "cell_type": "code",
   "execution_count": 29,
   "metadata": {},
   "outputs": [
    {
     "data": {
      "text/plain": [
       "location                    DNK\n",
       "country                 Denmark\n",
       "indicator               SW_LIFS\n",
       "inequality                Total\n",
       "unit              Average score\n",
       "value                       7.5\n",
       "units              U.S. dollars\n",
       "gdp_per_capita          52114.2\n",
       "Name: 24, dtype: object"
      ]
     },
     "execution_count": 29,
     "metadata": {},
     "output_type": "execute_result"
    }
   ],
   "source": [
    "#profile of country with highest value for life satisfaction in 2015\n",
    "df[df['inequality']=='Total'].loc[df[df['inequality']=='Total']['value'].idxmax()]"
   ]
  },
  {
   "cell_type": "code",
   "execution_count": 30,
   "metadata": {},
   "outputs": [
    {
     "data": {
      "text/plain": [
       "location                    GRC\n",
       "country                  Greece\n",
       "indicator               SW_LIFS\n",
       "inequality                Total\n",
       "unit              Average score\n",
       "value                       4.8\n",
       "units              U.S. dollars\n",
       "gdp_per_capita          18064.3\n",
       "Name: 43, dtype: object"
      ]
     },
     "execution_count": 30,
     "metadata": {},
     "output_type": "execute_result"
    }
   ],
   "source": [
    "#profile of country with lowest value for life satisfaction in 2015\n",
    "df[df['inequality']=='Total'].loc[df[df['inequality']=='Total']['value'].idxmin()]"
   ]
  },
  {
   "cell_type": "code",
   "execution_count": 31,
   "metadata": {},
   "outputs": [
    {
     "data": {
      "text/plain": [
       "location                    LUX\n",
       "country              Luxembourg\n",
       "indicator               SW_LIFS\n",
       "inequality                Total\n",
       "unit              Average score\n",
       "value                       6.9\n",
       "units              U.S. dollars\n",
       "gdp_per_capita           101994\n",
       "Name: 78, dtype: object"
      ]
     },
     "execution_count": 31,
     "metadata": {},
     "output_type": "execute_result"
    }
   ],
   "source": [
    "#Profile of country with the highest gdp per capita in 2015\n",
    "\n",
    "df[df['inequality']=='Total'].loc[df[df['inequality']=='Total']['gdp_per_capita'].idxmax()]"
   ]
  },
  {
   "cell_type": "code",
   "execution_count": 32,
   "metadata": {},
   "outputs": [
    {
     "data": {
      "text/plain": [
       "location                    BRA\n",
       "country                  Brazil\n",
       "indicator               SW_LIFS\n",
       "inequality                Total\n",
       "unit              Average score\n",
       "value                         7\n",
       "units              U.S. dollars\n",
       "gdp_per_capita             8670\n",
       "Name: 146, dtype: object"
      ]
     },
     "execution_count": 32,
     "metadata": {},
     "output_type": "execute_result"
    }
   ],
   "source": [
    "#Profile of country with the lowest GDP per capita in 2015\n",
    "\n",
    "df[df['inequality']=='Total'].loc[df[df['inequality']=='Total']['gdp_per_capita'].idxmin()]"
   ]
  },
  {
   "cell_type": "code",
   "execution_count": 33,
   "metadata": {},
   "outputs": [
    {
     "data": {
      "text/plain": [
       "location                    FIN\n",
       "country                 Finland\n",
       "indicator               SW_LIFS\n",
       "inequality                 High\n",
       "unit              Average score\n",
       "value                       7.9\n",
       "units              U.S. dollars\n",
       "gdp_per_capita            41974\n",
       "Name: 31, dtype: object"
      ]
     },
     "execution_count": 33,
     "metadata": {},
     "output_type": "execute_result"
    }
   ],
   "source": [
    "# when we don't filter for inequality=Total\n",
    "df.loc[df['value'].idxmax()]"
   ]
  },
  {
   "cell_type": "code",
   "execution_count": 34,
   "metadata": {},
   "outputs": [
    {
     "data": {
      "text/html": [
       "<div>\n",
       "<style scoped>\n",
       "    .dataframe tbody tr th:only-of-type {\n",
       "        vertical-align: middle;\n",
       "    }\n",
       "\n",
       "    .dataframe tbody tr th {\n",
       "        vertical-align: top;\n",
       "    }\n",
       "\n",
       "    .dataframe thead th {\n",
       "        text-align: right;\n",
       "    }\n",
       "</style>\n",
       "<table border=\"1\" class=\"dataframe\">\n",
       "  <thead>\n",
       "    <tr style=\"text-align: right;\">\n",
       "      <th></th>\n",
       "      <th>location</th>\n",
       "      <th>country</th>\n",
       "      <th>indicator</th>\n",
       "      <th>inequality</th>\n",
       "      <th>unit</th>\n",
       "      <th>value</th>\n",
       "      <th>units</th>\n",
       "      <th>gdp_per_capita</th>\n",
       "    </tr>\n",
       "  </thead>\n",
       "  <tbody>\n",
       "    <tr>\n",
       "      <th>count</th>\n",
       "      <td>174</td>\n",
       "      <td>174</td>\n",
       "      <td>174</td>\n",
       "      <td>174</td>\n",
       "      <td>174</td>\n",
       "      <td>174.000000</td>\n",
       "      <td>174</td>\n",
       "      <td>174.000000</td>\n",
       "    </tr>\n",
       "    <tr>\n",
       "      <th>unique</th>\n",
       "      <td>36</td>\n",
       "      <td>36</td>\n",
       "      <td>1</td>\n",
       "      <td>5</td>\n",
       "      <td>1</td>\n",
       "      <td>NaN</td>\n",
       "      <td>1</td>\n",
       "      <td>NaN</td>\n",
       "    </tr>\n",
       "    <tr>\n",
       "      <th>top</th>\n",
       "      <td>LUX</td>\n",
       "      <td>Czech Republic</td>\n",
       "      <td>SW_LIFS</td>\n",
       "      <td>Total</td>\n",
       "      <td>Average score</td>\n",
       "      <td>NaN</td>\n",
       "      <td>U.S. dollars</td>\n",
       "      <td>NaN</td>\n",
       "    </tr>\n",
       "    <tr>\n",
       "      <th>freq</th>\n",
       "      <td>5</td>\n",
       "      <td>5</td>\n",
       "      <td>174</td>\n",
       "      <td>36</td>\n",
       "      <td>174</td>\n",
       "      <td>NaN</td>\n",
       "      <td>174</td>\n",
       "      <td>NaN</td>\n",
       "    </tr>\n",
       "    <tr>\n",
       "      <th>mean</th>\n",
       "      <td>NaN</td>\n",
       "      <td>NaN</td>\n",
       "      <td>NaN</td>\n",
       "      <td>NaN</td>\n",
       "      <td>NaN</td>\n",
       "      <td>6.554598</td>\n",
       "      <td>NaN</td>\n",
       "      <td>35258.644914</td>\n",
       "    </tr>\n",
       "    <tr>\n",
       "      <th>std</th>\n",
       "      <td>NaN</td>\n",
       "      <td>NaN</td>\n",
       "      <td>NaN</td>\n",
       "      <td>NaN</td>\n",
       "      <td>NaN</td>\n",
       "      <td>0.989282</td>\n",
       "      <td>NaN</td>\n",
       "      <td>21565.392177</td>\n",
       "    </tr>\n",
       "    <tr>\n",
       "      <th>min</th>\n",
       "      <td>NaN</td>\n",
       "      <td>NaN</td>\n",
       "      <td>NaN</td>\n",
       "      <td>NaN</td>\n",
       "      <td>NaN</td>\n",
       "      <td>0.000000</td>\n",
       "      <td>NaN</td>\n",
       "      <td>8669.998000</td>\n",
       "    </tr>\n",
       "    <tr>\n",
       "      <th>25%</th>\n",
       "      <td>NaN</td>\n",
       "      <td>NaN</td>\n",
       "      <td>NaN</td>\n",
       "      <td>NaN</td>\n",
       "      <td>NaN</td>\n",
       "      <td>6.000000</td>\n",
       "      <td>NaN</td>\n",
       "      <td>17264.709250</td>\n",
       "    </tr>\n",
       "    <tr>\n",
       "      <th>50%</th>\n",
       "      <td>NaN</td>\n",
       "      <td>NaN</td>\n",
       "      <td>NaN</td>\n",
       "      <td>NaN</td>\n",
       "      <td>NaN</td>\n",
       "      <td>6.800000</td>\n",
       "      <td>NaN</td>\n",
       "      <td>35343.336000</td>\n",
       "    </tr>\n",
       "    <tr>\n",
       "      <th>75%</th>\n",
       "      <td>NaN</td>\n",
       "      <td>NaN</td>\n",
       "      <td>NaN</td>\n",
       "      <td>NaN</td>\n",
       "      <td>NaN</td>\n",
       "      <td>7.300000</td>\n",
       "      <td>NaN</td>\n",
       "      <td>43770.688000</td>\n",
       "    </tr>\n",
       "    <tr>\n",
       "      <th>max</th>\n",
       "      <td>NaN</td>\n",
       "      <td>NaN</td>\n",
       "      <td>NaN</td>\n",
       "      <td>NaN</td>\n",
       "      <td>NaN</td>\n",
       "      <td>7.900000</td>\n",
       "      <td>NaN</td>\n",
       "      <td>101994.093000</td>\n",
       "    </tr>\n",
       "  </tbody>\n",
       "</table>\n",
       "</div>"
      ],
      "text/plain": [
       "       location         country indicator inequality           unit  \\\n",
       "count       174             174       174        174            174   \n",
       "unique       36              36         1          5              1   \n",
       "top         LUX  Czech Republic   SW_LIFS      Total  Average score   \n",
       "freq          5               5       174         36            174   \n",
       "mean        NaN             NaN       NaN        NaN            NaN   \n",
       "std         NaN             NaN       NaN        NaN            NaN   \n",
       "min         NaN             NaN       NaN        NaN            NaN   \n",
       "25%         NaN             NaN       NaN        NaN            NaN   \n",
       "50%         NaN             NaN       NaN        NaN            NaN   \n",
       "75%         NaN             NaN       NaN        NaN            NaN   \n",
       "max         NaN             NaN       NaN        NaN            NaN   \n",
       "\n",
       "             value         units  gdp_per_capita  \n",
       "count   174.000000           174      174.000000  \n",
       "unique         NaN             1             NaN  \n",
       "top            NaN  U.S. dollars             NaN  \n",
       "freq           NaN           174             NaN  \n",
       "mean      6.554598           NaN    35258.644914  \n",
       "std       0.989282           NaN    21565.392177  \n",
       "min       0.000000           NaN     8669.998000  \n",
       "25%       6.000000           NaN    17264.709250  \n",
       "50%       6.800000           NaN    35343.336000  \n",
       "75%       7.300000           NaN    43770.688000  \n",
       "max       7.900000           NaN   101994.093000  "
      ]
     },
     "execution_count": 34,
     "metadata": {},
     "output_type": "execute_result"
    }
   ],
   "source": [
    "# summary stats\n",
    "df.describe(include=['object', 'float64','int64'])"
   ]
  },
  {
   "cell_type": "code",
   "execution_count": 35,
   "metadata": {},
   "outputs": [],
   "source": [
    "#lifesat=list(df[df['inequality']=='Total']['value'])\n",
    "#print (lifesat)"
   ]
  },
  {
   "cell_type": "code",
   "execution_count": 36,
   "metadata": {},
   "outputs": [],
   "source": [
    "#turning life satisfaction score column into a list\n",
    "lifesat=df[df['inequality']=='Total'].iloc[:, 5].tolist()"
   ]
  },
  {
   "cell_type": "code",
   "execution_count": 37,
   "metadata": {},
   "outputs": [
    {
     "name": "stdout",
     "output_type": "stream",
     "text": [
      "[7.3, 6.9, 6.9, 7.3, 6.5, 7.5, 7.4, 6.5, 7.0, 4.8, 4.9, 7.5, 7.0, 6.0, 5.9, 5.8, 6.9, 6.7, 7.3, 7.3, 7.4, 5.8, 5.1, 6.1, 6.5, 7.2, 7.5, 5.6, 6.8, 7.2, 7.0, 6.7, 5.6, 7.4, 6.0, 5.7]\n"
     ]
    }
   ],
   "source": [
    "print(lifesat)"
   ]
  },
  {
   "cell_type": "code",
   "execution_count": 38,
   "metadata": {},
   "outputs": [],
   "source": [
    "#income=list(df[df['inequality']=='Total']['gdp_per_capita'])\n",
    "#print (gdppercapita)"
   ]
  },
  {
   "cell_type": "code",
   "execution_count": 39,
   "metadata": {},
   "outputs": [
    {
     "name": "stdout",
     "output_type": "stream",
     "text": [
      "[50961.865, 43724.031, 40106.632, 43331.961, 17256.918, 52114.165, 41973.988, 37675.006, 40996.511, 18064.288, 12239.894, 50854.583, 51350.744, 29866.581, 32485.545, 27195.197, 101994.093, 9009.28, 43603.115, 37044.891, 74822.106, 12495.334, 19121.592, 15991.736, 25864.721, 49866.266, 80675.308, 9437.372, 43770.688, 55805.204, 8669.998, 13340.905, 17288.083, 35343.336, 9054.914, 20732.482]\n"
     ]
    }
   ],
   "source": [
    "#turning gdp per capita column into a list\n",
    "income=df[df['inequality']=='Total'].iloc[:, 7].tolist()\n",
    "print (income)"
   ]
  },
  {
   "cell_type": "code",
   "execution_count": 40,
   "metadata": {},
   "outputs": [],
   "source": [
    "#country=list(df[df['inequality']=='Total']['country'])\n",
    "#print (country)"
   ]
  },
  {
   "cell_type": "code",
   "execution_count": 41,
   "metadata": {},
   "outputs": [
    {
     "name": "stdout",
     "output_type": "stream",
     "text": [
      "['Australia', 'Austria', 'Belgium', 'Canada', 'Czech Republic', 'Denmark', 'Finland', 'France', 'Germany', 'Greece', 'Hungary', 'Iceland', 'Ireland', 'Italy', 'Japan', 'Korea', 'Luxembourg', 'Mexico', 'Netherlands', 'New Zealand', 'Norway', 'Poland', 'Portugal', 'Slovak Republic', 'Spain', 'Sweden', 'Switzerland', 'Turkey', 'United Kingdom', 'United States', 'Brazil', 'Chile', 'Estonia', 'Israel', 'Russia', 'Slovenia']\n"
     ]
    }
   ],
   "source": [
    "#turning country column into a list\n",
    "country=df[df['inequality']=='Total'].iloc[:, 1].tolist()\n",
    "print(country)"
   ]
  },
  {
   "cell_type": "code",
   "execution_count": 42,
   "metadata": {},
   "outputs": [
    {
     "data": {
      "text/plain": [
       "<function matplotlib.pyplot.show(*args, **kw)>"
      ]
     },
     "execution_count": 42,
     "metadata": {},
     "output_type": "execute_result"
    },
    {
     "data": {
      "image/png": "[encoded data removed]",
      "text/plain": [
       "<Figure size 432x288 with 1 Axes>"
      ]
     },
     "metadata": {
      "needs_background": "light"
     },
     "output_type": "display_data"
    }
   ],
   "source": [
    "#scatterplot of life satisfaction against gdp\n",
    "plt.scatter(income,lifesat)\n",
    "plt.show"
   ]
  },
  {
   "cell_type": "code",
   "execution_count": 43,
   "metadata": {},
   "outputs": [
    {
     "data": {
      "image/png": "[encoded data removed]",
      "text/plain": [
       "<Figure size 960x800 with 1 Axes>"
      ]
     },
     "metadata": {},
     "output_type": "display_data"
    }
   ],
   "source": [
    "#annotated with country names\n",
    "\n",
    "from matplotlib.pyplot import figure\n",
    "\n",
    "figure(num=None, figsize=(12, 10), dpi=80, facecolor='w', edgecolor='k')\n",
    "\n",
    "for i,type in enumerate(country):\n",
    "    inc = income[i]\n",
    "    lif = lifesat[i]\n",
    "    plt.scatter(inc, lif, color='red')\n",
    "    plt.text(inc+0.05, lif+0.05, type, fontsize=7)\n",
    "plt.show()"
   ]
  },
  {
   "cell_type": "code",
   "execution_count": 44,
   "metadata": {},
   "outputs": [],
   "source": [
    "#now doing the same for time spent on leisure and personal care\n",
    "data=pd.merge(df1_lei, df2_gdp, on='country')"
   ]
  },
  {
   "cell_type": "code",
   "execution_count": 45,
   "metadata": {},
   "outputs": [
    {
     "data": {
      "text/html": [
       "<div>\n",
       "<style scoped>\n",
       "    .dataframe tbody tr th:only-of-type {\n",
       "        vertical-align: middle;\n",
       "    }\n",
       "\n",
       "    .dataframe tbody tr th {\n",
       "        vertical-align: top;\n",
       "    }\n",
       "\n",
       "    .dataframe thead th {\n",
       "        text-align: right;\n",
       "    }\n",
       "</style>\n",
       "<table border=\"1\" class=\"dataframe\">\n",
       "  <thead>\n",
       "    <tr style=\"text-align: right;\">\n",
       "      <th></th>\n",
       "      <th>location</th>\n",
       "      <th>country</th>\n",
       "      <th>indicator</th>\n",
       "      <th>inequality</th>\n",
       "      <th>unit</th>\n",
       "      <th>value</th>\n",
       "      <th>units</th>\n",
       "      <th>gdp_per_capita</th>\n",
       "    </tr>\n",
       "  </thead>\n",
       "  <tbody>\n",
       "    <tr>\n",
       "      <th>0</th>\n",
       "      <td>AUS</td>\n",
       "      <td>Australia</td>\n",
       "      <td>WL_TNOW</td>\n",
       "      <td>Total</td>\n",
       "      <td>Hours</td>\n",
       "      <td>14.41</td>\n",
       "      <td>U.S. dollars</td>\n",
       "      <td>50961.865</td>\n",
       "    </tr>\n",
       "    <tr>\n",
       "      <th>1</th>\n",
       "      <td>AUS</td>\n",
       "      <td>Australia</td>\n",
       "      <td>WL_TNOW</td>\n",
       "      <td>Men</td>\n",
       "      <td>Hours</td>\n",
       "      <td>14.43</td>\n",
       "      <td>U.S. dollars</td>\n",
       "      <td>50961.865</td>\n",
       "    </tr>\n",
       "    <tr>\n",
       "      <th>2</th>\n",
       "      <td>AUS</td>\n",
       "      <td>Australia</td>\n",
       "      <td>WL_TNOW</td>\n",
       "      <td>Women</td>\n",
       "      <td>Hours</td>\n",
       "      <td>14.37</td>\n",
       "      <td>U.S. dollars</td>\n",
       "      <td>50961.865</td>\n",
       "    </tr>\n",
       "    <tr>\n",
       "      <th>3</th>\n",
       "      <td>AUT</td>\n",
       "      <td>Austria</td>\n",
       "      <td>WL_TNOW</td>\n",
       "      <td>Total</td>\n",
       "      <td>Hours</td>\n",
       "      <td>14.46</td>\n",
       "      <td>U.S. dollars</td>\n",
       "      <td>43724.031</td>\n",
       "    </tr>\n",
       "    <tr>\n",
       "      <th>4</th>\n",
       "      <td>AUT</td>\n",
       "      <td>Austria</td>\n",
       "      <td>WL_TNOW</td>\n",
       "      <td>Men</td>\n",
       "      <td>Hours</td>\n",
       "      <td>14.60</td>\n",
       "      <td>U.S. dollars</td>\n",
       "      <td>43724.031</td>\n",
       "    </tr>\n",
       "  </tbody>\n",
       "</table>\n",
       "</div>"
      ],
      "text/plain": [
       "  location    country indicator inequality   unit  value         units  \\\n",
       "0      AUS  Australia   WL_TNOW      Total  Hours  14.41  U.S. dollars   \n",
       "1      AUS  Australia   WL_TNOW        Men  Hours  14.43  U.S. dollars   \n",
       "2      AUS  Australia   WL_TNOW      Women  Hours  14.37  U.S. dollars   \n",
       "3      AUT    Austria   WL_TNOW      Total  Hours  14.46  U.S. dollars   \n",
       "4      AUT    Austria   WL_TNOW        Men  Hours  14.60  U.S. dollars   \n",
       "\n",
       "   gdp_per_capita  \n",
       "0       50961.865  \n",
       "1       50961.865  \n",
       "2       50961.865  \n",
       "3       43724.031  \n",
       "4       43724.031  "
      ]
     },
     "execution_count": 45,
     "metadata": {},
     "output_type": "execute_result"
    }
   ],
   "source": [
    "#merged dataframe with OECD data on leisure and personal care and IMF Data on gdp per capita\n",
    "data.head()"
   ]
  },
  {
   "cell_type": "code",
   "execution_count": 46,
   "metadata": {},
   "outputs": [
    {
     "data": {
      "text/plain": [
       "location                   DNK\n",
       "country                Denmark\n",
       "indicator              WL_TNOW\n",
       "inequality               Total\n",
       "unit                     Hours\n",
       "value                    16.06\n",
       "units             U.S. dollars\n",
       "gdp_per_capita         52114.2\n",
       "Name: 15, dtype: object"
      ]
     },
     "execution_count": 46,
     "metadata": {},
     "output_type": "execute_result"
    }
   ],
   "source": [
    "#profile of country with highest number of hours spent on leisure and personal care\n",
    "\n",
    "data[data['inequality']=='Total'].loc[data[data['inequality']=='Total']['value'].idxmax()]"
   ]
  },
  {
   "cell_type": "code",
   "execution_count": 47,
   "metadata": {},
   "outputs": [
    {
     "data": {
      "text/plain": [
       "location                   TUR\n",
       "country                 Turkey\n",
       "indicator              WL_TNOW\n",
       "inequality               Total\n",
       "unit                     Hours\n",
       "value                    13.42\n",
       "units             U.S. dollars\n",
       "gdp_per_capita         9437.37\n",
       "Name: 81, dtype: object"
      ]
     },
     "execution_count": 47,
     "metadata": {},
     "output_type": "execute_result"
    }
   ],
   "source": [
    "#profile of country with lowest number of hours spent on leisure and personal care\n",
    "data[data['inequality']=='Total'].loc[data[data['inequality']=='Total']['value'].idxmin()]"
   ]
  },
  {
   "cell_type": "code",
   "execution_count": 48,
   "metadata": {},
   "outputs": [],
   "source": [
    "#turning leisure and personal care hours column into a list\n",
    "leisure=data[data['inequality']=='Total'].iloc[:, 5].tolist()"
   ]
  },
  {
   "cell_type": "code",
   "execution_count": 49,
   "metadata": {},
   "outputs": [],
   "source": [
    "#turning gdp per capita column into a list\n",
    "income=data[data['inequality']=='Total'].iloc[:, 7].tolist()"
   ]
  },
  {
   "cell_type": "code",
   "execution_count": 50,
   "metadata": {},
   "outputs": [],
   "source": [
    "#turning country column into a list\n",
    "country=data[data['inequality']=='Total'].iloc[:, 1].tolist()"
   ]
  },
  {
   "cell_type": "code",
   "execution_count": 51,
   "metadata": {},
   "outputs": [
    {
     "name": "stdout",
     "output_type": "stream",
     "text": [
      "[14.41, 14.46, 15.71, 14.25, 14.98, 16.06, 14.89, 15.33, 15.31, 14.91, 15.04, 14.61, 15.19, 14.98, 14.93, 14.63, 15.12, 13.89, 15.44, 14.87, 15.56, 14.2, 14.95, 14.99, 16.06, 15.11, 14.98, 13.42, 14.83, 14.27, 14.97, 14.41, 14.9, 14.48, 14.97, 14.62]\n",
      "[50961.865, 43724.031, 40106.632, 43331.961, 17256.918, 52114.165, 41973.988, 37675.006, 40996.511, 18064.288, 12239.894, 50854.583, 51350.744, 29866.581, 32485.545, 27195.197, 101994.093, 9009.28, 43603.115, 37044.891, 74822.106, 12495.334, 19121.592, 15991.736, 25864.721, 49866.266, 80675.308, 9437.372, 43770.688, 55805.204, 8669.998, 13340.905, 17288.083, 35343.336, 9054.914, 20732.482]\n",
      "['Australia', 'Austria', 'Belgium', 'Canada', 'Czech Republic', 'Denmark', 'Finland', 'France', 'Germany', 'Greece', 'Hungary', 'Iceland', 'Ireland', 'Italy', 'Japan', 'Korea', 'Luxembourg', 'Mexico', 'Netherlands', 'New Zealand', 'Norway', 'Poland', 'Portugal', 'Slovak Republic', 'Spain', 'Sweden', 'Switzerland', 'Turkey', 'United Kingdom', 'United States', 'Brazil', 'Chile', 'Estonia', 'Israel', 'Russia', 'Slovenia']\n"
     ]
    }
   ],
   "source": [
    "print(leisure)\n",
    "print(income)\n",
    "print(country)"
   ]
  },
  {
   "cell_type": "code",
   "execution_count": 52,
   "metadata": {},
   "outputs": [
    {
     "data": {
      "image/png": "[encoded data removed]",
      "text/plain": [
       "<Figure size 1440x1280 with 1 Axes>"
      ]
     },
     "metadata": {},
     "output_type": "display_data"
    }
   ],
   "source": [
    "#Scatterplot showing hours spent in leisure and personal care vs. gdp per capita\n",
    "\n",
    "from matplotlib.pyplot import figure\n",
    "figure(num=None, figsize=(18, 16), dpi=80, facecolor='w', edgecolor='k')\n",
    "for i,type in enumerate(country):\n",
    "    inc = income[i]\n",
    "    lei = leisure[i]\n",
    "    plt.scatter(inc, lei, color='red')\n",
    "    plt.text(inc+0.03, lei+0.05, type, fontsize=9)\n",
    "plt.show()"
   ]
  },
  {
   "cell_type": "code",
   "execution_count": 53,
   "metadata": {
    "scrolled": true
   },
   "outputs": [
    {
     "data": {
      "image/png": "[encoded data removed]",
      "text/plain": [
       "<Figure size 1440x1280 with 1 Axes>"
      ]
     },
     "metadata": {},
     "output_type": "display_data"
    }
   ],
   "source": [
    "#Scatterplot showing hours spent in leisure and personal care vs. gdp per capita\n",
    "\n",
    "\n",
    "from matplotlib.pyplot import figure\n",
    "figure(num=None, figsize=(18, 16), dpi=80, facecolor='w', edgecolor='k')\n",
    "for i,type in enumerate(country):\n",
    "    inc = income[i]\n",
    "    lei = leisure[i]\n",
    "    plt.scatter(inc, lei, color='red')\n",
    "    plt.text(inc+0.03, lei+0.05, type, fontsize=9)\n",
    "plt.plot(inc, lei, color='blue', linewidth=3)\n",
    "plt.show()\n"
   ]
  },
  {
   "cell_type": "code",
   "execution_count": 54,
   "metadata": {},
   "outputs": [],
   "source": [
    "#REGRESSION..? "
   ]
  },
  {
   "cell_type": "code",
   "execution_count": 55,
   "metadata": {},
   "outputs": [],
   "source": [
    "\n",
    "x_var = pd.DataFrame(df.gdp_per_capita, columns=[\"gdp_per_capita\"])\n",
    "y_var = pd.DataFrame(df.value, columns=[\"value\"])"
   ]
  },
  {
   "cell_type": "code",
   "execution_count": 56,
   "metadata": {},
   "outputs": [
    {
     "data": {
      "text/html": [
       "<table class=\"simpletable\">\n",
       "<caption>OLS Regression Results</caption>\n",
       "<tr>\n",
       "  <th>Dep. Variable:</th>          <td>value</td>      <th>  R-squared:         </th> <td>   0.784</td>\n",
       "</tr>\n",
       "<tr>\n",
       "  <th>Model:</th>                   <td>OLS</td>       <th>  Adj. R-squared:    </th> <td>   0.783</td>\n",
       "</tr>\n",
       "<tr>\n",
       "  <th>Method:</th>             <td>Least Squares</td>  <th>  F-statistic:       </th> <td>   629.0</td>\n",
       "</tr>\n",
       "<tr>\n",
       "  <th>Date:</th>             <td>Fri, 08 Feb 2019</td> <th>  Prob (F-statistic):</th> <td>1.64e-59</td>\n",
       "</tr>\n",
       "<tr>\n",
       "  <th>Time:</th>                 <td>15:55:38</td>     <th>  Log-Likelihood:    </th> <td> -442.55</td>\n",
       "</tr>\n",
       "<tr>\n",
       "  <th>No. Observations:</th>      <td>   174</td>      <th>  AIC:               </th> <td>   887.1</td>\n",
       "</tr>\n",
       "<tr>\n",
       "  <th>Df Residuals:</th>          <td>   173</td>      <th>  BIC:               </th> <td>   890.3</td>\n",
       "</tr>\n",
       "<tr>\n",
       "  <th>Df Model:</th>              <td>     1</td>      <th>                     </th>     <td> </td>   \n",
       "</tr>\n",
       "<tr>\n",
       "  <th>Covariance Type:</th>      <td>nonrobust</td>    <th>                     </th>     <td> </td>   \n",
       "</tr>\n",
       "</table>\n",
       "<table class=\"simpletable\">\n",
       "<tr>\n",
       "         <td></td>           <th>coef</th>     <th>std err</th>      <th>t</th>      <th>P>|t|</th>  <th>[0.025</th>    <th>0.975]</th>  \n",
       "</tr>\n",
       "<tr>\n",
       "  <th>gdp_per_capita</th> <td>    0.0001</td> <td> 5.67e-06</td> <td>   25.079</td> <td> 0.000</td> <td>    0.000</td> <td>    0.000</td>\n",
       "</tr>\n",
       "</table>\n",
       "<table class=\"simpletable\">\n",
       "<tr>\n",
       "  <th>Omnibus:</th>       <td>43.854</td> <th>  Durbin-Watson:     </th> <td>   0.397</td>\n",
       "</tr>\n",
       "<tr>\n",
       "  <th>Prob(Omnibus):</th> <td> 0.000</td> <th>  Jarque-Bera (JB):  </th> <td>  82.934</td>\n",
       "</tr>\n",
       "<tr>\n",
       "  <th>Skew:</th>          <td>-1.199</td> <th>  Prob(JB):          </th> <td>9.80e-19</td>\n",
       "</tr>\n",
       "<tr>\n",
       "  <th>Kurtosis:</th>      <td> 5.385</td> <th>  Cond. No.          </th> <td>    1.00</td>\n",
       "</tr>\n",
       "</table><br/><br/>Warnings:<br/>[1] Standard Errors assume that the covariance matrix of the errors is correctly specified."
      ],
      "text/plain": [
       "<class 'statsmodels.iolib.summary.Summary'>\n",
       "\"\"\"\n",
       "                            OLS Regression Results                            \n",
       "==============================================================================\n",
       "Dep. Variable:                  value   R-squared:                       0.784\n",
       "Model:                            OLS   Adj. R-squared:                  0.783\n",
       "Method:                 Least Squares   F-statistic:                     629.0\n",
       "Date:                Fri, 08 Feb 2019   Prob (F-statistic):           1.64e-59\n",
       "Time:                        15:55:38   Log-Likelihood:                -442.55\n",
       "No. Observations:                 174   AIC:                             887.1\n",
       "Df Residuals:                     173   BIC:                             890.3\n",
       "Df Model:                           1                                         \n",
       "Covariance Type:            nonrobust                                         \n",
       "==================================================================================\n",
       "                     coef    std err          t      P>|t|      [0.025      0.975]\n",
       "----------------------------------------------------------------------------------\n",
       "gdp_per_capita     0.0001   5.67e-06     25.079      0.000       0.000       0.000\n",
       "==============================================================================\n",
       "Omnibus:                       43.854   Durbin-Watson:                   0.397\n",
       "Prob(Omnibus):                  0.000   Jarque-Bera (JB):               82.934\n",
       "Skew:                          -1.199   Prob(JB):                     9.80e-19\n",
       "Kurtosis:                       5.385   Cond. No.                         1.00\n",
       "==============================================================================\n",
       "\n",
       "Warnings:\n",
       "[1] Standard Errors assume that the covariance matrix of the errors is correctly specified.\n",
       "\"\"\""
      ]
     },
     "execution_count": 56,
     "metadata": {},
     "output_type": "execute_result"
    }
   ],
   "source": [
    "X = x_var[\"gdp_per_capita\"]\n",
    "y = y_var[\"value\"]\n",
    "\n",
    "# Note the difference in argument order\n",
    "model = sm.OLS(y, X).fit()\n",
    "predictions = model.predict(X) # make the predictions by the model\n",
    "\n",
    "# Print out the statistics\n",
    "model.summary()\n"
   ]
  },
  {
   "cell_type": "code",
   "execution_count": 57,
   "metadata": {},
   "outputs": [
    {
     "data": {
      "text/html": [
       "<table class=\"simpletable\">\n",
       "<caption>OLS Regression Results</caption>\n",
       "<tr>\n",
       "  <th>Dep. Variable:</th>          <td>value</td>      <th>  R-squared:         </th> <td>   0.285</td>\n",
       "</tr>\n",
       "<tr>\n",
       "  <th>Model:</th>                   <td>OLS</td>       <th>  Adj. R-squared:    </th> <td>   0.281</td>\n",
       "</tr>\n",
       "<tr>\n",
       "  <th>Method:</th>             <td>Least Squares</td>  <th>  F-statistic:       </th> <td>   68.48</td>\n",
       "</tr>\n",
       "<tr>\n",
       "  <th>Date:</th>             <td>Fri, 08 Feb 2019</td> <th>  Prob (F-statistic):</th> <td>3.41e-14</td>\n",
       "</tr>\n",
       "<tr>\n",
       "  <th>Time:</th>                 <td>15:55:38</td>     <th>  Log-Likelihood:    </th> <td> -215.36</td>\n",
       "</tr>\n",
       "<tr>\n",
       "  <th>No. Observations:</th>      <td>   174</td>      <th>  AIC:               </th> <td>   434.7</td>\n",
       "</tr>\n",
       "<tr>\n",
       "  <th>Df Residuals:</th>          <td>   172</td>      <th>  BIC:               </th> <td>   441.0</td>\n",
       "</tr>\n",
       "<tr>\n",
       "  <th>Df Model:</th>              <td>     1</td>      <th>                     </th>     <td> </td>   \n",
       "</tr>\n",
       "<tr>\n",
       "  <th>Covariance Type:</th>      <td>nonrobust</td>    <th>                     </th>     <td> </td>   \n",
       "</tr>\n",
       "</table>\n",
       "<table class=\"simpletable\">\n",
       "<tr>\n",
       "         <td></td>           <th>coef</th>     <th>std err</th>      <th>t</th>      <th>P>|t|</th>  <th>[0.025</th>    <th>0.975]</th>  \n",
       "</tr>\n",
       "<tr>\n",
       "  <th>const</th>          <td>    5.6915</td> <td>    0.122</td> <td>   46.588</td> <td> 0.000</td> <td>    5.450</td> <td>    5.933</td>\n",
       "</tr>\n",
       "<tr>\n",
       "  <th>gdp_per_capita</th> <td> 2.448e-05</td> <td> 2.96e-06</td> <td>    8.276</td> <td> 0.000</td> <td> 1.86e-05</td> <td> 3.03e-05</td>\n",
       "</tr>\n",
       "</table>\n",
       "<table class=\"simpletable\">\n",
       "<tr>\n",
       "  <th>Omnibus:</th>       <td>134.727</td> <th>  Durbin-Watson:     </th> <td>   1.056</td>\n",
       "</tr>\n",
       "<tr>\n",
       "  <th>Prob(Omnibus):</th> <td> 0.000</td>  <th>  Jarque-Bera (JB):  </th> <td>2115.075</td>\n",
       "</tr>\n",
       "<tr>\n",
       "  <th>Skew:</th>          <td>-2.654</td>  <th>  Prob(JB):          </th> <td>    0.00</td>\n",
       "</tr>\n",
       "<tr>\n",
       "  <th>Kurtosis:</th>      <td>19.235</td>  <th>  Cond. No.          </th> <td>7.93e+04</td>\n",
       "</tr>\n",
       "</table><br/><br/>Warnings:<br/>[1] Standard Errors assume that the covariance matrix of the errors is correctly specified.<br/>[2] The condition number is large, 7.93e+04. This might indicate that there are<br/>strong multicollinearity or other numerical problems."
      ],
      "text/plain": [
       "<class 'statsmodels.iolib.summary.Summary'>\n",
       "\"\"\"\n",
       "                            OLS Regression Results                            \n",
       "==============================================================================\n",
       "Dep. Variable:                  value   R-squared:                       0.285\n",
       "Model:                            OLS   Adj. R-squared:                  0.281\n",
       "Method:                 Least Squares   F-statistic:                     68.48\n",
       "Date:                Fri, 08 Feb 2019   Prob (F-statistic):           3.41e-14\n",
       "Time:                        15:55:38   Log-Likelihood:                -215.36\n",
       "No. Observations:                 174   AIC:                             434.7\n",
       "Df Residuals:                     172   BIC:                             441.0\n",
       "Df Model:                           1                                         \n",
       "Covariance Type:            nonrobust                                         \n",
       "==================================================================================\n",
       "                     coef    std err          t      P>|t|      [0.025      0.975]\n",
       "----------------------------------------------------------------------------------\n",
       "const              5.6915      0.122     46.588      0.000       5.450       5.933\n",
       "gdp_per_capita  2.448e-05   2.96e-06      8.276      0.000    1.86e-05    3.03e-05\n",
       "==============================================================================\n",
       "Omnibus:                      134.727   Durbin-Watson:                   1.056\n",
       "Prob(Omnibus):                  0.000   Jarque-Bera (JB):             2115.075\n",
       "Skew:                          -2.654   Prob(JB):                         0.00\n",
       "Kurtosis:                      19.235   Cond. No.                     7.93e+04\n",
       "==============================================================================\n",
       "\n",
       "Warnings:\n",
       "[1] Standard Errors assume that the covariance matrix of the errors is correctly specified.\n",
       "[2] The condition number is large, 7.93e+04. This might indicate that there are\n",
       "strong multicollinearity or other numerical problems.\n",
       "\"\"\""
      ]
     },
     "execution_count": 57,
     "metadata": {},
     "output_type": "execute_result"
    }
   ],
   "source": [
    "\n",
    "X = x_var[\"gdp_per_capita\"]\n",
    "y = y_var[\"value\"]\n",
    "X = sm.add_constant(X)\n",
    "\n",
    "# Note the difference in argument order\n",
    "model = sm.OLS(y, X).fit()\n",
    "predictions = model.predict(X) # make the predictions by the model\n",
    "\n",
    "# Print out summar\n",
    "model.summary()\n"
   ]
  },
  {
   "cell_type": "code",
   "execution_count": 58,
   "metadata": {},
   "outputs": [],
   "source": [
    "# FOR LEISURE"
   ]
  },
  {
   "cell_type": "code",
   "execution_count": 59,
   "metadata": {},
   "outputs": [],
   "source": [
    "x_var1 = pd.DataFrame(data.gdp_per_capita, columns=[\"gdp_per_capita\"])\n",
    "y_var1 = pd.DataFrame(data.value, columns=[\"value\"])\n"
   ]
  },
  {
   "cell_type": "code",
   "execution_count": 60,
   "metadata": {},
   "outputs": [
    {
     "data": {
      "text/html": [
       "<table class=\"simpletable\">\n",
       "<caption>OLS Regression Results</caption>\n",
       "<tr>\n",
       "  <th>Dep. Variable:</th>          <td>value</td>      <th>  R-squared:         </th> <td>   0.742</td>\n",
       "</tr>\n",
       "<tr>\n",
       "  <th>Model:</th>                   <td>OLS</td>       <th>  Adj. R-squared:    </th> <td>   0.740</td>\n",
       "</tr>\n",
       "<tr>\n",
       "  <th>Method:</th>             <td>Least Squares</td>  <th>  F-statistic:       </th> <td>   308.3</td>\n",
       "</tr>\n",
       "<tr>\n",
       "  <th>Date:</th>             <td>Fri, 08 Feb 2019</td> <th>  Prob (F-statistic):</th> <td>2.74e-33</td>\n",
       "</tr>\n",
       "<tr>\n",
       "  <th>Time:</th>                 <td>15:55:38</td>     <th>  Log-Likelihood:    </th> <td> -371.52</td>\n",
       "</tr>\n",
       "<tr>\n",
       "  <th>No. Observations:</th>      <td>   108</td>      <th>  AIC:               </th> <td>   745.0</td>\n",
       "</tr>\n",
       "<tr>\n",
       "  <th>Df Residuals:</th>          <td>   107</td>      <th>  BIC:               </th> <td>   747.7</td>\n",
       "</tr>\n",
       "<tr>\n",
       "  <th>Df Model:</th>              <td>     1</td>      <th>                     </th>     <td> </td>   \n",
       "</tr>\n",
       "<tr>\n",
       "  <th>Covariance Type:</th>      <td>nonrobust</td>    <th>                     </th>     <td> </td>   \n",
       "</tr>\n",
       "</table>\n",
       "<table class=\"simpletable\">\n",
       "<tr>\n",
       "         <td></td>           <th>coef</th>     <th>std err</th>      <th>t</th>      <th>P>|t|</th>  <th>[0.025</th>    <th>0.975]</th>  \n",
       "</tr>\n",
       "<tr>\n",
       "  <th>gdp_per_capita</th> <td>    0.0003</td> <td> 1.77e-05</td> <td>   17.559</td> <td> 0.000</td> <td>    0.000</td> <td>    0.000</td>\n",
       "</tr>\n",
       "</table>\n",
       "<table class=\"simpletable\">\n",
       "<tr>\n",
       "  <th>Omnibus:</th>       <td>19.725</td> <th>  Durbin-Watson:     </th> <td>   0.536</td>\n",
       "</tr>\n",
       "<tr>\n",
       "  <th>Prob(Omnibus):</th> <td> 0.000</td> <th>  Jarque-Bera (JB):  </th> <td>  24.162</td>\n",
       "</tr>\n",
       "<tr>\n",
       "  <th>Skew:</th>          <td>-1.014</td> <th>  Prob(JB):          </th> <td>5.67e-06</td>\n",
       "</tr>\n",
       "<tr>\n",
       "  <th>Kurtosis:</th>      <td> 4.120</td> <th>  Cond. No.          </th> <td>    1.00</td>\n",
       "</tr>\n",
       "</table><br/><br/>Warnings:<br/>[1] Standard Errors assume that the covariance matrix of the errors is correctly specified."
      ],
      "text/plain": [
       "<class 'statsmodels.iolib.summary.Summary'>\n",
       "\"\"\"\n",
       "                            OLS Regression Results                            \n",
       "==============================================================================\n",
       "Dep. Variable:                  value   R-squared:                       0.742\n",
       "Model:                            OLS   Adj. R-squared:                  0.740\n",
       "Method:                 Least Squares   F-statistic:                     308.3\n",
       "Date:                Fri, 08 Feb 2019   Prob (F-statistic):           2.74e-33\n",
       "Time:                        15:55:38   Log-Likelihood:                -371.52\n",
       "No. Observations:                 108   AIC:                             745.0\n",
       "Df Residuals:                     107   BIC:                             747.7\n",
       "Df Model:                           1                                         \n",
       "Covariance Type:            nonrobust                                         \n",
       "==================================================================================\n",
       "                     coef    std err          t      P>|t|      [0.025      0.975]\n",
       "----------------------------------------------------------------------------------\n",
       "gdp_per_capita     0.0003   1.77e-05     17.559      0.000       0.000       0.000\n",
       "==============================================================================\n",
       "Omnibus:                       19.725   Durbin-Watson:                   0.536\n",
       "Prob(Omnibus):                  0.000   Jarque-Bera (JB):               24.162\n",
       "Skew:                          -1.014   Prob(JB):                     5.67e-06\n",
       "Kurtosis:                       4.120   Cond. No.                         1.00\n",
       "==============================================================================\n",
       "\n",
       "Warnings:\n",
       "[1] Standard Errors assume that the covariance matrix of the errors is correctly specified.\n",
       "\"\"\""
      ]
     },
     "execution_count": 60,
     "metadata": {},
     "output_type": "execute_result"
    }
   ],
   "source": [
    "X = x_var1[\"gdp_per_capita\"]\n",
    "y = y_var1[\"value\"]\n",
    "\n",
    "# Note the difference in argument order\n",
    "model = sm.OLS(y, X).fit()\n",
    "predictions = model.predict(X) # make the predictions by the model\n",
    "\n",
    "\n",
    "\n",
    "# Print out the statistics\n",
    "model.summary()"
   ]
  },
  {
   "cell_type": "code",
   "execution_count": 66,
   "metadata": {},
   "outputs": [
    {
     "data": {
      "text/html": [
       "<table class=\"simpletable\">\n",
       "<caption>OLS Regression Results</caption>\n",
       "<tr>\n",
       "  <th>Dep. Variable:</th>          <td>value</td>      <th>  R-squared:         </th> <td>   0.742</td>\n",
       "</tr>\n",
       "<tr>\n",
       "  <th>Model:</th>                   <td>OLS</td>       <th>  Adj. R-squared:    </th> <td>   0.740</td>\n",
       "</tr>\n",
       "<tr>\n",
       "  <th>Method:</th>             <td>Least Squares</td>  <th>  F-statistic:       </th> <td>   308.3</td>\n",
       "</tr>\n",
       "<tr>\n",
       "  <th>Date:</th>             <td>Fri, 08 Feb 2019</td> <th>  Prob (F-statistic):</th> <td>2.74e-33</td>\n",
       "</tr>\n",
       "<tr>\n",
       "  <th>Time:</th>                 <td>15:57:26</td>     <th>  Log-Likelihood:    </th> <td> -371.52</td>\n",
       "</tr>\n",
       "<tr>\n",
       "  <th>No. Observations:</th>      <td>   108</td>      <th>  AIC:               </th> <td>   745.0</td>\n",
       "</tr>\n",
       "<tr>\n",
       "  <th>Df Residuals:</th>          <td>   107</td>      <th>  BIC:               </th> <td>   747.7</td>\n",
       "</tr>\n",
       "<tr>\n",
       "  <th>Df Model:</th>              <td>     1</td>      <th>                     </th>     <td> </td>   \n",
       "</tr>\n",
       "<tr>\n",
       "  <th>Covariance Type:</th>      <td>nonrobust</td>    <th>                     </th>     <td> </td>   \n",
       "</tr>\n",
       "</table>\n",
       "<table class=\"simpletable\">\n",
       "<tr>\n",
       "         <td></td>           <th>coef</th>     <th>std err</th>      <th>t</th>      <th>P>|t|</th>  <th>[0.025</th>    <th>0.975]</th>  \n",
       "</tr>\n",
       "<tr>\n",
       "  <th>gdp_per_capita</th> <td>    0.0003</td> <td> 1.77e-05</td> <td>   17.559</td> <td> 0.000</td> <td>    0.000</td> <td>    0.000</td>\n",
       "</tr>\n",
       "</table>\n",
       "<table class=\"simpletable\">\n",
       "<tr>\n",
       "  <th>Omnibus:</th>       <td>19.725</td> <th>  Durbin-Watson:     </th> <td>   0.536</td>\n",
       "</tr>\n",
       "<tr>\n",
       "  <th>Prob(Omnibus):</th> <td> 0.000</td> <th>  Jarque-Bera (JB):  </th> <td>  24.162</td>\n",
       "</tr>\n",
       "<tr>\n",
       "  <th>Skew:</th>          <td>-1.014</td> <th>  Prob(JB):          </th> <td>5.67e-06</td>\n",
       "</tr>\n",
       "<tr>\n",
       "  <th>Kurtosis:</th>      <td> 4.120</td> <th>  Cond. No.          </th> <td>    1.00</td>\n",
       "</tr>\n",
       "</table><br/><br/>Warnings:<br/>[1] Standard Errors assume that the covariance matrix of the errors is correctly specified."
      ],
      "text/plain": [
       "<class 'statsmodels.iolib.summary.Summary'>\n",
       "\"\"\"\n",
       "                            OLS Regression Results                            \n",
       "==============================================================================\n",
       "Dep. Variable:                  value   R-squared:                       0.742\n",
       "Model:                            OLS   Adj. R-squared:                  0.740\n",
       "Method:                 Least Squares   F-statistic:                     308.3\n",
       "Date:                Fri, 08 Feb 2019   Prob (F-statistic):           2.74e-33\n",
       "Time:                        15:57:26   Log-Likelihood:                -371.52\n",
       "No. Observations:                 108   AIC:                             745.0\n",
       "Df Residuals:                     107   BIC:                             747.7\n",
       "Df Model:                           1                                         \n",
       "Covariance Type:            nonrobust                                         \n",
       "==================================================================================\n",
       "                     coef    std err          t      P>|t|      [0.025      0.975]\n",
       "----------------------------------------------------------------------------------\n",
       "gdp_per_capita     0.0003   1.77e-05     17.559      0.000       0.000       0.000\n",
       "==============================================================================\n",
       "Omnibus:                       19.725   Durbin-Watson:                   0.536\n",
       "Prob(Omnibus):                  0.000   Jarque-Bera (JB):               24.162\n",
       "Skew:                          -1.014   Prob(JB):                     5.67e-06\n",
       "Kurtosis:                       4.120   Cond. No.                         1.00\n",
       "==============================================================================\n",
       "\n",
       "Warnings:\n",
       "[1] Standard Errors assume that the covariance matrix of the errors is correctly specified.\n",
       "\"\"\""
      ]
     },
     "execution_count": 66,
     "metadata": {},
     "output_type": "execute_result"
    }
   ],
   "source": [
    "X = x_var1[\"gdp_per_capita\"]\n",
    "y = y_var1[\"value\"]\n",
    "\n",
    "# Note the difference in argument order\n",
    "model = sm.OLS(y, X).fit()\n",
    "predictions = model.predict(X) # make the predictions by the model\n",
    "X = sm.add_constant(X) ## let's add an intercept (beta_0) to our model\n",
    "\n",
    "# Print out the statistics\n",
    "model.summary()"
   ]
  },
  {
   "cell_type": "markdown",
   "metadata": {},
   "source": [
    "## Data Definitions\n",
    "\n",
    "GDP Per Capita \n",
    "\n",
    "Gross domestic product per capita, current prices, 2015\n",
    "\n",
    "\n",
    "Life satisfaction (Subjective well-being) \n",
    "\n",
    "Life satisfaction\n",
    "\n",
    "INDICATOR=SW_LIFS\n",
    "\n",
    "The indicator considers people's evaluation of their life as a whole. It is a weighted-sum of different\n",
    "response categories based on people's rates of their current life relative to the best and worst possible\n",
    "lives for them on a scale from 0 to 10, using the Cantril Ladder (known also as the \"Self-Anchoring Striving\n",
    "Scale\")\n",
    "Unit of measurement: Mean value (Cantril Ladder)\n",
    "Additional information: Gender inequality (men versus women); Socio-economic inequality\n",
    "(educational attainment 5/6 ISCED group versus 0/1 ISCED group)\n",
    "Source: OECD calculations based on Gallup World Poll\n",
    "\n",
    "Work and Life \n",
    "Time devoted to leisure and personal care \n",
    "\n",
    "INDICATOR= WL_TNOW\n",
    "\n",
    "This indicator measures the amount of hours (minutes) per day that, on average, full-time employed\n",
    "people spend on leisure and on personal care activities. Leisure includes a wide range of indoor and\n",
    "outdoor activities such as walking and hiking, sports, entertainment and cultural activities, socializing with\n",
    "friends and family, volunteering, taking a nap, playing games, watching television, using computers,\n",
    "recreational gardening, etc. Personal care activities include sleeping (but not taking a nap), eating and\n",
    "drinking, and other household or medical or personal services (hygiene, visits to the doctor, hairdresser,\n",
    "etc.) consumed by the respondent. Travel time related to personal care is also included. The information is\n",
    "generally collected through national Time Use Surveys, which involve respondents keeping a diary of their\n",
    "activities over one or several representative days for a given period.\n",
    "Unit of measurement: Number of hours (minutes) per day spent on leisure and personal care.\n",
    "Additional information: Gender inequality (men versus women)\n",
    "Sources: OECD Time Use Survey database\n"
   ]
  }
 ],
 "metadata": {
  "kernelspec": {
   "display_name": "Python 3",
   "language": "python",
   "name": "python3"
  },
  "language_info": {
   "codemirror_mode": {
    "name": "ipython",
    "version": 3
   },
   "file_extension": ".py",
   "mimetype": "text/x-python",
   "name": "python",
   "nbconvert_exporter": "python",
   "pygments_lexer": "ipython3",
   "version": "3.7.0"
  }
 },
 "nbformat": 4,
 "nbformat_minor": 2
}
