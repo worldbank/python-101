{
 "cells": [
  {
   "cell_type": "code",
   "execution_count": 1,
   "metadata": {},
   "outputs": [],
   "source": [
    "from pandas_datareader import wb\n",
    "import matplotlib.pyplot as plt"
   ]
  },
  {
   "cell_type": "markdown",
   "metadata": {},
   "source": [
    "# Data science with Python"
   ]
  },
  {
   "cell_type": "markdown",
   "metadata": {},
   "source": [
    "#### 1. Get WDI data\n",
    "* We'll explore how cellphone coverage varies with GDP per capita, using the World Development Indicators.\n",
    "\n",
    "We'll use the World Development Indicators API. There's a convenient Python library, Pandas Datareader, that gives easy access to this."
   ]
  },
  {
   "cell_type": "code",
   "execution_count": 194,
   "metadata": {},
   "outputs": [
    {
     "data": {
      "text/html": [
       "<div>\n",
       "<style scoped>\n",
       "    .dataframe tbody tr th:only-of-type {\n",
       "        vertical-align: middle;\n",
       "    }\n",
       "\n",
       "    .dataframe tbody tr th {\n",
       "        vertical-align: top;\n",
       "    }\n",
       "\n",
       "    .dataframe thead th {\n",
       "        text-align: right;\n",
       "    }\n",
       "</style>\n",
       "<table border=\"1\" class=\"dataframe\">\n",
       "  <thead>\n",
       "    <tr style=\"text-align: right;\">\n",
       "      <th></th>\n",
       "      <th>adminregion</th>\n",
       "      <th>capitalCity</th>\n",
       "      <th>iso3c</th>\n",
       "      <th>incomeLevel</th>\n",
       "      <th>iso2c</th>\n",
       "      <th>latitude</th>\n",
       "      <th>lendingType</th>\n",
       "      <th>longitude</th>\n",
       "      <th>name</th>\n",
       "      <th>region</th>\n",
       "    </tr>\n",
       "  </thead>\n",
       "  <tbody>\n",
       "    <tr>\n",
       "      <th>3</th>\n",
       "      <td>Sub-Saharan Africa (excluding high income)</td>\n",
       "      <td>Luanda</td>\n",
       "      <td>AGO</td>\n",
       "      <td>Lower middle income</td>\n",
       "      <td>AO</td>\n",
       "      <td>-8.81155</td>\n",
       "      <td>IBRD</td>\n",
       "      <td>13.24200</td>\n",
       "      <td>Angola</td>\n",
       "      <td>Sub-Saharan Africa</td>\n",
       "    </tr>\n",
       "    <tr>\n",
       "      <th>16</th>\n",
       "      <td>Sub-Saharan Africa (excluding high income)</td>\n",
       "      <td>Bujumbura</td>\n",
       "      <td>BDI</td>\n",
       "      <td>Low income</td>\n",
       "      <td>BI</td>\n",
       "      <td>-3.37840</td>\n",
       "      <td>IDA</td>\n",
       "      <td>29.36390</td>\n",
       "      <td>Burundi</td>\n",
       "      <td>Sub-Saharan Africa</td>\n",
       "    </tr>\n",
       "    <tr>\n",
       "      <th>20</th>\n",
       "      <td>Sub-Saharan Africa (excluding high income)</td>\n",
       "      <td>Porto-Novo</td>\n",
       "      <td>BEN</td>\n",
       "      <td>Low income</td>\n",
       "      <td>BJ</td>\n",
       "      <td>6.47790</td>\n",
       "      <td>IDA</td>\n",
       "      <td>2.63230</td>\n",
       "      <td>Benin</td>\n",
       "      <td>Sub-Saharan Africa</td>\n",
       "    </tr>\n",
       "    <tr>\n",
       "      <th>21</th>\n",
       "      <td>Sub-Saharan Africa (excluding high income)</td>\n",
       "      <td>Ouagadougou</td>\n",
       "      <td>BFA</td>\n",
       "      <td>Low income</td>\n",
       "      <td>BF</td>\n",
       "      <td>12.36050</td>\n",
       "      <td>IDA</td>\n",
       "      <td>-1.53395</td>\n",
       "      <td>Burkina Faso</td>\n",
       "      <td>Sub-Saharan Africa</td>\n",
       "    </tr>\n",
       "    <tr>\n",
       "      <th>39</th>\n",
       "      <td>Sub-Saharan Africa (excluding high income)</td>\n",
       "      <td>Gaborone</td>\n",
       "      <td>BWA</td>\n",
       "      <td>Upper middle income</td>\n",
       "      <td>BW</td>\n",
       "      <td>-24.65440</td>\n",
       "      <td>IBRD</td>\n",
       "      <td>25.92010</td>\n",
       "      <td>Botswana</td>\n",
       "      <td>Sub-Saharan Africa</td>\n",
       "    </tr>\n",
       "  </tbody>\n",
       "</table>\n",
       "</div>"
      ],
      "text/plain": [
       "                                   adminregion  capitalCity iso3c  \\\n",
       "3   Sub-Saharan Africa (excluding high income)       Luanda   AGO   \n",
       "16  Sub-Saharan Africa (excluding high income)    Bujumbura   BDI   \n",
       "20  Sub-Saharan Africa (excluding high income)   Porto-Novo   BEN   \n",
       "21  Sub-Saharan Africa (excluding high income)  Ouagadougou   BFA   \n",
       "39  Sub-Saharan Africa (excluding high income)     Gaborone   BWA   \n",
       "\n",
       "            incomeLevel iso2c  latitude lendingType  longitude          name  \\\n",
       "3   Lower middle income    AO  -8.81155        IBRD   13.24200        Angola   \n",
       "16           Low income    BI  -3.37840         IDA   29.36390       Burundi   \n",
       "20           Low income    BJ   6.47790         IDA    2.63230         Benin   \n",
       "21           Low income    BF  12.36050         IDA   -1.53395  Burkina Faso   \n",
       "39  Upper middle income    BW -24.65440        IBRD   25.92010      Botswana   \n",
       "\n",
       "                 region  \n",
       "3   Sub-Saharan Africa   \n",
       "16  Sub-Saharan Africa   \n",
       "20  Sub-Saharan Africa   \n",
       "21  Sub-Saharan Africa   \n",
       "39  Sub-Saharan Africa   "
      ]
     },
     "execution_count": 194,
     "metadata": {},
     "output_type": "execute_result"
    }
   ],
   "source": [
    "# First get country list and take only African countries\n",
    "\n",
    "country_list = wb.get_countries()\n",
    "AFR = country_list[country_list.region == 'Sub-Saharan Africa ']\n",
    "AFR.head()"
   ]
  },
  {
   "cell_type": "code",
   "execution_count": 195,
   "metadata": {},
   "outputs": [],
   "source": [
    "# Next search indicators for 'cell'"
   ]
  },
  {
   "cell_type": "code",
   "execution_count": 196,
   "metadata": {},
   "outputs": [
    {
     "data": {
      "text/html": [
       "<div>\n",
       "<style scoped>\n",
       "    .dataframe tbody tr th:only-of-type {\n",
       "        vertical-align: middle;\n",
       "    }\n",
       "\n",
       "    .dataframe tbody tr th {\n",
       "        vertical-align: top;\n",
       "    }\n",
       "\n",
       "    .dataframe thead th {\n",
       "        text-align: right;\n",
       "    }\n",
       "</style>\n",
       "<table border=\"1\" class=\"dataframe\">\n",
       "  <thead>\n",
       "    <tr style=\"text-align: right;\">\n",
       "      <th></th>\n",
       "      <th>id</th>\n",
       "      <th>name</th>\n",
       "      <th>source</th>\n",
       "      <th>sourceNote</th>\n",
       "      <th>sourceOrganization</th>\n",
       "      <th>topics</th>\n",
       "      <th>unit</th>\n",
       "    </tr>\n",
       "  </thead>\n",
       "  <tbody>\n",
       "    <tr>\n",
       "      <th>1769</th>\n",
       "      <td>DC.DAC.ISLL.CD</td>\n",
       "      <td>Net bilateral aid flows from DAC donors, Icela...</td>\n",
       "      <td>World Development Indicators</td>\n",
       "      <td>Net bilateral aid flows from DAC donors are th...</td>\n",
       "      <td>b'Development Assistance Committee of the Orga...</td>\n",
       "      <td>Aid Effectiveness</td>\n",
       "      <td></td>\n",
       "    </tr>\n",
       "    <tr>\n",
       "      <th>6801</th>\n",
       "      <td>IT.CEL.COVR.ZS</td>\n",
       "      <td>Population covered by mobile cellular network (%)</td>\n",
       "      <td>WDI Database Archives</td>\n",
       "      <td></td>\n",
       "      <td>b''</td>\n",
       "      <td></td>\n",
       "      <td></td>\n",
       "    </tr>\n",
       "    <tr>\n",
       "      <th>6802</th>\n",
       "      <td>IT.CEL.SETS</td>\n",
       "      <td>Mobile cellular subscriptions</td>\n",
       "      <td>World Development Indicators</td>\n",
       "      <td>Mobile cellular telephone subscriptions are su...</td>\n",
       "      <td>b'International Telecommunication Union, World...</td>\n",
       "      <td>Infrastructure</td>\n",
       "      <td></td>\n",
       "    </tr>\n",
       "    <tr>\n",
       "      <th>6803</th>\n",
       "      <td>IT.CEL.SETS.P2</td>\n",
       "      <td>Mobile cellular subscriptions (per 100 people)</td>\n",
       "      <td>World Development Indicators</td>\n",
       "      <td>Mobile cellular telephone subscriptions are su...</td>\n",
       "      <td>b'International Telecommunication Union, World...</td>\n",
       "      <td>Infrastructure</td>\n",
       "      <td></td>\n",
       "    </tr>\n",
       "    <tr>\n",
       "      <th>6806</th>\n",
       "      <td>IT.CELL.3MIN.CD.OP</td>\n",
       "      <td>Mobile cellular - price of 3-minute local call...</td>\n",
       "      <td>Africa Development Indicators</td>\n",
       "      <td>Please cite the International Telecommunicatio...</td>\n",
       "      <td>b'International Telecommunication Union, World...</td>\n",
       "      <td></td>\n",
       "      <td></td>\n",
       "    </tr>\n",
       "  </tbody>\n",
       "</table>\n",
       "</div>"
      ],
      "text/plain": [
       "                      id                                               name  \\\n",
       "1769      DC.DAC.ISLL.CD  Net bilateral aid flows from DAC donors, Icela...   \n",
       "6801      IT.CEL.COVR.ZS  Population covered by mobile cellular network (%)   \n",
       "6802         IT.CEL.SETS                      Mobile cellular subscriptions   \n",
       "6803      IT.CEL.SETS.P2     Mobile cellular subscriptions (per 100 people)   \n",
       "6806  IT.CELL.3MIN.CD.OP  Mobile cellular - price of 3-minute local call...   \n",
       "\n",
       "                             source  \\\n",
       "1769   World Development Indicators   \n",
       "6801          WDI Database Archives   \n",
       "6802   World Development Indicators   \n",
       "6803   World Development Indicators   \n",
       "6806  Africa Development Indicators   \n",
       "\n",
       "                                             sourceNote  \\\n",
       "1769  Net bilateral aid flows from DAC donors are th...   \n",
       "6801                                                      \n",
       "6802  Mobile cellular telephone subscriptions are su...   \n",
       "6803  Mobile cellular telephone subscriptions are su...   \n",
       "6806  Please cite the International Telecommunicatio...   \n",
       "\n",
       "                                     sourceOrganization              topics  \\\n",
       "1769  b'Development Assistance Committee of the Orga...  Aid Effectiveness    \n",
       "6801                                                b''                       \n",
       "6802  b'International Telecommunication Union, World...     Infrastructure    \n",
       "6803  b'International Telecommunication Union, World...     Infrastructure    \n",
       "6806  b'International Telecommunication Union, World...                       \n",
       "\n",
       "     unit  \n",
       "1769       \n",
       "6801       \n",
       "6802       \n",
       "6803       \n",
       "6806       "
      ]
     },
     "execution_count": 196,
     "metadata": {},
     "output_type": "execute_result"
    }
   ],
   "source": [
    "#indicators[indicators.source == \"World Development Indicators\"]\n",
    "wb.search(string=\"cell*\",field = 'name').head()\n"
   ]
  },
  {
   "cell_type": "markdown",
   "metadata": {},
   "source": [
    "#### --> OK we'll use 'IT.CEL.SETS.P2'\n",
    "We'll check first for South Africa only.\n",
    "\n",
    "We'll use the data_reader library to get the series since 1990 for South Africa. By checking its documentation, you can see that the function requires the three-letter country code (iso3c)."
   ]
  },
  {
   "cell_type": "code",
   "execution_count": 296,
   "metadata": {},
   "outputs": [],
   "source": [
    "cellphone_code = 'IT.CEL.SETS.P2'\n",
    "GNI_capita_code = \"NY.GNP.PCAP.CD\""
   ]
  },
  {
   "cell_type": "code",
   "execution_count": 297,
   "metadata": {},
   "outputs": [
    {
     "data": {
      "text/plain": [
       "['AGO', 'BDI', 'BEN', 'BFA', 'BWA']"
      ]
     },
     "execution_count": 297,
     "metadata": {},
     "output_type": "execute_result"
    }
   ],
   "source": [
    "country = AFR[AFR.name=='South Africa']\n",
    "countries = AFR.iso3c[:5].tolist()\n",
    "countries"
   ]
  },
  {
   "cell_type": "code",
   "execution_count": 364,
   "metadata": {},
   "outputs": [],
   "source": [
    "reader = wb.WorldBankReader(symbols=cellphone_code,countries = countries,start=1990)\n",
    "cell_coverage = reader.read()\n"
   ]
  },
  {
   "cell_type": "code",
   "execution_count": 365,
   "metadata": {},
   "outputs": [],
   "source": [
    "cell_coverage = cell_coverage[cellphone_code].unstack(level=0)"
   ]
  },
  {
   "cell_type": "code",
   "execution_count": 366,
   "metadata": {},
   "outputs": [
    {
     "data": {
      "text/html": [
       "<div>\n",
       "<style scoped>\n",
       "    .dataframe tbody tr th:only-of-type {\n",
       "        vertical-align: middle;\n",
       "    }\n",
       "\n",
       "    .dataframe tbody tr th {\n",
       "        vertical-align: top;\n",
       "    }\n",
       "\n",
       "    .dataframe thead th {\n",
       "        text-align: right;\n",
       "    }\n",
       "</style>\n",
       "<table border=\"1\" class=\"dataframe\">\n",
       "  <thead>\n",
       "    <tr style=\"text-align: right;\">\n",
       "      <th>country</th>\n",
       "      <th>year</th>\n",
       "      <th>Angola</th>\n",
       "      <th>Benin</th>\n",
       "      <th>Botswana</th>\n",
       "      <th>Burkina Faso</th>\n",
       "      <th>Burundi</th>\n",
       "    </tr>\n",
       "  </thead>\n",
       "  <tbody>\n",
       "    <tr>\n",
       "      <th>0</th>\n",
       "      <td>1990</td>\n",
       "      <td>0.000000</td>\n",
       "      <td>0.0</td>\n",
       "      <td>0.0</td>\n",
       "      <td>0.0</td>\n",
       "      <td>0.000000</td>\n",
       "    </tr>\n",
       "    <tr>\n",
       "      <th>1</th>\n",
       "      <td>1991</td>\n",
       "      <td>0.000000</td>\n",
       "      <td>0.0</td>\n",
       "      <td>0.0</td>\n",
       "      <td>0.0</td>\n",
       "      <td>0.000000</td>\n",
       "    </tr>\n",
       "    <tr>\n",
       "      <th>2</th>\n",
       "      <td>1992</td>\n",
       "      <td>0.000000</td>\n",
       "      <td>0.0</td>\n",
       "      <td>0.0</td>\n",
       "      <td>0.0</td>\n",
       "      <td>0.000000</td>\n",
       "    </tr>\n",
       "    <tr>\n",
       "      <th>3</th>\n",
       "      <td>1993</td>\n",
       "      <td>0.008207</td>\n",
       "      <td>0.0</td>\n",
       "      <td>0.0</td>\n",
       "      <td>0.0</td>\n",
       "      <td>0.006116</td>\n",
       "    </tr>\n",
       "    <tr>\n",
       "      <th>4</th>\n",
       "      <td>1994</td>\n",
       "      <td>0.013178</td>\n",
       "      <td>0.0</td>\n",
       "      <td>0.0</td>\n",
       "      <td>0.0</td>\n",
       "      <td>0.006438</td>\n",
       "    </tr>\n",
       "  </tbody>\n",
       "</table>\n",
       "</div>"
      ],
      "text/plain": [
       "country  year    Angola  Benin  Botswana  Burkina Faso   Burundi\n",
       "0        1990  0.000000    0.0       0.0           0.0  0.000000\n",
       "1        1991  0.000000    0.0       0.0           0.0  0.000000\n",
       "2        1992  0.000000    0.0       0.0           0.0  0.000000\n",
       "3        1993  0.008207    0.0       0.0           0.0  0.006116\n",
       "4        1994  0.013178    0.0       0.0           0.0  0.006438"
      ]
     },
     "execution_count": 366,
     "metadata": {},
     "output_type": "execute_result"
    }
   ],
   "source": [
    "cell_coverage.reset_index(inplace=True)\n",
    "cell_coverage.head()"
   ]
  },
  {
   "cell_type": "code",
   "execution_count": 358,
   "metadata": {},
   "outputs": [
    {
     "data": {
      "image/png": "[encoded data removed]",
      "text/plain": [
       "<Figure size 432x288 with 1 Axes>"
      ]
     },
     "metadata": {
      "needs_background": "light"
     },
     "output_type": "display_data"
    }
   ],
   "source": [
    "cell_coverage.plot()\n",
    "plt.title('South Africa: Growth in cellphone penetration')\n",
    "plt.ylabel('Cellphones per 100 people')\n",
    "plt.xlabel('Year')\n",
    "plt.legend=False"
   ]
  },
  {
   "cell_type": "markdown",
   "metadata": {},
   "source": [
    "## 2. Get cellphone coverage / income for 2015 across AFR countries"
   ]
  },
  {
   "cell_type": "code",
   "execution_count": 388,
   "metadata": {},
   "outputs": [],
   "source": [
    "country = AFR[AFR.name=='South Africa']\n",
    "countries = AFR.iso3c.tolist()"
   ]
  },
  {
   "cell_type": "code",
   "execution_count": 389,
   "metadata": {},
   "outputs": [],
   "source": [
    "reader = wb.WorldBankReader(symbols=[GNI_capita_code,cellphone_code],countries = countries,start=2015,end=2015)\n",
    "data = reader.read()"
   ]
  },
  {
   "cell_type": "code",
   "execution_count": 390,
   "metadata": {},
   "outputs": [],
   "source": [
    "data.reset_index(inplace=True)"
   ]
  },
  {
   "cell_type": "code",
   "execution_count": 391,
   "metadata": {},
   "outputs": [],
   "source": [
    "data.drop('year',axis=1,inplace=True)"
   ]
  },
  {
   "cell_type": "code",
   "execution_count": 392,
   "metadata": {},
   "outputs": [],
   "source": [
    "data.set_index('country',inplace=True)"
   ]
  },
  {
   "cell_type": "code",
   "execution_count": 393,
   "metadata": {},
   "outputs": [
    {
     "data": {
      "text/html": [
       "<div>\n",
       "<style scoped>\n",
       "    .dataframe tbody tr th:only-of-type {\n",
       "        vertical-align: middle;\n",
       "    }\n",
       "\n",
       "    .dataframe tbody tr th {\n",
       "        vertical-align: top;\n",
       "    }\n",
       "\n",
       "    .dataframe thead th {\n",
       "        text-align: right;\n",
       "    }\n",
       "</style>\n",
       "<table border=\"1\" class=\"dataframe\">\n",
       "  <thead>\n",
       "    <tr style=\"text-align: right;\">\n",
       "      <th></th>\n",
       "      <th>GNI_per_capita</th>\n",
       "      <th>cellphones_per_100_people</th>\n",
       "    </tr>\n",
       "    <tr>\n",
       "      <th>country</th>\n",
       "      <th></th>\n",
       "      <th></th>\n",
       "    </tr>\n",
       "  </thead>\n",
       "  <tbody>\n",
       "    <tr>\n",
       "      <th>Angola</th>\n",
       "      <td>4520.0</td>\n",
       "      <td>49.838042</td>\n",
       "    </tr>\n",
       "    <tr>\n",
       "      <th>Burundi</th>\n",
       "      <td>260.0</td>\n",
       "      <td>49.000527</td>\n",
       "    </tr>\n",
       "    <tr>\n",
       "      <th>Benin</th>\n",
       "      <td>860.0</td>\n",
       "      <td>88.105118</td>\n",
       "    </tr>\n",
       "    <tr>\n",
       "      <th>Burkina Faso</th>\n",
       "      <td>630.0</td>\n",
       "      <td>79.770288</td>\n",
       "    </tr>\n",
       "    <tr>\n",
       "      <th>Botswana</th>\n",
       "      <td>6680.0</td>\n",
       "      <td>157.311774</td>\n",
       "    </tr>\n",
       "  </tbody>\n",
       "</table>\n",
       "</div>"
      ],
      "text/plain": [
       "              GNI_per_capita  cellphones_per_100_people\n",
       "country                                                \n",
       "Angola                4520.0                  49.838042\n",
       "Burundi                260.0                  49.000527\n",
       "Benin                  860.0                  88.105118\n",
       "Burkina Faso           630.0                  79.770288\n",
       "Botswana              6680.0                 157.311774"
      ]
     },
     "execution_count": 393,
     "metadata": {},
     "output_type": "execute_result"
    }
   ],
   "source": [
    "data.rename(columns={'NY.GNP.PCAP.CD':'GNI_per_capita','IT.CEL.SETS.P2':'cellphones_per_100_people'},inplace=True)\n",
    "data.head()"
   ]
  },
  {
   "cell_type": "code",
   "execution_count": 415,
   "metadata": {},
   "outputs": [
    {
     "data": {
      "text/plain": [
       "(48, 2)"
      ]
     },
     "execution_count": 415,
     "metadata": {},
     "output_type": "execute_result"
    }
   ],
   "source": [
    "data.shape"
   ]
  },
  {
   "cell_type": "markdown",
   "metadata": {},
   "source": [
    "# Clean the dataset\n",
    "--> except it's not that noisy"
   ]
  },
  {
   "cell_type": "code",
   "execution_count": 416,
   "metadata": {},
   "outputs": [
    {
     "data": {
      "text/plain": [
       "(46, 2)"
      ]
     },
     "execution_count": 416,
     "metadata": {},
     "output_type": "execute_result"
    }
   ],
   "source": [
    "data.dropna(inplace=True)\n",
    "data.shape"
   ]
  },
  {
   "cell_type": "code",
   "execution_count": 386,
   "metadata": {},
   "outputs": [],
   "source": [
    "#data.rename(columns=['GNI_per_capita','cellphones_per_100_people'],inplace=True)\n",
    "#data.head()"
   ]
  },
  {
   "cell_type": "code",
   "execution_count": 417,
   "metadata": {},
   "outputs": [
    {
     "data": {
      "image/png": "[encoded data removed]",
      "text/plain": [
       "<Figure size 432x432 with 1 Axes>"
      ]
     },
     "metadata": {
      "needs_background": "light"
     },
     "output_type": "display_data"
    }
   ],
   "source": [
    "fig,ax = plt.subplots(figsize=[6,6])\n",
    "\n",
    "ax.scatter(data.GNI_per_capita, data.cellphones_per_100_people)\n",
    "ax.set(xlabel = 'GNI per capita', ylabel = 'cellphones per 100 people',title='Africa: Mobile phone penetration rises with income');"
   ]
  },
  {
   "cell_type": "code",
   "execution_count": 404,
   "metadata": {},
   "outputs": [],
   "source": [
    "import statsmodels.api as sm"
   ]
  },
  {
   "cell_type": "code",
   "execution_count": 451,
   "metadata": {},
   "outputs": [
    {
     "data": {
      "text/plain": [
       "const             68.764692\n",
       "GNI_per_capita     0.006229\n",
       "dtype: float64"
      ]
     },
     "execution_count": 451,
     "metadata": {},
     "output_type": "execute_result"
    }
   ],
   "source": [
    "y = data.cellphones_per_100_people\n",
    "X = data.GNI_per_capita\n",
    "\n",
    "X = sm.add_constant(X)\n",
    "\n",
    "model = sm.OLS(y,X).fit()\n",
    "model.params\n"
   ]
  },
  {
   "cell_type": "code",
   "execution_count": 452,
   "metadata": {},
   "outputs": [
    {
     "data": {
      "text/plain": [
       "0.0062285813689794255"
      ]
     },
     "execution_count": 452,
     "metadata": {},
     "output_type": "execute_result"
    }
   ],
   "source": [
    "model.params[1]"
   ]
  },
  {
   "cell_type": "code",
   "execution_count": 445,
   "metadata": {},
   "outputs": [
    {
     "data": {
      "text/html": [
       "<table class=\"simpletable\">\n",
       "<caption>OLS Regression Results</caption>\n",
       "<tr>\n",
       "  <th>Dep. Variable:</th>    <td>cellphones_per_100_people</td> <th>  R-squared:         </th> <td>   0.282</td>\n",
       "</tr>\n",
       "<tr>\n",
       "  <th>Model:</th>                       <td>OLS</td>            <th>  Adj. R-squared:    </th> <td>   0.265</td>\n",
       "</tr>\n",
       "<tr>\n",
       "  <th>Method:</th>                 <td>Least Squares</td>       <th>  F-statistic:       </th> <td>   17.25</td>\n",
       "</tr>\n",
       "<tr>\n",
       "  <th>Date:</th>                 <td>Wed, 06 Feb 2019</td>      <th>  Prob (F-statistic):</th> <td>0.000148</td>\n",
       "</tr>\n",
       "<tr>\n",
       "  <th>Time:</th>                     <td>00:02:04</td>          <th>  Log-Likelihood:    </th> <td> -221.75</td>\n",
       "</tr>\n",
       "<tr>\n",
       "  <th>No. Observations:</th>          <td>    46</td>           <th>  AIC:               </th> <td>   447.5</td>\n",
       "</tr>\n",
       "<tr>\n",
       "  <th>Df Residuals:</th>              <td>    44</td>           <th>  BIC:               </th> <td>   451.2</td>\n",
       "</tr>\n",
       "<tr>\n",
       "  <th>Df Model:</th>                  <td>     1</td>           <th>                     </th>     <td> </td>   \n",
       "</tr>\n",
       "<tr>\n",
       "  <th>Covariance Type:</th>          <td>nonrobust</td>         <th>                     </th>     <td> </td>   \n",
       "</tr>\n",
       "</table>\n",
       "<table class=\"simpletable\">\n",
       "<tr>\n",
       "         <td></td>           <th>coef</th>     <th>std err</th>      <th>t</th>      <th>P>|t|</th>  <th>[0.025</th>    <th>0.975]</th>  \n",
       "</tr>\n",
       "<tr>\n",
       "  <th>const</th>          <td>   68.7647</td> <td>    5.744</td> <td>   11.972</td> <td> 0.000</td> <td>   57.189</td> <td>   80.340</td>\n",
       "</tr>\n",
       "<tr>\n",
       "  <th>GNI_per_capita</th> <td>    0.0062</td> <td>    0.001</td> <td>    4.153</td> <td> 0.000</td> <td>    0.003</td> <td>    0.009</td>\n",
       "</tr>\n",
       "</table>\n",
       "<table class=\"simpletable\">\n",
       "<tr>\n",
       "  <th>Omnibus:</th>       <td> 2.319</td> <th>  Durbin-Watson:     </th> <td>   2.320</td>\n",
       "</tr>\n",
       "<tr>\n",
       "  <th>Prob(Omnibus):</th> <td> 0.314</td> <th>  Jarque-Bera (JB):  </th> <td>   1.350</td>\n",
       "</tr>\n",
       "<tr>\n",
       "  <th>Skew:</th>          <td>-0.283</td> <th>  Prob(JB):          </th> <td>   0.509</td>\n",
       "</tr>\n",
       "<tr>\n",
       "  <th>Kurtosis:</th>      <td> 3.619</td> <th>  Cond. No.          </th> <td>4.86e+03</td>\n",
       "</tr>\n",
       "</table><br/><br/>Warnings:<br/>[1] Standard Errors assume that the covariance matrix of the errors is correctly specified.<br/>[2] The condition number is large, 4.86e+03. This might indicate that there are<br/>strong multicollinearity or other numerical problems."
      ],
      "text/plain": [
       "<class 'statsmodels.iolib.summary.Summary'>\n",
       "\"\"\"\n",
       "                                OLS Regression Results                               \n",
       "=====================================================================================\n",
       "Dep. Variable:     cellphones_per_100_people   R-squared:                       0.282\n",
       "Model:                                   OLS   Adj. R-squared:                  0.265\n",
       "Method:                        Least Squares   F-statistic:                     17.25\n",
       "Date:                       Wed, 06 Feb 2019   Prob (F-statistic):           0.000148\n",
       "Time:                               00:02:04   Log-Likelihood:                -221.75\n",
       "No. Observations:                         46   AIC:                             447.5\n",
       "Df Residuals:                             44   BIC:                             451.2\n",
       "Df Model:                                  1                                         \n",
       "Covariance Type:                   nonrobust                                         \n",
       "==================================================================================\n",
       "                     coef    std err          t      P>|t|      [0.025      0.975]\n",
       "----------------------------------------------------------------------------------\n",
       "const             68.7647      5.744     11.972      0.000      57.189      80.340\n",
       "GNI_per_capita     0.0062      0.001      4.153      0.000       0.003       0.009\n",
       "==============================================================================\n",
       "Omnibus:                        2.319   Durbin-Watson:                   2.320\n",
       "Prob(Omnibus):                  0.314   Jarque-Bera (JB):                1.350\n",
       "Skew:                          -0.283   Prob(JB):                        0.509\n",
       "Kurtosis:                       3.619   Cond. No.                     4.86e+03\n",
       "==============================================================================\n",
       "\n",
       "Warnings:\n",
       "[1] Standard Errors assume that the covariance matrix of the errors is correctly specified.\n",
       "[2] The condition number is large, 4.86e+03. This might indicate that there are\n",
       "strong multicollinearity or other numerical problems.\n",
       "\"\"\""
      ]
     },
     "execution_count": 445,
     "metadata": {},
     "output_type": "execute_result"
    }
   ],
   "source": [
    "model.summary()"
   ]
  },
  {
   "cell_type": "code",
   "execution_count": null,
   "metadata": {},
   "outputs": [],
   "source": []
  }
 ],
 "metadata": {
  "kernelspec": {
   "display_name": "Python 3",
   "language": "python",
   "name": "python3"
  },
  "language_info": {
   "codemirror_mode": {
    "name": "ipython",
    "version": 3
   },
   "file_extension": ".py",
   "mimetype": "text/x-python",
   "name": "python",
   "nbconvert_exporter": "python",
   "pygments_lexer": "ipython3",
   "version": "3.6.5"
  },
  "toc": {
   "base_numbering": 1,
   "nav_menu": {},
   "number_sections": true,
   "sideBar": true,
   "skip_h1_title": false,
   "title_cell": "Table of Contents",
   "title_sidebar": "Contents",
   "toc_cell": false,
   "toc_position": {},
   "toc_section_display": true,
   "toc_window_display": false
  }
 },
 "nbformat": 4,
 "nbformat_minor": 2
}
