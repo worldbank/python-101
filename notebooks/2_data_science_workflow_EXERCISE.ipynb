{
 "cells": [
  {
   "cell_type": "markdown",
   "metadata": {
    "colab_type": "text",
    "id": "dXqDsf37BZ4T"
   },
   "source": [
    "    \n",
    "# DATA DAY TRAINING: Intro to Python (data science workflow)"
   ]
  },
  {
   "cell_type": "markdown",
   "metadata": {
    "colab_type": "text",
    "id": "veLE5bsvBZ4b"
   },
   "source": [
    "Topics to cover:\n",
    "\n",
    "(i) Import data (from web and CSV files)\n",
    "\n",
    "(ii) Clean and merge datasets\n",
    "\n",
    "(iii) Exploratory data analysis\n",
    "\n",
    "(iv) Visualization and modelling\n",
    "\n",
    "We will cover this topic while exploring how life satisfaction in OECD countries varies with GNI per capita."
   ]
  },
  {
   "cell_type": "markdown",
   "metadata": {
    "colab_type": "text",
    "id": "Mvos8k7sEtRs"
   },
   "source": [
    "#### 1. Import libraries"
   ]
  },
  {
   "cell_type": "markdown",
   "metadata": {
    "colab_type": "text",
    "id": "IxZ_aRBrEtRt"
   },
   "source": [
    "Python provides several ways to import modules:\n",
    "\n",
    "- import XYZ as x (to import the library XYZ abbreviated as x)\n",
    "- import XYZ.xyz as x (to import module xyz (abbreviated as x from the library XYZ) \n",
    "- from XYZ import a, b, c (to import modules a, b, and c from library XYZ) \n",
    "\n",
    "\n",
    "You will notice pandas as one of the libraries we have imported along with some others.\n",
    "\n",
    "Pandas is an open source library that has become the de facto tool in Python for data munging. Pandas allows us to present data in a tabular form with rows and columns (by storing data in a python object called a dataframe)\n"
   ]
  },
  {
   "cell_type": "code",
   "execution_count": 1,
   "metadata": {
    "colab": {},
    "colab_type": "code",
    "id": "OQ3xF93tBZ4k"
   },
   "outputs": [],
   "source": [
    "import pandas as pd\n",
    "import matplotlib.pyplot as plt\n",
    "from pandas_datareader import wb\n",
    "#import numpy as np\n",
    "#import statsmodels.api as sm\n",
    "from matplotlib.pyplot import figure\n",
    "#import geopandas as gpd"
   ]
  },
  {
   "cell_type": "markdown",
   "metadata": {
    "colab_type": "text",
    "id": "f6iw3yIjEtR0"
   },
   "source": [
    "#### 1.1 Quick demo of pulling WDI data from the web\n",
    "We're using Pandas Datareader: a third-party library that makes it easy to pull data from APIs into a Pandas dataframe.\n",
    "\n",
    "Use it to pull live data from Yahoo! Finance, World Bank and others.\n",
    "\n",
    "\n",
    "| Function | Task Performed |\n",
    "|----|---|\n",
    "| wb.get_countries()  | List available countries, with their country codes, income levels etc. |\n",
    "| wb.search()  | Query the available indicators using a search term. |\n",
    "| wb.WorldBankReader()  | A class for downloading data series. |\n"
   ]
  },
  {
   "cell_type": "code",
   "execution_count": 2,
   "metadata": {
    "colab": {
     "base_uri": "https://localhost:8080/",
     "height": 114
    },
    "colab_type": "code",
    "id": "GbS7utgnEtR1",
    "outputId": "7e2de4e1-bc9d-4818-aae6-e24950df8e28"
   },
   "outputs": [
    {
     "data": {
      "text/html": [
       "<div>\n",
       "<style scoped>\n",
       "    .dataframe tbody tr th:only-of-type {\n",
       "        vertical-align: middle;\n",
       "    }\n",
       "\n",
       "    .dataframe tbody tr th {\n",
       "        vertical-align: top;\n",
       "    }\n",
       "\n",
       "    .dataframe thead th {\n",
       "        text-align: right;\n",
       "    }\n",
       "</style>\n",
       "<table border=\"1\" class=\"dataframe\">\n",
       "  <thead>\n",
       "    <tr style=\"text-align: right;\">\n",
       "      <th></th>\n",
       "      <th>id</th>\n",
       "      <th>name</th>\n",
       "      <th>source</th>\n",
       "      <th>sourceNote</th>\n",
       "      <th>sourceOrganization</th>\n",
       "      <th>topics</th>\n",
       "      <th>unit</th>\n",
       "    </tr>\n",
       "  </thead>\n",
       "  <tbody>\n",
       "    <tr>\n",
       "      <th>8496</th>\n",
       "      <td>NY.GNP.PCAP.CD</td>\n",
       "      <td>GNI per capita, Atlas method (current US$)</td>\n",
       "      <td>World Development Indicators</td>\n",
       "      <td>GNI per capita (formerly GNP per capita) is th...</td>\n",
       "      <td>b'World Bank national accounts data, and OECD ...</td>\n",
       "      <td>Economy &amp; Growth</td>\n",
       "      <td></td>\n",
       "    </tr>\n",
       "  </tbody>\n",
       "</table>\n",
       "</div>"
      ],
      "text/plain": [
       "                  id                                        name  \\\n",
       "8496  NY.GNP.PCAP.CD  GNI per capita, Atlas method (current US$)   \n",
       "\n",
       "                            source  \\\n",
       "8496  World Development Indicators   \n",
       "\n",
       "                                             sourceNote  \\\n",
       "8496  GNI per capita (formerly GNP per capita) is th...   \n",
       "\n",
       "                                     sourceOrganization            topics unit  \n",
       "8496  b'World Bank national accounts data, and OECD ...  Economy & Growth       "
      ]
     },
     "execution_count": 2,
     "metadata": {},
     "output_type": "execute_result"
    }
   ],
   "source": [
    "# Find the GNI per capita indicator, get its ID number\n",
    "\n",
    "result = wb.search(string=\"GNI per capita, Atlas\",field = 'name')\n",
    "result"
   ]
  },
  {
   "cell_type": "code",
   "execution_count": 3,
   "metadata": {
    "colab": {},
    "colab_type": "code",
    "id": "f1qp_XYpEtSB"
   },
   "outputs": [],
   "source": [
    "# Make a note of the indicator ID\n",
    "GNI_ID = 'NY.GNP.PCAP.CD'"
   ]
  },
  {
   "cell_type": "code",
   "execution_count": 4,
   "metadata": {
    "colab": {
     "base_uri": "https://localhost:8080/",
     "height": 306
    },
    "colab_type": "code",
    "id": "_OR_HXsAEtSE",
    "outputId": "f420f215-b4b9-4556-bfb9-1f9fab0cc680"
   },
   "outputs": [
    {
     "data": {
      "text/html": [
       "<div>\n",
       "<style scoped>\n",
       "    .dataframe tbody tr th:only-of-type {\n",
       "        vertical-align: middle;\n",
       "    }\n",
       "\n",
       "    .dataframe tbody tr th {\n",
       "        vertical-align: top;\n",
       "    }\n",
       "\n",
       "    .dataframe thead th {\n",
       "        text-align: right;\n",
       "    }\n",
       "</style>\n",
       "<table border=\"1\" class=\"dataframe\">\n",
       "  <thead>\n",
       "    <tr style=\"text-align: right;\">\n",
       "      <th></th>\n",
       "      <th>adminregion</th>\n",
       "      <th>capitalCity</th>\n",
       "      <th>iso3c</th>\n",
       "      <th>incomeLevel</th>\n",
       "      <th>iso2c</th>\n",
       "      <th>latitude</th>\n",
       "      <th>lendingType</th>\n",
       "      <th>longitude</th>\n",
       "      <th>name</th>\n",
       "      <th>region</th>\n",
       "    </tr>\n",
       "  </thead>\n",
       "  <tbody>\n",
       "    <tr>\n",
       "      <th>0</th>\n",
       "      <td></td>\n",
       "      <td>Oranjestad</td>\n",
       "      <td>ABW</td>\n",
       "      <td>High income</td>\n",
       "      <td>AW</td>\n",
       "      <td>12.51670</td>\n",
       "      <td>Not classified</td>\n",
       "      <td>-70.0167</td>\n",
       "      <td>Aruba</td>\n",
       "      <td>Latin America &amp; Caribbean</td>\n",
       "    </tr>\n",
       "    <tr>\n",
       "      <th>1</th>\n",
       "      <td>South Asia</td>\n",
       "      <td>Kabul</td>\n",
       "      <td>AFG</td>\n",
       "      <td>Low income</td>\n",
       "      <td>AF</td>\n",
       "      <td>34.52280</td>\n",
       "      <td>IDA</td>\n",
       "      <td>69.1761</td>\n",
       "      <td>Afghanistan</td>\n",
       "      <td>South Asia</td>\n",
       "    </tr>\n",
       "    <tr>\n",
       "      <th>2</th>\n",
       "      <td></td>\n",
       "      <td></td>\n",
       "      <td>AFR</td>\n",
       "      <td>Aggregates</td>\n",
       "      <td>A9</td>\n",
       "      <td>NaN</td>\n",
       "      <td>Aggregates</td>\n",
       "      <td>NaN</td>\n",
       "      <td>Africa</td>\n",
       "      <td>Aggregates</td>\n",
       "    </tr>\n",
       "    <tr>\n",
       "      <th>3</th>\n",
       "      <td>Sub-Saharan Africa (excluding high income)</td>\n",
       "      <td>Luanda</td>\n",
       "      <td>AGO</td>\n",
       "      <td>Lower middle income</td>\n",
       "      <td>AO</td>\n",
       "      <td>-8.81155</td>\n",
       "      <td>IBRD</td>\n",
       "      <td>13.2420</td>\n",
       "      <td>Angola</td>\n",
       "      <td>Sub-Saharan Africa</td>\n",
       "    </tr>\n",
       "    <tr>\n",
       "      <th>4</th>\n",
       "      <td>Europe &amp; Central Asia (excluding high income)</td>\n",
       "      <td>Tirane</td>\n",
       "      <td>ALB</td>\n",
       "      <td>Upper middle income</td>\n",
       "      <td>AL</td>\n",
       "      <td>41.33170</td>\n",
       "      <td>IBRD</td>\n",
       "      <td>19.8172</td>\n",
       "      <td>Albania</td>\n",
       "      <td>Europe &amp; Central Asia</td>\n",
       "    </tr>\n",
       "  </tbody>\n",
       "</table>\n",
       "</div>"
      ],
      "text/plain": [
       "                                     adminregion capitalCity iso3c  \\\n",
       "0                                                 Oranjestad   ABW   \n",
       "1                                     South Asia       Kabul   AFG   \n",
       "2                                                              AFR   \n",
       "3     Sub-Saharan Africa (excluding high income)      Luanda   AGO   \n",
       "4  Europe & Central Asia (excluding high income)      Tirane   ALB   \n",
       "\n",
       "           incomeLevel iso2c  latitude     lendingType  longitude  \\\n",
       "0          High income    AW  12.51670  Not classified   -70.0167   \n",
       "1           Low income    AF  34.52280             IDA    69.1761   \n",
       "2           Aggregates    A9       NaN      Aggregates        NaN   \n",
       "3  Lower middle income    AO  -8.81155            IBRD    13.2420   \n",
       "4  Upper middle income    AL  41.33170            IBRD    19.8172   \n",
       "\n",
       "          name                      region  \n",
       "0        Aruba  Latin America & Caribbean   \n",
       "1  Afghanistan                  South Asia  \n",
       "2       Africa                  Aggregates  \n",
       "3       Angola         Sub-Saharan Africa   \n",
       "4      Albania       Europe & Central Asia  "
      ]
     },
     "execution_count": 4,
     "metadata": {},
     "output_type": "execute_result"
    }
   ],
   "source": [
    "# Get a list of countries and clean it up\n",
    "countries = wb.get_countries()\n",
    "countries.head()"
   ]
  },
  {
   "cell_type": "code",
   "execution_count": 5,
   "metadata": {
    "colab": {
     "base_uri": "https://localhost:8080/",
     "height": 204
    },
    "colab_type": "code",
    "id": "g1xnzibYEtSM",
    "outputId": "119ebbe2-e109-4d99-d843-e5a3d1843b97"
   },
   "outputs": [
    {
     "data": {
      "text/html": [
       "<div>\n",
       "<style scoped>\n",
       "    .dataframe tbody tr th:only-of-type {\n",
       "        vertical-align: middle;\n",
       "    }\n",
       "\n",
       "    .dataframe tbody tr th {\n",
       "        vertical-align: top;\n",
       "    }\n",
       "\n",
       "    .dataframe thead th {\n",
       "        text-align: right;\n",
       "    }\n",
       "</style>\n",
       "<table border=\"1\" class=\"dataframe\">\n",
       "  <thead>\n",
       "    <tr style=\"text-align: right;\">\n",
       "      <th></th>\n",
       "      <th>name</th>\n",
       "      <th>iso3c</th>\n",
       "      <th>incomeLevel</th>\n",
       "    </tr>\n",
       "  </thead>\n",
       "  <tbody>\n",
       "    <tr>\n",
       "      <th>0</th>\n",
       "      <td>Aruba</td>\n",
       "      <td>ABW</td>\n",
       "      <td>High income</td>\n",
       "    </tr>\n",
       "    <tr>\n",
       "      <th>1</th>\n",
       "      <td>Afghanistan</td>\n",
       "      <td>AFG</td>\n",
       "      <td>Low income</td>\n",
       "    </tr>\n",
       "    <tr>\n",
       "      <th>3</th>\n",
       "      <td>Angola</td>\n",
       "      <td>AGO</td>\n",
       "      <td>Lower middle income</td>\n",
       "    </tr>\n",
       "    <tr>\n",
       "      <th>4</th>\n",
       "      <td>Albania</td>\n",
       "      <td>ALB</td>\n",
       "      <td>Upper middle income</td>\n",
       "    </tr>\n",
       "    <tr>\n",
       "      <th>5</th>\n",
       "      <td>Andorra</td>\n",
       "      <td>AND</td>\n",
       "      <td>High income</td>\n",
       "    </tr>\n",
       "  </tbody>\n",
       "</table>\n",
       "</div>"
      ],
      "text/plain": [
       "          name iso3c          incomeLevel\n",
       "0        Aruba   ABW          High income\n",
       "1  Afghanistan   AFG           Low income\n",
       "3       Angola   AGO  Lower middle income\n",
       "4      Albania   ALB  Upper middle income\n",
       "5      Andorra   AND          High income"
      ]
     },
     "execution_count": 5,
     "metadata": {},
     "output_type": "execute_result"
    }
   ],
   "source": [
    "#Select only those observations and columns we need: \n",
    "countries = countries[countries.incomeLevel != 'Aggregates']\n",
    "countries = countries[['name', 'iso3c','incomeLevel']]\n",
    "countries.head()"
   ]
  },
  {
   "cell_type": "code",
   "execution_count": 6,
   "metadata": {
    "colab": {
     "base_uri": "https://localhost:8080/",
     "height": 393
    },
    "colab_type": "code",
    "id": "jUyK_A0REtSR",
    "outputId": "856646c1-e310-4fa6-85f9-731c993d6f3a"
   },
   "outputs": [
    {
     "data": {
      "image/png": "[encoded data removed]",
      "text/plain": [
       "<Figure size 576x432 with 1 Axes>"
      ]
     },
     "metadata": {
      "needs_background": "light"
     },
     "output_type": "display_data"
    }
   ],
   "source": [
    "# Let's plot GNI per capita since 1960 for the OECD countries\n",
    "\n",
    "OECD_founders = ['Belgium','France','Germany','Italy','Luxembourg','Netherlands','United States',\n",
    "                'Canada','Japan']\n",
    "OECD_founder_codes = countries.iso3c[countries.name.isin(OECD_founders)]\n",
    "\n",
    "# Create a reader object, pass it the data ID and country codes we want\n",
    "\n",
    "reader = wb.WorldBankReader(symbols=GNI_ID,countries = OECD_founder_codes,start=1960)\n",
    "GNI_capita = reader.read()\n",
    "GNI_capita.head()\n",
    "\n",
    "GNI_capita = GNI_capita.unstack(level=0)[GNI_ID]\n",
    "GNI_capita.head()\n",
    "\n",
    "GNI_capita.plot(figsize=[8,6])\n",
    "plt.title('GNI per capita for OECD founders since 1960');"
   ]
  },
  {
   "cell_type": "markdown",
   "metadata": {
    "colab_type": "text",
    "id": "-m1BKtbDEtSb"
   },
   "source": [
    "#### 2. Combine income and life satisfaction data for 2015\n",
    "Incomes have risen sharply. But does that translate into more life satisfaction, and are richer countries happier?\n",
    "\n",
    "Let's do a cross-sectional analysis for a single year. "
   ]
  },
  {
   "cell_type": "markdown",
   "metadata": {
    "colab_type": "text",
    "id": "o-Hl1TNVEtSe"
   },
   "source": [
    "#### 2.1 Import and clean up the OECD life satisfaction survey"
   ]
  },
  {
   "cell_type": "code",
   "execution_count": 7,
   "metadata": {
    "colab": {},
    "colab_type": "code",
    "id": "gBfEFwf0EtSf"
   },
   "outputs": [],
   "source": [
    "# Read data from a CSV file using Pandas\n",
    "\n",
    "CSV_path = 'https://raw.githubusercontent.com/worldbank/python-101/master/notebooks/BLI2015.csv'\n",
    "life_sat = pd.read_csv(CSV_path)"
   ]
  },
  {
   "cell_type": "code",
   "execution_count": 8,
   "metadata": {
    "colab": {},
    "colab_type": "code",
    "id": "rwi2EsFhEtSl"
   },
   "outputs": [],
   "source": [
    "# Keep relevant observations and columns discarding the rest\n",
    "\n",
    "life_sat = life_sat[(life_sat.Inequality == \"Total\") & (life_sat.Indicator == 'Life satisfaction')]\n",
    "life_sat = life_sat[['Country','LOCATION','Value']]"
   ]
  },
  {
   "cell_type": "code",
   "execution_count": 9,
   "metadata": {
    "colab": {},
    "colab_type": "code",
    "id": "S5kpvtKOEtSu"
   },
   "outputs": [],
   "source": [
    "# Remove two values that don't match across datasets\n",
    "\n",
    "life_sat = life_sat[~life_sat.Country.str.contains(\"OECD\")]\n",
    "life_sat = life_sat[~life_sat.Country.str.contains(\"Korea\")]\n",
    "\n",
    "# Rename columns\n",
    "life_sat.rename(columns = {'Country': 'country', 'LOCATION':'iso3c', 'Value':'life_satisfaction'},inplace=True)"
   ]
  },
  {
   "cell_type": "code",
   "execution_count": 10,
   "metadata": {
    "colab": {
     "base_uri": "https://localhost:8080/",
     "height": 204
    },
    "colab_type": "code",
    "id": "KVK7jVTEEtSz",
    "outputId": "77390bcb-6c90-4f54-b31a-9d292c567e34"
   },
   "outputs": [
    {
     "data": {
      "text/html": [
       "<div>\n",
       "<style scoped>\n",
       "    .dataframe tbody tr th:only-of-type {\n",
       "        vertical-align: middle;\n",
       "    }\n",
       "\n",
       "    .dataframe tbody tr th {\n",
       "        vertical-align: top;\n",
       "    }\n",
       "\n",
       "    .dataframe thead th {\n",
       "        text-align: right;\n",
       "    }\n",
       "</style>\n",
       "<table border=\"1\" class=\"dataframe\">\n",
       "  <thead>\n",
       "    <tr style=\"text-align: right;\">\n",
       "      <th></th>\n",
       "      <th>country</th>\n",
       "      <th>iso3c</th>\n",
       "      <th>life_satisfaction</th>\n",
       "    </tr>\n",
       "  </thead>\n",
       "  <tbody>\n",
       "    <tr>\n",
       "      <th>2669</th>\n",
       "      <td>Australia</td>\n",
       "      <td>AUS</td>\n",
       "      <td>7.3</td>\n",
       "    </tr>\n",
       "    <tr>\n",
       "      <th>2670</th>\n",
       "      <td>Austria</td>\n",
       "      <td>AUT</td>\n",
       "      <td>6.9</td>\n",
       "    </tr>\n",
       "    <tr>\n",
       "      <th>2671</th>\n",
       "      <td>Belgium</td>\n",
       "      <td>BEL</td>\n",
       "      <td>6.9</td>\n",
       "    </tr>\n",
       "    <tr>\n",
       "      <th>2672</th>\n",
       "      <td>Canada</td>\n",
       "      <td>CAN</td>\n",
       "      <td>7.3</td>\n",
       "    </tr>\n",
       "    <tr>\n",
       "      <th>2673</th>\n",
       "      <td>Czech Republic</td>\n",
       "      <td>CZE</td>\n",
       "      <td>6.5</td>\n",
       "    </tr>\n",
       "  </tbody>\n",
       "</table>\n",
       "</div>"
      ],
      "text/plain": [
       "             country iso3c  life_satisfaction\n",
       "2669       Australia   AUS                7.3\n",
       "2670         Austria   AUT                6.9\n",
       "2671         Belgium   BEL                6.9\n",
       "2672          Canada   CAN                7.3\n",
       "2673  Czech Republic   CZE                6.5"
      ]
     },
     "execution_count": 10,
     "metadata": {},
     "output_type": "execute_result"
    }
   ],
   "source": [
    "# Inspect the dataframe: \n",
    "life_sat.head()"
   ]
  },
  {
   "cell_type": "markdown",
   "metadata": {
    "colab_type": "text",
    "id": "bjysdiEcEtS9"
   },
   "source": [
    "#### 2.2 Get GNI per capita for OECD countries in 2015"
   ]
  },
  {
   "cell_type": "code",
   "execution_count": 11,
   "metadata": {
    "colab": {},
    "colab_type": "code",
    "id": "Yp9y6Vl6EtS_"
   },
   "outputs": [],
   "source": [
    "# Read in the data\n",
    "\n",
    "OECD_country_codes = life_sat.iso3c\n",
    "reader = wb.WorldBankReader(symbols = GNI_ID, countries = OECD_country_codes, start = 2015, end = 2015)\n",
    "GNI_OECD = reader.read()\n"
   ]
  },
  {
   "cell_type": "code",
   "execution_count": 12,
   "metadata": {
    "colab": {},
    "colab_type": "code",
    "id": "5lQ8hnP9EtTF"
   },
   "outputs": [],
   "source": [
    "# Clean up the dataframe and rename column\n",
    "\n",
    "GNI_OECD2 = GNI_OECD.reset_index()\n",
    "GNI_OECD = GNI_OECD2\n",
    "GNI_OECD.rename(columns={'NY.GNP.PCAP.CD':'GNI_per_capita'},inplace=True)"
   ]
  },
  {
   "cell_type": "code",
   "execution_count": 13,
   "metadata": {
    "colab": {
     "base_uri": "https://localhost:8080/",
     "height": 204
    },
    "colab_type": "code",
    "id": "SXNC7XHQEtTM",
    "outputId": "52863da2-36df-4c7e-851c-637d039fac66"
   },
   "outputs": [
    {
     "data": {
      "text/html": [
       "<div>\n",
       "<style scoped>\n",
       "    .dataframe tbody tr th:only-of-type {\n",
       "        vertical-align: middle;\n",
       "    }\n",
       "\n",
       "    .dataframe tbody tr th {\n",
       "        vertical-align: top;\n",
       "    }\n",
       "\n",
       "    .dataframe thead th {\n",
       "        text-align: right;\n",
       "    }\n",
       "</style>\n",
       "<table border=\"1\" class=\"dataframe\">\n",
       "  <thead>\n",
       "    <tr style=\"text-align: right;\">\n",
       "      <th></th>\n",
       "      <th>country</th>\n",
       "      <th>year</th>\n",
       "      <th>GNI_per_capita</th>\n",
       "    </tr>\n",
       "  </thead>\n",
       "  <tbody>\n",
       "    <tr>\n",
       "      <th>0</th>\n",
       "      <td>Australia</td>\n",
       "      <td>2015</td>\n",
       "      <td>60360</td>\n",
       "    </tr>\n",
       "    <tr>\n",
       "      <th>1</th>\n",
       "      <td>Austria</td>\n",
       "      <td>2015</td>\n",
       "      <td>47630</td>\n",
       "    </tr>\n",
       "    <tr>\n",
       "      <th>2</th>\n",
       "      <td>Belgium</td>\n",
       "      <td>2015</td>\n",
       "      <td>44230</td>\n",
       "    </tr>\n",
       "    <tr>\n",
       "      <th>3</th>\n",
       "      <td>Brazil</td>\n",
       "      <td>2015</td>\n",
       "      <td>10090</td>\n",
       "    </tr>\n",
       "    <tr>\n",
       "      <th>4</th>\n",
       "      <td>Canada</td>\n",
       "      <td>2015</td>\n",
       "      <td>47460</td>\n",
       "    </tr>\n",
       "  </tbody>\n",
       "</table>\n",
       "</div>"
      ],
      "text/plain": [
       "     country  year  GNI_per_capita\n",
       "0  Australia  2015           60360\n",
       "1    Austria  2015           47630\n",
       "2    Belgium  2015           44230\n",
       "3     Brazil  2015           10090\n",
       "4     Canada  2015           47460"
      ]
     },
     "execution_count": 13,
     "metadata": {},
     "output_type": "execute_result"
    }
   ],
   "source": [
    "#Inspect the dataframe\n",
    "\n",
    "GNI_OECD.head()"
   ]
  },
  {
   "cell_type": "markdown",
   "metadata": {
    "colab_type": "text",
    "id": "mCFsorObEtTd"
   },
   "source": [
    "#### 2.3 Merge the datasets"
   ]
  },
  {
   "cell_type": "code",
   "execution_count": 14,
   "metadata": {
    "colab": {},
    "colab_type": "code",
    "id": "Adh6oJJJEtTg"
   },
   "outputs": [],
   "source": [
    "# Merge the datasets, keeping only the columns we need\n",
    "df = pd.merge(life_sat, GNI_OECD,on='country')\n",
    "df = df[['country','life_satisfaction','GNI_per_capita']]"
   ]
  },
  {
   "cell_type": "code",
   "execution_count": 15,
   "metadata": {
    "colab": {
     "base_uri": "https://localhost:8080/",
     "height": 204
    },
    "colab_type": "code",
    "id": "EtEk_il8EtTl",
    "outputId": "d877309d-88a5-46bf-c52d-629b79b2d8a3"
   },
   "outputs": [
    {
     "data": {
      "text/html": [
       "<div>\n",
       "<style scoped>\n",
       "    .dataframe tbody tr th:only-of-type {\n",
       "        vertical-align: middle;\n",
       "    }\n",
       "\n",
       "    .dataframe tbody tr th {\n",
       "        vertical-align: top;\n",
       "    }\n",
       "\n",
       "    .dataframe thead th {\n",
       "        text-align: right;\n",
       "    }\n",
       "</style>\n",
       "<table border=\"1\" class=\"dataframe\">\n",
       "  <thead>\n",
       "    <tr style=\"text-align: right;\">\n",
       "      <th></th>\n",
       "      <th>country</th>\n",
       "      <th>life_satisfaction</th>\n",
       "      <th>GNI_per_capita</th>\n",
       "    </tr>\n",
       "  </thead>\n",
       "  <tbody>\n",
       "    <tr>\n",
       "      <th>0</th>\n",
       "      <td>Australia</td>\n",
       "      <td>7.3</td>\n",
       "      <td>60360</td>\n",
       "    </tr>\n",
       "    <tr>\n",
       "      <th>1</th>\n",
       "      <td>Austria</td>\n",
       "      <td>6.9</td>\n",
       "      <td>47630</td>\n",
       "    </tr>\n",
       "    <tr>\n",
       "      <th>2</th>\n",
       "      <td>Belgium</td>\n",
       "      <td>6.9</td>\n",
       "      <td>44230</td>\n",
       "    </tr>\n",
       "    <tr>\n",
       "      <th>3</th>\n",
       "      <td>Canada</td>\n",
       "      <td>7.3</td>\n",
       "      <td>47460</td>\n",
       "    </tr>\n",
       "    <tr>\n",
       "      <th>4</th>\n",
       "      <td>Czech Republic</td>\n",
       "      <td>6.5</td>\n",
       "      <td>18250</td>\n",
       "    </tr>\n",
       "  </tbody>\n",
       "</table>\n",
       "</div>"
      ],
      "text/plain": [
       "          country  life_satisfaction  GNI_per_capita\n",
       "0       Australia                7.3           60360\n",
       "1         Austria                6.9           47630\n",
       "2         Belgium                6.9           44230\n",
       "3          Canada                7.3           47460\n",
       "4  Czech Republic                6.5           18250"
      ]
     },
     "execution_count": 15,
     "metadata": {},
     "output_type": "execute_result"
    }
   ],
   "source": [
    "# Inspect the dataframe \n",
    "df.head()"
   ]
  },
  {
   "cell_type": "markdown",
   "metadata": {
    "colab_type": "text",
    "id": "yLBTbpbEEtTs"
   },
   "source": [
    "### 3. Visualize a scatterplot"
   ]
  },
  {
   "cell_type": "code",
   "execution_count": 16,
   "metadata": {
    "colab": {
     "base_uri": "https://localhost:8080/",
     "height": 549
    },
    "colab_type": "code",
    "id": "JXVzyy4qEtTu",
    "outputId": "84fc21c0-be18-42b4-9194-ce004a95d8d1"
   },
   "outputs": [
    {
     "data": {
      "image/png": "[encoded data removed]",
      "text/plain": [
       "<Figure size 720x576 with 1 Axes>"
      ]
     },
     "metadata": {
      "needs_background": "light"
     },
     "output_type": "display_data"
    }
   ],
   "source": [
    "#Scatterplot income vs life satisfaction\n",
    "fig,ax = plt.subplots(figsize = [10,8])\n",
    "df.plot(kind='scatter',x='GNI_per_capita',y='life_satisfaction',ax=ax)\n",
    "plt.title('Income vs. life satisfaction for OECD countries (2015)');"
   ]
  },
  {
   "cell_type": "code",
   "execution_count": 17,
   "metadata": {
    "colab": {
     "base_uri": "https://localhost:8080/",
     "height": 654
    },
    "colab_type": "code",
    "id": "Ttv4sDzcEtTz",
    "outputId": "95fb3890-5513-47ee-87f4-509f7c816eb7"
   },
   "outputs": [
    {
     "data": {
      "image/png": "[encoded data removed]",
      "text/plain": [
       "<Figure size 960x800 with 1 Axes>"
      ]
     },
     "metadata": {},
     "output_type": "display_data"
    }
   ],
   "source": [
    "#With annotated data points \n",
    "\n",
    "countrylist=df.iloc[:, 0].tolist()\n",
    "lifesat=df.iloc[:, 1].tolist()\n",
    "GNIpercapita=df.iloc[:,2].tolist()\n",
    "figure(num=None, figsize=(12, 10), dpi=80, facecolor='w', edgecolor='k')\n",
    "for i,type in enumerate(countrylist):\n",
    "    inc = GNIpercapita[i]\n",
    "    lif = lifesat[i]\n",
    "    plt.scatter(inc, lif, color='red')\n",
    "    plt.text(inc+0.05, lif+0.05, type, fontsize=7)\n",
    "plt.show()"
   ]
  },
  {
   "cell_type": "markdown",
   "metadata": {
    "colab_type": "text",
    "id": "g3v7-QH8BZ83"
   },
   "source": [
    "## EXERCISES:"
   ]
  },
  {
   "cell_type": "markdown",
   "metadata": {
    "colab_type": "text",
    "id": "dUb1YeAWBZ84"
   },
   "source": [
    "We have looked at the tools Python has for data processing and cleaning, \n",
    "now lets explore the available functionality for statistical exploration of the data. \n",
    "At this stage, we can use common pandas functions and do things like:\n",
    "\n",
    "- check the shape of the dataframe, i.e. number of rows and columns *df.shape*\n",
    "- check the names of the columns *df.columns*\n",
    "- display the first n observations in a dataframe *df.head(n)* (default is n=5)\n",
    "- checking data types: *df.dtypes*\n",
    "- accessing/indexing columns. Two main ways: *df.column_name* or *df[column_name]*\n",
    "- check distribution of the variables using *df.describe()*\n",
    "- check summary statistics using *df.mean()* or *df.median()* or *df.min* or *df.max*\n",
    "- get value counts, mostly useful for categorical variables: *df[col_name].value_counts()*\n",
    "- sort the data: *df.sort_values*\n",
    "\n",
    "In case you need to know what each function does in pandas, use this trick to get details: df.function_name?. Try this without including the brackets/parentheses to get documentation about that particular function\n",
    "\n",
    "\n",
    "\n"
   ]
  },
  {
   "cell_type": "markdown",
   "metadata": {
    "colab_type": "text",
    "id": "xSDgQlRgBZ85"
   },
   "source": [
    "Exercise 1: Display descriptive Statistics for the whole dataset (using dataframe.describe()"
   ]
  },
  {
   "cell_type": "code",
   "execution_count": 18,
   "metadata": {
    "colab": {},
    "colab_type": "code",
    "id": "wS-Bi3hJBZ9A"
   },
   "outputs": [],
   "source": [
    "#Your code here: \n"
   ]
  },
  {
   "cell_type": "markdown",
   "metadata": {
    "colab_type": "text",
    "id": "Xfi2aL61EtT9"
   },
   "source": [
    "Exercise 2: Display the distribution on a histogram (HINT: plt.hist(dataframe.column_name, bins=n) "
   ]
  },
  {
   "cell_type": "code",
   "execution_count": 19,
   "metadata": {
    "colab": {},
    "colab_type": "code",
    "id": "cTbz5XUIEtT-"
   },
   "outputs": [],
   "source": [
    "#Your code here:  "
   ]
  },
  {
   "cell_type": "markdown",
   "metadata": {
    "colab_type": "text",
    "id": "ZwQ_W0ZCBZ9O"
   },
   "source": [
    "Exercise 3: What is the maximum GNI per capita in 2015? (using dataframe.col_name.max()"
   ]
  },
  {
   "cell_type": "code",
   "execution_count": 20,
   "metadata": {
    "colab": {},
    "colab_type": "code",
    "id": "whfF5DKEBZ9R"
   },
   "outputs": [],
   "source": [
    "#Your code here:\n"
   ]
  },
  {
   "cell_type": "markdown",
   "metadata": {
    "colab_type": "text",
    "id": "PwTx0PT5EtUF"
   },
   "source": [
    "Exercise 4: Which country has the lowest score for life satisfaction in 2015? Hint- Use idxmin (index for the minimum) For example, to get the country with max value you'd use: df.loc[dataframe.column_name.idxmax()].country"
   ]
  },
  {
   "cell_type": "code",
   "execution_count": 21,
   "metadata": {
    "colab": {},
    "colab_type": "code",
    "id": "o0Tc8dePBZ9m"
   },
   "outputs": [],
   "source": [
    "# Your code here: \n"
   ]
  },
  {
   "cell_type": "markdown",
   "metadata": {
    "colab_type": "text",
    "id": "pNt-nbvXEtUM"
   },
   "source": [
    "Exercise 5: Try running an OLS regression using the statsmodel library (make sure to import it first!)"
   ]
  },
  {
   "cell_type": "code",
   "execution_count": 22,
   "metadata": {
    "colab": {
     "base_uri": "https://localhost:8080/",
     "height": 232
    },
    "colab_type": "code",
    "id": "GvpuLnyYEtUN",
    "outputId": "e5dd4186-e5c7-4a47-dd12-e6ce782c097d"
   },
   "outputs": [
    {
     "ename": "NameError",
     "evalue": "name 'dataframe' is not defined",
     "output_type": "error",
     "traceback": [
      "\u001b[0;31m---------------------------------------------------------------------------\u001b[0m",
      "\u001b[0;31mNameError\u001b[0m                                 Traceback (most recent call last)",
      "\u001b[0;32m<ipython-input-22-23fecba48e3a>\u001b[0m in \u001b[0;36m<module>\u001b[0;34m()\u001b[0m\n\u001b[1;32m      1\u001b[0m \u001b[0;31m#5.1 Enter variable names:\u001b[0m\u001b[0;34m\u001b[0m\u001b[0;34m\u001b[0m\u001b[0m\n\u001b[0;32m----> 2\u001b[0;31m \u001b[0my\u001b[0m \u001b[0;34m=\u001b[0m \u001b[0mdataframe\u001b[0m\u001b[0;34m.\u001b[0m\u001b[0mcolumn_name\u001b[0m\u001b[0;34m\u001b[0m\u001b[0m\n\u001b[0m\u001b[1;32m      3\u001b[0m \u001b[0mX\u001b[0m \u001b[0;34m=\u001b[0m \u001b[0mdataframe\u001b[0m\u001b[0;34m.\u001b[0m\u001b[0mcolumn_name\u001b[0m\u001b[0;34m\u001b[0m\u001b[0m\n\u001b[1;32m      4\u001b[0m \u001b[0;34m\u001b[0m\u001b[0m\n\u001b[1;32m      5\u001b[0m \u001b[0mX\u001b[0m \u001b[0;34m=\u001b[0m \u001b[0msm\u001b[0m\u001b[0;34m.\u001b[0m\u001b[0madd_constant\u001b[0m\u001b[0;34m(\u001b[0m\u001b[0mX\u001b[0m\u001b[0;34m)\u001b[0m\u001b[0;34m\u001b[0m\u001b[0m\n",
      "\u001b[0;31mNameError\u001b[0m: name 'dataframe' is not defined"
     ]
    }
   ],
   "source": [
    "#5.1 Enter variable names:\n",
    "y = dataframe.column_name\n",
    "X = dataframe.column_name\n",
    "\n",
    "X = sm.add_constant(X)\n",
    "\n",
    "model = sm.OLS(y,X).fit()\n",
    "model.params"
   ]
  },
  {
   "cell_type": "code",
   "execution_count": null,
   "metadata": {
    "colab": {},
    "colab_type": "code",
    "id": "aSZCVgqcEtUU"
   },
   "outputs": [],
   "source": [
    "#5.2 Try using the model.summary() function:\n",
    "\n"
   ]
  },
  {
   "cell_type": "code",
   "execution_count": null,
   "metadata": {
    "colab": {},
    "colab_type": "code",
    "id": "528POveEEtUX"
   },
   "outputs": [],
   "source": [
    "#5.3 Can you display the graph?\n",
    "\n",
    "fig,ax = plt.subplots(figsize=[12, 10])\n",
    "\n",
    "ax.scatter(dataframe.column_name, dataframe.column_name)\n",
    "ax.set(xlabel = 'GDP per capita PPP current dollars', ylabel = 'Life satisfaction score',title='OECD: Life satisfaction rises with income');\n",
    "\n",
    "X_plot = np.linspace(0,140000,1000)\n",
    "ax.plot(X_plot, X_plot*model.params[1]+ model.params[0],color='r');"
   ]
  }
 ],
 "metadata": {
  "colab": {
   "name": "2_data_science_workflow_life_sat_vs_gdp.ipynb",
   "provenance": [],
   "version": "0.3.2"
  },
  "kernelspec": {
   "display_name": "Python 3",
   "language": "python",
   "name": "python3"
  },
  "language_info": {
   "codemirror_mode": {
    "name": "ipython",
    "version": 3
   },
   "file_extension": ".py",
   "mimetype": "text/x-python",
   "name": "python",
   "nbconvert_exporter": "python",
   "pygments_lexer": "ipython3",
   "version": "3.7.0"
  }
 },
 "nbformat": 4,
 "nbformat_minor": 1
}
