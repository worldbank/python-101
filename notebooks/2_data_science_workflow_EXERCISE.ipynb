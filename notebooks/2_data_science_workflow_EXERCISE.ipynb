{
 "cells": [
  {
   "cell_type": "markdown",
   "metadata": {
    "colab_type": "text",
    "id": "dXqDsf37BZ4T"
   },
   "source": [
    "    \n",
    "# DATA DAY TRAINING: Intro to Python (data science workflow)"
   ]
  },
  {
   "cell_type": "markdown",
   "metadata": {
    "colab_type": "text",
    "id": "veLE5bsvBZ4b"
   },
   "source": [
    "Topics to cover:\n",
    "\n",
    "(i) Import data (from web and CSV files)\n",
    "\n",
    "(ii) Clean and merge datasets\n",
    "\n",
    "(iii) Exploratory data analysis\n",
    "\n",
    "(iv) Visualization and modelling\n",
    "\n",
    "We will cover this topic while exploring how life satisfaction in OECD countries varies with GNI per capita."
   ]
  },
  {
   "cell_type": "markdown",
   "metadata": {},
   "source": [
    "#### 1. Import libraries"
   ]
  },
  {
   "cell_type": "markdown",
   "metadata": {},
   "source": [
    "Python provides several ways to import modules:\n",
    "\n",
    "- import XYZ as x (to import the library XYZ abbreviated as x)\n",
    "- import XYZ.xyz as x (to import module xyz (abbreviated as x from the library XYZ) \n",
    "- from XYZ import a, b, c (to import modules a, b, and c from library XYZ) \n",
    "\n"
   ]
  },
  {
   "cell_type": "code",
   "execution_count": null,
   "metadata": {
    "colab": {
     "base_uri": "https://localhost:8080/",
     "height": 71
    },
    "colab_type": "code",
    "id": "OQ3xF93tBZ4k",
    "outputId": "c52e6c37-113c-4b4e-b217-cfdb14373394"
   },
   "outputs": [],
   "source": [
    "import pandas as pd\n",
    "import matplotlib.pyplot as plt\n",
    "from pandas_datareader import wb\n",
    "#import numpy as np\n",
    "#import statsmodels.api as sm\n",
    "from matplotlib.pyplot import figure\n",
    "#import geopandas as gpd"
   ]
  },
  {
   "cell_type": "markdown",
   "metadata": {},
   "source": [
    "#### 1.1 Quick demo of pulling WDI data from the web\n",
    "We're using Pandas Datareader: a third-party library that makes it easy to pull data from APIs into a Pandas dataframe.\n",
    "\n",
    "Use it to pull live data from Yahoo! Finance, World Bank and others.\n",
    "\n",
    "\n",
    "| Function | Task Performed |\n",
    "|----|---|\n",
    "| wb.get_countries()  | List available countries, with their country codes, income levels etc. |\n",
    "| wb.search()  | Query the available indicators using a search term. |\n",
    "| wb.WorldBankReader()  | A class for downloading data series. |\n"
   ]
  },
  {
   "cell_type": "code",
   "execution_count": null,
   "metadata": {},
   "outputs": [],
   "source": [
    "# Find the GNI per capita indicator, get its ID number\n",
    "\n",
    "result = wb.search(string=\"GNI per capita, Atlas\",field = 'name')\n",
    "result"
   ]
  },
  {
   "cell_type": "code",
   "execution_count": null,
   "metadata": {},
   "outputs": [],
   "source": [
    "# Make a note of the indicator ID\n",
    "GNI_ID = 'NY.GNP.PCAP.CD'"
   ]
  },
  {
   "cell_type": "code",
   "execution_count": null,
   "metadata": {},
   "outputs": [],
   "source": [
    "# Get a list of countries and clean it up\n",
    "countries = wb.get_countries()\n",
    "countries.head()"
   ]
  },
  {
   "cell_type": "code",
   "execution_count": null,
   "metadata": {},
   "outputs": [],
   "source": [
    "#Select only those observations and columns we need: \n",
    "countries = countries[countries.incomeLevel != 'Aggregates']\n",
    "countries = countries[['name', 'iso3c','incomeLevel']]\n",
    "countries.head()"
   ]
  },
  {
   "cell_type": "code",
   "execution_count": null,
   "metadata": {},
   "outputs": [],
   "source": [
    "# Let's plot GNI per capita since 1960 for the OECD countries\n",
    "\n",
    "OECD_founders = ['Belgium','France','Germany','Italy','Luxembourg','Netherlands','United States',\n",
    "                'Canada','Japan']\n",
    "OECD_founder_codes = countries.iso3c[countries.name.isin(OECD_founders)]\n",
    "\n",
    "# Create a reader object, pass it the data ID and country codes we want\n",
    "\n",
    "reader = wb.WorldBankReader(symbols=GNI_ID,countries = OECD_founder_codes,start=1960)\n",
    "GNI_capita = reader.read()\n",
    "GNI_capita.head()\n",
    "\n",
    "GNI_capita = GNI_capita.unstack(level=0)[GNI_ID]\n",
    "GNI_capita.head()\n",
    "\n",
    "GNI_capita.plot(figsize=[8,6])\n",
    "plt.title('GNI per capita for OECD founders since 1960');"
   ]
  },
  {
   "cell_type": "markdown",
   "metadata": {},
   "source": [
    "#### 2. Combine income and life satisfaction data for 2015\n",
    "Incomes have risen sharply. But does that translate into more life satisfaction, and are richer countries happier?\n",
    "\n",
    "Let's do a cross-sectional analysis for a single year. "
   ]
  },
  {
   "cell_type": "markdown",
   "metadata": {},
   "source": [
    "#### 2.1 Import and clean up the OECD life satisfaction survey"
   ]
  },
  {
   "cell_type": "code",
   "execution_count": null,
   "metadata": {},
   "outputs": [],
   "source": [
    "# Read data from a CSV file using Pandas\n",
    "\n",
    "CSV_path = 'https://raw.githubusercontent.com/worldbank/python-101/master/notebooks/BLI2015.csv'\n",
    "life_sat = pd.read_csv(CSV_path)"
   ]
  },
  {
   "cell_type": "code",
   "execution_count": null,
   "metadata": {},
   "outputs": [],
   "source": [
    "# Keep relevant observations and columns discarding the rest\n",
    "\n",
    "life_sat = life_sat[(life_sat.Inequality == \"Total\") & (life_sat.Indicator == 'Life satisfaction')]\n",
    "life_sat = life_sat[['Country','LOCATION','Value']]"
   ]
  },
  {
   "cell_type": "code",
   "execution_count": null,
   "metadata": {},
   "outputs": [],
   "source": [
    "# Remove two values that don't match across datasets\n",
    "\n",
    "life_sat = life_sat[~life_sat.Country.str.contains(\"OECD\")]\n",
    "life_sat = life_sat[~life_sat.Country.str.contains(\"Korea\")]\n",
    "\n",
    "# Rename columns\n",
    "life_sat.rename(columns = {'Country': 'country', 'LOCATION':'iso3c', 'Value':'life_satisfaction'},inplace=True)"
   ]
  },
  {
   "cell_type": "code",
   "execution_count": null,
   "metadata": {},
   "outputs": [],
   "source": [
    "# Inspect the dataframe: \n",
    "life_sat.head()"
   ]
  },
  {
   "cell_type": "markdown",
   "metadata": {},
   "source": [
    "#### 2.2 Get GNI per capita for OECD countries in 2015"
   ]
  },
  {
   "cell_type": "code",
   "execution_count": null,
   "metadata": {},
   "outputs": [],
   "source": [
    "# Read in the data\n",
    "\n",
    "OECD_country_codes = life_sat.iso3c\n",
    "reader = wb.WorldBankReader(symbols = GNI_ID, countries = OECD_country_codes, start = 2015, end = 2015)\n",
    "GNI_OECD = reader.read()\n"
   ]
  },
  {
   "cell_type": "code",
   "execution_count": null,
   "metadata": {},
   "outputs": [],
   "source": [
    "# Clean up the dataframe and rename column\n",
    "\n",
    "GNI_OECD2 = GNI_OECD.reset_index()\n",
    "GNI_OECD = GNI_OECD2\n",
    "GNI_OECD.rename(columns={'NY.GNP.PCAP.CD':'GNI_per_capita'},inplace=True)"
   ]
  },
  {
   "cell_type": "code",
   "execution_count": null,
   "metadata": {},
   "outputs": [],
   "source": [
    "#Inspect the dataframe\n",
    "\n",
    "GNI_OECD.head()"
   ]
  },
  {
   "cell_type": "markdown",
   "metadata": {},
   "source": [
    "#### 2.3 Merge the datasets"
   ]
  },
  {
   "cell_type": "code",
   "execution_count": null,
   "metadata": {},
   "outputs": [],
   "source": [
    "# Merge the datasets, keeping only the columns we need\n",
    "df = pd.merge(life_sat, GNI_OECD,on='country')\n",
    "df = df[['country','life_satisfaction','GNI_per_capita']]"
   ]
  },
  {
   "cell_type": "code",
   "execution_count": null,
   "metadata": {},
   "outputs": [],
   "source": [
    "# Inspect the dataframe \n",
    "df.head()"
   ]
  },
  {
   "cell_type": "markdown",
   "metadata": {},
   "source": [
    "### 3. Visualize a scatterplot"
   ]
  },
  {
   "cell_type": "code",
   "execution_count": null,
   "metadata": {},
   "outputs": [],
   "source": [
    "#Scatterplot income vs life satisfaction\n",
    "fig,ax = plt.subplots(figsize = [10,8])\n",
    "df.plot(kind='scatter',x='GNI_per_capita',y='life_satisfaction',ax=ax)\n",
    "plt.title('Income vs. life satisfaction for OECD countries (2015)');"
   ]
  },
  {
   "cell_type": "code",
   "execution_count": null,
   "metadata": {},
   "outputs": [],
   "source": [
    "#With annotated data points \n",
    "\n",
    "countrylist=df.iloc[:, 0].tolist()\n",
    "lifesat=df.iloc[:, 1].tolist()\n",
    "GNIpercapita=df.iloc[:,2].tolist()\n",
    "figure(num=None, figsize=(12, 10), dpi=80, facecolor='w', edgecolor='k')\n",
    "for i,type in enumerate(countrylist):\n",
    "    inc = GNIpercapita[i]\n",
    "    lif = lifesat[i]\n",
    "    plt.scatter(inc, lif, color='red')\n",
    "    plt.text(inc+0.05, lif+0.05, type, fontsize=7)\n",
    "plt.show()"
   ]
  },
  {
   "cell_type": "markdown",
   "metadata": {
    "colab_type": "text",
    "id": "g3v7-QH8BZ83"
   },
   "source": [
    "## EXERCISES:"
   ]
  },
  {
   "cell_type": "markdown",
   "metadata": {
    "colab_type": "text",
    "id": "dUb1YeAWBZ84"
   },
   "source": [
    "We have looked at the tools Python has for data processing and cleaning, \n",
    "now lets explore the available functionality for statistical exploration of the data. \n",
    "At this stage, we can use common pandas functions and do things like:\n",
    "\n",
    "- check the shape of the dataframe, i.e. number of rows and columns *df.shape*\n",
    "- check the names of the columns *df.columns* or get info *df.info*\n",
    "- display the first n observations in a dataframe *df.head(n)* (default is n=5)\n",
    "- check distribution of the variables using *df.describe()*\n",
    "- check summary statistics using *df.mean()* or *df.median()* or *df.min* or *df.max*\n",
    "- get value counts, mostly useful for categorical variables: *df[col_name].value_counts()*\n",
    "- sort the data: *df.sort_values*\n"
   ]
  },
  {
   "cell_type": "markdown",
   "metadata": {
    "colab_type": "text",
    "id": "xSDgQlRgBZ85"
   },
   "source": [
    "Exercise 1: Display descriptive Statistics for the whole dataset (using dataframe.describe()"
   ]
  },
  {
   "cell_type": "code",
   "execution_count": null,
   "metadata": {
    "colab": {},
    "colab_type": "code",
    "id": "wS-Bi3hJBZ9A"
   },
   "outputs": [],
   "source": [
    "#Your code here: \n"
   ]
  },
  {
   "cell_type": "markdown",
   "metadata": {},
   "source": [
    "Exercise 2: Display the distribution on a histogram (HINT: plt.hist(dataframe.column_name, bins=n) "
   ]
  },
  {
   "cell_type": "code",
   "execution_count": null,
   "metadata": {},
   "outputs": [],
   "source": [
    "#Your code here:  "
   ]
  },
  {
   "cell_type": "markdown",
   "metadata": {
    "colab_type": "text",
    "id": "ZwQ_W0ZCBZ9O"
   },
   "source": [
    "Exercise 3: What is the maximum GNI per capita in 2015? (using dataframe.col_name.max()"
   ]
  },
  {
   "cell_type": "code",
   "execution_count": null,
   "metadata": {
    "colab": {},
    "colab_type": "code",
    "id": "whfF5DKEBZ9R"
   },
   "outputs": [],
   "source": [
    "#Your code here:\n"
   ]
  },
  {
   "cell_type": "markdown",
   "metadata": {
    "colab": {
     "base_uri": "https://localhost:8080/",
     "height": 34
    },
    "colab_type": "code",
    "id": "n3DLiTTzBZ9d",
    "outputId": "6a34870a-6cf4-4023-84d9-719287d5f90d"
   },
   "source": [
    "Exercise 4: Which country has minimum value for life satisfaction in 2015 \n",
    "HINT: Use idxmin (index for the minimum)\n",
    "EXAMPLE FOR MAXIMUM: print(df.loc[df.GNI_per_capita.idxmax()].country)"
   ]
  },
  {
   "cell_type": "code",
   "execution_count": null,
   "metadata": {
    "colab": {},
    "colab_type": "code",
    "id": "o0Tc8dePBZ9m"
   },
   "outputs": [],
   "source": [
    "# Your code here: \n"
   ]
  },
  {
   "cell_type": "markdown",
   "metadata": {},
   "source": [
    "Exercise 5: Try running an OLS regression using the statsmodel library (make sure to import it first!)"
   ]
  },
  {
   "cell_type": "code",
   "execution_count": null,
   "metadata": {},
   "outputs": [],
   "source": [
    "#5.1 Enter variable names:\n",
    "y = dataframe.column_name\n",
    "X = dataframe.column_name\n",
    "\n",
    "X = sm.add_constant(X)\n",
    "\n",
    "model = sm.OLS(y,X).fit()\n",
    "model.params"
   ]
  },
  {
   "cell_type": "code",
   "execution_count": null,
   "metadata": {},
   "outputs": [],
   "source": [
    "#5.2 Try using the model.summary() function:\n",
    "\n"
   ]
  },
  {
   "cell_type": "code",
   "execution_count": null,
   "metadata": {},
   "outputs": [],
   "source": [
    "#5.3 Can you display the graph?\n",
    "\n",
    "fig,ax = plt.subplots(figsize=[12, 10])\n",
    "\n",
    "ax.scatter(dataframe.column_name, dataframe.column_name)\n",
    "ax.set(xlabel = 'GDP per capita PPP current dollars', ylabel = 'Life satisfaction score',title='OECD: Life satisfaction rises with income');\n",
    "\n",
    "X_plot = np.linspace(0,140000,1000)\n",
    "ax.plot(X_plot, X_plot*model.params[1]+ model.params[0],color='r');"
   ]
  }
 ],
 "metadata": {
  "colab": {
   "name": "2_data_science_workflow_life_sat_vs_gdp.ipynb",
   "provenance": [],
   "version": "0.3.2"
  },
  "kernelspec": {
   "display_name": "Python 3",
   "language": "python",
   "name": "python3"
  },
  "language_info": {
   "codemirror_mode": {
    "name": "ipython",
    "version": 3
   },
   "file_extension": ".py",
   "mimetype": "text/x-python",
   "name": "python",
   "nbconvert_exporter": "python",
   "pygments_lexer": "ipython3",
   "version": "3.7.0"
  }
 },
 "nbformat": 4,
 "nbformat_minor": 2
}
