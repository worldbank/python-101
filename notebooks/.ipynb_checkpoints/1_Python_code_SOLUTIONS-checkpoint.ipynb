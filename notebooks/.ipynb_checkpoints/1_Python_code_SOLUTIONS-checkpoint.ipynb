{
 "cells": [
  {
   "cell_type": "markdown",
   "metadata": {},
   "source": [
    "# Intro to Python coding\n",
    "Topics to cover: (i) variables; (ii) lists; (iii) logic and control flow."
   ]
  },
  {
   "cell_type": "markdown",
   "metadata": {},
   "source": [
    "### 1. Variables\n",
    "Variables store values so you can access them later in your program.\n",
    "* More formally, a variable is a storage location in computer memory, with a symbolic name (an identifier), which contains a piece of information (a value).\n",
    "* Pick pretty much any combination of letters, numbers or special characters for your variable names.\n",
    "* Assign variables with ="
   ]
  },
  {
   "cell_type": "markdown",
   "metadata": {},
   "source": [
    "#### 1.1 Variable types"
   ]
  },
  {
   "cell_type": "code",
   "execution_count": null,
   "metadata": {},
   "outputs": [],
   "source": [
    "course_title = 'Python for Data Science'\n",
    "date = \"Feb 2019\""
   ]
  },
  {
   "cell_type": "code",
   "execution_count": null,
   "metadata": {},
   "outputs": [],
   "source": [
    "number_participants = 50\n",
    "pi_5_digits = 3.14159"
   ]
  },
  {
   "cell_type": "code",
   "execution_count": null,
   "metadata": {},
   "outputs": [],
   "source": [
    "# To inspect a variable, just call it\n",
    "course_title"
   ]
  },
  {
   "cell_type": "code",
   "execution_count": null,
   "metadata": {},
   "outputs": [],
   "source": [
    "# Check a variable's type\n",
    "type(course_title)"
   ]
  },
  {
   "cell_type": "code",
   "execution_count": null,
   "metadata": {},
   "outputs": [],
   "source": [
    "type(pi_5_digits)"
   ]
  },
  {
   "cell_type": "markdown",
   "metadata": {},
   "source": [
    "#### 1.2 Manipulating strings\n",
    "Strings are a sequence of characters (letters, numbers, special characters)."
   ]
  },
  {
   "cell_type": "code",
   "execution_count": null,
   "metadata": {},
   "outputs": [],
   "source": [
    "# Pass string directly to print function\n",
    "\n",
    "print(\"Hello world\")"
   ]
  },
  {
   "cell_type": "code",
   "execution_count": null,
   "metadata": {},
   "outputs": [],
   "source": [
    "# Or pass a variable to print function\n",
    "\n",
    "print(course_title)"
   ]
  },
  {
   "cell_type": "code",
   "execution_count": null,
   "metadata": {},
   "outputs": [],
   "source": [
    "# How long is the string?\n",
    "\n",
    "len(course_title)"
   ]
  },
  {
   "cell_type": "code",
   "execution_count": null,
   "metadata": {},
   "outputs": [],
   "source": [
    "# Add (concatenate) two strings together\n",
    "\n",
    "full_title = course_title + \": \" + date\n",
    "full_title"
   ]
  },
  {
   "cell_type": "code",
   "execution_count": null,
   "metadata": {},
   "outputs": [],
   "source": [
    "# Split the string up.\n",
    "\n",
    "full_title.split()"
   ]
  },
  {
   "cell_type": "markdown",
   "metadata": {},
   "source": [
    "GETTING HELP AND SUGGESTIONS:\n",
    "* **Tab auto-completion.** Start typing a variable, or type a variable followed by '.', then hit tab. You'll discover helpful new options,\n",
    "* **Docstrings.** Each function or method has a docstring (explanatory text). Access it with a question mark (eg. full_title.upper?)"
   ]
  },
  {
   "cell_type": "markdown",
   "metadata": {},
   "source": [
    "#### 1.3 Manipulating ints and floats"
   ]
  },
  {
   "cell_type": "markdown",
   "metadata": {},
   "source": [
    "| Symbol | Task Performed |\n",
    "|----|---|\n",
    "| +  | Addition |\n",
    "| -  | Subtraction |\n",
    "| /  | division |\n",
    "| *  | multiplication |\n",
    "| **  | to the power of |\n",
    "| %  | mod |"
   ]
  },
  {
   "cell_type": "code",
   "execution_count": null,
   "metadata": {},
   "outputs": [],
   "source": [
    "# Basic math operators work as expected\n",
    "\n",
    "print(\"Addition: \", 3+4)\n",
    "print(\"Multiplication:\", 3 * 4)\n",
    "print(\"Division: \",3 / 4)"
   ]
  },
  {
   "cell_type": "code",
   "execution_count": null,
   "metadata": {},
   "outputs": [],
   "source": [
    "# Create a variable of type int\n",
    "\n",
    "my_salary = 500000            # I wish"
   ]
  },
  {
   "cell_type": "code",
   "execution_count": null,
   "metadata": {},
   "outputs": [],
   "source": [
    "# Apply math to variables\n",
    "\n",
    "my_daily_salary = my_salary / 365\n",
    "my_daily_salary"
   ]
  },
  {
   "cell_type": "code",
   "execution_count": null,
   "metadata": {},
   "outputs": [],
   "source": [
    "# Python changes the variable's datatype if required.\n",
    "\n",
    "type(my_daily_salary)"
   ]
  },
  {
   "cell_type": "code",
   "execution_count": null,
   "metadata": {},
   "outputs": [],
   "source": [
    "# Use the int(), float() or str() functions to change datatype.\n",
    "\n",
    "my_daily_salary = int(my_daily_salary)\n",
    "\n",
    "print(\"converted back to an integer: \",my_daily_salary)"
   ]
  },
  {
   "cell_type": "markdown",
   "metadata": {},
   "source": [
    "### 2. Data structures: Lists\n",
    "* Think of Python lists as a bag of objects. (More formally: an ordered, changeable array.)\n",
    "* Lists are created by putting all their items in square brackets, separated by commas.\n",
    "\n",
    "Learn how to access elements in lists, add lists together, check contents of a list, etc."
   ]
  },
  {
   "cell_type": "code",
   "execution_count": null,
   "metadata": {},
   "outputs": [],
   "source": [
    "list1 = [10,12,'hello']\n",
    "list1"
   ]
  },
  {
   "cell_type": "code",
   "execution_count": null,
   "metadata": {},
   "outputs": [],
   "source": [
    "evens = [2,4,6,8]\n",
    "odds = [3,5,7,9]\n",
    "all_nums = evens + odds\n",
    "all_nums"
   ]
  },
  {
   "cell_type": "code",
   "execution_count": null,
   "metadata": {},
   "outputs": [],
   "source": [
    "# Use list methods like .sort\n",
    "\n",
    "all_nums.sort()\n",
    "all_nums"
   ]
  },
  {
   "cell_type": "markdown",
   "metadata": {},
   "source": [
    "Definition:\n",
    "* **Indexing** means accessing items from a list or other data container.\n",
    "* Use square brackets with the start and end point, separated by a colon.\n",
    "* Indexing starts at 0."
   ]
  },
  {
   "cell_type": "code",
   "execution_count": null,
   "metadata": {},
   "outputs": [],
   "source": [
    "# Pull items out of lists with indexing:\n",
    "\n",
    "all_nums[2:5]"
   ]
  },
  {
   "cell_type": "markdown",
   "metadata": {},
   "source": [
    "#### 3. Logic and control flow\n",
    "\n",
    "Definition of **control flow**:\n",
    "* In a simple script, program execution starts at the top and executes each instruction in order. \n",
    "* **Control flow** statements can cause the execution to loop and skip instructions based on conditions."
   ]
  },
  {
   "cell_type": "markdown",
   "metadata": {},
   "source": [
    "#### 3.1 Logic operators\n",
    "\n",
    "We test conditions using logic operators.\n",
    "\n",
    "| Symbol | Task Performed |\n",
    "|----|---|\n",
    "| == | True, if it is equal |\n",
    "| !=  | True, if not equal to |\n",
    "| < | less than |\n",
    "| > | greater than |"
   ]
  },
  {
   "cell_type": "code",
   "execution_count": null,
   "metadata": {},
   "outputs": [],
   "source": [
    "# NOTE: We declare variables using '='\n",
    "a = 5\n",
    "b = 7"
   ]
  },
  {
   "cell_type": "code",
   "execution_count": null,
   "metadata": {},
   "outputs": [],
   "source": [
    "# But compare them using '=='\n",
    "a == b"
   ]
  },
  {
   "cell_type": "code",
   "execution_count": null,
   "metadata": {},
   "outputs": [],
   "source": [
    "# Logic expressions evaluate to True or False (datatype: Boolean)\n",
    "\n",
    "test = b > a\n",
    "\n",
    "test"
   ]
  },
  {
   "cell_type": "code",
   "execution_count": null,
   "metadata": {},
   "outputs": [],
   "source": [
    "type(test)"
   ]
  },
  {
   "cell_type": "markdown",
   "metadata": {},
   "source": [
    "#### 3.2 Conditional statements with if\n",
    "\n",
    "My pet Python is a vegetarian. She will test whether variable 'food' is 'burger', 'chicken' or 'veg', then decide whether to eat.\n",
    "\n",
    "Do this with 'if', 'elif' (else if), and 'else'."
   ]
  },
  {
   "cell_type": "code",
   "execution_count": null,
   "metadata": {},
   "outputs": [],
   "source": [
    "food = 'burger'"
   ]
  },
  {
   "cell_type": "code",
   "execution_count": null,
   "metadata": {},
   "outputs": [],
   "source": [
    "if food == 'veg':\n",
    "    print ('yum')\n",
    "elif food == 'chicken':\n",
    "    print ('hmm maybe')\n",
    "elif food == 'burger':\n",
    "    print ('no thanks')\n",
    "else:\n",
    "    print ('more information needed')"
   ]
  },
  {
   "cell_type": "markdown",
   "metadata": {},
   "source": [
    "NOTE: Here's how the structure works:\n",
    "* start with an 'if' statement, specifying the logical test to apply\n",
    "* make sure your 'if' statement ends with :\n",
    "* **indent the conditional code block.** Whatever code should be executed if the condition is true, indent it with a tab.\n",
    "\n",
    "Test additional actions using 'elif', and any other actions with 'else'."
   ]
  },
  {
   "cell_type": "markdown",
   "metadata": {},
   "source": [
    "#### 3.3 For loops\n",
    "A for loop runs a block of code repeatedly \"for\" each item in a range of numbers, or in a list. End the declaration with : and remember to indent the subsidiary code."
   ]
  },
  {
   "cell_type": "code",
   "execution_count": null,
   "metadata": {},
   "outputs": [],
   "source": [
    "days = ['Mon','Tue','Wed','Thu','Fri','Sat','Sun']\n",
    "\n",
    "for day in days:\n",
    "    if day == 'Sat':\n",
    "        location = '--> Beach!'\n",
    "    elif day == 'Sun':\n",
    "        location = '--> My sofa!'\n",
    "    else:\n",
    "        location = '--> MC5-215B'\n",
    "    print(day, location)"
   ]
  },
  {
   "cell_type": "markdown",
   "metadata": {},
   "source": [
    "# Part 2: Exercises\n",
    "Pick one of these exercises. Try to complete it within the time allotted."
   ]
  },
  {
   "cell_type": "markdown",
   "metadata": {},
   "source": [
    "#### EXERCISE 1: Age calculator\n",
    "    \n",
    "Write a program that will:\n",
    "1. Define a variable 'birth_year'\n",
    "2. Define a variable 'current_year'\n",
    "3. Calculate the person's age from these two\n",
    "4. Print the output in format (\"You are x years old.\")"
   ]
  },
  {
   "cell_type": "code",
   "execution_count": null,
   "metadata": {},
   "outputs": [],
   "source": [
    "birth_year = 1975\n",
    "current_year = 2019\n",
    "age = current_year - birth_year\n",
    "print(\"You are \" + str(age) + \" years old\")"
   ]
  },
  {
   "cell_type": "markdown",
   "metadata": {},
   "source": [
    "#### EXERCISE 2: Sports star salaries\n",
    "\n",
    "1. Define three variables, player, season_length, and annual_salary. Just use a Google search to find some values for this.\n",
    "2. Write a script to calculate how much the player earns (a) per month, (b) per day, and (c) for the whole season.\n",
    "3. Print your output neatly.\n",
    "4. Your team won the league so your player gets a 33% bonus. Recalculate.\n",
    "\n",
    "**BONUS POINTS**: find a way to limit the salary to two decimal points when printing it."
   ]
  },
  {
   "cell_type": "code",
   "execution_count": null,
   "metadata": {},
   "outputs": [],
   "source": [
    "## SOLUTION CODE\n",
    "\n",
    "player = 'Ronaldo'\n",
    "season_length = 70\n",
    "annual_salary = 2500000\n",
    "\n",
    "daily_sal = annual_salary / 365\n",
    "season_sal = daily_sal * season_length\n",
    "\n",
    "print(\"{} earns ${:.2f} per day and total of ${:.2f} during the {}-day long season\".format(\n",
    "    player,daily_sal,season_sal, season_length))"
   ]
  },
  {
   "cell_type": "code",
   "execution_count": null,
   "metadata": {},
   "outputs": [],
   "source": [
    "# Pay rise scenario\n",
    "\n",
    "annual_salary = annual_salary * 2\n",
    "\n",
    "daily_sal = annual_salary / 365\n",
    "season_sal = daily_sal * season_length\n",
    "\n",
    "print(\"{} now earns ${:.2f} per day and total of ${:.2f} during the {}-day long season\".format(\n",
    "    player,daily_sal,season_sal, season_length))"
   ]
  },
  {
   "cell_type": "markdown",
   "metadata": {},
   "source": [
    "#### EXERCISE 3: Higher or lower?\n",
    "\n",
    "Write a program to:\n",
    "1. Generate a random number (kept secret from the user)\n",
    "2. Ask the user to guess the number\n",
    "3. Tell them if they were correct, too high, or too low.\n",
    "\n",
    "BONUS POINTS: limit the number of guesses to 5."
   ]
  },
  {
   "cell_type": "code",
   "execution_count": null,
   "metadata": {},
   "outputs": [],
   "source": [
    "# YOUR CODE HERE:\n",
    "\n",
    "import random\n",
    "print(\"What is your name?\")\n",
    "name = input()\n",
    "print(\"Well {}, I am thinking of a random number between 1 and 10. Guess what it is.\".format(\n",
    "name))\n",
    "guess = int(input())\n",
    "random_number = random.randint(1,10)\n",
    "if guess > random_number:\n",
    "    print(\"Too high\")\n",
    "elif guess < random_number:\n",
    "    print(\"Too low\")\n",
    "else:\n",
    "    print(\"Correct!\")"
   ]
  },
  {
   "cell_type": "markdown",
   "metadata": {},
   "source": [
    "#### EXERCISE 4: FizzBuzz\n",
    "\n",
    "Write a script to:\n",
    "\n",
    "* Print out the numbers from 1 to 20 but replacing numbers with 'Fizz' if divisible by 3, 'Buzz' if divisible by '5', and 'FizzBuzz' if divisible by 3 and 5.\n",
    "\n",
    "Hint: the 'mod' operator, denoted %, is widely used to check divisibility. Example: 10 % 2 == 0.\n",
    "\n",
    "(Any questions about a Python function, just google it!!). "
   ]
  },
  {
   "cell_type": "code",
   "execution_count": null,
   "metadata": {},
   "outputs": [],
   "source": [
    "# SOLUTION:\n",
    "\n",
    "for i in range(1,21):\n",
    "    if (i % 3 == 0) and (i % 5 == 0):\n",
    "        print('fizzbuzz')\n",
    "    elif i % 3 == 0:\n",
    "        print('fizz')\n",
    "    elif i % 5 == 0:\n",
    "        print('buzz')\n",
    "    else:\n",
    "        print(i)"
   ]
  },
  {
   "cell_type": "code",
   "execution_count": null,
   "metadata": {},
   "outputs": [],
   "source": []
  }
 ],
 "metadata": {
  "kernelspec": {
   "display_name": "Python 3",
   "language": "python",
   "name": "python3"
  },
  "language_info": {
   "codemirror_mode": {
    "name": "ipython",
    "version": 3
   },
   "file_extension": ".py",
   "mimetype": "text/x-python",
   "name": "python",
   "nbconvert_exporter": "python",
   "pygments_lexer": "ipython3",
   "version": "3.7.1"
  }
 },
 "nbformat": 4,
 "nbformat_minor": 2
}
