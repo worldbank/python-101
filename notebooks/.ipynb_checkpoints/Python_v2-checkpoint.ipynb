{
 "cells": [
  {
   "cell_type": "markdown",
   "metadata": {},
   "source": [
    "# Intro to Python coding"
   ]
  },
  {
   "cell_type": "markdown",
   "metadata": {},
   "source": [
    "### 1 Variables"
   ]
  },
  {
   "cell_type": "markdown",
   "metadata": {},
   "source": [
    "A **variable** is storage location in computer memory with a symbolic name (an identifier), and which contains a piece of information (a value). "
   ]
  },
  {
   "cell_type": "markdown",
   "metadata": {},
   "source": [
    "#### 1.1 Variable types\n",
    "Python has several types of variables, including strings, integers and floats.\n",
    "\n",
    "Let's create some:"
   ]
  },
  {
   "cell_type": "code",
   "execution_count": 2,
   "metadata": {},
   "outputs": [],
   "source": [
    "title = \"Introductory Python\"\n",
    "date = \"February 2019\"\n",
    "\n",
    "number_participants = 50\n",
    "\n",
    "pi_5_decimal_places = 3.14159"
   ]
  },
  {
   "cell_type": "code",
   "execution_count": 3,
   "metadata": {},
   "outputs": [
    {
     "data": {
      "text/plain": [
       "'Introductory Python'"
      ]
     },
     "execution_count": 3,
     "metadata": {},
     "output_type": "execute_result"
    }
   ],
   "source": [
    "# To inspect a variable, just call it:\n",
    "title"
   ]
  },
  {
   "cell_type": "code",
   "execution_count": 5,
   "metadata": {},
   "outputs": [
    {
     "data": {
      "text/plain": [
       "int"
      ]
     },
     "execution_count": 5,
     "metadata": {},
     "output_type": "execute_result"
    }
   ],
   "source": [
    "# To check a variable's type:\n",
    "type(number_participants)"
   ]
  },
  {
   "cell_type": "markdown",
   "metadata": {},
   "source": [
    "#### 1.2 Manipulating strings:"
   ]
  },
  {
   "cell_type": "code",
   "execution_count": null,
   "metadata": {},
   "outputs": [],
   "source": [
    "# How long is the string?\n",
    "len(title)"
   ]
  },
  {
   "cell_type": "code",
   "execution_count": null,
   "metadata": {},
   "outputs": [],
   "source": [
    "# Add (concatenate) two strings together\n",
    "\n",
    "full_title = title + \": \" + date\n",
    "full_title"
   ]
  },
  {
   "cell_type": "code",
   "execution_count": null,
   "metadata": {},
   "outputs": [],
   "source": [
    "# Split the string up.\n",
    "\n",
    "full_title.split()"
   ]
  },
  {
   "cell_type": "code",
   "execution_count": null,
   "metadata": {},
   "outputs": [],
   "source": [
    "# ... and to slice them using Python's indexing methods (these will quickly come in very handy):\n",
    "# indexing starts at zero!\n",
    "\n",
    "print(title[:5])       # first 5 characters\n",
    "print(title[5:20])     # characters 4 to 11"
   ]
  },
  {
   "cell_type": "markdown",
   "metadata": {},
   "source": [
    "#### 1.3 Manipulating integers and floats"
   ]
  },
  {
   "cell_type": "code",
   "execution_count": 7,
   "metadata": {},
   "outputs": [
    {
     "name": "stdout",
     "output_type": "stream",
     "text": [
      "Addition:  7\n",
      "Multiplication: 12\n",
      "Division:  0.75\n"
     ]
    }
   ],
   "source": [
    "# Basic math operators work as expected\n",
    "print(\"Addition: \", 3+4)\n",
    "print(\"Multiplication:\", 3 * 4)\n",
    "print(\"Division: \",3 / 4)"
   ]
  },
  {
   "cell_type": "code",
   "execution_count": null,
   "metadata": {},
   "outputs": [],
   "source": [
    "my_salary = 500000            # I wish"
   ]
  },
  {
   "cell_type": "code",
   "execution_count": null,
   "metadata": {},
   "outputs": [],
   "source": [
    "# Math can be applied to variables. Python will change the variable's datatype when the operation requires it.\n",
    "\n",
    "my_daily_salary = my_salary / 365\n",
    "\n",
    "print(\"my_daily_salary is \", my_daily_salary)\n",
    "type(my_daily_salary)"
   ]
  },
  {
   "cell_type": "code",
   "execution_count": null,
   "metadata": {},
   "outputs": [],
   "source": [
    "# We can convert datatypes using str(), int() or float().\n",
    "\n",
    "my_daily_salary = int(my_daily_salary)\n",
    "\n",
    "print(\"converted back to an integer: \",my_daily_salary)"
   ]
  },
  {
   "cell_type": "code",
   "execution_count": null,
   "metadata": {},
   "outputs": [],
   "source": [
    "# Datatypes matter. One of the following will fail, one will succeed:\n",
    "\n",
    "print(\"Every day I earn \" + my_daily_salary)\n",
    "\n",
    "print(\"Every day I earn \" + str(my_daily_salary))"
   ]
  },
  {
   "cell_type": "markdown",
   "metadata": {},
   "source": [
    "### 2. Data structures: Lists\n",
    "In data analysis we're usually concerned with groups of objects. Python provides lists (and also dictionaries and tuples) as ways to aggregate your variables."
   ]
  },
  {
   "cell_type": "markdown",
   "metadata": {},
   "source": [
    "#### 2.1 Lists\n",
    "Lists can be thought of as bags of objects:\n",
    "* An empty list is denoted []\n",
    "* It can contain any number of objects. You can mix different types together (eg. list1 = [2, 6, 'hello'])\n",
    "* Learn the methods to append new items to lists, add lists together, check whether a given item is included in a list, etc. "
   ]
  },
  {
   "cell_type": "code",
   "execution_count": null,
   "metadata": {},
   "outputs": [],
   "source": [
    "list1 = [10,12,'hello']\n",
    "list1"
   ]
  },
  {
   "cell_type": "code",
   "execution_count": null,
   "metadata": {},
   "outputs": [],
   "source": [
    "evens = [2,4,6,8]\n",
    "odds = [3,5,7,9]\n",
    "all_nums = evens + odds\n",
    "all_nums"
   ]
  },
  {
   "cell_type": "code",
   "execution_count": null,
   "metadata": {},
   "outputs": [],
   "source": [
    "# Use list methods like .sort\n",
    "\n",
    "all_nums.sort()\n",
    "all_nums"
   ]
  },
  {
   "cell_type": "code",
   "execution_count": null,
   "metadata": {},
   "outputs": [],
   "source": [
    "# Pull items out of lists with indexing:\n",
    "\n",
    "all_nums[2:5]"
   ]
  },
  {
   "cell_type": "markdown",
   "metadata": {},
   "source": [
    "### 3. Logic and control flow\n",
    "When writing scripts for data analysis, loops and logic operations are very helpful. Examples:\n",
    "* Check if two quantities are the same or different\n",
    "* Filter out erroneous data by dropping observations more than 3 standard deviations above the mean"
   ]
  },
  {
   "cell_type": "markdown",
   "metadata": {},
   "source": [
    "#### 3.1 Logic operators"
   ]
  },
  {
   "cell_type": "code",
   "execution_count": null,
   "metadata": {},
   "outputs": [],
   "source": [
    "# Declare variables using '='\n",
    "a = 5\n",
    "b = 7"
   ]
  },
  {
   "cell_type": "code",
   "execution_count": null,
   "metadata": {},
   "outputs": [],
   "source": [
    "# Compare variables using '<', '>', or '=='\n",
    "\n",
    "a == b            # Note: remember the difference between = (to assign) and == (to compare)!"
   ]
  },
  {
   "cell_type": "code",
   "execution_count": null,
   "metadata": {},
   "outputs": [],
   "source": [
    "a < b"
   ]
  },
  {
   "cell_type": "code",
   "execution_count": null,
   "metadata": {},
   "outputs": [],
   "source": [
    "condition = a < b\n",
    "print(condition)\n",
    "type(condition)"
   ]
  },
  {
   "cell_type": "markdown",
   "metadata": {},
   "source": [
    "#### 3.2 Conditional statements with if\n",
    "Let's illustrate the power of 'if' constructions using a dietary example. My pet Python is a vegetarian. We will test whether the variable 'food' is 'burger', 'chicken' or 'veg', then decide whether to eat. For this, we will use 'if', 'elif' (else if), and 'else'.\n",
    "\n",
    "How to use this structure:\n",
    "* start with an 'if' statement, specifying the logical test to apply\n",
    "* make sure your 'if' statement ends with :\n",
    "* your next line sets out the action to take if the tested condition was true\n",
    "\n",
    "Test additional actions using 'elif', and any other actions with 'else'."
   ]
  },
  {
   "cell_type": "code",
   "execution_count": 9,
   "metadata": {},
   "outputs": [],
   "source": [
    "food = 'chicken'"
   ]
  },
  {
   "cell_type": "code",
   "execution_count": 10,
   "metadata": {},
   "outputs": [
    {
     "name": "stdout",
     "output_type": "stream",
     "text": [
      "hmm maybe\n"
     ]
    }
   ],
   "source": [
    "if food == 'veg':\n",
    "    print ('yum')\n",
    "elif food == 'chicken':\n",
    "    print ('hmm maybe')\n",
    "elif food == 'burger':\n",
    "    print ('no thanks')\n",
    "else:\n",
    "    print ('more information needed')"
   ]
  },
  {
   "cell_type": "markdown",
   "metadata": {},
   "source": [
    "#### 3.3 For loops\n",
    "This code structure allows you to perform calculations several times in a row. \n",
    "\n",
    "* Declare your for loop with respect to any iterable. A range operator is a helpful way to count up to a specified number.\n",
    "* End the for loop declaration with : then indent the next lines.\n",
    "* Note: its common to nest 'if' statements within for loops. If so you require two levels of indentation."
   ]
  },
  {
   "cell_type": "code",
   "execution_count": 19,
   "metadata": {},
   "outputs": [
    {
     "name": "stdout",
     "output_type": "stream",
     "text": [
      "Mon --> MC5-215B [sad face]\n",
      "Tue --> MC5-215B [sad face]\n",
      "Wed --> MC5-215B [sad face]\n",
      "Thu --> MC5-215B [sad face]\n",
      "Fri --> MC5-215B [sad face]\n",
      "Sat --> Beach!\n",
      "Sun --> My sofa!\n"
     ]
    }
   ],
   "source": [
    "days = ['Mon','Tue','Wed','Thu','Fri','Sat','Sun']\n",
    "\n",
    "for day in days:\n",
    "    if day == 'Sat':\n",
    "        location = '--> Beach!'\n",
    "    elif day == 'Sun':\n",
    "        location = '--> My sofa!'\n",
    "    else:\n",
    "        location = '--> MC5-215B'\n",
    "    print(day, location)"
   ]
  },
  {
   "cell_type": "markdown",
   "metadata": {},
   "source": [
    "# Part 2: Exercises\n",
    "Pick one of these exercises. Try to complete it within the time allotted."
   ]
  },
  {
   "cell_type": "markdown",
   "metadata": {},
   "source": [
    "#### EXERCISE 1: Sports star salaries\n",
    "\n",
    "1. Define three variables, player, season_length, and annual_salary. Just use a Google search to find some values for this.\n",
    "2. Write a script to calculate how much the player earns (a) per month, (b) per day, and (c) for the whole season.\n",
    "3. Print your output neatly.\n",
    "4. Your team won the league so your player gets a 33% bonus. Recalculate.\n",
    "\n",
    "**BONUS POINTS**: find a way to limit the salary to two decimal points when printing it."
   ]
  },
  {
   "cell_type": "code",
   "execution_count": 21,
   "metadata": {},
   "outputs": [],
   "source": [
    "# YOUR CODE HERE:"
   ]
  },
  {
   "cell_type": "markdown",
   "metadata": {},
   "source": [
    "#### EXERCISE 2: Higher or lower?\n",
    "\n",
    "Write a program to:\n",
    "1. Generate a random number (kept secret from the user)\n",
    "2. Ask the user to guess the number\n",
    "3. Tell them if they were correct, too high, or too low.\n",
    "\n",
    "BONUS POINTS: limit the number of guesses to 5."
   ]
  },
  {
   "cell_type": "code",
   "execution_count": null,
   "metadata": {},
   "outputs": [],
   "source": [
    "# YOUR CODE HERE:\n",
    "\n",
    "import random\n",
    "random_number =                          # hint: try the random.randint() function. Figure out what arguments it takes.\n",
    "guess_number = input()"
   ]
  },
  {
   "cell_type": "markdown",
   "metadata": {},
   "source": [
    "#### EXERCISE 3: FizzBuzz\n",
    "\n",
    "Write a script to:\n",
    "\n",
    "* Print out the numbers from 1 to 20 but replacing numbers with 'Fizz' if divisible by 3, 'Buzz' if divisible by '5', and 'FizzBuzz' if divisible by 3 and 5.\n",
    "\n",
    "Hint: the 'mod' operator, denoted %, is widely used to check divisibility. Example: 10 % 2 == 0.\n",
    "\n",
    "(Any questions about a Python function, just google it!!). "
   ]
  },
  {
   "cell_type": "code",
   "execution_count": null,
   "metadata": {},
   "outputs": [],
   "source": [
    "# YOUR CODE HERE:"
   ]
  }
 ],
 "metadata": {
  "kernelspec": {
   "display_name": "Python 3",
   "language": "python",
   "name": "python3"
  },
  "language_info": {
   "codemirror_mode": {
    "name": "ipython",
    "version": 3
   },
   "file_extension": ".py",
   "mimetype": "text/x-python",
   "name": "python",
   "nbconvert_exporter": "python",
   "pygments_lexer": "ipython3",
   "version": "3.7.1"
  },
  "toc": {
   "base_numbering": 1,
   "nav_menu": {},
   "number_sections": true,
   "sideBar": true,
   "skip_h1_title": false,
   "title_cell": "Table of Contents",
   "title_sidebar": "Contents",
   "toc_cell": false,
   "toc_position": {},
   "toc_section_display": true,
   "toc_window_display": false
  }
 },
 "nbformat": 4,
 "nbformat_minor": 2
}
