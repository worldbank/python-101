{
 "cells": [
  {
   "cell_type": "markdown",
   "metadata": {},
   "source": [
    "# Jupyter Notebooks and Colab"
   ]
  },
  {
   "cell_type": "markdown",
   "metadata": {},
   "source": [
    "Jupyter Notebooks are a widely used tool for data science. They contain both code and rich-text elements like paragraphs, equations and charts. Notebooks are both (a) human-readable documents used to present analysis and results; and (b) executable documents that your computer can be run.\n",
    "\n",
    "Take 5 minutes to explore!"
   ]
  },
  {
   "cell_type": "markdown",
   "metadata": {},
   "source": [
    "#### Getting started\n",
    "* Connect to a runtime now by clicking connect in the top right corner if you don't already see a green checkmark there.\n",
    "* To get a better overview, activate the Table of contents by clicking on the arrow on the left."
   ]
  },
  {
   "cell_type": "markdown",
   "metadata": {},
   "source": [
    "### Important shortcuts\n",
    "\n",
    "Action | Colab Shortcut\n",
    "---|---\n",
    "Executes current cell | `<CTRL-ENTER>`\n",
    "Executes current cell and moves to next cell | `<SHIFT-ENTER>`\n",
    "Insert cell above | `<CTRL-M> <A>`\n",
    "Append cell below | `<CTRL-M> <B>`\n",
    "Convert cell to code | `<CTRL-M> <Y>`\n",
    "Convert cell to Markdown | `<CTRL-M> <M>`\n",
    "Autocomplete | `<TAB>`\n",
    "Goes from edit to \"command\" mode | `<ESC>`\n",
    "Goes from \"command\" to edit mode | `<ENTER>`\n",
    "<p align=\"center\"><b>Note:</b> On OS X use `<COMMAND>` instead of `<CTRL>`</p>"
   ]
  },
  {
   "cell_type": "markdown",
   "metadata": {},
   "source": [
    "#### Types of cell"
   ]
  },
  {
   "cell_type": "markdown",
   "metadata": {},
   "source": [
    "Notebooks are made up of a series of cells. There are two types:\n",
    "* **Code cells.** These contain executable commands in Python.\n",
    "* **Text ('markdown') cells.** These include plain text, or you can use markdown conventions to add formatting."
   ]
  },
  {
   "cell_type": "code",
   "execution_count": 6,
   "metadata": {},
   "outputs": [
    {
     "name": "stdout",
     "output_type": "stream",
     "text": [
      "Hello, I am a code cell\n",
      "Running me executes the code and renders the output below.\n"
     ]
    }
   ],
   "source": [
    "print('Hello, I am a code cell')\n",
    "print('Running me executes the code and renders the output below.')"
   ]
  },
  {
   "cell_type": "code",
   "execution_count": 7,
   "metadata": {},
   "outputs": [
    {
     "name": "stdout",
     "output_type": "stream",
     "text": [
      "Hello world!\n"
     ]
    }
   ],
   "source": [
    "# EXERCISE 1:\n",
    "\n",
    "# Execute this cell first using <CTRL-ENTER> and then using <SHIFT-ENTER>.\n",
    "# Note the difference in which cell is selected after execution.\n",
    "\n",
    "print(\"Hello world!\")"
   ]
  },
  {
   "cell_type": "code",
   "execution_count": 10,
   "metadata": {},
   "outputs": [],
   "source": [
    "# EXERCISE 1:\n",
    "\n",
    "# 1. Insert a new code cell\n",
    "\n",
    "# 2. Enter a math expression of your choice (example: 3 * 3)\n",
    "\n",
    "# 3. Run it to find the result"
   ]
  }
 ],
 "metadata": {
  "kernelspec": {
   "display_name": "basic",
   "language": "python",
   "name": "basic"
  },
  "language_info": {
   "codemirror_mode": {
    "name": "ipython",
    "version": 3
   },
   "file_extension": ".py",
   "mimetype": "text/x-python",
   "name": "python",
   "nbconvert_exporter": "python",
   "pygments_lexer": "ipython3",
   "version": "3.7.2"
  }
 },
 "nbformat": 4,
 "nbformat_minor": 2
}
