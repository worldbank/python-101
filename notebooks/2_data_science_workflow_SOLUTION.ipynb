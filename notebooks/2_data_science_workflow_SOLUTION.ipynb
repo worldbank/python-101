{
  "nbformat": 4,
  "nbformat_minor": 0,
  "metadata": {
    "colab": {
      "name": "2_data_science_workflow_life_sat_vs_gdp.ipynb",
      "version": "0.3.2",
      "provenance": []
    },
    "kernelspec": {
      "display_name": "Python 3",
      "language": "python",
      "name": "python3"
    }
  },
  "cells": [
    {
      "metadata": {
        "colab_type": "text",
        "id": "dXqDsf37BZ4T"
      },
      "cell_type": "markdown",
      "source": [
        "    \n",
        "# DATA DAY TRAINING: Intro to Python (data science workflow)"
      ]
    },
    {
      "metadata": {
        "colab_type": "text",
        "id": "veLE5bsvBZ4b"
      },
      "cell_type": "markdown",
      "source": [
        "Topics to cover:\n",
        "\n",
        "(i) Import data (from web and CSV files)\n",
        "\n",
        "(ii) Clean and merge datasets\n",
        "\n",
        "(iii) Exploratory data analysis\n",
        "\n",
        "(iv) Visualization and modelling\n",
        "\n",
        "We will cover this topic while exploring how life satisfaction in OECD countries varies with GNI per capita."
      ]
    },
    {
      "metadata": {
        "colab_type": "text",
        "id": "i52BtbUJE21Y"
      },
      "cell_type": "markdown",
      "source": [
        "#### 1. Import libraries"
      ]
    },
    {
      "metadata": {
        "colab_type": "text",
        "id": "-mMI3q6JE21a"
      },
      "cell_type": "markdown",
      "source": [
        "Python provides several ways to import modules:\n",
        "\n",
        "- import XYZ as x (to import the library XYZ abbreviated as x)\n",
        "- import XYZ.xyz as x (to import module xyz (abbreviated as x from the library XYZ) \n",
        "- from XYZ import a, b, c (to import modules a, b, and c from library XYZ) \n",
        "\n",
        "You will notice pandas as one of the libraries we have imported along with some others.\n",
        "\n",
        "Pandas is an open source library that has become the de facto tool in Python for data munging. Pandas allows us to present data in a tabular form with rows and columns (by storing data in a python object called a dataframe)"
      ]
    },
    {
      "metadata": {
        "colab_type": "code",
        "id": "OQ3xF93tBZ4k",
        "outputId": "547ce471-f6a3-4734-9d3a-0d1095707db4",
        "colab": {
          "base_uri": "https://localhost:8080/",
          "height": 71
        }
      },
      "cell_type": "code",
      "source": [
        "import pandas as pd\n",
        "import matplotlib.pyplot as plt\n",
        "from pandas_datareader import wb\n",
        "import numpy as np\n",
        "import statsmodels.api as sm\n",
        "from matplotlib.pyplot import figure\n",
        "#import geopandas as gpd"
      ],
      "execution_count": 1,
      "outputs": [
        {
          "output_type": "stream",
          "text": [
            "/usr/local/lib/python3.6/dist-packages/statsmodels/compat/pandas.py:56: FutureWarning: The pandas.core.datetools module is deprecated and will be removed in a future version. Please use the pandas.tseries module instead.\n",
            "  from pandas.core import datetools\n"
          ],
          "name": "stderr"
        }
      ]
    },
    {
      "metadata": {
        "colab_type": "text",
        "id": "45joPxKGE21l"
      },
      "cell_type": "markdown",
      "source": [
        "#### 1.1 Quick demo of pulling WDI data from the web\n",
        "We're using Pandas Datareader: a third-party library that makes it easy to pull data from APIs into a Pandas dataframe.\n",
        "\n",
        "Use it to pull live data from Yahoo! Finance, World Bank and others.\n",
        "\n",
        "\n",
        "| Function | Task Performed |\n",
        "|----|---|\n",
        "| wb.get_countries()  | List available countries, with their country codes, income levels etc. |\n",
        "| wb.search()  | Query the available indicators using a search term. |\n",
        "| wb.WorldBankReader()  | A class for downloading data series. |\n"
      ]
    },
    {
      "metadata": {
        "colab_type": "code",
        "id": "N3-YLE4HE21m",
        "outputId": "c677b933-c40f-49e2-ee9a-7f98ab86f59f",
        "colab": {
          "base_uri": "https://localhost:8080/",
          "height": 114
        }
      },
      "cell_type": "code",
      "source": [
        "# Find the GNI per capita indicator, get its ID number\n",
        "\n",
        "result = wb.search(string=\"GNI per capita, Atlas\",field = 'name')\n",
        "result"
      ],
      "execution_count": 2,
      "outputs": [
        {
          "output_type": "execute_result",
          "data": {
            "text/html": [
              "<div>\n",
              "<style scoped>\n",
              "    .dataframe tbody tr th:only-of-type {\n",
              "        vertical-align: middle;\n",
              "    }\n",
              "\n",
              "    .dataframe tbody tr th {\n",
              "        vertical-align: top;\n",
              "    }\n",
              "\n",
              "    .dataframe thead th {\n",
              "        text-align: right;\n",
              "    }\n",
              "</style>\n",
              "<table border=\"1\" class=\"dataframe\">\n",
              "  <thead>\n",
              "    <tr style=\"text-align: right;\">\n",
              "      <th></th>\n",
              "      <th>id</th>\n",
              "      <th>name</th>\n",
              "      <th>source</th>\n",
              "      <th>sourceNote</th>\n",
              "      <th>sourceOrganization</th>\n",
              "      <th>topics</th>\n",
              "      <th>unit</th>\n",
              "    </tr>\n",
              "  </thead>\n",
              "  <tbody>\n",
              "    <tr>\n",
              "      <th>8496</th>\n",
              "      <td>NY.GNP.PCAP.CD</td>\n",
              "      <td>GNI per capita, Atlas method (current US$)</td>\n",
              "      <td>World Development Indicators</td>\n",
              "      <td>GNI per capita (formerly GNP per capita) is th...</td>\n",
              "      <td>b'World Bank national accounts data, and OECD ...</td>\n",
              "      <td>Economy &amp; Growth</td>\n",
              "      <td></td>\n",
              "    </tr>\n",
              "  </tbody>\n",
              "</table>\n",
              "</div>"
            ],
            "text/plain": [
              "                  id                                        name  \\\n",
              "8496  NY.GNP.PCAP.CD  GNI per capita, Atlas method (current US$)   \n",
              "\n",
              "                            source  \\\n",
              "8496  World Development Indicators   \n",
              "\n",
              "                                             sourceNote  \\\n",
              "8496  GNI per capita (formerly GNP per capita) is th...   \n",
              "\n",
              "                                     sourceOrganization            topics unit  \n",
              "8496  b'World Bank national accounts data, and OECD ...  Economy & Growth       "
            ]
          },
          "metadata": {
            "tags": []
          },
          "execution_count": 2
        }
      ]
    },
    {
      "metadata": {
        "colab_type": "code",
        "id": "kZdnRQIME21x",
        "colab": {}
      },
      "cell_type": "code",
      "source": [
        "# Make a note of the indicator ID\n",
        "GNI_ID = 'NY.GNP.PCAP.CD'"
      ],
      "execution_count": 0,
      "outputs": []
    },
    {
      "metadata": {
        "colab_type": "code",
        "id": "tiHC-0iHE210",
        "outputId": "2d988b86-41d9-4f0b-ee6d-22e8fa080500",
        "colab": {
          "base_uri": "https://localhost:8080/",
          "height": 306
        }
      },
      "cell_type": "code",
      "source": [
        "# Get a list of countries and clean it up\n",
        "countries = wb.get_countries()\n",
        "countries.head()"
      ],
      "execution_count": 4,
      "outputs": [
        {
          "output_type": "execute_result",
          "data": {
            "text/html": [
              "<div>\n",
              "<style scoped>\n",
              "    .dataframe tbody tr th:only-of-type {\n",
              "        vertical-align: middle;\n",
              "    }\n",
              "\n",
              "    .dataframe tbody tr th {\n",
              "        vertical-align: top;\n",
              "    }\n",
              "\n",
              "    .dataframe thead th {\n",
              "        text-align: right;\n",
              "    }\n",
              "</style>\n",
              "<table border=\"1\" class=\"dataframe\">\n",
              "  <thead>\n",
              "    <tr style=\"text-align: right;\">\n",
              "      <th></th>\n",
              "      <th>adminregion</th>\n",
              "      <th>capitalCity</th>\n",
              "      <th>iso3c</th>\n",
              "      <th>incomeLevel</th>\n",
              "      <th>iso2c</th>\n",
              "      <th>latitude</th>\n",
              "      <th>lendingType</th>\n",
              "      <th>longitude</th>\n",
              "      <th>name</th>\n",
              "      <th>region</th>\n",
              "    </tr>\n",
              "  </thead>\n",
              "  <tbody>\n",
              "    <tr>\n",
              "      <th>0</th>\n",
              "      <td></td>\n",
              "      <td>Oranjestad</td>\n",
              "      <td>ABW</td>\n",
              "      <td>High income</td>\n",
              "      <td>AW</td>\n",
              "      <td>12.51670</td>\n",
              "      <td>Not classified</td>\n",
              "      <td>-70.0167</td>\n",
              "      <td>Aruba</td>\n",
              "      <td>Latin America &amp; Caribbean</td>\n",
              "    </tr>\n",
              "    <tr>\n",
              "      <th>1</th>\n",
              "      <td>South Asia</td>\n",
              "      <td>Kabul</td>\n",
              "      <td>AFG</td>\n",
              "      <td>Low income</td>\n",
              "      <td>AF</td>\n",
              "      <td>34.52280</td>\n",
              "      <td>IDA</td>\n",
              "      <td>69.1761</td>\n",
              "      <td>Afghanistan</td>\n",
              "      <td>South Asia</td>\n",
              "    </tr>\n",
              "    <tr>\n",
              "      <th>2</th>\n",
              "      <td></td>\n",
              "      <td></td>\n",
              "      <td>AFR</td>\n",
              "      <td>Aggregates</td>\n",
              "      <td>A9</td>\n",
              "      <td>NaN</td>\n",
              "      <td>Aggregates</td>\n",
              "      <td>NaN</td>\n",
              "      <td>Africa</td>\n",
              "      <td>Aggregates</td>\n",
              "    </tr>\n",
              "    <tr>\n",
              "      <th>3</th>\n",
              "      <td>Sub-Saharan Africa (excluding high income)</td>\n",
              "      <td>Luanda</td>\n",
              "      <td>AGO</td>\n",
              "      <td>Lower middle income</td>\n",
              "      <td>AO</td>\n",
              "      <td>-8.81155</td>\n",
              "      <td>IBRD</td>\n",
              "      <td>13.2420</td>\n",
              "      <td>Angola</td>\n",
              "      <td>Sub-Saharan Africa</td>\n",
              "    </tr>\n",
              "    <tr>\n",
              "      <th>4</th>\n",
              "      <td>Europe &amp; Central Asia (excluding high income)</td>\n",
              "      <td>Tirane</td>\n",
              "      <td>ALB</td>\n",
              "      <td>Upper middle income</td>\n",
              "      <td>AL</td>\n",
              "      <td>41.33170</td>\n",
              "      <td>IBRD</td>\n",
              "      <td>19.8172</td>\n",
              "      <td>Albania</td>\n",
              "      <td>Europe &amp; Central Asia</td>\n",
              "    </tr>\n",
              "  </tbody>\n",
              "</table>\n",
              "</div>"
            ],
            "text/plain": [
              "                                     adminregion capitalCity iso3c  \\\n",
              "0                                                 Oranjestad   ABW   \n",
              "1                                     South Asia       Kabul   AFG   \n",
              "2                                                              AFR   \n",
              "3     Sub-Saharan Africa (excluding high income)      Luanda   AGO   \n",
              "4  Europe & Central Asia (excluding high income)      Tirane   ALB   \n",
              "\n",
              "           incomeLevel iso2c  latitude     lendingType  longitude  \\\n",
              "0          High income    AW  12.51670  Not classified   -70.0167   \n",
              "1           Low income    AF  34.52280             IDA    69.1761   \n",
              "2           Aggregates    A9       NaN      Aggregates        NaN   \n",
              "3  Lower middle income    AO  -8.81155            IBRD    13.2420   \n",
              "4  Upper middle income    AL  41.33170            IBRD    19.8172   \n",
              "\n",
              "          name                      region  \n",
              "0        Aruba  Latin America & Caribbean   \n",
              "1  Afghanistan                  South Asia  \n",
              "2       Africa                  Aggregates  \n",
              "3       Angola         Sub-Saharan Africa   \n",
              "4      Albania       Europe & Central Asia  "
            ]
          },
          "metadata": {
            "tags": []
          },
          "execution_count": 4
        }
      ]
    },
    {
      "metadata": {
        "colab_type": "code",
        "id": "ahEwf0HyE216",
        "outputId": "833c01b6-b940-4a49-eef1-63d5f4d09bff",
        "colab": {
          "base_uri": "https://localhost:8080/",
          "height": 204
        }
      },
      "cell_type": "code",
      "source": [
        "#Select only those observations and columns we need: \n",
        "countries = countries[countries.incomeLevel != 'Aggregates']\n",
        "countries = countries[['name', 'iso3c','incomeLevel']]\n",
        "countries.head()"
      ],
      "execution_count": 5,
      "outputs": [
        {
          "output_type": "execute_result",
          "data": {
            "text/html": [
              "<div>\n",
              "<style scoped>\n",
              "    .dataframe tbody tr th:only-of-type {\n",
              "        vertical-align: middle;\n",
              "    }\n",
              "\n",
              "    .dataframe tbody tr th {\n",
              "        vertical-align: top;\n",
              "    }\n",
              "\n",
              "    .dataframe thead th {\n",
              "        text-align: right;\n",
              "    }\n",
              "</style>\n",
              "<table border=\"1\" class=\"dataframe\">\n",
              "  <thead>\n",
              "    <tr style=\"text-align: right;\">\n",
              "      <th></th>\n",
              "      <th>name</th>\n",
              "      <th>iso3c</th>\n",
              "      <th>incomeLevel</th>\n",
              "    </tr>\n",
              "  </thead>\n",
              "  <tbody>\n",
              "    <tr>\n",
              "      <th>0</th>\n",
              "      <td>Aruba</td>\n",
              "      <td>ABW</td>\n",
              "      <td>High income</td>\n",
              "    </tr>\n",
              "    <tr>\n",
              "      <th>1</th>\n",
              "      <td>Afghanistan</td>\n",
              "      <td>AFG</td>\n",
              "      <td>Low income</td>\n",
              "    </tr>\n",
              "    <tr>\n",
              "      <th>3</th>\n",
              "      <td>Angola</td>\n",
              "      <td>AGO</td>\n",
              "      <td>Lower middle income</td>\n",
              "    </tr>\n",
              "    <tr>\n",
              "      <th>4</th>\n",
              "      <td>Albania</td>\n",
              "      <td>ALB</td>\n",
              "      <td>Upper middle income</td>\n",
              "    </tr>\n",
              "    <tr>\n",
              "      <th>5</th>\n",
              "      <td>Andorra</td>\n",
              "      <td>AND</td>\n",
              "      <td>High income</td>\n",
              "    </tr>\n",
              "  </tbody>\n",
              "</table>\n",
              "</div>"
            ],
            "text/plain": [
              "          name iso3c          incomeLevel\n",
              "0        Aruba   ABW          High income\n",
              "1  Afghanistan   AFG           Low income\n",
              "3       Angola   AGO  Lower middle income\n",
              "4      Albania   ALB  Upper middle income\n",
              "5      Andorra   AND          High income"
            ]
          },
          "metadata": {
            "tags": []
          },
          "execution_count": 5
        }
      ]
    },
    {
      "metadata": {
        "colab_type": "code",
        "id": "9NkbZ7xfE22B",
        "outputId": "87cc4503-9cd7-4806-f8d4-e9f0f5437965",
        "colab": {
          "base_uri": "https://localhost:8080/",
          "height": 393
        }
      },
      "cell_type": "code",
      "source": [
        "# Let's plot GNI per capita since 1960 for the OECD countries\n",
        "\n",
        "OECD_founders = ['Belgium','France','Germany','Italy','Luxembourg','Netherlands','United States',\n",
        "                'Canada','Japan']\n",
        "OECD_founder_codes = countries.iso3c[countries.name.isin(OECD_founders)]\n",
        "\n",
        "# Create a reader object, pass it the data ID and country codes we want\n",
        "\n",
        "reader = wb.WorldBankReader(symbols=GNI_ID,countries = OECD_founder_codes,start=1960)\n",
        "GNI_capita = reader.read()\n",
        "GNI_capita.head()\n",
        "\n",
        "GNI_capita = GNI_capita.unstack(level=0)[GNI_ID]\n",
        "GNI_capita.head()\n",
        "\n",
        "GNI_capita.plot(figsize=[8,6])\n",
        "plt.title('GNI per capita for OECD founders since 1960');"
      ],
      "execution_count": 6,
      "outputs": [
        {
          "output_type": "display_data",
          "data": {
            "image/png": "[encoded data removed]",
            "text/plain": [
              "<Figure size 576x432 with 1 Axes>"
            ]
          },
          "metadata": {
            "tags": []
          }
        }
      ]
    },
    {
      "metadata": {
        "colab_type": "text",
        "id": "8MBeyI5YE22J"
      },
      "cell_type": "markdown",
      "source": [
        "#### 2. Combine income and life satisfaction data for 2015\n",
        "Incomes have risen sharply. But does that translate into more life satisfaction, and are richer countries happier?\n",
        "\n",
        "Let's do a cross-sectional analysis for a single year. \n"
      ]
    },
    {
      "metadata": {
        "colab_type": "text",
        "id": "Kzg5fWZeE22K"
      },
      "cell_type": "markdown",
      "source": [
        "#### 2.1 Import and clean up the OECD life satisfaction survey"
      ]
    },
    {
      "metadata": {
        "colab_type": "code",
        "id": "QuQS7cXqE22N",
        "colab": {}
      },
      "cell_type": "code",
      "source": [
        "# Read data from a CSV file using Pandas\n",
        "\n",
        "CSV_path = 'https://raw.githubusercontent.com/worldbank/python-101/master/notebooks/BLI2015.csv'\n",
        "life_sat = pd.read_csv(CSV_path)"
      ],
      "execution_count": 0,
      "outputs": []
    },
    {
      "metadata": {
        "id": "90GY7O_bK1Lp",
        "colab_type": "text"
      },
      "cell_type": "markdown",
      "source": [
        "Just like in STATA and other statistical packages, its straightfoward to use existing resources to manipulate a dataframe once its loaded. For instance, you can do the following:\n",
        "\n",
        "- subset the data based on columns (e.g., select a subset of columns) or based on some logical condition.\n",
        "- rename columns\n",
        "- change data types\n",
        "- create new variables based on other variables\n",
        "- merging/joining dataframes\n",
        "- plus more\n",
        "\n",
        "In the cells below, you will see how some of this works:"
      ]
    },
    {
      "metadata": {
        "colab_type": "code",
        "id": "gCdjn1ldE22T",
        "colab": {}
      },
      "cell_type": "code",
      "source": [
        "# Keep relevant observations and columns discarding the rest\n",
        "\n",
        "life_sat = life_sat[(life_sat.Inequality == \"Total\") & (life_sat.Indicator == 'Life satisfaction')]\n",
        "life_sat = life_sat[['Country','LOCATION','Value']]"
      ],
      "execution_count": 0,
      "outputs": []
    },
    {
      "metadata": {
        "colab_type": "code",
        "id": "4Ons4JknE22Z",
        "colab": {}
      },
      "cell_type": "code",
      "source": [
        "# Remove two values that don't match across datasets\n",
        "\n",
        "life_sat = life_sat[~life_sat.Country.str.contains(\"OECD\")]\n",
        "life_sat = life_sat[~life_sat.Country.str.contains(\"Korea\")]\n",
        "\n",
        "# Rename columns, using the inplace option and set it to True which tells pandas to modify the existing dataframe. By default, when you perfom an action on a pandas dataframe, it returns a new dataframe.\n",
        "life_sat.rename(columns = {'Country': 'country', 'LOCATION':'iso3c', 'Value':'life_satisfaction'},inplace=True)"
      ],
      "execution_count": 0,
      "outputs": []
    },
    {
      "metadata": {
        "colab_type": "code",
        "id": "OSqC4K_ZE22l",
        "outputId": "c6742c5d-16ec-4be5-932b-6707988a7f6a",
        "colab": {
          "base_uri": "https://localhost:8080/",
          "height": 204
        }
      },
      "cell_type": "code",
      "source": [
        "# Inspect the dataframe: \n",
        "life_sat.head()"
      ],
      "execution_count": 10,
      "outputs": [
        {
          "output_type": "execute_result",
          "data": {
            "text/html": [
              "<div>\n",
              "<style scoped>\n",
              "    .dataframe tbody tr th:only-of-type {\n",
              "        vertical-align: middle;\n",
              "    }\n",
              "\n",
              "    .dataframe tbody tr th {\n",
              "        vertical-align: top;\n",
              "    }\n",
              "\n",
              "    .dataframe thead th {\n",
              "        text-align: right;\n",
              "    }\n",
              "</style>\n",
              "<table border=\"1\" class=\"dataframe\">\n",
              "  <thead>\n",
              "    <tr style=\"text-align: right;\">\n",
              "      <th></th>\n",
              "      <th>country</th>\n",
              "      <th>iso3c</th>\n",
              "      <th>life_satisfaction</th>\n",
              "    </tr>\n",
              "  </thead>\n",
              "  <tbody>\n",
              "    <tr>\n",
              "      <th>2669</th>\n",
              "      <td>Australia</td>\n",
              "      <td>AUS</td>\n",
              "      <td>7.3</td>\n",
              "    </tr>\n",
              "    <tr>\n",
              "      <th>2670</th>\n",
              "      <td>Austria</td>\n",
              "      <td>AUT</td>\n",
              "      <td>6.9</td>\n",
              "    </tr>\n",
              "    <tr>\n",
              "      <th>2671</th>\n",
              "      <td>Belgium</td>\n",
              "      <td>BEL</td>\n",
              "      <td>6.9</td>\n",
              "    </tr>\n",
              "    <tr>\n",
              "      <th>2672</th>\n",
              "      <td>Canada</td>\n",
              "      <td>CAN</td>\n",
              "      <td>7.3</td>\n",
              "    </tr>\n",
              "    <tr>\n",
              "      <th>2673</th>\n",
              "      <td>Czech Republic</td>\n",
              "      <td>CZE</td>\n",
              "      <td>6.5</td>\n",
              "    </tr>\n",
              "  </tbody>\n",
              "</table>\n",
              "</div>"
            ],
            "text/plain": [
              "             country iso3c  life_satisfaction\n",
              "2669       Australia   AUS                7.3\n",
              "2670         Austria   AUT                6.9\n",
              "2671         Belgium   BEL                6.9\n",
              "2672          Canada   CAN                7.3\n",
              "2673  Czech Republic   CZE                6.5"
            ]
          },
          "metadata": {
            "tags": []
          },
          "execution_count": 10
        }
      ]
    },
    {
      "metadata": {
        "colab_type": "text",
        "id": "mgNX8JMXE22u"
      },
      "cell_type": "markdown",
      "source": [
        "#### 2.2 Get GNI per capita for OECD countries in 2015"
      ]
    },
    {
      "metadata": {
        "colab_type": "code",
        "id": "FMUIpKf5E22x",
        "colab": {}
      },
      "cell_type": "code",
      "source": [
        "# Read in the data\n",
        "\n",
        "OECD_country_codes = life_sat.iso3c\n",
        "reader = wb.WorldBankReader(symbols = GNI_ID, countries = OECD_country_codes, start = 2015, end = 2015)\n",
        "GNI_OECD = reader.read()\n"
      ],
      "execution_count": 0,
      "outputs": []
    },
    {
      "metadata": {
        "colab_type": "code",
        "id": "EBBy-VG5E226",
        "colab": {}
      },
      "cell_type": "code",
      "source": [
        "# Clean up the dataframe and rename column\n",
        "\n",
        "GNI_OECD2 = GNI_OECD.reset_index()\n",
        "GNI_OECD = GNI_OECD2\n",
        "GNI_OECD.rename(columns={'NY.GNP.PCAP.CD':'GNI_per_capita'},inplace=True)"
      ],
      "execution_count": 0,
      "outputs": []
    },
    {
      "metadata": {
        "colab_type": "code",
        "id": "uDn-ixHSE23B",
        "outputId": "e776f7d1-1e03-40e3-c962-c9d5a9113848",
        "colab": {
          "base_uri": "https://localhost:8080/",
          "height": 204
        }
      },
      "cell_type": "code",
      "source": [
        "#Inspect the dataframe\n",
        "\n",
        "GNI_OECD.head()"
      ],
      "execution_count": 13,
      "outputs": [
        {
          "output_type": "execute_result",
          "data": {
            "text/html": [
              "<div>\n",
              "<style scoped>\n",
              "    .dataframe tbody tr th:only-of-type {\n",
              "        vertical-align: middle;\n",
              "    }\n",
              "\n",
              "    .dataframe tbody tr th {\n",
              "        vertical-align: top;\n",
              "    }\n",
              "\n",
              "    .dataframe thead th {\n",
              "        text-align: right;\n",
              "    }\n",
              "</style>\n",
              "<table border=\"1\" class=\"dataframe\">\n",
              "  <thead>\n",
              "    <tr style=\"text-align: right;\">\n",
              "      <th></th>\n",
              "      <th>country</th>\n",
              "      <th>year</th>\n",
              "      <th>GNI_per_capita</th>\n",
              "    </tr>\n",
              "  </thead>\n",
              "  <tbody>\n",
              "    <tr>\n",
              "      <th>0</th>\n",
              "      <td>Australia</td>\n",
              "      <td>2015</td>\n",
              "      <td>60360</td>\n",
              "    </tr>\n",
              "    <tr>\n",
              "      <th>1</th>\n",
              "      <td>Austria</td>\n",
              "      <td>2015</td>\n",
              "      <td>47630</td>\n",
              "    </tr>\n",
              "    <tr>\n",
              "      <th>2</th>\n",
              "      <td>Belgium</td>\n",
              "      <td>2015</td>\n",
              "      <td>44230</td>\n",
              "    </tr>\n",
              "    <tr>\n",
              "      <th>3</th>\n",
              "      <td>Brazil</td>\n",
              "      <td>2015</td>\n",
              "      <td>10090</td>\n",
              "    </tr>\n",
              "    <tr>\n",
              "      <th>4</th>\n",
              "      <td>Canada</td>\n",
              "      <td>2015</td>\n",
              "      <td>47460</td>\n",
              "    </tr>\n",
              "  </tbody>\n",
              "</table>\n",
              "</div>"
            ],
            "text/plain": [
              "     country  year  GNI_per_capita\n",
              "0  Australia  2015           60360\n",
              "1    Austria  2015           47630\n",
              "2    Belgium  2015           44230\n",
              "3     Brazil  2015           10090\n",
              "4     Canada  2015           47460"
            ]
          },
          "metadata": {
            "tags": []
          },
          "execution_count": 13
        }
      ]
    },
    {
      "metadata": {
        "colab_type": "text",
        "id": "RarttZBDE23K"
      },
      "cell_type": "markdown",
      "source": [
        "#### 2.3 Merge the datasets"
      ]
    },
    {
      "metadata": {
        "colab_type": "code",
        "id": "DUcbe7jjE23U",
        "colab": {}
      },
      "cell_type": "code",
      "source": [
        "# Merge the datasets, keeping only the columns we need\n",
        "df = pd.merge(life_sat, GNI_OECD,on='country')\n",
        "df = df[['country','life_satisfaction','GNI_per_capita']]"
      ],
      "execution_count": 0,
      "outputs": []
    },
    {
      "metadata": {
        "colab_type": "code",
        "id": "iKUbCARvE23b",
        "outputId": "8802b10e-867a-4d64-9c07-4e66a91a828d",
        "colab": {
          "base_uri": "https://localhost:8080/",
          "height": 204
        }
      },
      "cell_type": "code",
      "source": [
        "# Inspect the dataframe \n",
        "df.head()"
      ],
      "execution_count": 15,
      "outputs": [
        {
          "output_type": "execute_result",
          "data": {
            "text/html": [
              "<div>\n",
              "<style scoped>\n",
              "    .dataframe tbody tr th:only-of-type {\n",
              "        vertical-align: middle;\n",
              "    }\n",
              "\n",
              "    .dataframe tbody tr th {\n",
              "        vertical-align: top;\n",
              "    }\n",
              "\n",
              "    .dataframe thead th {\n",
              "        text-align: right;\n",
              "    }\n",
              "</style>\n",
              "<table border=\"1\" class=\"dataframe\">\n",
              "  <thead>\n",
              "    <tr style=\"text-align: right;\">\n",
              "      <th></th>\n",
              "      <th>country</th>\n",
              "      <th>life_satisfaction</th>\n",
              "      <th>GNI_per_capita</th>\n",
              "    </tr>\n",
              "  </thead>\n",
              "  <tbody>\n",
              "    <tr>\n",
              "      <th>0</th>\n",
              "      <td>Australia</td>\n",
              "      <td>7.3</td>\n",
              "      <td>60360</td>\n",
              "    </tr>\n",
              "    <tr>\n",
              "      <th>1</th>\n",
              "      <td>Austria</td>\n",
              "      <td>6.9</td>\n",
              "      <td>47630</td>\n",
              "    </tr>\n",
              "    <tr>\n",
              "      <th>2</th>\n",
              "      <td>Belgium</td>\n",
              "      <td>6.9</td>\n",
              "      <td>44230</td>\n",
              "    </tr>\n",
              "    <tr>\n",
              "      <th>3</th>\n",
              "      <td>Canada</td>\n",
              "      <td>7.3</td>\n",
              "      <td>47460</td>\n",
              "    </tr>\n",
              "    <tr>\n",
              "      <th>4</th>\n",
              "      <td>Czech Republic</td>\n",
              "      <td>6.5</td>\n",
              "      <td>18250</td>\n",
              "    </tr>\n",
              "  </tbody>\n",
              "</table>\n",
              "</div>"
            ],
            "text/plain": [
              "          country  life_satisfaction  GNI_per_capita\n",
              "0       Australia                7.3           60360\n",
              "1         Austria                6.9           47630\n",
              "2         Belgium                6.9           44230\n",
              "3          Canada                7.3           47460\n",
              "4  Czech Republic                6.5           18250"
            ]
          },
          "metadata": {
            "tags": []
          },
          "execution_count": 15
        }
      ]
    },
    {
      "metadata": {
        "colab_type": "text",
        "id": "Zb4xvHOXE23i"
      },
      "cell_type": "markdown",
      "source": [
        "### 3. Visualize a scatterplot"
      ]
    },
    {
      "metadata": {
        "id": "NjdI0wESLhWE",
        "colab_type": "text"
      },
      "cell_type": "markdown",
      "source": [
        "Python has extensive data visualization capabilities from the good old static plots to the more cool interaactive visualization. The base package for the plotting in Python is the [Matplotlib](https://matplotlib.org). They are other up and coming packages which are built on top of Matplotlib such as [seaborn](https://seaborn.pydata.org) which offers more visually appealing plots and extra functionalities. Also, Pandas has also built in plotting capabilities. If you need interactive visualizations, then [Bokeh](https://bokeh.pydata.org/en/latest/). In the cells below, we show how to build a simple scatter plot using Matplotlib."
      ]
    },
    {
      "metadata": {
        "colab_type": "code",
        "id": "RaZ4Uw6iE23j",
        "outputId": "47c585b4-4d28-4c94-967c-687adf0f650a",
        "colab": {
          "base_uri": "https://localhost:8080/",
          "height": 549
        }
      },
      "cell_type": "code",
      "source": [
        "#Scatterplot income vs life satisfaction\n",
        "fig,ax = plt.subplots(figsize = [10,8])\n",
        "df.plot(kind='scatter',x='GNI_per_capita',y='life_satisfaction',ax=ax)\n",
        "plt.title('Income vs. life satisfaction for OECD countries (2015)');"
      ],
      "execution_count": 16,
      "outputs": [
        {
          "output_type": "stream",
          "text": [
            "'c' argument looks like a single numeric RGB or RGBA sequence, which should be avoided as value-mapping will have precedence in case its length matches with 'x' & 'y'.  Please use a 2-D array with a single row if you really want to specify the same RGB or RGBA value for all points.\n"
          ],
          "name": "stderr"
        },
        {
          "output_type": "display_data",
          "data": {
            "image/png": "[encoded data removed]",
            "text/plain": [
              "<Figure size 720x576 with 1 Axes>"
            ]
          },
          "metadata": {
            "tags": []
          }
        }
      ]
    },
    {
      "metadata": {
        "id": "QKDr1UvKL7kU",
        "colab_type": "text"
      },
      "cell_type": "markdown",
      "source": [
        ""
      ]
    },
    {
      "metadata": {
        "colab_type": "code",
        "id": "mO1TDOonE23o",
        "outputId": "980c89a5-2780-4253-f994-b2ae9b47d480",
        "colab": {
          "base_uri": "https://localhost:8080/",
          "height": 654
        }
      },
      "cell_type": "code",
      "source": [
        "#With annotated data points (make sure figure is imported from matplotlib.pyplot) \n",
        "\n",
        "countrylist=df.iloc[:, 0].tolist()\n",
        "lifesat=df.iloc[:, 1].tolist()\n",
        "GNIpercapita=df.iloc[:,2].tolist()\n",
        "figure(num=None, figsize=(12, 10), dpi=80, facecolor='w', edgecolor='k')\n",
        "for i,type in enumerate(countrylist):\n",
        "    inc = GNIpercapita[i]\n",
        "    lif = lifesat[i]\n",
        "    plt.scatter(inc, lif, color='red')\n",
        "    plt.text(inc+0.05, lif+0.05, type, fontsize=7)\n",
        "plt.show()"
      ],
      "execution_count": 17,
      "outputs": [
        {
          "output_type": "display_data",
          "data": {
            "image/png": "[encoded data removed]",
            "text/plain": [
              "<Figure size 960x800 with 1 Axes>"
            ]
          },
          "metadata": {
            "tags": []
          }
        }
      ]
    },
    {
      "metadata": {
        "colab_type": "text",
        "id": "g3v7-QH8BZ83"
      },
      "cell_type": "markdown",
      "source": [
        "## EXERCISES:"
      ]
    },
    {
      "metadata": {
        "colab_type": "text",
        "id": "dUb1YeAWBZ84"
      },
      "cell_type": "markdown",
      "source": [
        "We have looked at the tools Python has for data processing and cleaning, \n",
        "now lets explore the available functionality for statistical exploration of the data. \n",
        "At this stage, we can use common pandas functions and do things like:\n",
        "\n",
        "- check the shape of the dataframe, i.e. number of rows and columns *df.shape*\n",
        "- check the names of the columns *df.columns*\n",
        "- display the first n observations in a dataframe *df.head(n)* (default is n=5)\n",
        "- checking data types: *df.dtypes*\n",
        "- accessing/indexing columns. Two main ways: *df.column_name* or *df[column_name]*\n",
        "- check distribution of the variables using *df.describe()*\n",
        "- check summary statistics using *df.mean()* or *df.median()* or *df.min* or *df.max*\n",
        "- get value counts, mostly useful for categorical variables: *df[col_name].value_counts()*\n",
        "- sort the data: *df.sort_values*\n",
        "\n",
        "In case you need to know what each function does in pandas, use this trick to get details: df.function_name?. Try this without including the brackets/parentheses to get documentation about that particular function\n"
      ]
    },
    {
      "metadata": {
        "colab_type": "text",
        "id": "xSDgQlRgBZ85"
      },
      "cell_type": "markdown",
      "source": [
        "Exercise 1: Display descriptive Statistics for the whole dataset (using dataframe.describe()"
      ]
    },
    {
      "metadata": {
        "colab_type": "code",
        "id": "wS-Bi3hJBZ9A",
        "outputId": "644103d4-75df-4884-e94f-f84243371acf",
        "colab": {
          "base_uri": "https://localhost:8080/",
          "height": 297
        }
      },
      "cell_type": "code",
      "source": [
        "#Your code here: \n",
        "df.describe()"
      ],
      "execution_count": 18,
      "outputs": [
        {
          "output_type": "execute_result",
          "data": {
            "text/html": [
              "<div>\n",
              "<style scoped>\n",
              "    .dataframe tbody tr th:only-of-type {\n",
              "        vertical-align: middle;\n",
              "    }\n",
              "\n",
              "    .dataframe tbody tr th {\n",
              "        vertical-align: top;\n",
              "    }\n",
              "\n",
              "    .dataframe thead th {\n",
              "        text-align: right;\n",
              "    }\n",
              "</style>\n",
              "<table border=\"1\" class=\"dataframe\">\n",
              "  <thead>\n",
              "    <tr style=\"text-align: right;\">\n",
              "      <th></th>\n",
              "      <th>life_satisfaction</th>\n",
              "      <th>GNI_per_capita</th>\n",
              "    </tr>\n",
              "  </thead>\n",
              "  <tbody>\n",
              "    <tr>\n",
              "      <th>count</th>\n",
              "      <td>34.000000</td>\n",
              "      <td>34.000000</td>\n",
              "    </tr>\n",
              "    <tr>\n",
              "      <th>mean</th>\n",
              "      <td>6.623529</td>\n",
              "      <td>38838.529412</td>\n",
              "    </tr>\n",
              "    <tr>\n",
              "      <th>std</th>\n",
              "      <td>0.793557</td>\n",
              "      <td>21572.463527</td>\n",
              "    </tr>\n",
              "    <tr>\n",
              "      <th>min</th>\n",
              "      <td>4.800000</td>\n",
              "      <td>9840.000000</td>\n",
              "    </tr>\n",
              "    <tr>\n",
              "      <th>25%</th>\n",
              "      <td>6.025000</td>\n",
              "      <td>18875.000000</td>\n",
              "    </tr>\n",
              "    <tr>\n",
              "      <th>50%</th>\n",
              "      <td>6.900000</td>\n",
              "      <td>40500.000000</td>\n",
              "    </tr>\n",
              "    <tr>\n",
              "      <th>75%</th>\n",
              "      <td>7.300000</td>\n",
              "      <td>49727.500000</td>\n",
              "    </tr>\n",
              "    <tr>\n",
              "      <th>max</th>\n",
              "      <td>7.500000</td>\n",
              "      <td>93050.000000</td>\n",
              "    </tr>\n",
              "  </tbody>\n",
              "</table>\n",
              "</div>"
            ],
            "text/plain": [
              "       life_satisfaction  GNI_per_capita\n",
              "count          34.000000       34.000000\n",
              "mean            6.623529    38838.529412\n",
              "std             0.793557    21572.463527\n",
              "min             4.800000     9840.000000\n",
              "25%             6.025000    18875.000000\n",
              "50%             6.900000    40500.000000\n",
              "75%             7.300000    49727.500000\n",
              "max             7.500000    93050.000000"
            ]
          },
          "metadata": {
            "tags": []
          },
          "execution_count": 18
        }
      ]
    },
    {
      "metadata": {
        "colab_type": "text",
        "id": "UpdTAjIlE230"
      },
      "cell_type": "markdown",
      "source": [
        "Exercise 2: Display the distribution on a histogram (HINT: plt.hist(dataframe.column_name, bins=n) "
      ]
    },
    {
      "metadata": {
        "colab_type": "code",
        "id": "b1DbF_XYE232",
        "outputId": "1e5d68eb-62f5-42da-bfed-54e954baa279",
        "colab": {
          "base_uri": "https://localhost:8080/",
          "height": 415
        }
      },
      "cell_type": "code",
      "source": [
        "plt.hist(df.GNI_per_capita) "
      ],
      "execution_count": 19,
      "outputs": [
        {
          "output_type": "execute_result",
          "data": {
            "text/plain": [
              "(array([7., 5., 2., 4., 8., 3., 2., 1., 0., 2.]),\n",
              " array([ 9840., 18161., 26482., 34803., 43124., 51445., 59766., 68087.,\n",
              "        76408., 84729., 93050.]),\n",
              " <a list of 10 Patch objects>)"
            ]
          },
          "metadata": {
            "tags": []
          },
          "execution_count": 19
        },
        {
          "output_type": "display_data",
          "data": {
            "image/png": "[encoded data removed]",
            "text/plain": [
              "<Figure size 576x396 with 1 Axes>"
            ]
          },
          "metadata": {
            "tags": []
          }
        }
      ]
    },
    {
      "metadata": {
        "colab_type": "text",
        "id": "ZwQ_W0ZCBZ9O"
      },
      "cell_type": "markdown",
      "source": [
        "Exercise 3: What is the maximum GNI per capita in 2015? (using dataframe.col_name.max()"
      ]
    },
    {
      "metadata": {
        "colab_type": "code",
        "id": "whfF5DKEBZ9R",
        "outputId": "abc0f37d-72fe-46f9-f735-a9ba85ac0cd7",
        "colab": {
          "base_uri": "https://localhost:8080/",
          "height": 34
        }
      },
      "cell_type": "code",
      "source": [
        "#Your code here:\n",
        "print (df.GNI_per_capita.max())"
      ],
      "execution_count": 20,
      "outputs": [
        {
          "output_type": "stream",
          "text": [
            "93050\n"
          ],
          "name": "stdout"
        }
      ]
    },
    {
      "metadata": {
        "colab_type": "text",
        "id": "5SIhVkC-E239"
      },
      "cell_type": "markdown",
      "source": [
        "Exercise 4: Which country has the lowest score for life satisfaction in 2015?"
      ]
    },
    {
      "metadata": {
        "colab_type": "code",
        "id": "o0Tc8dePBZ9m",
        "outputId": "05f8745c-8cfa-4f23-ac8a-bb58cff58b07",
        "colab": {
          "base_uri": "https://localhost:8080/",
          "height": 34
        }
      },
      "cell_type": "code",
      "source": [
        "# Your code here: \n",
        "min_sat = (df.life_satisfaction.idxmin())\n",
        "print(df.loc[min_sat].country)"
      ],
      "execution_count": 21,
      "outputs": [
        {
          "output_type": "stream",
          "text": [
            "Greece\n"
          ],
          "name": "stdout"
        }
      ]
    },
    {
      "metadata": {
        "colab_type": "code",
        "id": "1-RsU8LuE24J",
        "outputId": "ee2ff255-bdae-4893-be1a-93aa18b7d189",
        "colab": {
          "base_uri": "https://localhost:8080/",
          "height": 85
        }
      },
      "cell_type": "code",
      "source": [
        "# To output the full profile of the country with the minimum GNI: \n",
        "df.loc[df['GNI_per_capita'].idxmin()]"
      ],
      "execution_count": 22,
      "outputs": [
        {
          "output_type": "execute_result",
          "data": {
            "text/plain": [
              "country              Mexico\n",
              "life_satisfaction       6.7\n",
              "GNI_per_capita         9840\n",
              "Name: 16, dtype: object"
            ]
          },
          "metadata": {
            "tags": []
          },
          "execution_count": 22
        }
      ]
    },
    {
      "metadata": {
        "colab_type": "text",
        "id": "AdVdk8I8E24M"
      },
      "cell_type": "markdown",
      "source": [
        "Exercise 5: Try running an OLS regression using the statsmodel library (make sure to import it first!)"
      ]
    },
    {
      "metadata": {
        "colab_type": "code",
        "id": "XIxkj3PGE24N",
        "outputId": "66f04d50-622a-49ed-8f55-ae9dc8f02883",
        "colab": {
          "base_uri": "https://localhost:8080/",
          "height": 68
        }
      },
      "cell_type": "code",
      "source": [
        "#5.1 Enter variable names:\n",
        "y = df.life_satisfaction\n",
        "X = df.GNI_per_capita\n",
        "\n",
        "X = sm.add_constant(X)\n",
        "\n",
        "model = sm.OLS(y,X).fit()\n",
        "model.params"
      ],
      "execution_count": 23,
      "outputs": [
        {
          "output_type": "execute_result",
          "data": {
            "text/plain": [
              "const             5.659271\n",
              "GNI_per_capita    0.000025\n",
              "dtype: float64"
            ]
          },
          "metadata": {
            "tags": []
          },
          "execution_count": 23
        }
      ]
    },
    {
      "metadata": {
        "colab_type": "code",
        "id": "Z5T0XChgE24R",
        "outputId": "a9708326-567c-4741-aec6-bdcd58bbccb8",
        "colab": {
          "base_uri": "https://localhost:8080/",
          "height": 376
        }
      },
      "cell_type": "code",
      "source": [
        "#5.2 Try using the model.summary() function:\n",
        "model.summary()\n"
      ],
      "execution_count": 24,
      "outputs": [
        {
          "output_type": "execute_result",
          "data": {
            "text/html": [
              "<table class=\"simpletable\">\n",
              "<caption>OLS Regression Results</caption>\n",
              "<tr>\n",
              "  <th>Dep. Variable:</th>    <td>life_satisfaction</td> <th>  R-squared:         </th> <td>   0.456</td>\n",
              "</tr>\n",
              "<tr>\n",
              "  <th>Model:</th>                   <td>OLS</td>        <th>  Adj. R-squared:    </th> <td>   0.439</td>\n",
              "</tr>\n",
              "<tr>\n",
              "  <th>Method:</th>             <td>Least Squares</td>   <th>  F-statistic:       </th> <td>   26.77</td>\n",
              "</tr>\n",
              "<tr>\n",
              "  <th>Date:</th>             <td>Wed, 13 Feb 2019</td>  <th>  Prob (F-statistic):</th> <td>1.20e-05</td>\n",
              "</tr>\n",
              "<tr>\n",
              "  <th>Time:</th>                 <td>18:50:07</td>      <th>  Log-Likelihood:    </th> <td> -29.540</td>\n",
              "</tr>\n",
              "<tr>\n",
              "  <th>No. Observations:</th>      <td>    34</td>       <th>  AIC:               </th> <td>   63.08</td>\n",
              "</tr>\n",
              "<tr>\n",
              "  <th>Df Residuals:</th>          <td>    32</td>       <th>  BIC:               </th> <td>   66.13</td>\n",
              "</tr>\n",
              "<tr>\n",
              "  <th>Df Model:</th>              <td>     1</td>       <th>                     </th>     <td> </td>   \n",
              "</tr>\n",
              "<tr>\n",
              "  <th>Covariance Type:</th>      <td>nonrobust</td>     <th>                     </th>     <td> </td>   \n",
              "</tr>\n",
              "</table>\n",
              "<table class=\"simpletable\">\n",
              "<tr>\n",
              "         <td></td>           <th>coef</th>     <th>std err</th>      <th>t</th>      <th>P>|t|</th>  <th>[0.025</th>    <th>0.975]</th>  \n",
              "</tr>\n",
              "<tr>\n",
              "  <th>const</th>          <td>    5.6593</td> <td>    0.212</td> <td>   26.639</td> <td> 0.000</td> <td>    5.227</td> <td>    6.092</td>\n",
              "</tr>\n",
              "<tr>\n",
              "  <th>GNI_per_capita</th> <td> 2.483e-05</td> <td>  4.8e-06</td> <td>    5.174</td> <td> 0.000</td> <td> 1.51e-05</td> <td> 3.46e-05</td>\n",
              "</tr>\n",
              "</table>\n",
              "<table class=\"simpletable\">\n",
              "<tr>\n",
              "  <th>Omnibus:</th>       <td> 1.115</td> <th>  Durbin-Watson:     </th> <td>   1.687</td>\n",
              "</tr>\n",
              "<tr>\n",
              "  <th>Prob(Omnibus):</th> <td> 0.573</td> <th>  Jarque-Bera (JB):  </th> <td>   1.051</td>\n",
              "</tr>\n",
              "<tr>\n",
              "  <th>Skew:</th>          <td>-0.390</td> <th>  Prob(JB):          </th> <td>   0.591</td>\n",
              "</tr>\n",
              "<tr>\n",
              "  <th>Kurtosis:</th>      <td> 2.635</td> <th>  Cond. No.          </th> <td>9.22e+04</td>\n",
              "</tr>\n",
              "</table>"
            ],
            "text/plain": [
              "<class 'statsmodels.iolib.summary.Summary'>\n",
              "\"\"\"\n",
              "                            OLS Regression Results                            \n",
              "==============================================================================\n",
              "Dep. Variable:      life_satisfaction   R-squared:                       0.456\n",
              "Model:                            OLS   Adj. R-squared:                  0.439\n",
              "Method:                 Least Squares   F-statistic:                     26.77\n",
              "Date:                Wed, 13 Feb 2019   Prob (F-statistic):           1.20e-05\n",
              "Time:                        18:50:07   Log-Likelihood:                -29.540\n",
              "No. Observations:                  34   AIC:                             63.08\n",
              "Df Residuals:                      32   BIC:                             66.13\n",
              "Df Model:                           1                                         \n",
              "Covariance Type:            nonrobust                                         \n",
              "==================================================================================\n",
              "                     coef    std err          t      P>|t|      [0.025      0.975]\n",
              "----------------------------------------------------------------------------------\n",
              "const              5.6593      0.212     26.639      0.000       5.227       6.092\n",
              "GNI_per_capita  2.483e-05    4.8e-06      5.174      0.000    1.51e-05    3.46e-05\n",
              "==============================================================================\n",
              "Omnibus:                        1.115   Durbin-Watson:                   1.687\n",
              "Prob(Omnibus):                  0.573   Jarque-Bera (JB):                1.051\n",
              "Skew:                          -0.390   Prob(JB):                        0.591\n",
              "Kurtosis:                       2.635   Cond. No.                     9.22e+04\n",
              "==============================================================================\n",
              "\n",
              "Warnings:\n",
              "[1] Standard Errors assume that the covariance matrix of the errors is correctly specified.\n",
              "[2] The condition number is large, 9.22e+04. This might indicate that there are\n",
              "strong multicollinearity or other numerical problems.\n",
              "\"\"\""
            ]
          },
          "metadata": {
            "tags": []
          },
          "execution_count": 24
        }
      ]
    },
    {
      "metadata": {
        "colab_type": "code",
        "id": "vGb6vqpcE24a",
        "outputId": "41de94b8-44fe-4622-9385-dfad852c32db",
        "colab": {
          "base_uri": "https://localhost:8080/",
          "height": 620
        }
      },
      "cell_type": "code",
      "source": [
        "#5.3 Can you display the graph?\n",
        "\n",
        "fig,ax = plt.subplots(figsize=[12, 10])\n",
        "\n",
        "ax.scatter(df.GNI_per_capita, df.life_satisfaction)\n",
        "ax.set(xlabel = 'GDP per capita PPP current dollars', ylabel = 'Life satisfaction score',title='OECD: Life satisfaction rises with income');\n",
        "\n",
        "X_plot = np.linspace(0,140000,1000)\n",
        "ax.plot(X_plot, X_plot*model.params[1]+ model.params[0],color='r');"
      ],
      "execution_count": 25,
      "outputs": [
        {
          "output_type": "display_data",
          "data": {
            "image/png": "[encoded data removed]",
            "text/plain": [
              "<Figure size 864x720 with 1 Axes>"
            ]
          },
          "metadata": {
            "tags": []
          }
        }
      ]
    },
    {
      "metadata": {
        "id": "DNflqGF4L8kS",
        "colab_type": "text"
      },
      "cell_type": "markdown",
      "source": [
        "Modelling and Machine Learning\n",
        "\n",
        "When it comes to building statistical and/or machine learning, Python offers many options. In general, Python has much strong capabilities for Machine Learning models than statistical and econometrics models but they is alot you can with statistical modelling capabilities. Some of the go to libraries for statistical analysis, linear algebra and other scientific computing are: statsmodels, scipy, numpy. If you want to do Machine Learning (Deep Learning included), the following libraries are excellent:\n",
        "\n",
        "- scikit-learn: a general purpose machine learning library\n",
        "- TensorFlow/Keras/Theano: Focused more on deep learning and nerural networks\n",
        "- Apache Spark ML Lib: For distributed machine learning with large datasets\n"
      ]
    }
  ]
}